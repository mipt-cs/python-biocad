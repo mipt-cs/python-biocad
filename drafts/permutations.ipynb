{
 "cells": [
  {
   "cell_type": "markdown",
   "metadata": {},
   "source": [
    "# Генерация перестановок\n",
    "\n",
    "Рассматривается задача создания всех возможных перестановок элементов некоторого набора $S$ из $N$ элементов.\n",
    "\n",
    "## <font color=green>Генерация перестановок в лексикографическом порядке</font>\n",
    "\n",
    "1. **Лексикографический порядок** - отношение порядка на множестве слов из алфавита $\\Sigma = \\left\\lbrace a_1, a_2, ...\\right\\rbrace$, для элементов которого также опредлено отношение порядка.<br>\n",
    "\n",
    "2. **[Частично упорядоченное множество](https://ru.wikipedia.org/wiki/%D0%A7%D0%B0%D1%81%D1%82%D0%B8%D1%87%D0%BD%D0%BE_%D1%83%D0%BF%D0%BE%D1%80%D1%8F%D0%B4%D0%BE%D1%87%D0%B5%D0%BD%D0%BD%D0%BE%D0%B5_%D0%BC%D0%BD%D0%BE%D0%B6%D0%B5%D1%81%D1%82%D0%B2%D0%BE)** - множество, элементы которого можно сравнивать (например, множество целых чисел).<br>\n",
    "\n",
    "3. Под **словом** понимается поседовательность элементов алфавита $\\Sigma$.\n",
    "\n",
    "Согласно лексикографическому порядку, сравнение слов выполняется следующим образом.\n",
    "\n",
    "1. Если первые $i-1$ букв слов $A$ и $B$ совпадают, а $A_i \\ge B_i$, то $A \\ge B$. Пример: $\\text{Мария} \\ge \\text{Марина}$.\n",
    "\n",
    "2. Если слово $B$ - начало (префикс) слова $A$, то $A \\ge B$. Пример: $\\text{Математика} \\ge \\text{Математик}$\n",
    "\n",
    "\n",
    "**Примеры**\n",
    "\n",
    "1. Упорядочивание слов в словаре. \n",
    "\n",
    "2. Сравнение строк в Python.\n",
    "\n",
    "3. Целые числа одинаковой длины (старшие разряды заполняются нулями): $000 \\leq 001 \\leq 002 \\leq 003 \\leq ...$\n",
    "\n",
    "### <font color=blue>Алгоритм Нарайаны</font>\n",
    "Для генерации перестановок в лексикографическом порядке используется [алгоритм Нарайаны](https://ru.wikipedia.org/wiki/%D0%90%D0%BB%D0%B3%D0%BE%D1%80%D0%B8%D1%82%D0%BC_%D0%9D%D0%B0%D1%80%D0%B0%D0%B9%D0%B0%D0%BD%D1%8B).\n",
    "\n",
    "Этот алгоритм позволяет получить из перестановки $p$ следующую за ней по возрастанию перестановку.\n",
    "\n",
    "Пусть имеется перестановка $p = a_0 a_1 ... a_n$. Тогда для создания следующей перестановки нужно выполнить шаги.\n",
    "\n",
    "1. Найти набольший индекс $i$ такой, что $a_i < a_{i+1}$. Если такого индекса не существует, то $p$ - последняя перестановка. \n",
    "\n",
    "2. Найти элементов стоящих после $a_i$ наименьший элемент $a_j$ ($j > i$), превосходящий $a_i$ (т. е. $a_j > a_i$). Переставить $a_i$ с $a_j$.\n",
    "\n",
    "3. Упорядочить по возрастанию элементы, начиная с $a_{i+1}$.\n",
    "\n",
    "#### Пример\n",
    "\n",
    "Получаем все перестановки чисел 1, 2, 3, 4. Красным цветом выделены результаты перестановок $a_i$ и $a_j$, зеленым - результаты сортировок элементов, стоящих после $a_i$. #NEW - новая перестановка.\n",
    "\n",
    "<font size=4>\n",
    "1 2 3 4&nbsp;&nbsp;&nbsp;&nbsp;&nbsp;# NEW<br>\n",
    "1 2 <font color=red>4 3</font>&nbsp;&nbsp;&nbsp;&nbsp;&nbsp;# NEW<br>\n",
    "1 <font color=red>3</font> 4 <font color=red>2</font><br>\n",
    "1 3 <font color=green>2 4</font>&nbsp;&nbsp;&nbsp;&nbsp;&nbsp;# NEW<br>\n",
    "1 3 <font color=red>4 2</font>&nbsp;&nbsp;&nbsp;&nbsp;&nbsp;# NEW<br>\n",
    "1 <font color=red>4</font> <font color=red>3</font> 2<br>\n",
    "1 4 <font color=green>2 3</font>&nbsp;&nbsp;&nbsp;&nbsp;&nbsp;# NEW<br>\n",
    "1 4 <font color=red>3 2</font>&nbsp;&nbsp;&nbsp;&nbsp;&nbsp;# NEW<br>\n",
    "<font color=red>2</font> 4 3 <font color=red>1</font><br>\n",
    "2 <font color=green>1 3 4</font>&nbsp;&nbsp;&nbsp;&nbsp;&nbsp;# NEW<br>\n",
    "2 1 <font color=red>4 3</font>&nbsp;&nbsp;&nbsp;&nbsp;&nbsp;# NEW<br>\n",
    "2 <font color=red>3</font> 4 <font color=red>1</font><br>\n",
    "2 3 <font color=green>1 4</font>&nbsp;&nbsp;&nbsp;&nbsp;&nbsp;# NEW<br>\n",
    "2 3 <font color=red>4 1</font>&nbsp;&nbsp;&nbsp;&nbsp;&nbsp;# NEW<br>\n",
    "2 <font color=red>4</font> <font color=red>3</font> 1<br>\n",
    "2 4 <font color=green>1 3</font>&nbsp;&nbsp;&nbsp;&nbsp;&nbsp;# NEW<br>\n",
    "2 4 <font color=red>3 1</font>&nbsp;&nbsp;&nbsp;&nbsp;&nbsp;# NEW<br>\n",
    "<font color=red>3</font> 4 <font color=red>2</font> 1<br>\n",
    "3 <font color=green>1 2 4</font>&nbsp;&nbsp;&nbsp;&nbsp;&nbsp;# NEW<br>\n",
    "3 1 <font color=red>4 2</font>&nbsp;&nbsp;&nbsp;&nbsp;&nbsp;# NEW<br>\n",
    "3 <font color=red>2</font> 4 <font color=red>1</font><br>\n",
    "3 2 <font color=green>1 4</font>&nbsp;&nbsp;&nbsp;&nbsp;&nbsp;# NEW<br>\n",
    "3 2 <font color=red>4 1</font>&nbsp;&nbsp;&nbsp;&nbsp;&nbsp;# NEW<br>\n",
    "3 <font color=red>4</font> <font color=red>2</font> 1<br>\n",
    "3 4 <font color=green>1 2</font>&nbsp;&nbsp;&nbsp;&nbsp;&nbsp;# NEW<br>\n",
    "3 4 <font color=red>2 1</font>&nbsp;&nbsp;&nbsp;&nbsp;&nbsp;# NEW<br>\n",
    "<font color=red>4 3</font> 2 1<br>\n",
    "4 <font color=green>1 2 3</font>&nbsp;&nbsp;&nbsp;&nbsp;&nbsp;# NEW<br>\n",
    "4 1 <font color=red>3 2</font>&nbsp;&nbsp;&nbsp;&nbsp;&nbsp;# NEW<br>\n",
    "4 <font color=red>2</font> 3 <font color=red>1</font><br>\n",
    "4 2 <font color=green>1 3</font>&nbsp;&nbsp;&nbsp;&nbsp;&nbsp;# NEW<br>\n",
    "4 2 <font color=red>3 1</font>&nbsp;&nbsp;&nbsp;&nbsp;&nbsp;# NEW<br>\n",
    "4 <font color=red>3</font> <font color=red>2</font> 1<br>\n",
    "4 3 <font color=green>1 2</font>&nbsp;&nbsp;&nbsp;&nbsp;&nbsp;# NEW<br>\n",
    "4 3 <font color=red>2 1</font>&nbsp;&nbsp;&nbsp;&nbsp;&nbsp;# NEW<br>\n",
    "</font>\n",
    "\n",
    "#### Анализ алгоритма.\n",
    "\n",
    "1. Обоснование алгоритма.\n",
    "  - Чтобы получить следующую за $p$ по величине перестановку, в первую очередь необходимо рассмотреть обмены $\\Omega$ $a_i$ с элементами $a_{i+1}$, $a_{i+2}$, ..., так как если $a_{i-k} < a_i$, то обмен $a_{i-k}$ с  $a_i$ приведет к увеличению перестановки, а если $a_{i-k} > a_i$, то обмен $a_{i-k}$ с $a_i$ даст перестановку, которая будет больше любой из перестановок, полученных при обменах из $\\Omega$.\n",
    "  - Сортировка элементов $a_{i+1}$, $a_{i+2}$, ... по возрастанию дает наименьшую из перестановок при фиксированных $a_1$, $a_2$, ..., $a_i$.\n",
    "  \n",
    "2. Хитрости.\n",
    "  - Из выбора $a_i$ следует, что $a_{i+1}$, $a_{i+2}$, ... расположены по убыванию, а это значит, что на шаге 2 нужно искать наибольший $j$, такой что $a_j > a_i$\n",
    "  - Сортировка из шага 3 на самом деле сводится к перестановке $a_{i+1}$, $a_{i+2}$, ... в обратном порядке (это следует из выбора $a_i$)"
   ]
  },
  {
   "cell_type": "code",
   "execution_count": 1,
   "metadata": {},
   "outputs": [
    {
     "name": "stdout",
     "output_type": "stream",
     "text": [
      "True\n"
     ]
    }
   ],
   "source": [
    "print('aa' > 'a')"
   ]
  }
 ],
 "metadata": {
  "kernelspec": {
   "display_name": "Python 3",
   "language": "python",
   "name": "python3"
  },
  "language_info": {
   "codemirror_mode": {
    "name": "ipython",
    "version": 3
   },
   "file_extension": ".py",
   "mimetype": "text/x-python",
   "name": "python",
   "nbconvert_exporter": "python",
   "pygments_lexer": "ipython3",
   "version": "3.6.0"
  }
 },
 "nbformat": 4,
 "nbformat_minor": 2
}
