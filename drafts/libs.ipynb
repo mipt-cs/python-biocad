{
 "cells": [
  {
   "cell_type": "markdown",
   "metadata": {},
   "source": [
    "# <font color=blue>pandas</font>\n",
    "\n",
    "На [сайте](https://pandas.pydata.org/pandas-docs/stable/getting_started/tutorials.html) библиотеки есть много обучающих материалов. Думаю, окажется полезной [шпаргалка](http://pandas.pydata.org/Pandas_Cheat_Sheet.pdf). "
   ]
  },
  {
   "cell_type": "code",
   "execution_count": null,
   "metadata": {
    "collapsed": true
   },
   "outputs": [],
   "source": []
  },
  {
   "cell_type": "markdown",
   "metadata": {},
   "source": [
    "# <font color=blue>numpy</font>\n",
    "\n",
    "Настройка печати осуществляется с помощью функции [`numpy.set_printoptions()`](https://docs.scipy.org/doc/numpy/reference/generated/numpy.set_printoptions.html)"
   ]
  },
  {
   "cell_type": "code",
   "execution_count": null,
   "metadata": {},
   "outputs": [],
   "source": [
    "import numpy as np\n",
    "\n",
    "z = np.zeros((10, 1000))\n",
    "print(z)"
   ]
  },
  {
   "cell_type": "code",
   "execution_count": null,
   "metadata": {},
   "outputs": [],
   "source": [
    "np.set_printoptions(threshold=np.inf)  # печатать весь массив\n",
    "print(z)"
   ]
  },
  {
   "cell_type": "code",
   "execution_count": null,
   "metadata": {},
   "outputs": [],
   "source": [
    "r = np.random.rand(10, 10)\n",
    "print(r)\n",
    "np.set_printoptions(precision=2)  # Устанавливается число знаков после запятой\n",
    "print(r)"
   ]
  },
  {
   "cell_type": "markdown",
   "metadata": {},
   "source": [
    "В `numpy` есть четыре важные вещи: индексация, broadcasting, итерация по массиву, векторизация функций.\n",
    "\n",
    "## <font color=green>Индексация</font>\n",
    "\n",
    "[Тут](https://www.tutorialspoint.com/numpy/numpy_advanced_indexing.htm) есть основное.\n",
    "\n",
    "#### Срезы "
   ]
  },
  {
   "cell_type": "code",
   "execution_count": null,
   "metadata": {},
   "outputs": [],
   "source": [
    "import numpy as np\n",
    "\n",
    "z = np.zeros((15, 100, 200, 400))\n",
    "a = z[:5, 2, 3, 100:10:-2]  # Обычные срезы\n",
    "print(a.shape)\n",
    "# многоточие позволяет не указывать значения оставшихся индексов, \n",
    "# если по ним не берутся срезы или элементы\n",
    "b = z[:60, ...] \n",
    "print(b.shape)\n",
    "c = z[:60, ..., 8]\n",
    "print(c.shape)"
   ]
  },
  {
   "cell_type": "markdown",
   "metadata": {},
   "source": [
    "#### Продвинутая индексация"
   ]
  },
  {
   "cell_type": "code",
   "execution_count": null,
   "metadata": {},
   "outputs": [],
   "source": [
    "import numpy as np\n",
    "a = np.reshape(np.arange(12), [3, 4])\n",
    "print('a:\\n', a, end='\\n'*2)\n",
    "\n",
    "# advanced indexing\n",
    "# Можно взять из массива группы произвольных элементов и собрать \n",
    "# из них новый массив.\n",
    "# Форма получившегося массива будет совпадать с формой массива с индексами\n",
    "\n",
    "# Берем элементы с индексами (1, 2), (0, 3), (2, 0), (0, 1) и кладем их в\n",
    "# одномерный массив\n",
    "b = a[[1, 0, 2, 0], [2, 3, 0, 1]]\n",
    "print('b:\\n', b, end='\\n'*2)\n",
    "\n",
    "# Те же элементы помещаются в двумерный массив\n",
    "с = a[[[1, 0], [2, 0]], [[2, 3], [0, 1]]]\n",
    "print('с:\\n', с, end='\\n'*2)\n",
    "\n",
    "# Продвинутая индексация может комбинироваться с срезами и получением элемента\n",
    "\n",
    "# Берем строки с номерами 1, 0, 2, 0 и кладем их в качестве элментов в массив 2х2\n",
    "# Так как длина строк - 4 получаем трехмерный массив 2x2x4\n",
    "d = a[[[1, 0], [2, 0]], ...]\n",
    "print('d:\\n', d)\n",
    "print('d.shape:', d.shape, end='\\n'*2)"
   ]
  },
  {
   "cell_type": "markdown",
   "metadata": {},
   "source": [
    "#### Булева индексация"
   ]
  },
  {
   "cell_type": "code",
   "execution_count": null,
   "metadata": {},
   "outputs": [],
   "source": [
    "import numpy as np\n",
    "# Пусть имеется некоторый массив A\n",
    "# Если в квадратныйе скобки A[] передать массив B,\n",
    "# заполненный True и False и той же формы, то получится \n",
    "# одномерный массив, заполненный теми значениями A,\n",
    "# для которых соответствующее значение B - True\n",
    "A = np.array([[-2, 3], [4, -8]])\n",
    "print(A[A < 0])"
   ]
  }
 ],
 "metadata": {
  "kernelspec": {
   "display_name": "Python 3",
   "language": "python",
   "name": "python3"
  },
  "language_info": {
   "codemirror_mode": {
    "name": "ipython",
    "version": 3
   },
   "file_extension": ".py",
   "mimetype": "text/x-python",
   "name": "python",
   "nbconvert_exporter": "python",
   "pygments_lexer": "ipython3",
   "version": "3.5.2"
  }
 },
 "nbformat": 4,
 "nbformat_minor": 2
}
