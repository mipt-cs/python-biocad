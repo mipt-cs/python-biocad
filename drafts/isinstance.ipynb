{
 "cells": [
  {
   "cell_type": "markdown",
   "metadata": {},
   "source": [
    "## <font color=green>Встроенная функция `isinstance()`</font>\n",
    "\n",
    "Функция [`isinstance()`](https://docs.python.org/3/library/functions.html#isinstance) предназначена для проверки принадлежности объекта тому или иному классу. \n",
    "\n",
    "### Пример 3. Является ли число `int` или `float`"
   ]
  },
  {
   "cell_type": "code",
   "execution_count": null,
   "metadata": {},
   "outputs": [],
   "source": [
    "a = 1\n",
    "print(isinstance(a, int))\n",
    "b = a / 1\n",
    "print(isinstance(b, int))\n",
    "print(isinstance(b, float))"
   ]
  },
  {
   "cell_type": "markdown",
   "metadata": {},
   "source": [
    "Функция `isinstance()` позволяет проверить принадлежность объекта группе классов.\n",
    "### Пример 4. Является ли объект последовательностью"
   ]
  },
  {
   "cell_type": "code",
   "execution_count": null,
   "metadata": {},
   "outputs": [],
   "source": [
    "a = 1; b=[1]; c=(1,); d = 'a'\n",
    "def isseq(x):\n",
    "    return isinstance(x, (str, list, tuple))\n",
    "print(isseq(a), isseq(b), isseq(c), isseq(d))"
   ]
  },
  {
   "cell_type": "markdown",
   "metadata": {},
   "source": [
    "## <font color=green> Отличие между `isinstance(x, some_type)` и `type(x) == some_type`</font>\n",
    "\n",
    "Функция `isinstance(x, some_type)` возвращает `True` в том числе и в случае, когда `x` принадлежит какому-нибудь **подклассу** `some_type`, в то время как `type(x) == some_type` возвращает `True` только в случаях, когда класс `x` в точности равен `some_type`."
   ]
  },
  {
   "cell_type": "code",
   "execution_count": null,
   "metadata": {},
   "outputs": [],
   "source": []
  }
 ],
 "metadata": {
  "kernelspec": {
   "display_name": "Python 3",
   "language": "python",
   "name": "python3"
  },
  "language_info": {
   "codemirror_mode": {
    "name": "ipython",
    "version": 3
   },
   "file_extension": ".py",
   "mimetype": "text/x-python",
   "name": "python",
   "nbconvert_exporter": "python",
   "pygments_lexer": "ipython3",
   "version": "3.6.0"
  }
 },
 "nbformat": 4,
 "nbformat_minor": 2
}
