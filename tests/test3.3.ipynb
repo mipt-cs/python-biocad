{
 "cells": [
  {
   "cell_type": "markdown",
   "metadata": {},
   "source": [
    "# <font color=blue>Тест 3.3</font>\n",
    "\n",
    "<font color=red>Время выполнения: 25 мин</font>\n",
    "\n",
    "# <font color=blue>Задача 1. Сдвиг порядкового номера</font>\n",
    "\n",
    "Замените все символы в поданной на вход строке `S` на символы, чей порядковый номер в unicode отличается на целое число `N`.\n",
    "\n",
    "На вход сначала подается `S`, затем `N`. Распечатайте измененную строку.\n",
    "\n",
    "| <font size=3>Входные данные</font> | <font size=3>Выходные данные</font> |\n",
    "| :---: | :---: |\n",
    "| <font size=3>cba<br>-1</font> | <font size=3>ba`</font> |\n",
    "| <font size=3>Python 3.6<br>5</font> | <font size=3>U~ymts%83;</font> |\n",
    "\n",
    "### Критерии\n",
    "| <font size=3>баллы</font> | <font size=3>критерий</font> |\n",
    "| :---: | :---: |\n",
    "| <font size=3>0</font> | <font size=3>решение содержит ошибку</font> |\n",
    "| <font size=3>2</font> | <font size=3>задача полностью решена</font> |"
   ]
  },
  {
   "cell_type": "code",
   "execution_count": null,
   "metadata": {
    "collapsed": true
   },
   "outputs": [],
   "source": []
  },
  {
   "cell_type": "markdown",
   "metadata": {},
   "source": [
    "# <font color=blue>Задача 2. Период строки</font>\n",
    "\n",
    "Проверьте, является ли поданная на вход строка `S` объединением следующих друг за другом строк из `N` одинаковых символов. Сделайте это, используя срезы и не более чем `N - 1` сравнений.\n",
    "\n",
    "На вход сначала подается `S`, затем `N`. Распечатайте `True` или `False`. Если `N >= len(S)` печатайте `True`\n",
    "\n",
    "\n",
    "| <font size=3>Входные данные</font> | <font size=3>Выходные данные</font> |\n",
    "| :---: | :---: |\n",
    "| <font size=3>aabb<br>2</font> | <font size=3>True</font> |\n",
    "| <font size=3>aaabbbcccd<br>3</font> | <font size=3>False</font> |\n",
    "| <font size=3>aaa<br>1000</font> | <font size=3>True</font> |\n",
    "\n",
    "### Критерии\n",
    "| <font size=3>баллы</font> | <font size=3>критерий</font> |\n",
    "| :---: | :---: |\n",
    "| <font size=3>0</font> | <font size=3>решение содержит ошибку</font> |\n",
    "| <font size=3>1</font> | <font size=3>решение верно, но в </font> |\n",
    "| <font size=3>3</font> | <font size=3>задача полностью решена</font> |"
   ]
  },
  {
   "cell_type": "code",
   "execution_count": null,
   "metadata": {
    "collapsed": true
   },
   "outputs": [],
   "source": []
  },
  {
   "cell_type": "markdown",
   "metadata": {},
   "source": [
    "# <font color=blue>Задача 3. Выделение числа</font>\n",
    "\n",
    "На вход программе подается строка `S`, состоящая из строчных и прописных букв английского алфавита. В строке могут встречаться названия цифр: `\"one\"`, `\"two\"` и т. д.. Известно, что названия цифр в строке `S` не накладываются друг на друга. Названия цифр могут быть записаны заглавными и строчными буквами, например: `\"oNE\"`, `\"Two\"`, `\"NiNe\"`. \n",
    "\n",
    "Найдите все цифры в строке и соберите из них натуральное число. Используйте метод [`str.lower()`](https://docs.python.org/3/library/stdtypes.html#str.lower). Распечатайте полученное натуральное число.\n",
    "\n",
    "Гарантируется, что в полученном числе не будет ведущих нулей.\n",
    "\n",
    "| <font size=3>Входные данные</font> | <font size=3>Выходные данные</font> |\n",
    "| :---: | :---: |\n",
    "| <font size=3>oneaTWO</font> | <font size=3>12</font> |\n",
    "\n",
    "### Критерии\n",
    "| <font size=3>баллы</font> | <font size=3>критерий</font> |\n",
    "| :---: | :---: |\n",
    "| <font size=3>0</font> | <font size=3>решение содержит ошибку</font> |\n",
    "| <font size=3>4</font> | <font size=3>задача полностью решена</font> |\n",
    "\n",
    "### Подсказка\n",
    "\n",
    "Можно облегчить проверку того, является ли слово названием цифры, с помощью операций над множествами."
   ]
  },
  {
   "cell_type": "code",
   "execution_count": null,
   "metadata": {
    "collapsed": true
   },
   "outputs": [],
   "source": []
  },
  {
   "cell_type": "markdown",
   "metadata": {},
   "source": [
    "# <font color=blue>Задача 4. Методы `str.split()` и `str.join()`</font>\n",
    "\n",
    "Удалите из поданной на вход строки все слова, в которых по крайней мере 1 символ не является цифрой. Под словами понимаются **непустые** строки, которые получаются, если разбить исходную строку по пробелам с помощью `str.split()`.\n",
    "\n",
    ">Используйте в решении [`str.isdigit()`](https://docs.python.org/3/library/stdtypes.html#str.isdigit).\n",
    "\n",
    "Далее добейтесь того, чтобы под каждое оставшееся слово было выделено 8 символов, и, если, количество цифр $N$ в числе меньше 8, то первые $N-8$ символов должны быть пробелами. \n",
    "\n",
    ">Используйте в решении [`str.rjust()`](https://docs.python.org/3/library/stdtypes.html#str.rjust).\n",
    "\n",
    "Объедините строки с числами через пустую строку с помощью метода `str.join()`.\n",
    "\n",
    "| <font size=3>входные данные</font> | <font size=3>выходные данные</font> |\n",
    "| :---: | :--- |\n",
    "| <font size=3>42</font> | <font size=3 face=\"monospace\">&nbsp;&nbsp;&nbsp;&nbsp;&nbsp;&nbsp;42</font> |\n",
    "| <font size=3>Алгоритмы плюс 231 (зачем здесь это число?) Структуры Данных 43 равно Программы</font> | <font size=3 face=\"monospace\">&nbsp;&nbsp;&nbsp;&nbsp;&nbsp;231&nbsp;&nbsp;&nbsp;&nbsp;&nbsp;&nbsp;43</font> |\n",
    "\n",
    "### Критерии\n",
    "| <font size=3>баллы</font> | <font size=3>критерий</font> |\n",
    "| :---: | :--- |\n",
    "| <font size=3>0</font> | <font size=3>решение содержит ошибку</font> |\n",
    "| <font size=3>1</font> | <font size=3>решение верно, но не соответствует требованиям, предъявляемым к решению, оцениваемому в 2 балла</font> |\n",
    "| <font size=3>2</font> | <font size=3>решение верно, и в нем используются методы строкого типа `str.split()`, `str.join()`, `str.rjust()` и генераторы списков, </font> |"
   ]
  },
  {
   "cell_type": "markdown",
   "metadata": {},
   "source": []
  }
 ],
 "metadata": {
  "kernelspec": {
   "display_name": "Python 3",
   "language": "python",
   "name": "python3"
  },
  "language_info": {
   "codemirror_mode": {
    "name": "ipython",
    "version": 3
   },
   "file_extension": ".py",
   "mimetype": "text/x-python",
   "name": "python",
   "nbconvert_exporter": "python",
   "pygments_lexer": "ipython3",
   "version": "3.5.2"
  }
 },
 "nbformat": 4,
 "nbformat_minor": 2
}
