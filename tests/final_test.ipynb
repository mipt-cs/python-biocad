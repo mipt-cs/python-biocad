{
 "cells": [
  {
   "cell_type": "markdown",
   "metadata": {
    "collapsed": true
   },
   "source": [
    "# Итоговый тест\n",
    "\n",
    "| <font size=3>№</font> | <font size=3>Название задачи</font> | <font size=3>Общее число баллов за решение</font> | <font size=3>Оценка времени на решение</font> |\n",
    "| :---: | :---: | :---: | :---: |\n",
    "| <font size=3>1</font> | <font size=3>Ферзь</font> | <font size=3> 1 </font> | 5 мин |\n",
    "| <font size=3>2</font> | <font size=3>Подматрица</font> | <font size=3> 1 </font> | 10 мин |\n",
    "| <font size=3>3</font> | <font size=3>Сортировка</font> | <font size=3> 1 </font> | 5 мин |\n",
    "| <font size=3>4</font> | <font size=3>Добавление элементов в словарь</font> | <font size=3> 1 </font> | 5 мин |\n",
    "| <font size=3>5</font> | <font size=3>Подсчет символов</font> | <font size=3> 2 </font> | 15 мин |\n",
    "| <font size=3>6</font> | <font size=3>Калькулятор множеств</font> | <font size=3> 2 </font> | 20 мин |\n",
    "| <font size=3>7</font> | <font size=3>Средняя траектория</font> | <font size=3> 2 </font> | 25 мин |\n",
    "| <font size=3>8</font> | <font size=3>Удаление комментариев</font> | <font size=3> 4 </font> | 35 мин |\n",
    "| <font size=3>9</font> | <font size=3>Максимальное частное</font> | <font size=3> 5,2 </font> | 50 мин |\n",
    "| <font size=3>10</font> | <font size=3>Числа Фибоначчи</font> | <font size=3> 1 </font> | 5 мин |\n",
    "| <font size=3>ВСЕГО</font> | <font size=3>&nbsp;</font> | <font size=3> 20.2 </font> | 2 ч 55 мин |\n",
    "\n",
    "# <font color=blue> Задача 1. Ферзь</font>\n",
    "\n",
    "Шахматный ферзь перемещается на любое количество клеток по горизонтали, вертикали или диагонали. Даны две различные клетки шахматной доски, определите, может ли ферзь попасть с первой клетки на вторую одним ходом. Программа получает на вход четыре числа в одной строке от 1 до 8 каждое, задающие номер столбца и номер строки сначала для первой клетки, потом для второй клетки. Программа должна вывести YES, если из первой клетки ходом ферзя можно попасть во вторую или NO в противном случае.\n",
    "\n",
    "Для простоты можно не рассматривать случай, когда данные клетки совпадают.\n",
    "\n",
    "### Примеры работы программы\n",
    "\n",
    "| <font size=3>Входные данные</font> | <font size=3>Выходные данные</font> |\n",
    "| :---: | :---: |\n",
    "| <font size=3>1 1 8 8</font> | <font size=3>YES</font> |\n",
    "| <font size=3>1 1 2 3</font> | <font size=3>NO</font> |\n",
    "| <font size=3>4 4 2 2</font> | <font size=3>YES</font> |\n",
    "| <font size=3>4 4 1 4</font> | <font size=3>YES</font> |\n",
    "| <font size=3>4 4 4 1</font> | <font size=3>YES</font> |\n",
    "| <font size=3>5 5 7 5</font> | <font size=3>YES</font> |\n",
    "| <font size=3>5 5 4 3</font> | <font size=3>NO</font> |\n",
    "\n",
    "### Критерии\n",
    "\n",
    "За правильное решение начисляется 1 балл"
   ]
  },
  {
   "cell_type": "code",
   "execution_count": null,
   "metadata": {
    "collapsed": true
   },
   "outputs": [],
   "source": []
  },
  {
   "cell_type": "markdown",
   "metadata": {},
   "source": [
    "# <font color=blue>Задача 2. Подматрица</font>\n",
    "\n",
    "Получите из матрицы $A$ матрицу $B$ путем удаления $i$-й строки и $j$-го столбца (индексация строк и столбцов начинается с нуля, как двумерных массивах Python). Матрица $A$ записана в файле <font color=green face=\"Courier\" size=3>ex2_A.txt</font>. Запишите подматрицу $B$ в файл <font color=green face=\"Courier\" size=3>ex2_B.txt</font>, разделяя числа в строках одной табуляцией.\n",
    "\n",
    "На вход подаются числа $i$, $j$, разделенные пробелами. Проверку принадлежности $i$ и $j$ границам массива можно не выполнять.\n",
    "\n",
    "### Пример работы программы\n",
    "\n",
    "| <font size=3>Путь к файлу с матрицей <font color=red face=\"Monaco\" size=3>A</font></font> | <font size=3>Входные данные</font> | <font size=3>Путь к файлу с матрицей <font color=red face=\"Monaco\" size=3>B</font></font> |\n",
    "| :---: | :---: | :---: |\n",
    "| <font size=3>python-biocad/files/final/ex2_A.txt</font> | <font size=3>1 3</font> | <font size=3>python-biocad/files/final/ex2_B.txt</font> | \n",
    "\n",
    "### Критерии\n",
    "\n",
    "За правильное решение начисляется 1 балл\n",
    "\n",
    "### Команды для скачивания файлов\n",
    "\n",
    "```bash\n",
    "wget https://raw.githubusercontent.com/mipt-cs/python-biocad/master/files/final/ex2_A.txt\n",
    "wget https://raw.githubusercontent.com/mipt-cs/python-biocad/master/files/final/ex2_B.txt\n",
    "```"
   ]
  },
  {
   "cell_type": "code",
   "execution_count": 1,
   "metadata": {},
   "outputs": [
    {
     "name": "stdout",
     "output_type": "stream",
     "text": [
      "['0\\t1\\t2\\t3\\t4\\t5\\n', '5\\t6\\t7\\t8\\t9\\t10\\n', '10\\t11\\t12\\t13\\t14\\t15\\n', '15\\t16\\t17\\t18\\t19\\t20\\n', '20\\t21\\t22\\t23\\t24\\t25\\n']\n",
      "[['0', '1', '2', '3', '4', '5'], ['5', '6', '7', '8', '9', '10'], ['10', '11', '12', '13', '14', '15'], ['15', '16', '17', '18', '19', '20'], ['20', '21', '22', '23', '24', '25']]\n",
      "1 3\n",
      "'0\\t1\\t2\\t4\\t5\\n'\n",
      "'10\\t11\\t12\\t14\\t15\\n'\n",
      "'15\\t16\\t17\\t19\\t20\\n'\n",
      "'20\\t21\\t22\\t24\\t25\\n'\n"
     ]
    }
   ],
   "source": [
    "\n",
    "with open('ex2_A.txt', 'r', encoding='utf-8') as f:\n",
    "    lines=f.readlines()\n",
    "print(lines)\n",
    "L=[]\n",
    "for line in lines:\n",
    "    L.append(line.split())\n",
    "    n=len(lines) #stroki\n",
    "    m=len(line.split())#stolbci\n",
    "# print(n, m)\n",
    "print(L)\n",
    "\n",
    "N, M = [int(i) for i in input().split()]\n",
    "            \n",
    "with open('ex2_B.txt', 'w', encoding='utf-8') as f:\n",
    "    for i in range(n):\n",
    "        if i!=N:\n",
    "            s1='\\t'.join(L[i][:M]) +'\\t'+ '\\t'.join(L[i][M+1:]) + '\\n'\n",
    "            print(repr(s1))\n",
    "            f.write(s1)"
   ]
  },
  {
   "cell_type": "markdown",
   "metadata": {},
   "source": [
    "# <font color=blue> Задача 3. Сортировка</font>\n",
    "\n",
    "В словаре $D$ содержатся элементы, ключами которых являются строки, а значениями списки. Распечатайте элементы словаря $D[k]$ в порядке уменьшения числа элементов в списках $D[k]$.\n",
    "\n",
    "### Указания\n",
    "\n",
    "1. Примените функцию `sorted()` с именованным аргументом `key`.\n",
    "\n",
    "2. Используйте анонимную функцию.\n",
    "\n",
    "### Пример выходных данных\n",
    "\n",
    "| <font size=3>Выходные данные</font> |\n",
    "| :--- |\n",
    "| <font face=\"Courier\" size=3>XNYDs [2, 5, 7, 8, 3, 5, 1, 3, 1, 3, 7, 7, 1, 7, 6, 10, 4, 0, 1]<br>KhPAE [6, 4, 5, 10, 5, 6, 4, 2, 9, 6, 1, 8, 5, 9, 6, 8, 9, 9]<br>Cjzav [0, 10, 0, 2, 7, 1, 8, 5, 10, 10, 7, 3, 8, 8]<br>UnycV [6, 8, 10, 0, 3, 6, 2, 5, 8, 9, 8]<br>XTVNa [1, 6, 7, 5, 6, 9, 10, 10]<br>kGily [2, 6, 9, 1, 2, 6, 3]<br>bNqZk [7, 7, 8, 1, 8]<br>zmhCB [0, 7, 3, 9]<br>IvXYK [5, 3, 2, 1]<br>zCQBk [8, 0, 5]</font>| \n",
    "\n",
    "### Критерии\n",
    "\n",
    "За правильное решение с применением функции `sorted()` и анонимной функции начисляется 1 балл.\n",
    "<font color=red>3 мин</font>"
   ]
  },
  {
   "cell_type": "code",
   "execution_count": null,
   "metadata": {
    "collapsed": true
   },
   "outputs": [],
   "source": [
    "import random\n",
    "import string\n",
    "letters = string.ascii_letters\n",
    "\n",
    "D = {}\n",
    "while len(D) < 10:\n",
    "    D[''.join(random.sample(letters, 5))] = [random.randint(0, 10) for _ in range(random.randint(0, 20))]"
   ]
  },
  {
   "cell_type": "markdown",
   "metadata": {},
   "source": [
    "# <font color=blue>Задача 4. Добавление элементов в словарь</font>\n",
    "\n",
    "Для каждой пары ключ-значение $k$, $v$ словаря $D$ добавьте словарь \"обратный\" элемент, у которого ключом будет $v$, а значением - $k$. Если элемент с ключом $v$ уже есть в словаре, то элемент не надо добавлять.\n",
    "\n",
    "В словаре $D$ ключами  и значениями являются строки, не содержащие пробелов.\n",
    "\n",
    "Инициализируйте словарь $D$ с клавиатуры, считывая с клавиатуры пары   ключ-значение $k$, $v$ (ключи и значения отделяются друг от друга пробелом). **После инициализации** добавьте \"обратные\" элементы.\n",
    "\n",
    "Распечатайте словарь после добавления \"обратных\" элементов. Каждая пара ключ-значение должна оказаться в отдельной строке. Ключ и значение должны быть разделены пробелом.\n",
    "\n",
    "### Примеры работы программы\n",
    "\n",
    "Иногда возможны несколько вариантов выходных данных.\n",
    "\n",
    "| <font size=3>Входные данные</font> | <font size=3>Выходные данные 1 вариант</font> | <font size=3>Выходные данные 2 вариант</font> |\n",
    "| :---: | :---: | :---: |\n",
    "| <font size=3>a b<br>c d<br>STOP</font> | <font size=3>a b<br>c d<br>b a<br>d c</font> | &nbsp; |\n",
    "| <font size=3>a b<br>c b<br>STOP</font> | <font size=3>a b<br>c b<br>b a</font> | <font size=3>a b<br>c b<br>b c</font> |\n",
    "| <font size=3>a b<br>c a<br>STOP</font> | <font size=3>a b<br>c a<br>b a</font> | <font size=3>a c<br>c a<br>b a</font> |\n",
    "\n",
    "### Критерии\n",
    "\n",
    "За правильное решение начисляется 1 балл.\n",
    "\n",
    "<font color=red>7 мин</font>"
   ]
  },
  {
   "cell_type": "code",
   "execution_count": null,
   "metadata": {
    "collapsed": true
   },
   "outputs": [],
   "source": []
  },
  {
   "cell_type": "markdown",
   "metadata": {},
   "source": [
    "# <font color=blue>Задача 5. Подсчет символов</font>\n",
    "\n",
    "Посчитайте число уникальных символов в тексте <font color=green face=\"Courier\" size=3>final_ex5_inp.txt</font> и запишите их в файл <font color=green face=\"Courier\" size=3>final_ex5_out.txt</font> в порядке убывания встречаемости вместе с числом экземпляров каждого символа (символ от числа повторений отделяется **табуляцией**).\n",
    "\n",
    "При записи используйте встроенную функцию `repr()` для того, чтобы корректно и понятно отображались пробел и специальные символы:\n",
    "```python\n",
    "char = '\\n'\n",
    "assert repr(char) == \"'\\n'\"\n",
    "```\n",
    "\n",
    "Используя средства Python, выполните следующие действия.\n",
    "\n",
    "1. Поместите файл <font color=green face=\"Courier\" size=3>final_ex5_out.txt</font> в директорию <font color=green face=\"Courier\" size=3>dir</font>. \n",
    "\n",
    "2. Если папка <font color=green face=\"Courier\" size=3>dir</font> не существует, создайте ее.\n",
    "\n",
    "3. Если папка <font color=green face=\"Courier\" size=3>dir</font> существует, то добейтесь, чтобы в ней после завершения программы был только файл <font color=green face=\"Courier\" size=3>final_ex5_out.txt</font>\n",
    "\n",
    "### Указания\n",
    "\n",
    "В решении подсчет символов должен быть реализован явно, т.е. без использования специальных инструментов, например класса `collections.Counter`.\n",
    "\n",
    "### Пример работы программы\n",
    "\n",
    "| <font size=3>Путь к входному файлу</font> | <font size=3>Путь выходному файлу</font> |\n",
    "| :---: | :---: |\n",
    "| <font size=3>python-biocad/files/final/final_ex5_inp.txt</font> | <font size=3>python-biocad/files/final/final_ex5_out.txt</font> | \n",
    "\n",
    "### Критерии\n",
    "\n",
    "1. За получение файла <font color=green face=\"Courier\" size=3>final_ex5_out.txt</font> с правильными результатами присуждается 1 балл.\n",
    "\n",
    "2. За полное выполнение задач, связанных с папкой <font color=green face=\"Courier\" size=3>dir</font> и помещением туда файла <font color=green face=\"Courier\" size=3>final_ex5_out.txt</font>, начисляется еще один балл.\n",
    "\n",
    "### Команды для скачивания файлов\n",
    "\n",
    "```bash\n",
    "wget https://raw.githubusercontent.com/mipt-cs/python-biocad/master/files/final/final_ex5_inp.txt\n",
    "wget https://raw.githubusercontent.com/mipt-cs/python-biocad/master/files/final/final_ex5_out.txt\n",
    "```"
   ]
  },
  {
   "cell_type": "code",
   "execution_count": 2,
   "metadata": {},
   "outputs": [
    {
     "name": "stdout",
     "output_type": "stream",
     "text": [
      "ъ 3\n",
      "а 448\n",
      ") 5\n",
      "д 219\n",
      "о 817\n",
      "ц 9\n",
      "\n",
      " 37\n",
      ". 169\n",
      "С 4\n",
      "М 3\n",
      "- 19\n",
      "ш 47\n",
      "Т 7\n",
      "Х 7\n",
      "Л 15\n",
      "; 7\n",
      "И 11\n",
      "с 308\n",
      "Р 2\n",
      "Э 5\n",
      "! 22\n",
      "— 17\n",
      "З 6\n",
      "Ч 6\n",
      "н 433\n",
      "и 492\n",
      "щ 16\n",
      "Б 9\n",
      ": 27\n",
      "з 111\n",
      "А 40\n",
      ", 188\n",
      "й 76\n",
      "л 210\n",
      "т 477\n",
      "ь 126\n",
      "у 207\n",
      "» 10\n",
      "Я 12\n",
      "  4087\n",
      "р 269\n",
      "п 162\n",
      "ё 1\n",
      "« 10\n",
      "Ф 17\n",
      "я 115\n",
      "б 108\n",
      "в 294\n",
      "г 124\n",
      "ж 70\n",
      "м 246\n",
      "ч 188\n",
      "х 59\n",
      "ф 3\n",
      "е 599\n",
      "У 1\n",
      "? 13\n",
      "Е 2\n",
      "ы 115\n",
      "( 5\n",
      "Г 19\n",
      "О 9\n",
      "В 14\n",
      "к 244\n",
      "э 24\n",
      "К 8\n",
      "Д 11\n",
      "ю 46\n",
      "П 2\n",
      "Н 12\n"
     ]
    }
   ],
   "source": [
    "D = {}\n",
    "L = list(D.keys())\n",
    "cnt = 0\n",
    "with open('final_ex5_inp.txt', 'r', encoding='utf-8') as f:\n",
    "    for l in f:\n",
    "        for i in range(len(l)):\n",
    "            ch = l[i]\n",
    "            if ch not in L:\n",
    "                D[ch] = 1\n",
    "                L = list(D.keys())\n",
    "            else:\n",
    "                D[ch] += 1\n",
    "d = sorted(D.items(), key = lambda kv: kv[1], reverse=True)\n",
    "\n",
    "Dk = {d[i][0]: d[i][1] for i in range(len(d))}\n",
    "for k, v in Dk.items():\n",
    "    print(k, v)\n",
    "                \n",
    "import os\n",
    "import shutil\n",
    "\n",
    "if os.path.exists('dir'):\n",
    "    shutil.rmtree('dir')\n",
    "    os.mkdir('dir')\n",
    "else:\n",
    "    os.mkdir('dir')\n",
    "os.chdir('dir')\n",
    "\n",
    "with open('final_ex5_out.txt', 'w', encoding='utf-8') as f:\n",
    "    for k, v in Dk.items():\n",
    "        f.write('{}\\t{}\\n'.format(repr(k), repr(v)))"
   ]
  },
  {
   "cell_type": "markdown",
   "metadata": {},
   "source": [
    "# <font color=blue>Задача 6. Калькулятор множеств</font>\n",
    "\n",
    "Выполните операции над поданными на вход множествами целых чисел.\n",
    "\n",
    "В первой строке подается первое множество, а в следующих строках подаются символ оператора и затем после пробела элементы множества в фигурных скобках. Элементы множества отделяются друг от друга запятыми без пробелов.\n",
    "\n",
    "Операции выполняются последовательно, то есть к результат $i$-й операции является левым операндом $(i+1)$-й операции.\n",
    "\n",
    "#### Обозначения:\n",
    "\n",
    "| <font size=3>Символ</font> | <font size=3>Операция</font> |\n",
    "| :---: | :---: |\n",
    "| <font size=3>&amp;</font> | <font size=3>Пересечение</font> |\n",
    "| <font size=3>&vert;</font> | <font size=3>Объединение</font> |\n",
    "| <font size=3>-</font> | <font size=3>Разность</font> |\n",
    "| <font size=3>^</font> | <font size=3>Симметричная разность</font> |\n",
    "\n",
    "На вход может быть подано пустое множество в виде фигурных скобок `{}`.\n",
    "\n",
    "Распечатайте полученное в программе множество в том же формате, в котором множества подаются на вход.\n",
    "\n",
    "#### Примеры:\n",
    "\n",
    "| <font size=3>вход</font> | <font size=3>выход</font> |&nbsp;&nbsp;&nbsp;&nbsp;&nbsp;&nbsp;&nbsp;&nbsp;&nbsp;&nbsp;&nbsp;&nbsp;&nbsp;&nbsp;&nbsp;&nbsp;| <font size=3>вход</font> | <font size=3>выход</font> | &nbsp;&nbsp;&nbsp;&nbsp;&nbsp;&nbsp;&nbsp;&nbsp;&nbsp;&nbsp;&nbsp;&nbsp;&nbsp;&nbsp;&nbsp;&nbsp;| <font size=3>вход</font> | <font size=3>выход</font> |&nbsp;&nbsp;&nbsp;&nbsp;&nbsp;&nbsp;&nbsp;&nbsp;&nbsp;&nbsp;&nbsp;&nbsp;&nbsp;&nbsp;&nbsp;&nbsp;| <font size=3>вход</font> | <font size=3>выход</font> |\n",
    "| :---: | :---: |:---:| :---: | :---: | :---: | :---: | :---: |:---:| :---: | :---: |\n",
    "| <font size=3>{1,2,3}<br>&amp; {2,3,4}<br>STOP</font> | <font size=3>{2,3}</font> |&nbsp;| <font size=3>{1,2,3}<br>&vert; {2,3,4}<br>STOP</font> | <font size=3>{1,2,3,4}</font> |&nbsp;| <font size=3>{1,2,3}<br>- {2,3,4}<br>STOP</font> | <font size=3>{1}</font> |&nbsp;| <font size=3>{1,2,3}<br>^ {2,3,4}<br>STOP</font> | <font size=3>{1,4}</font> |\n",
    "| <font size=3>{1,2,3}<br>&amp; {2,3,4}<br>&amp; {2,4,5}<br>STOP</font> | <font size=3>{2}</font> |&nbsp;| <font size=3>{1,2,3}<br>&amp; {2,3,4}<br>&vert; {5}<br>STOP</font> | <font size=3>{2,3,5}</font> |&nbsp;| <font size=3>{1,2,3}<br>&amp; {2,3,4}<br>&vert; {}<br>STOP</font> | <font size=3>{2,3}</font> |&nbsp;| <font size=3>{2,3,4}<br>&amp; {}<br>STOP</font> | <font size=3>{}</font> |\n",
    "\n",
    "### Критерии\n",
    "\n",
    "1. За полное, безошибочное решение задачи начисляются 2 балла\n",
    "\n",
    "<font color=red>20 мин</font>"
   ]
  },
  {
   "cell_type": "code",
   "execution_count": 44,
   "metadata": {},
   "outputs": [
    {
     "name": "stdout",
     "output_type": "stream",
     "text": [
      "{1,2,3}\n",
      "| {}\n",
      "STOP\n",
      "{,2,1,3}\n"
     ]
    }
   ],
   "source": [
    "\n",
    "a = str(input())\n",
    "BaseSet = set(a[1:len(a)-1:].split(','))\n",
    "\n",
    "c = str(input())\n",
    "while not c == \"STOP\":\n",
    "    l = c.split(' ')\n",
    "    NewSet = set(l[1][1:len(l[1])-1:].split(','))\n",
    "    if l[0] == '&':\n",
    "        BaseSet = BaseSet & NewSet\n",
    "    if l[0] == '|':\n",
    "        BaseSet = BaseSet | NewSet\n",
    "    if l[0] == '-':\n",
    "        BaseSet = BaseSet - NewSet\n",
    "    if l[0] == '^':\n",
    "        BaseSet = BaseSet ^ NewSet\n",
    "    c = str(input())\n",
    "\n",
    "MyList = list(BaseSet)\n",
    "Output = '{' + ','.join(MyList) + \"}\"\n",
    "print(Output)"
   ]
  },
  {
   "cell_type": "markdown",
   "metadata": {},
   "source": [
    "# <font color=blue>Задача 7. Средняя траектория</font>\n",
    "\n",
    "В файлах <font color=green face=\"Courier\" size=3>&lt;num&gt;.txt</font> координаты точек 100 траекторий частиц. Вычислите среднюю траекторию и запишите в файл <font color=green face=\"Courier\" size=3>ex7_out.txt</font>.\n",
    "\n",
    ">Под средней траекторией следует понимать последовательность точек, в которой первая точка получается усреднением первых точек всех 100 траекторий, 2-я точка - усреднением вторых точек и т.д..\n",
    "\n",
    "### Пример работы программы\n",
    "\n",
    "| <font size=3>Путь к входному файлу</font> | <font size=3>Путь выходному файлу</font> |\n",
    "| :---: | :---: |\n",
    "| <font size=3>python-biocad/files/final/ex7/&lt;num&gt;.txt</font> | <font size=3>python-biocad/files/final/ex7_out.txt</font> | \n",
    "\n",
    "### Критерии\n",
    "\n",
    "1. За полное, безошибочное решение задачи начисляются 2 балла\n",
    "\n",
    "### Команды для скачивания файлов\n",
    "\n",
    "#### UNIX\n",
    "\n",
    "```bash\n",
    "mkdir ex7\n",
    "for num in {0..99}\n",
    "do\n",
    "    wget https://raw.githubusercontent.com/mipt-cs/python-biocad/master/files/final/ex7/${num}.txt -O ex7/${num}.txt\n",
    "done\n",
    "ls -1 ex7 | wc -l  # посчитать содержимое ex7\n",
    "```\n",
    "\n",
    "#### Windows cmd.exe\n",
    "\n",
    "```\n",
    "mkdir ex7\n",
    "for /L %v in (0,1,99) do ( \n",
    "    wget https://raw.githubusercontent.com/mipt-cs/python-biocad/master/files/final/ex7/%v.txt -O ex7/%v.txt\n",
    ")\n",
    "set count=0\n",
    "for %x in (ex7\\*) do (set /a count+=1 >nul)\n",
    "echo %count%\n",
    "```"
   ]
  },
  {
   "cell_type": "code",
   "execution_count": 23,
   "metadata": {},
   "outputs": [
    {
     "name": "stdout",
     "output_type": "stream",
     "text": [
      "['abc', '.', ' - def']\n",
      "['abc. - def']\n",
      "Здравствуйте! О!\n",
      "Как у вас дела? Вы хорошо себя чувствуете и пр., дарим? Хорошего дня вам. Хороший человек. чувствуешь? Приветули…\n",
      "\n",
      "- Здравствуйте, Алексей! Приветики, - сказал Василий.\n",
      "Пять - лет назад, когда Косоротов получил орден святыя Анны второй степени и пришел благодарить, то его сиятельство выразился так: «Значит, у вас теперь три Анны: одна в петлице(Аббб. Ассс), две на шее. Аляляля.». А надо сказать, что в то время к Косоротову только что вернулась его жена, особа сварливая и легкомысленная, которую звали Анной. Надеюсь, что когда я получу Анну второй степени, то его сиятельство не будет иметь повода сказать мне то же самое.\n",
      "\n",
      "Милый-то человек, наверно, как-нибудь тут проговорился, дал себя знать, хоть мамаша и отмахивается обеими руками от этого: „Сама, дескать, откажусь“. Что ж она, на кого же надеется: на сто двадцать рублей пенсиона, с вычетом на долг Афанасию Ивановичу? Косыночки она там зимние вяжет, да нарукавнички вышивает, глаза свои старые портит. Да ведь косыночки всего только двадцать рублей в год прибавляют к ста двадцати-то рублям, это мне известно. Значит, все-таки на благородство чувств господина Лужина надеются: „Сам, дескать, предложит, упрашивать будет“. Держи карман! И так-то вот всегда у этих шиллеровских прекрасных душ бывает: до последнего момента рядят человека в павлиные перья, до последнего момента на добро, а не на худо надеются; и хоть предчувствуют оборот медали, но ни за что себе заранее настоящего слова не выговорят; коробит их от одного помышления; обеими руками от правды отмахиваются, до тех самых пор, пока разукрашенный человек им собственноручно нос не налепит.\n",
      "\n",
      "['', 'Здравствуйте!', 'е', ' ', 'О!', None, '\\n', 'Как у вас дела?', 'а', ' ', 'Вы хорошо себя чувствуете и пр.', 'р', ', дарим? ', 'Хорошего дня вам.', 'м', ' ', 'Хороший человек.', 'к', ' чувствуешь? ', 'Приветули…', 'и', '\\n\\n- ', 'Здравствуйте, Алексей!', 'й', ' ', 'Приветики, ', '', '- сказал ', 'Василий.', 'й', '\\n', 'Пять ', '', '- лет назад, когда ', 'Косоротов получил орден святыя Анны второй степени и пришел благодарить, то его сиятельство выразился так: «', ' ', '', 'Значит, у вас теперь три Анны: одна в петлице(', 'е', '', 'Аббб.', 'б', ' ', 'Ассс), две на шее.', 'е', ' ', 'Аляляля.', 'я', '». ', 'А надо сказать, что в то время к Косоротову только что вернулась его жена, особа сварливая и легкомысленная, которую звали Анной.', 'й', ' ', 'Надеюсь, что когда я получу Анну второй степени, то его сиятельство не будет иметь повода сказать мне то же самое.', 'е', '\\n\\n', 'Милый-то человек, наверно, как-нибудь тут проговорился, дал себя знать, хоть мамаша и отмахивается обеими руками от этого: „', ' ', '', 'Сама, дескать, откажусь“.', '“', ' ', 'Что ж она, на кого же надеется: на сто двадцать рублей пенсиона, с вычетом на долг Афанасию Ивановичу?', 'у', ' ', 'Косыночки она там зимние вяжет, да нарукавнички вышивает, глаза свои старые портит.', 'т', ' ', 'Да ведь косыночки всего только двадцать рублей в год прибавляют к ста двадцати-то рублям, это мне известно.', 'о', ' ', 'Значит, все-таки на благородство чувств господина Лужина надеются: „', ' ', '', 'Сам, дескать, предложит, упрашивать будет“.', '“', ' ', 'Держи карман!', 'н', ' ', 'И так-то вот всегда у этих шиллеровских прекрасных душ бывает: до последнего момента рядят человека в павлиные перья, до последнего момента на добро, а не на худо надеются; и хоть предчувствуют оборот медали, но ни за что себе заранее настоящего слова не выговорят; коробит их от одного помышления; обеими руками от правды отмахиваются, до тех самых пор, пока разукрашенный человек им собственноручно нос не налепит.', 'т', '']\n",
      "\n",
      "['Здравствуйте!', None, ' ', 'Хорошего дня вам.', 'к', '\\n\\n- ', 'Приветики, ', 'й', '- лет назад, когда ', 'Значит, у вас теперь три Анны: одна в петлице(', 'б', ' ', 'А надо сказать, что в то время к Косоротову только что вернулась его жена, особа сварливая и легкомысленная, которую звали Анной.', 'е', '', 'Что ж она, на кого же надеется: на сто двадцать рублей пенсиона, с вычетом на долг Афанасию Ивановичу?', 'т', ' ', 'Сам, дескать, предложит, упрашивать будет“.', 'н', '']\n",
      "\n"
     ]
    },
    {
     "name": "stderr",
     "output_type": "stream",
     "text": [
      "/home/anton/.local/lib/python3.5/site-packages/ipykernel_launcher.py:4: FutureWarning: split() requires a non-empty pattern match.\n",
      "  after removing the cwd from sys.path.\n"
     ]
    }
   ],
   "source": [
    "import re\n",
    "s = \"abc. - def\"\n",
    "p = re.compile(r'(g|[,.]*(?= - ))')\n",
    "print(p.split(s))\n",
    "s1 = re.split('(g|,(?= - ))', s)\n",
    "print(s1)\n",
    "with open('text.txt') as f:\n",
    "    text = f.read()\n",
    "print(text, end='\\n\\n')\n",
    "pattern = re.compile(r'([А-ЯA-Z]([?!…]*(?= [—\\-–] )|[^?!….\\(\"«„])*.)')\n",
    "text = pattern.split(text)\n",
    "print(text, end='\\n\\n')\n",
    "print(text[1::4], end='\\n\\n')\n"
   ]
  },
  {
   "cell_type": "code",
   "execution_count": 21,
   "metadata": {},
   "outputs": [
    {
     "name": "stdout",
     "output_type": "stream",
     "text": [
      "['abcdefg']\n"
     ]
    },
    {
     "name": "stderr",
     "output_type": "stream",
     "text": [
      "/home/anton/.local/lib/python3.5/site-packages/ipykernel_launcher.py:4: FutureWarning: split() requires a non-empty pattern match.\n",
      "  after removing the cwd from sys.path.\n"
     ]
    }
   ],
   "source": [
    "import re\n",
    "s = 'abcdefg'\n",
    "p = re.compile('([h]*(?=d))*')\n",
    "print(p.split(s))"
   ]
  },
  {
   "cell_type": "markdown",
   "metadata": {},
   "source": [
    "# <font color=blue>Задача 8. Удаление комментариев</font>\n",
    "\n",
    "Комментарий в Паскаль-программе - это последовательность символов, которая начинается `\"(*\"`, заканчивается `\"*)\"` и не содержит `\"*)\"` внутри. Прочитать файл с Паскаль-программой <font color=green face=\"Courier\" size=3>final_ex8_inp.pas</font>, удалить в нем комментарии и вывести в файл <font color=green face=\"Courier\" size=3>final_ex8_out.pas</font>. Разбиение нового текста по строкам не имеет значения.\n",
    "\n",
    "### Пример работы программы\n",
    "\n",
    "| <font size=3>Путь к входному файлу</font> | <font size=3>Путь выходному файлу</font> |\n",
    "| :---: | :---: |\n",
    "| <font size=3>python-biocad/files/final/final_ex8_inp.pas</font> | <font size=3>python-biocad/files/final/final_ex8_out.pas</font> | \n",
    "\n",
    "### Критерии\n",
    "\n",
    "1. За полное, безошибочное решение задачи начисляются 1 балла\n",
    "\n",
    "2. Дополнительно 3 балла начисляются, если в решении был применен однопроходный алгоритм: по считанному тексту был выполнен 1 проход. Возможен вариант, в котором символы считываются из файла по одному. \n",
    "\n",
    "### Команды для скачивания файлов\n",
    "\n",
    "```bash\n",
    "wget https://raw.githubusercontent.com/mipt-cs/python-biocad/master/files/final/final_ex8_inp.pas\n",
    "wget https://raw.githubusercontent.com/mipt-cs/python-biocad/master/files/final/final_ex8_out.pas\n",
    "```\n"
   ]
  },
  {
   "cell_type": "code",
   "execution_count": 29,
   "metadata": {},
   "outputs": [
    {
     "name": "stdout",
     "output_type": "stream",
     "text": [
      "'l'\n",
      "')'\n",
      "'I'\n",
      "')'\n",
      "'*'\n",
      "'\\n'\n",
      "' '\n",
      "')'\n",
      "'*'\n",
      "'\\n'\n",
      "' '\n",
      "')'\n",
      "'*'\n",
      "'\\n'\n",
      "' '\n",
      "')'\n",
      "'*'\n",
      "'\\n'\n",
      "' '\n",
      "')'\n",
      "'*'\n",
      "'\\n'\n",
      "' '\n",
      "')'\n",
      "'T'\n",
      "'\\n'\n"
     ]
    }
   ],
   "source": [
    "\n",
    "with open('final_ex8_inp.pas', 'r') as f1:\n",
    "    InputText = f1.read()\n",
    "\n",
    "flag = 0\n",
    "    \n",
    "with open('final_ex8_out.pas', 'a') as f2:  \n",
    "    for i in range (len(InputText)):\n",
    "        if (not InputText[i] == '(') and (flag == 0):\n",
    "            f2.write(InputText[i])\n",
    "        elif (InputText[i] == '(') and (flag == 0) and (i == len(InputText)-1):\n",
    "            f2.write(InputText[i])\n",
    "        elif (InputText[i] == '(') and (flag == 0) and (i < len(InputText)-1):\n",
    "            if not InputText[i+1] == '*':\n",
    "                f2.write(InputText[i])\n",
    "            if InputText[i+1] == '*':\n",
    "                flag = 1\n",
    "                \n",
    "        elif (flag == 1) and (not InputText[i] == '*'):\n",
    "            None\n",
    "        elif (flag == 1) and (InputText[i] == '*'):\n",
    "            print(repr(InputText[i+1]))\n",
    "            if InputText[i+1] == ')':\n",
    "                flag = 0\n",
    "                i += 1\n",
    "                "
   ]
  },
  {
   "cell_type": "code",
   "execution_count": 33,
   "metadata": {},
   "outputs": [
    {
     "name": "stdout",
     "output_type": "stream",
     "text": [
      "1.5\n"
     ]
    }
   ],
   "source": [
    "print(1.5 %2)"
   ]
  },
  {
   "cell_type": "markdown",
   "metadata": {},
   "source": [
    "# <font color=blue>Задача 9. Максимальное частное</font>\n",
    "\n",
    "На вход подается число $N > 1$, а затем $N$ вещественных чисел: каждое в отдельной строке. Найдите среди введенных чисел два числа, дающих максимальное частное при делении первого на второе. Решите задачу в 1 проход, не сохраняя все введенные числа.\n",
    "\n",
    "На выходе должны быть 2 числа, разделенные пробелом: делимое и делитель. \n",
    "\n",
    "Если есть две различных пары чисел, дающих максимальное частное, то должна быть распечатана та пара, у которой делимое меньше. Если у этих пар чисел одинаковфе делимые, то печатается пара с меньшим делителем.\n",
    "\n",
    "Если из входных данных нельзя сформировать пару чисел, распечатайте `None`.\n",
    "\n",
    "### Примеры работы программы\n",
    "\n",
    "| <font size=3>вход</font> | <font size=3>выход</font> | &nbsp;&nbsp;&nbsp;&nbsp;&nbsp;&nbsp;&nbsp;&nbsp;&nbsp;&nbsp;&nbsp;&nbsp;&nbsp;&nbsp;&nbsp;&nbsp; |  <font size=3>вход</font> | <font size=3>выход</font> | &nbsp;&nbsp;&nbsp;&nbsp;&nbsp;&nbsp;&nbsp;&nbsp;&nbsp;&nbsp;&nbsp;&nbsp;&nbsp;&nbsp;&nbsp;&nbsp; | <font size=3>вход</font> | <font size=3>выход</font> | &nbsp;&nbsp;&nbsp;&nbsp;&nbsp;&nbsp;&nbsp;&nbsp;&nbsp;&nbsp;&nbsp;&nbsp;&nbsp;&nbsp;&nbsp;&nbsp; |  <font size=3>вход</font> | <font size=3>выход</font> |\n",
    "| :---: | :---: | :---:| :---: | :---: | :---: | :---: | :---: | :---:| :---: | :---: |\n",
    "| <font size=3>2<br>0<br>0</font> | <font size=3>None</font> | &nbsp;&nbsp;&nbsp;&nbsp;&nbsp;&nbsp;&nbsp;&nbsp; | <font size=3>2<br>-0.5<br>0</font> | <font size=3>0.0 -0.5</font> |&nbsp;| <font size=3>2<br>-2<br>-1</font> | <font size=3>-2.0 -1.0</font> | &nbsp; | <font size=3>2<br>0<br>1</font> | <font size=3>0.0 1.0</font> |\n",
    "| <font size=3>2<br>2<br>1</font> | <font size=3>2.0 1.0</font> | &nbsp; | <font size=3>2<br>2<br>-1</font> | <font size=3>-1.0 2.0</font> |&nbsp;| <font size=3>2<br>1<br>-2</font> | <font size=3>1.0 -2.0</font> | &nbsp; | <font size=3>2<br>1<br>-1</font> | <font size=3>-1.0 1.0</font> |\n",
    "| <font size=3>3<br>1<br>-1<br>0</font> | <font size=3>0.0 -1.0</font> | &nbsp; | <font size=3>3<br>1<br>-1<br>4</font> | <font size=3>4.0 1.0</font> |&nbsp;| <font size=3>3<br>1<br>-1<br>-4</font> | <font size=3>-4.0 -1.0</font> | &nbsp; | <font size=3>&nbsp;</font> | <font size=3>&nbsp;</font> |\n",
    "| <font size=3>4<br>0.05<br>-0.1<br>-0.4<br>0.3</font> | <font size=3>0.3 0.05</font> | &nbsp; | <font size=3>4<br>-0.05<br>0.1<br>0.4<br>-0.3</font> | <font size=3>-0.3 -0.05</font> |&nbsp;| <font size=3>&nbsp;</font> | <font size=3>&nbsp;</font> | &nbsp; | <font size=3>&nbsp;</font> | <font size=3>&nbsp;</font> |\n",
    "\n",
    "### Критерии\n",
    "\n",
    "1. За правильную работу в случаях, когда среди поданных чисел больше одного положительного **и** больше одного отрицательного (примеры, в которых 4 числа) начисляется 1 балл.\n",
    "\n",
    "2. Если при выполнении пункта 1 алгоритм однопроходный, начисляется еще 1 балл.\n",
    "\n",
    "3. Далее за каждый пройденный тест с 2-мя и 3-мя числами начисляется 0,2 балла.\n",
    "\n",
    "4. Если программа работает полностью правильно, вдобавок к пунктам 1 и 3 начисляется еще 1 балл."
   ]
  },
  {
   "cell_type": "code",
   "execution_count": null,
   "metadata": {
    "collapsed": true
   },
   "outputs": [],
   "source": []
  },
  {
   "cell_type": "markdown",
   "metadata": {},
   "source": [
    "# <font color=blue>Задача 10. Числа Фибоначчи</font>\n",
    "\n",
    "Известно, что для чисел Фибоначчи справедливы тождества\n",
    "\n",
    "$$F_{2m} = F_{m+1}^2 - F_{m-1}^2\\\\F_{2m+1} = F_{m+1}^2 + F_m^2$$\n",
    "\n",
    "Реализуйте вычисление $n$-го числа Фибоначчи через рекурсию с использованием этих тождеств.\n",
    "\n",
    "### Критерии\n",
    "\n",
    "1. За правильное решение начисляется 1 балл."
   ]
  },
  {
   "cell_type": "code",
   "execution_count": 42,
   "metadata": {},
   "outputs": [
    {
     "name": "stdout",
     "output_type": "stream",
     "text": [
      "1\n",
      "1\n",
      "2\n",
      "3\n",
      "5\n"
     ]
    }
   ],
   "source": [
    "def Fibonachi(n):\n",
    "    if n == 1 or n == 2:\n",
    "        return 1 \n",
    "    else:\n",
    "        if n % 2 == 0:\n",
    "            return Fibonachi(n//2 + 1)**2 - Fibonachi(n//2 - 1)**2\n",
    "        if n % 2 == 1:\n",
    "            return Fibonachi((n-1)//2 + 1)**2 + Fibonachi((n-1)//2)**2\n",
    "        \n",
    "for i in range(1, 6):\n",
    "    print(Fibonachi(i))"
   ]
  },
  {
   "cell_type": "code",
   "execution_count": null,
   "metadata": {
    "collapsed": true
   },
   "outputs": [],
   "source": []
  }
 ],
 "metadata": {
  "kernelspec": {
   "display_name": "Python 3",
   "language": "python",
   "name": "python3"
  },
  "language_info": {
   "codemirror_mode": {
    "name": "ipython",
    "version": 3
   },
   "file_extension": ".py",
   "mimetype": "text/x-python",
   "name": "python",
   "nbconvert_exporter": "python",
   "pygments_lexer": "ipython3",
   "version": "3.5.2"
  }
 },
 "nbformat": 4,
 "nbformat_minor": 2
}
