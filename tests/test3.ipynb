{
 "cells": [
  {
   "cell_type": "markdown",
   "metadata": {},
   "source": [
    "## Задача 1\n",
    "\n",
    "Проверьте, образуют или порядковые номера символов поданной на вход строки строго убывающую последовательность.\n",
    "\n",
    "| <font size=3>входные данные</font> | <font size=3>выходные данные</font> |\n",
    "| :---: | :---: |\n",
    "| <font size=3>cba</font> | <font size=3>True</font> |\n",
    "| <font size=3>abc</font> | <font size=3>False</font> |\n",
    "| <font size=3>cbb</font> | <font size=3>False</font> |\n",
    "| <font size=3></font> | <font size=3>True</font> |\n",
    "\n",
    "### Критерии\n",
    "| <font size=3>баллы</font> | <font size=3>критерий</font> |\n",
    "| :---: | :---: |\n",
    "| <font size=3>0</font> | <font size=3>решение содержит ошибку</font> |\n",
    "| <font size=3>2</font> | <font size=3>задача полностью решена</font> |"
   ]
  },
  {
   "cell_type": "code",
   "execution_count": null,
   "metadata": {
    "collapsed": true
   },
   "outputs": [],
   "source": []
  },
  {
   "cell_type": "markdown",
   "metadata": {},
   "source": [
    "## Задача 2\n",
    "\n",
    "Если введенная строка `S` - палиндром, распечатайте `S`, в противном случае распечатайте объединение строки `S` и `S`, записанной в обратном порядке.\n",
    "\n",
    "| <font size=3>входные данные</font> | <font size=3>выходные данные</font> |\n",
    "| :---: | :---: |\n",
    "| <font size=3>aba</font> | <font size=3>aba</font> |\n",
    "| <font size=3>abc</font> | <font size=3>abccba</font> |\n",
    "\n",
    "### Критерии\n",
    "| <font size=3>баллы</font> | <font size=3>критерий</font> |\n",
    "| :---: | :---: |\n",
    "| <font size=3>0</font> | <font size=3>решение содержит ошибку</font> |\n",
    "| <font size=3>1</font> | <font size=3>решение верно, но не соответствует требованиям, предъявляемым к решению, оцениваемому в 2 балла</font> |\n",
    "| <font size=3>2</font> | <font size=3>решение верно, и в нем используются срезы и сравнение строк</font> |"
   ]
  },
  {
   "cell_type": "code",
   "execution_count": null,
   "metadata": {},
   "outputs": [],
   "source": []
  },
  {
   "cell_type": "markdown",
   "metadata": {},
   "source": [
    "## Задача 3\n",
    "\n",
    "Напишите программу, которая считывает по очереди строки, до тех пор пока не введена строка `\"STOP\"`. Если очередная считанная строка состоит из цифр, то она преобразуется в целое число. Программа должна распечатать список, состоящий из полученных целых чисел.\n",
    "\n",
    "| <font size=3>входные данные</font> | <font size=3>выходные данные</font> |\n",
    "| :---: | :---: |\n",
    "| <font size=3>aba<br>34<br>21<br>STOP</font> | <font size=3>[34, 21]</font> |\n",
    "| <font size=3>abc<br>STOP</font> | <font size=3>[]</font> |\n",
    "| <font size=3>STOP</font> | <font size=3>[]</font> |\n",
    "\n",
    "### Критерии\n",
    "| <font size=3>баллы</font> | <font size=3>критерий</font> |\n",
    "| :---: | :---: |\n",
    "| <font size=3>0</font> | <font size=3>решение содержит ошибку</font> |\n",
    "| <font size=3>1</font> | <font size=3>решение верно, но не соответствует требованиям, предъявляемым к решению, оцениваемому в 2 балла</font> |\n",
    "| <font size=3>2</font> | <font size=3>решение верно, и в нем используются цикл `while`, метод `isdigit()`, сравнение строк</font> |"
   ]
  },
  {
   "cell_type": "code",
   "execution_count": null,
   "metadata": {
    "collapsed": true
   },
   "outputs": [],
   "source": []
  },
  {
   "cell_type": "markdown",
   "metadata": {},
   "source": [
    "## Задача 4\n",
    "\n",
    "На вход программе подается строка `S`, состоящая из некоторого количества слов, разделенных пробелами. Гарантируется, что строка `S` включает в себя только символы русского и английского алфавитов и пробел. Требуется отобрать среди введенных слов начинающиеся с прописной буквы и объединить их в одну строку, в которой они будут разделены запятыми.\n",
    "\n",
    "| <font size=3>входные данные</font> | <font size=3>выходные данные</font> |\n",
    "| :---: | :---: |\n",
    "| <font size=3>42</font> | <font size=3></font> |\n",
    "| <font size=3>Алгоритмы плюс Структуры Данных равно Программы</font> | <font size=3>Алгоритмы,Структуры,Данных,Программы</font> |\n",
    "\n",
    "### Критерии\n",
    "| <font size=3>баллы</font> | <font size=3>критерий</font> |\n",
    "| :---: | :---: |\n",
    "| <font size=3>0</font> | <font size=3>решение содержит ошибку</font> |\n",
    "| <font size=3>1</font> | <font size=3>решение верно, но не соответствует требованиям, предъявляемым к решению, оцениваемому в 2 балла</font> |\n",
    "| <font size=3>2</font> | <font size=3>решение верно, и в нем используются методы строкого типа `split()`, `join()`, `isupper()` и генераторы списков, </font> |"
   ]
  },
  {
   "cell_type": "code",
   "execution_count": null,
   "metadata": {
    "collapsed": true
   },
   "outputs": [],
   "source": []
  },
  {
   "cell_type": "markdown",
   "metadata": {},
   "source": [
    "## Задача 5\n",
    "\n",
    "На вход программе подается сначала целое число $N > 0$, а затем $N$ строк, состоящих из одинакового количества вещественных чисел, разделенных пробелами. Программа должна распечатать список из вещественных чисел, каждое из которых равно сумме чисел, стоящих на соответствующих позициях во введенных строках.\n",
    "\n",
    "| <font size=3>входные данные</font> | <font size=3>выходные данные</font> |\n",
    "| :---: | :---: |\n",
    "| <font size=3>4 2 8<br>-3 0 1</font> | <font size=3>[1.0, 2.0, 9.0]</font> |\n",
    "\n",
    "### Критерии\n",
    "| <font size=3>баллы</font> | <font size=3>критерий</font> |\n",
    "| :---: | :---: |\n",
    "| <font size=3>0</font> | <font size=3>решение содержит ошибку</font> |\n",
    "| <font size=3>2</font> | <font size=3>решение верно</font> |"
   ]
  },
  {
   "cell_type": "code",
   "execution_count": null,
   "metadata": {
    "collapsed": true
   },
   "outputs": [],
   "source": []
  }
 ],
 "metadata": {
  "kernelspec": {
   "display_name": "Python 3",
   "language": "python",
   "name": "python3"
  },
  "language_info": {
   "codemirror_mode": {
    "name": "ipython",
    "version": 3
   },
   "file_extension": ".py",
   "mimetype": "text/x-python",
   "name": "python",
   "nbconvert_exporter": "python",
   "pygments_lexer": "ipython3",
   "version": "3.5.2"
  }
 },
 "nbformat": 4,
 "nbformat_minor": 2
}
