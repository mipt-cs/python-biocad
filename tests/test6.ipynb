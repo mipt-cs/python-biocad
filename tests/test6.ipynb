{
 "cells": [
  {
   "cell_type": "markdown",
   "metadata": {},
   "source": [
    "# <font color=blue>Задача 1. Транспонирование списков <font/>\n",
    "\n",
    "Ниже приведены 4 списка $A$, $B$, $C$, $D$ по 5 элементов каждый.  \n",
    "\n",
    "1. Составьте из них с помощью `zip` 5 списков $a$, $b$, $c$, $d$, $e$ (обратите Ваше внимание на то, что это должны быть именно **списки, а не кортежи**) по 4 элемента каждый. В списке $a$ должны быть первые элементы исходных 4-х списков, в списке $b$ - вторые элементы исходных 4-х списков и т.д.. \n",
    "\n",
    "2. Получите из списков $a$, $b$, $c$, $d$, $e$ с помощью `zip` **списки** $A_2$, $B_2$, $C_2$, $D_2$, равные исходным $A$, $B$, $C$, $D$.\n",
    "\n",
    "Программа ничего не получает на вход. Выходные данные не требуются.\n",
    "\n",
    "### Критерии\n",
    "За каждый решенный пункт присуждается по одному баллу."
   ]
  },
  {
   "cell_type": "code",
   "execution_count": null,
   "metadata": {
    "collapsed": true
   },
   "outputs": [],
   "source": []
  },
  {
   "cell_type": "code",
   "execution_count": null,
   "metadata": {
    "collapsed": true
   },
   "outputs": [],
   "source": []
  },
  {
   "cell_type": "markdown",
   "metadata": {},
   "source": [
    "# <font color=blue>Задача 2. Цикл по `zip` и  `enumerate`</font>\n",
    "\n",
    "Даны 2 списка $A$ и $B$. \n",
    "\n",
    "<font color=green>**1. Распечатайте списки так, чтобы элементы, находящиеся на одной позиции, выводились вместе.**</font>\n",
    "\n",
    "## Пример:\n",
    "\n",
    "```python\n",
    "A = [1, 2, 3, 4]\n",
    "B = [5, 6, 7, 8]\n",
    "```\n",
    "#### Вывод:\n",
    "\n",
    "```\n",
    "1 5\n",
    "2 6\n",
    "3 7\n",
    "4 8\n",
    "```\n",
    "\n",
    "<font color=green>**2. Распечатайте списки так, чтобы сначала выводился индекс, а затем элементы списков, имеющих этот индекс. Используйте `enumerate`.**</font>\n",
    "\n",
    "## Пример:\n",
    "\n",
    "```python\n",
    "A = ['a', 'b', 'c', 'd']\n",
    "B = ['e', 'f', 'g', 'h']\n",
    "```\n",
    "#### Вывод:\n",
    "\n",
    "```\n",
    "0 a e \n",
    "1 b f\n",
    "2 c g\n",
    "3 d h\n",
    "```\n",
    "\n",
    "### Критерии\n",
    "За каждый пункт присуждается по баллу, при условии, что в обоих используется `zip`, а в последнем `enumerate`."
   ]
  },
  {
   "cell_type": "code",
   "execution_count": null,
   "metadata": {
    "collapsed": true
   },
   "outputs": [],
   "source": []
  },
  {
   "cell_type": "code",
   "execution_count": null,
   "metadata": {
    "collapsed": true
   },
   "outputs": [],
   "source": []
  },
  {
   "cell_type": "markdown",
   "metadata": {},
   "source": [
    "# <font color=blue>Задача 3. Математические операции над множествами</font>\n",
    "\n",
    "Выведите символы, которые присутствуют ровно в двух из трех поданных на вход строк. В выходных данных символы должны быть в одном экземпляре.\n",
    "\n",
    " На выходе должна быть строка, составленная из найденных символов.\n",
    "\n",
    "| <font size=3>Входные данные</font>      | <font size=3>Выходные данные</font>    |\n",
    "| :--- | :--- |\n",
    "| <font size=3>abc<br>cde<br>efa</font> | <font size=3>ace</font> |\n",
    "| <font size=3>abc<br>bcd<br>cde</font> | <font size=3>bd</font> |\n",
    "| <font size=3>abc<br>def<br>ghi</font> | <font size=3></font> |\n",
    "\n",
    "### Критерии\n",
    "| <font size=3>баллы</font> | <font size=3>критерий</font> |\n",
    "| :---: | :---: |\n",
    "| <font size=3>0</font> | <font size=3>решение содержит ошибку</font> |\n",
    "| <font size=3>2</font> | <font size=3>решение верно</font> |"
   ]
  },
  {
   "cell_type": "code",
   "execution_count": null,
   "metadata": {
    "collapsed": true
   },
   "outputs": [],
   "source": []
  },
  {
   "cell_type": "markdown",
   "metadata": {},
   "source": [
    "# <font color=blue> Задача 4. Файлы</font>\n",
    "\n",
    "1. Запишите поданные на вход строки в файл `test6_ex4.txt`. Ввод заканчивается строкой `\"STOP\"`, которую записывать в файл не нужно. В файле каждая из введенных строк должна быть в отдельной строке. Последним символом в файле должна быть \"новая строка\" `\\n`. По завершении записи в файл закройте его. Используйте контекстный менеджер.\n",
    "\n",
    "| <font size=3>Входные данные</font>      | <font size=3>Содержимое файла</font>    |\n",
    "| :--- | :--- |\n",
    "| <font size=3>Иван Петров<br>123<br>бульбуль<br>STOP</font> | <font size=3>Иван Петров<br>123<br>бульбуль</font> |\n",
    "\n",
    "2. Откройте файл `test6_ex4.txt` на чтение, определите число строк в нем и допишите в конец файла полученное число (без учета строки с числом строк).\n",
    "\n",
    "| <font size=3>Содержимое файла в начале</font>      | <font size=3>Содержимое файла по завершению операций из пункта 2</font>    |\n",
    "| :--- | :--- |\n",
    "| <font size=3>Иван Петров<br>123<br>бульбуль</font> | <font size=3>Иван Петров<br>123<br>бульбуль<br>3</font> |\n",
    "\n",
    "### Критерии\n",
    "За каждый **полностью** решенный пункт присуждается 2 балла."
   ]
  },
  {
   "cell_type": "code",
   "execution_count": null,
   "metadata": {
    "collapsed": true
   },
   "outputs": [],
   "source": []
  },
  {
   "cell_type": "code",
   "execution_count": null,
   "metadata": {
    "collapsed": true
   },
   "outputs": [],
   "source": []
  },
  {
   "cell_type": "markdown",
   "metadata": {},
   "source": [
    "# <font color=blue> Задача 5. Циклический сдвиг влево</font>\n",
    "\n",
    "Осуществите циклический сдвиг влево символов строки. Циклический сдвиг влево на 1 - преобразование строки, в котором все символы кроме нулевого сдвигаются на одну позицию влево, а нулевой попадает в конец строки. Циклический сдвиг на `k` - это последовательное выполнение `k` циклических сдвигов на 1. **`k` может быть больше длины строки.**\n",
    "\n",
    "Задача решается в одну строчку с помощью срезов.\n",
    "\n",
    "На вход подается строка из букв и (через пробел) число позиций, на которые следует осуществить сдвиг. \n",
    "\n",
    "| <font size=3>входные данные</font> | <font size=3>выходные данные</font> |\n",
    "| :---: | :---: |\n",
    "| <font size=3>abcd 1</font> | <font size=3>bcda</font> |\n",
    "| <font size=3>abcd 3</font> | <font size=3>dabc</font> |\n",
    "| <font size=3>d 4</font> | <font size=3>d</font> |\n",
    "| <font size=3>abcd 4</font> | <font size=3>abcd</font> |\n",
    "| <font size=3>abcd 5</font> | <font size=3>bcda</font> |\n",
    "\n",
    "### Критерии\n",
    "| <font size=3>баллы</font> | <font size=3>критерий</font> |\n",
    "| :---: | :---: |\n",
    "| <font size=3>0</font> | <font size=3>решение содержит ошибку</font> |\n",
    "| <font size=3>2</font> | <font size=3>решение верно</font> |"
   ]
  },
  {
   "cell_type": "code",
   "execution_count": null,
   "metadata": {
    "collapsed": true
   },
   "outputs": [],
   "source": []
  }
 ],
 "metadata": {
  "kernelspec": {
   "display_name": "Python 3",
   "language": "python",
   "name": "python3"
  },
  "language_info": {
   "codemirror_mode": {
    "name": "ipython",
    "version": 3
   },
   "file_extension": ".py",
   "mimetype": "text/x-python",
   "name": "python",
   "nbconvert_exporter": "python",
   "pygments_lexer": "ipython3",
   "version": "3.5.2"
  }
 },
 "nbformat": 4,
 "nbformat_minor": 2
}
