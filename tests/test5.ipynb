{
 "cells": [
  {
   "cell_type": "markdown",
   "metadata": {},
   "source": [
    "# Задача 1. Упражнения на генераторы списков\n",
    "\n",
    "1. Создайте список значений факториалов натуральных чисел до 100 включительно.\n",
    "\n",
    "2. Создайте список таких значений факториалов натуральных чисел до 100 включительно, что первая цифра слева в их записи равна 2. Например, 24 (4!).\n",
    "\n",
    "Программы ничего не получают на вход и ничего не печатают. \n",
    "\n",
    "### Критерии\n",
    "\n",
    "За правильную реализацию каждого из генераторов присуждается 1 балл. \n",
    "\n",
    "Разрешается использовать, как свои реализации функции для вычисления факториала, так и функцию `factorial` из модуля `math`. `math.factorial` используется следующим образом.\n",
    "\n",
    "```python\n",
    "import math\n",
    "fact = math.factorial(10)  # 10!\n",
    "```\n",
    "\n",
    "**Решения должны укладываться в одну строчку** (без учета команды `import`)."
   ]
  },
  {
   "cell_type": "code",
   "execution_count": null,
   "metadata": {
    "collapsed": true
   },
   "outputs": [],
   "source": [
    "import math\n",
    "L = [math.factorial(i) for i in range(1, 101)]"
   ]
  },
  {
   "cell_type": "code",
   "execution_count": null,
   "metadata": {
    "collapsed": true
   },
   "outputs": [],
   "source": [
    "import math\n",
    "L = [math.factorial(i) for i in range(1, 101) if str(math.factorial(i))[0] == '2']  "
   ]
  },
  {
   "cell_type": "markdown",
   "metadata": {},
   "source": [
    "# Задача 2. Упражнение на генератор словарей\n",
    "\n",
    "Из приведенного в следующей клетке списка строк `L` создайте словарь, ключами которого будут строки  из списка `L`, а значениями - длины этих строк.\n",
    "\n",
    "Программа ничего не получает на вход и ничего не печатает.\n",
    "\n",
    "### Критерии\n",
    "\n",
    "За правильную реализацию генератора словаря присуждается 1 балл. **Решение должно укладываться в одну строчку**."
   ]
  },
  {
   "cell_type": "code",
   "execution_count": null,
   "metadata": {
    "collapsed": true
   },
   "outputs": [],
   "source": [
    "from random import randint as rnt\n",
    "L = [''.join(['a']*rnt(0, 20)) for _ in range(rnt(0, 100))]"
   ]
  },
  {
   "cell_type": "code",
   "execution_count": null,
   "metadata": {
    "collapsed": true
   },
   "outputs": [],
   "source": [
    "d = {s: len(s) for s in L}"
   ]
  },
  {
   "cell_type": "markdown",
   "metadata": {},
   "source": [
    "# Задача 3. Трибоначчи\n",
    "\n",
    "Ниже приведена функция для вычисления чисел трибоначчи. Числа трибоначчи - это элементы последовательности, задаваемой рекуррентной формулой $$T_n = \\begin{cases} T_{n-1} + T_{n-2} + T_{n-3}, & \\mbox{if } n > 3 \\\\ 1, & \\mbox{if } n \\in \\left\\lbrace 1, 2, 3 \\right\\rbrace \\end{cases}$$\n",
    "\n",
    "Замените 3 выражения в теле цикла одним множественным присваиванием.\n",
    "\n",
    "Программа ничего не получает на вход и ничего не печатает.\n",
    "\n",
    "### Критерии\n",
    "\n",
    "Присуждается 1 балл за замену трех выражений в теле цикла одним множественным присваиванием, при условии, что функция `trib()` будет работать правильно."
   ]
  },
  {
   "cell_type": "code",
   "execution_count": null,
   "metadata": {
    "collapsed": true
   },
   "outputs": [],
   "source": [
    "def trib(n):\n",
    "    if n < 4:\n",
    "        return 1\n",
    "    trib1, trib2, trib3 = 1, 1, 1\n",
    "    for _ in range(n - 3):\n",
    "        trib3 = trib1 + trib2 + trib3\n",
    "        trib2 = trib3 - trib1 - trib2\n",
    "        trib1 = trib3 - trib1 - trib2\n",
    "    return trib3\n",
    "\n",
    "for i in range(1, 20):\n",
    "    print(trib(i))"
   ]
  },
  {
   "cell_type": "code",
   "execution_count": null,
   "metadata": {
    "collapsed": true
   },
   "outputs": [],
   "source": [
    "def trib(n):\n",
    "    if n < 4:\n",
    "        return 1\n",
    "    trib1, trib2, trib3 = 1, 1, 1\n",
    "    for _ in range(n - 3):\n",
    "        trib3, trib2, trib1 = trib1 + trib2 + trib3, trib3, trib2\n",
    "    return trib3\n",
    "\n",
    "for i in range(1, 20):\n",
    "    print(trib(i))"
   ]
  },
  {
   "cell_type": "markdown",
   "metadata": {},
   "source": [
    "# Задача 4. Кузнечики\n",
    "\n",
    "`N` кузнечиков стоят в ряд. Для каждого кузнечика задана числовая характеристика — длина его прыжка. Если длина прыжка кузнечика равна `l`, то он за один прыжок перепрыгивает через `l` других кузнечиков.\n",
    "\n",
    "Каждую секунду последний кузнечик прыгает к началу ряда, перепрыгивает через столько кузнечиков, чему равна длина его\n",
    "прыжка, и становится между двумя другими кузнечиками или в начало ряда. Гарантируется, что длина прыжка меньше количества кузнечиков.\n",
    "\n",
    "В первой строке входных данных задана расстановка кузнечиков (длины их прыжков). Во второй строке входных данных задано число секунд `t`. Определите и выведите на экран расстановку кузнечиков через `t` секунд. Все длины прыжков — натуральные числа, меньшие, чем число кузнечиков в ряду.\n",
    "\n",
    "\n",
    "| <font size=3>Входные данные</font>      | <font size=3>Выходные данные</font>    |\n",
    "| :--- | :--- |\n",
    "| <font size=3>1 2 3 4 2<br>2</font> | <font size=3>4 1 2 2 3</font> |\n",
    "\n",
    "### Критерии\n",
    "| <font size=3>баллы</font> | <font size=3>критерий</font> |\n",
    "| :---: | :---: |\n",
    "| <font size=3>0</font> | <font size=3>решение содержит ошибку</font> |\n",
    "| <font size=3>2</font> | <font size=3>решение верно</font> |"
   ]
  },
  {
   "cell_type": "code",
   "execution_count": null,
   "metadata": {
    "collapsed": true
   },
   "outputs": [],
   "source": [
    "positions = [int(el) for el in input().split()]\n",
    "t = int(input())\n",
    "for _ in range(t):\n",
    "    # Cправа от прыгающего кузнечика должно оказаться J его друзей, где J - длина его прыжка.\n",
    "    # Получается, что кузнечик должен оказаться на -J-1 позиции.\n",
    "    # Теперь продублируем прыгающего кузнечика в его новую позицию с помощью метода list.insert.\n",
    "    # Метод list.insert принимает 2 аргумента: позицию, на которой должен оказаться вставляемый элемент\n",
    "    # и значение вставляемого элемента.\n",
    "    #\n",
    "    # ВНИМАНИЕ: при вставке, элемент, на место которого производится вставка сдвигается вправо.\n",
    "    # То есть при вставке на -1-ю позицию элемент окажется на предпоследней (-2-й) позиции в новом списке.\n",
    "    # Попробуйте код в следующей клетке.\n",
    "    #\n",
    "    # Получаем следующий план: вставляем кузнечика на -J-1-ю позицию - он окажется на -J-2;\n",
    "    # Удаляем кузнечика на его старой позиции.\n",
    "    positions.insert(-positions[-1]-1, positions[-1])  \n",
    "    del positions[-1]\n",
    "print(' '.join([str(pos) for pos in positions]))  # Генератор преобразовал целые числа в строки"
   ]
  },
  {
   "cell_type": "code",
   "execution_count": null,
   "metadata": {
    "collapsed": true
   },
   "outputs": [],
   "source": [
    "l = [1, 2, 3]\n",
    "l.insert(-1, 4)\n",
    "print(l)"
   ]
  },
  {
   "cell_type": "markdown",
   "metadata": {},
   "source": [
    "# Задача 5. Из позиционной в десятичную\n",
    "\n",
    "Требуется перевести число из позиционной системы счисления с основанием от 2 до 36 в десятичную систему счисления. На вход программе подаются число и основание системы счисления. Программа должна распечатать число в десятичной системе счисления.\n",
    "\n",
    "Запрещается использовать встроенные функции и чужие реализации для перевода между системами счисления.\n",
    "\n",
    "| <font size=3>Входные данные</font> | <font size=3>Выходные данные</font> |\n",
    "| :--- | :--- |\n",
    "| <font size=3>101 2</font> | <font size=3>5</font> |\n",
    "| <font size=3>51 6</font> | <font size=3>31</font> |\n",
    "| <font size=3>FF 16</font> | <font size=3>255</font> |\n",
    "| <font size=3>-FF 17</font> | <font size=3>-270</font> |\n",
    "| <font size=3>-ZA 36</font> | <font size=3>-1270</font> |\n",
    "\n",
    "### Критерии\n",
    "| <font size=3>баллы</font> | <font size=3>критерий</font> |\n",
    "| :---: | :---: |\n",
    "| <font size=3>0</font> | <font size=3>решение содержит ошибку</font> |\n",
    "| <font size=3>4</font> | <font size=3>решение верно</font> |"
   ]
  },
  {
   "cell_type": "code",
   "execution_count": null,
   "metadata": {
    "collapsed": true
   },
   "outputs": [],
   "source": [
    "# Подготовка словаря для перехода от цифр, к числам, которые им соответсвуют в десятичной системе счисления\n",
    "arabic_digits = ''.join([str(i)for i in range(10)])\n",
    "A_idx = ord('A')\n",
    "# В Unicode заглавные буквы следуют подряд\n",
    "english = ''.join([chr(A_idx + i) for i in range(26)])\n",
    "alphabet = arabic_digits + english\n",
    "assert alphabet == '0123456789ABCDEFGHIJKLMNOPQRSTUVWXYZ'  # Таким должен получиться алфавит\n",
    "digit_to_number = {c: idx for idx, c in enumerate(alphabet)}\n",
    "\n",
    "N_original, base = input().split()\n",
    "# Определяем знак числа\n",
    "if N_original[0] == '-':\n",
    "    N = N_original[1:]  # убираем минус из строки\n",
    "    sign = -1\n",
    "else:\n",
    "    N = N_original\n",
    "    sign = 1\n",
    "\n",
    "# Основание системы счисления\n",
    "base = int(base)\n",
    "\n",
    "# Основание системы счисления в степени равной разряду\n",
    "factor = 1  \n",
    "N_decimal = 0  # Результат\n",
    "for digit in N[::-1]:\n",
    "    N_decimal += factor * digit_to_number[digit]\n",
    "    factor *= base\n",
    "    \n",
    "N_decimal *= sign\n",
    "    \n",
    "assert N_decimal == int(N_original, b)  # int() позволяет легко переводить числа в десятичную систему счисления\n",
    "print(N_decimal)"
   ]
  }
 ],
 "metadata": {
  "kernelspec": {
   "display_name": "Python 3",
   "language": "python",
   "name": "python3"
  },
  "language_info": {
   "codemirror_mode": {
    "name": "ipython",
    "version": 3
   },
   "file_extension": ".py",
   "mimetype": "text/x-python",
   "name": "python",
   "nbconvert_exporter": "python",
   "pygments_lexer": "ipython3",
   "version": "3.5.2"
  }
 },
 "nbformat": 4,
 "nbformat_minor": 2
}
