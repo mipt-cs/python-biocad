{
 "cells": [
  {
   "cell_type": "markdown",
   "metadata": {},
   "source": [
    "# Упражнение 1. Из десятичной в симметричную троичную\n",
    "\n",
    "Переведите число из десятичной системы счисления в [симметричную троичную](https://ru.wikipedia.org/wiki/%D0%A2%D1%80%D0%BE%D0%B8%D1%87%D0%BD%D0%B0%D1%8F_%D1%81%D0%B8%D1%81%D1%82%D0%B5%D0%BC%D0%B0_%D1%81%D1%87%D0%B8%D1%81%D0%BB%D0%B5%D0%BD%D0%B8%D1%8F#%D0%A1%D0%B8%D0%BC%D0%BC%D0%B5%D1%82%D1%80%D0%B8%D1%87%D0%BD%D0%B0%D1%8F_%D1%82%D1%80%D0%BE%D0%B8%D1%87%D0%BD%D0%B0%D1%8F_%D1%81%D0%B8%D1%81%D1%82%D0%B5%D0%BC%D0%B0_%D1%81%D1%87%D0%B8%D1%81%D0%BB%D0%B5%D0%BD%D0%B8%D1%8F). В качестве цифр предлагается использовать:\n",
    "\n",
    "1. `-` - как -1\n",
    "\n",
    "2. `0` - как 0\n",
    "\n",
    "3. `+` - как +1\n",
    "\n",
    "Оформите перевод в виде функции.\n",
    "\n",
    "| <font size=3>входные данные</font> | <font size=3>выходные данные</font> |\n",
    "| :---: | :---: |\n",
    "| <font size=3>5</font> | <font size=3>+--</font> |\n",
    "| <font size=3>-5</font> | <font size=3>-++</font> |\n",
    "| <font size=3>0</font> | <font size=3>0</font> |\n",
    "| <font size=3>20</font> | <font size=3>+-+-</font> |\n",
    "| <font size=3>255</font> | <font size=3>+00++0</font> |\n",
    "| <font size=3>200</font> | <font size=3>+-+++-</font> |"
   ]
  }
 ],
 "metadata": {
  "kernelspec": {
   "display_name": "Python 3",
   "language": "python",
   "name": "python3"
  },
  "language_info": {
   "codemirror_mode": {
    "name": "ipython",
    "version": 3
   },
   "file_extension": ".py",
   "mimetype": "text/x-python",
   "name": "python",
   "nbconvert_exporter": "python",
   "pygments_lexer": "ipython3",
   "version": "3.6.0"
  }
 },
 "nbformat": 4,
 "nbformat_minor": 2
}
