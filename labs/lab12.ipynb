{
 "cells": [
  {
   "cell_type": "markdown",
   "metadata": {},
   "source": [
    "# <font color=blue>Распаковка словаря при вызове функции</font>\n",
    "\n",
    "## <font color=green> Распаковка словаря при вызове функции </font>\n",
    "\n",
    "Пусть требуется передать функции 2 именованных аргумента `a` и `b` из словаря `d`, у которого есть только два ключа: `'a'` и `'b'`."
   ]
  },
  {
   "cell_type": "code",
   "execution_count": null,
   "metadata": {
    "collapsed": true
   },
   "outputs": [],
   "source": [
    "def f(a=1, b=2):\n",
    "    print('a + b =', a + b)\n",
    "    \n",
    "d = {'a': 3, 'b': 4}"
   ]
  },
  {
   "cell_type": "markdown",
   "metadata": {},
   "source": [
    "Это можно сделать, обращаясь к элементам словаря по ключам и передавая аргументы функции по одному."
   ]
  },
  {
   "cell_type": "code",
   "execution_count": null,
   "metadata": {
    "collapsed": true
   },
   "outputs": [],
   "source": [
    "f(a=d['a'], b=d['b'])"
   ]
  },
  {
   "cell_type": "markdown",
   "metadata": {},
   "source": [
    "Однако такой подход выглядит громоздким. В python предусмотрен инструмент для автоматического решения данной задачи. Если при вызове функции поставить `**` перед передаваемым в качестве аргумента словарем, то словарь будет автоматически распределен по соответствующим именованным параметрам."
   ]
  },
  {
   "cell_type": "code",
   "execution_count": null,
   "metadata": {
    "collapsed": true
   },
   "outputs": [],
   "source": [
    "f(**d)"
   ]
  },
  {
   "cell_type": "markdown",
   "metadata": {},
   "source": [
    "### <font color=red> Правила распаковки словарей при вызове функции</font>\n",
    "1. Распаковка словаря должна быть записана **после** позиционных аргументов. \n",
    "\n",
    "- Передачу именованных параметров и распаковку словаря можно производить в любом порядке.\n",
    "\n",
    "- При одном вызове функции можно распаковать несколько словарей.\n",
    "\n",
    "- Также возможна распаковка объектов типов, которые наследуются от словарей. Например `collections.OrderedDict`.\n",
    "\n",
    "- **Распаковка может быть осуществлена только при вызове функции, т. е. внутри круглых скобок.**\n",
    "\n",
    "### Пример 1. Распаковка словарей при вызове функции"
   ]
  },
  {
   "cell_type": "code",
   "execution_count": null,
   "metadata": {
    "collapsed": true
   },
   "outputs": [],
   "source": [
    "def f(a, b=2, **kwargs):\n",
    "    print('a:', a)\n",
    "    print('b:', b)\n",
    "    print('kwargs:', kwargs)\n",
    "\n",
    "\n",
    "func_def_str = \"\"\"def f(a, b=2, **kwargs):\n",
    "    print('a:', a)\n",
    "    print('b:', b)\n",
    "    print('kwargs:', kwargs)\"\"\"\n",
    "print(\"Вызовы функции f(), определенной следующим образом:\", func_def_str, sep='\\n')\n",
    "d1 = dict(\n",
    "    b=3,\n",
    "    c=4,\n",
    "    d=5\n",
    ")\n",
    "\n",
    "print(\"\\nРаспаковка словаря d1 = {}, содержащего кроме аргумента со значением \"\n",
    "      \"по умолчанию другие ключи, попадающие в kwargs\\nВызов: f(0, **d1)\".format(d1))\n",
    "f(0, **d1)\n",
    "\n",
    "d1 = dict(\n",
    "    c=4,\n",
    "    d=5\n",
    ")\n",
    "print(\"\\nРаспаковка словаря d1 = {}, не содержащего аргумент функции f()\"\n",
    "      \" со значением по умолчанию\\nВызов: f(0, b='b', **d1)\".format(d1))\n",
    "f(0, b='b', **d1)\n",
    "print(\"\\nПерестановка передачи именнованого аргумента\"\n",
    "      \" и распаковки словаря d1 = {}\\nВызов: f(0, **d1, b='b')\".format(d1))\n",
    "f(0, **d1, b='b')\n",
    "\n",
    "d1 = dict(\n",
    "    a=3,\n",
    "    b=4,\n",
    "    c=5,\n",
    "    d=6,\n",
    ")\n",
    "print(\"\\nРаспаковка словаря d1 = {}, не содержащего аргументы \"\n",
    "      \"со значениями по умолчанию и без\\nВызов: f(**d1)\".format(d1))\n",
    "f(**d1)\n",
    "\n",
    "d1 = dict(\n",
    "    b=3,\n",
    "    c=4,\n",
    "    d=5\n",
    ")\n",
    "d2 = dict(\n",
    "    e=6,\n",
    "    f=7,\n",
    ")\n",
    "print(\"\\nРаспаковка 2-х словарей d1 = {} и d2 = {}\\nВызов: f(0, **d1, **d2)\".format(d1, d2))\n",
    "f(0, **d1, **d2)"
   ]
  },
  {
   "cell_type": "markdown",
   "metadata": {},
   "source": [
    "### Пример 2. Неправильное использование распаковки словаря. Дублирование именованного аргумента"
   ]
  },
  {
   "cell_type": "code",
   "execution_count": null,
   "metadata": {
    "collapsed": true
   },
   "outputs": [],
   "source": [
    "def f(a, b=2, **kwargs):\n",
    "    print('a:', a)\n",
    "    print('b:', b)\n",
    "    print('kwargs:', kwargs)\n",
    "    \n",
    "d1 = dict(\n",
    "    b=3,\n",
    "    c=4,\n",
    "    d=5\n",
    ")\n",
    "print(\"Распаковка словаря, содержащего ключ, который совпадает с именем аргумента, переданного обычным способом\")\n",
    "f(0, **d1, b=4)"
   ]
  },
  {
   "cell_type": "markdown",
   "metadata": {},
   "source": [
    "### Пример 3. Неправильное использование распаковки словаря. Передача лишнего аргумента при отсутствии `**kwargs`"
   ]
  },
  {
   "cell_type": "code",
   "execution_count": null,
   "metadata": {
    "collapsed": true
   },
   "outputs": [],
   "source": [
    "def f(a, b=2):\n",
    "    print('a:', a)\n",
    "    print('b:', b)\n",
    "    \n",
    "d1 = dict(\n",
    "    b=3,\n",
    "    c=4,\n",
    ")\n",
    "print(\"Распаковка словаря, содержащего ключ, не соответствующий ни одному из именованных аргументов\")\n",
    "f(0, **d1)"
   ]
  },
  {
   "cell_type": "markdown",
   "metadata": {},
   "source": [
    "### Пример 4. Неправильное использование распаковки словаря. Распаковка словаря перед позиционным параметром"
   ]
  },
  {
   "cell_type": "code",
   "execution_count": null,
   "metadata": {
    "collapsed": true
   },
   "outputs": [],
   "source": [
    "def f(a, b=2, **kwargs):\n",
    "    print('a:', a)\n",
    "    print('b:', b)\n",
    "    print('kwargs:', kwargs)\n",
    "    \n",
    "d1 = dict(\n",
    "    b=3,\n",
    "    c=4,\n",
    "    d=5\n",
    ")\n",
    "print(\"Распаковка словаря перед указанием позиционного аргумента\")\n",
    "f(**d1, 0)"
   ]
  },
  {
   "cell_type": "markdown",
   "metadata": {},
   "source": [
    "### Упражнение 1. Форматирование строк методом `str.format()` с указанием имен параметров.\n",
    "Метод `str.format()` принимает на вход произвольное число именованных параметров, которые затем можно вставить в строку по их имени (пример в следующей клетке). Напишите программу, вставляющую в строку значения, содержащиеся в персональной карточке `card`. Словарь `card` имеет три ключа: `\"first_name\"`, `\"last_name\"`, `\"age\"`.  Запишите результат в файл.\n",
    "\n",
    "В файле <font color=green>lab12_ex1.txt</font> должна получиться запись вида `<first_name> <last_name>, <age>`.\n",
    "\n",
    "В решении используйте распаковку словаря при вызове функции."
   ]
  },
  {
   "cell_type": "code",
   "execution_count": null,
   "metadata": {
    "collapsed": true
   },
   "outputs": [],
   "source": [
    "import math\n",
    "fs = \"{name} = {value}\"\n",
    "s = fs.format(name='pi', value=math.pi)\n",
    "print(s)"
   ]
  },
  {
   "cell_type": "code",
   "execution_count": null,
   "metadata": {
    "collapsed": true
   },
   "outputs": [],
   "source": [
    "card = dict(\n",
    "    first_name='John',\n",
    "    last_name='Smith',\n",
    "    age=37,\n",
    ")\n",
    "file_name = 'lab12_ex1.txt'"
   ]
  },
  {
   "cell_type": "markdown",
   "metadata": {},
   "source": [
    "### <font color=red> НЕ РЕКОМЕНДУЕТСЯ ИСПОЛЬЗОВАТЬ ОБЪЕКТЫ ИЗМЕНЯЕМЫХ ТИПОВ В КАЧЕСТВЕ ЗНАЧЕНИЙ ПО УМОЛЧАНИЙ ДЛЯ ИМЕНОВАННЫХ АРГУМЕНТОВ</font>\n",
    "\n",
    "Значения по умолчанию аргументов функции являются свойствами функции, как объекта, и могут быть случайно изменены. Это часто приводит к ошибкам, которые тяжело отлаживать.\n",
    "\n",
    "### Пример 5. Список в качестве значения по умолчанию именованного аргумента"
   ]
  },
  {
   "cell_type": "code",
   "execution_count": null,
   "metadata": {
    "collapsed": true
   },
   "outputs": [],
   "source": [
    "def f(l=[]):\n",
    "    print(l)\n",
    "    l.append(len(l))\n",
    "\n",
    "for _ in range(5):\n",
    "    f()"
   ]
  },
  {
   "cell_type": "markdown",
   "metadata": {},
   "source": [
    "## <font color=green> JSON </font>\n",
    "\n",
    "[JSON](https://www.json.org/) (JavaScript Object Notation) - формат сохранения структур данных в понятном для человека виде. Он похож на создание в коде python объектов `dict`, `str`, `list`, `int`, `float`.\n",
    "\n",
    "JSON удобен при хранении параметров для вызова функции и параметров экспериментов.\n",
    "\n",
    "Есть несколько отличий JSON от способов задания значений объектов в Python.\n",
    "\n",
    "1. Строки обозначаются двойными кавычками, одинарные не допускаются.\n",
    "\n",
    "2. Вместо встроенных переменных `None`, `False`, `True` используются соответсвенно `null`, `false`, `true`.\n",
    "\n",
    "3. Ключами словаря могут быть **только строки**.\n",
    "\n",
    "Для работы с JSON используется модуль json.\n",
    "\n",
    "### Пример 6. Сохранение объекта Python в json\n",
    "\n",
    "Сохранение объекта в JSON осуществляется с помощью функции [`json.dump()`](https://docs.python.org/3/library/json.html#json.dump). Аргумент `indent` определяет то, как будет оформлен файл. Если `indent=None` (по умолчанию), объект записывается в JSON-файл в одну строку, что не очень удобно. Если `indent` - целое неотрицательное число, то каждое поле записывается в отдельной строке, а структура объекта будет выделена отступами из `indent` пробелов. "
   ]
  },
  {
   "cell_type": "code",
   "execution_count": null,
   "metadata": {
    "collapsed": true
   },
   "outputs": [],
   "source": [
    "import json\n",
    "dictionary = dict(\n",
    "    a=[1, 2, 3],\n",
    "    b='abc',\n",
    "    c={\"def\": 5}\n",
    ")\n",
    "# печатаем все в одну строку\n",
    "with open('lab12_example6_not_pretty.json', 'w') as f:\n",
    "    json.dump(dictionary, f)\n",
    "# выделяем структуру объекта с помощью отступов\n",
    "with open('lab12_example6_dict.json', 'w') as f:\n",
    "    json.dump(dictionary, f, indent=2)\n",
    "    \n",
    "list_ = [1, {'a': 1}, [2, 3]]\n",
    "with open('lab12_example6_list.json', 'w') as f:\n",
    "    json.dump(list_, f, indent=2)"
   ]
  },
  {
   "cell_type": "markdown",
   "metadata": {},
   "source": [
    "### Пример 7. Загрузка json\n",
    "\n",
    "Загрузка содержимого json в программу осуществляется с помощью метода [`json.load()`](https://docs.python.org/3/library/json.html#json.load)."
   ]
  },
  {
   "cell_type": "code",
   "execution_count": null,
   "metadata": {
    "collapsed": true
   },
   "outputs": [],
   "source": [
    "import json\n",
    "with open('lab12_example6_dict.json') as f:\n",
    "    dictionary = json.load(f)\n",
    "print(dictionary)"
   ]
  },
  {
   "cell_type": "markdown",
   "metadata": {},
   "source": [
    "### Упражнение 2. Хранение инструкций для построения графика в json\n",
    "\n",
    "В файле `python-biocad/files/lab12/ex2_conf.json` находятся параметры гистограммы, которую требуется построить. Напишите функцию `hist()` для рисования гистограмм, которая будет принимать на вход данные и путь к файлу с параметрами для рисования. \n",
    "\n",
    "В конце следующей клетки приведены инструкция `def` для создания функции `hist()` и ее вызов. Аргумент `data` - словарь, ключи которого должны стать подписями наборов данных, а значения - сами данные, на основании которых строится гистограмма. Аргумент `config_file_name` - путь к файлу с параметрами для рисования гистограммы.\n",
    "\n",
    "Функция `hist()` должна полностью нарисовать гистограмму, сохранить ее в файл и показать в jupyter.\n",
    "\n",
    "В следующей клетке показан пример кода для создания, сохранения и демонстрации гистограммы.\n",
    "\n",
    "В JSON-конфиге ключ `hist` содержит параметры, которые требуется передать методу [`matplotlib.pyplot.hist()`](https://matplotlib.org/api/_as_gen/matplotlib.pyplot.hist.html). **При передаче параметров используйте распаковку словаря.** Остальные ключи в JSON используются для задания подписей у осей, названия гистограммы и сетки."
   ]
  },
  {
   "cell_type": "code",
   "execution_count": null,
   "metadata": {
    "collapsed": true
   },
   "outputs": [],
   "source": [
    "import random\n",
    "import matplotlib.pyplot as plt\n",
    "%matplotlib inline\n",
    "\n",
    "x_mean, x_stddev = -2, 1\n",
    "y_mean, y_stddev = 1, 2\n",
    "N = 50000\n",
    "x = [random.gauss(x_mean, x_stddev) for _ in range(N)]\n",
    "y = [random.gauss(y_mean, y_stddev) for _ in range(N)]\n",
    "\n",
    "config = '../files/lab12/ex2_conf.json'\n",
    "\n",
    "plt.hist([x, y], label=['X', 'Y'])\n",
    "plt.legend()  # Добавить легенду (поле с подписями данных)\n",
    "plt.xlabel('value')  # Подпись оси X\n",
    "plt.ylabel('num hits')  # Подпись оси Y\n",
    "plt.title('Gauss distribution')  # Название гистограммы\n",
    "plt.grid(True)  # Добавить сетку\n",
    "# Сохранить гистограмму в формате .png с разрешением 900 пикселей на дюйм. \n",
    "# По умолчанию размер рисунка 4 х 3 дюйма\n",
    "plt.savefig('lab10_ex2_vanilla.png', dpi=900)  \n",
    "plt.show()  # Важно сначала сохранить гистограмму, а затем уже показывать, иначе будет сохранен пустой рисунок\n",
    "\n",
    "def hist(config_file_name=None, **data):\n",
    "    pass\n",
    "\n",
    "hist(X=x, Y=y, config_file_name=config)"
   ]
  }
 ],
 "metadata": {
  "kernelspec": {
   "display_name": "Python 3",
   "language": "python",
   "name": "python3"
  },
  "language_info": {
   "codemirror_mode": {
    "name": "ipython",
    "version": 3
   },
   "file_extension": ".py",
   "mimetype": "text/x-python",
   "name": "python",
   "nbconvert_exporter": "python",
   "pygments_lexer": "ipython3",
   "version": "3.5.2"
  }
 },
 "nbformat": 4,
 "nbformat_minor": 2
}
