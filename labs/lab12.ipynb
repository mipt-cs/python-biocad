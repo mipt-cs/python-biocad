{
 "cells": [
  {
   "cell_type": "markdown",
   "metadata": {},
   "source": [
    "# <font color=blue>Распаковка словаря при вызове функции</font>\n",
    "\n",
    "## <font color=green> Распаковка словаря при вызове функции </font>\n",
    "\n",
    "Пусть требуется передать функции 2 именованных аргумента `a` и `b` из словаря `d`, у которого есть только два ключа: `'a'` и `'b'`."
   ]
  },
  {
   "cell_type": "code",
   "execution_count": null,
   "metadata": {
    "collapsed": true
   },
   "outputs": [],
   "source": [
    "def f(a=1, b=2):\n",
    "    print('a + b =', a + b)\n",
    "    \n",
    "d = {'a': 3, 'b': 4}"
   ]
  },
  {
   "cell_type": "markdown",
   "metadata": {},
   "source": [
    "Это можно сделать, обращаясь к элементам словаря по ключам и передавая аргументы функции по одному."
   ]
  },
  {
   "cell_type": "code",
   "execution_count": null,
   "metadata": {},
   "outputs": [],
   "source": [
    "f(a=d['a'], b=d['b'])"
   ]
  },
  {
   "cell_type": "markdown",
   "metadata": {},
   "source": [
    "Однако такой подход выглядит громоздким. В python предусмотрен инструмент для автоматического решения данной задачи. Если при вызове функции поставить `**` перед передаваемым в качестве аргумента словарем, то словарь будет автоматически распределен по соответствующим именованным параметрам."
   ]
  },
  {
   "cell_type": "code",
   "execution_count": null,
   "metadata": {},
   "outputs": [],
   "source": [
    "f(**d)"
   ]
  },
  {
   "cell_type": "markdown",
   "metadata": {},
   "source": [
    "### <font color=red> Правила распаковки словарей при вызове функции</font>\n",
    "1. Распаковка словаря должна быть записана **после** позиционных аргументов. \n",
    "\n",
    "- Передачу именованных параметров и распаковку словаря можно производить в любом порядке.\n",
    "\n",
    "- При одном вызове функции можно распаковать несколько словарей.\n",
    "\n",
    "- Также возможна распаковка объектов типов, которые наследуются от словарей. Например `collections.OrderedDict`.\n",
    "\n",
    "- **Распаковка может быть осуществлена только при вызове функции, т. е. внутри круглых скобок.**\n",
    "\n",
    "### Пример 1. Распаковка словарей при вызове функции"
   ]
  },
  {
   "cell_type": "code",
   "execution_count": null,
   "metadata": {},
   "outputs": [],
   "source": [
    "def f(a, b=2, **kwargs):\n",
    "    print('a:', a)\n",
    "    print('b:', b)\n",
    "    print('kwargs:', kwargs)\n",
    "\n",
    "\n",
    "func_def_str = \"\"\"def f(a, b=2, **kwargs):\n",
    "    print('a:', a)\n",
    "    print('b:', b)\n",
    "    print('kwargs:', kwargs)\"\"\"\n",
    "print(\"Вызовы функции f(), определенной следующим образом:\", func_def_str, sep='\\n')\n",
    "d1 = dict(\n",
    "    b=3,\n",
    "    c=4,\n",
    "    d=5\n",
    ")\n",
    "\n",
    "print(\"\\nРаспаковка словаря d1 = {}, содержащего кроме аргумента со значением \"\n",
    "      \"по умолчанию другие ключи, попадающие в kwargs\\nВызов: f(0, **d1)\".format(d1))\n",
    "f(0, **d1)\n",
    "\n",
    "d1 = dict(\n",
    "    c=4,\n",
    "    d=5\n",
    ")\n",
    "print(\"\\nРаспаковка словаря d1 = {}, не содержащего аргумент функции f()\"\n",
    "      \" со значением по умолчанию\\nВызов: f(0, b='b', **d1)\".format(d1))\n",
    "f(0, b='b', **d1)\n",
    "print(\"\\nПерестановка передачи именнованого аргумента\"\n",
    "      \" и распаковки словаря d1 = {}\\nВызов: f(0, **d1, b='b')\".format(d1))\n",
    "f(0, **d1, b='b')\n",
    "\n",
    "d1 = dict(\n",
    "    a=3,\n",
    "    b=4,\n",
    "    c=5,\n",
    "    d=6,\n",
    ")\n",
    "print(\"\\nРаспаковка словаря d1 = {}, не содержащего аргументы \"\n",
    "      \"со значениями по умолчанию и без\\nВызов: f(**d1)\".format(d1))\n",
    "f(**d1)\n",
    "\n",
    "d1 = dict(\n",
    "    b=3,\n",
    "    c=4,\n",
    "    d=5\n",
    ")\n",
    "d2 = dict(\n",
    "    e=6,\n",
    "    f=7,\n",
    ")\n",
    "print(\"\\nРаспаковка 2-х словарей d1 = {} и d2 = {}\\nВызов: f(0, **d1, **d2)\".format(d1, d2))\n",
    "f(0, **d1, **d2)"
   ]
  },
  {
   "cell_type": "markdown",
   "metadata": {},
   "source": [
    "### Пример 2. Неправильное использование распаковки словаря. Дублирование именованного аргумента"
   ]
  },
  {
   "cell_type": "code",
   "execution_count": null,
   "metadata": {},
   "outputs": [],
   "source": [
    "def f(a, b=2, **kwargs):\n",
    "    print('a:', a)\n",
    "    print('b:', b)\n",
    "    print('kwargs:', kwargs)\n",
    "    \n",
    "d1 = dict(\n",
    "    b=3,\n",
    "    c=4,\n",
    "    d=5\n",
    ")\n",
    "print(\"Распаковка словаря, содержащего ключ, который совпадает с именем аргумента, переданного обычным способом\")\n",
    "f(0, **d1, b=4)"
   ]
  },
  {
   "cell_type": "markdown",
   "metadata": {},
   "source": [
    "### Пример 3. Неправильное использование распаковки словаря. Передача лишнего аргумента при отсутствии `**kwargs`"
   ]
  },
  {
   "cell_type": "code",
   "execution_count": null,
   "metadata": {},
   "outputs": [],
   "source": [
    "def f(a, b=2):\n",
    "    print('a:', a)\n",
    "    print('b:', b)\n",
    "    \n",
    "d1 = dict(\n",
    "    b=3,\n",
    "    c=4,\n",
    ")\n",
    "print(\"Распаковка словаря, содержащего ключ, не соответствующий ни одному из именованных аргументов\")\n",
    "f(0, **d1)"
   ]
  },
  {
   "cell_type": "markdown",
   "metadata": {},
   "source": [
    "### Пример 4. Неправильное использование распаковки словаря. Распаковка словаря перед позиционным параметром"
   ]
  },
  {
   "cell_type": "code",
   "execution_count": null,
   "metadata": {},
   "outputs": [],
   "source": [
    "def f(a, b=2, **kwargs):\n",
    "    print('a:', a)\n",
    "    print('b:', b)\n",
    "    print('kwargs:', kwargs)\n",
    "    \n",
    "d1 = dict(\n",
    "    b=3,\n",
    "    c=4,\n",
    "    d=5\n",
    ")\n",
    "print(\"Распаковка словаря перед указанием позиционного аргумента\")\n",
    "f(**d1, 0)"
   ]
  },
  {
   "cell_type": "markdown",
   "metadata": {},
   "source": [
    "### Упражнение 1. Форматирование строк методом `str.format()` с указанием имен параметров.\n",
    "Метод `str.format()` принимает на вход произвольное число именованных параметров, которые затем можно вставить в строку по их имени (пример в следующей клетке). Напишите программу, вставляющую в строку значения, содержащиеся в персональной карточке `card`. Словарь `card` имеет три ключа: `\"first_name\"`, `\"last_name\"`, `\"age\"`.  Запишите результат в файл.\n",
    "\n",
    "В файле <font color=green>lab12_ex1.txt</font> должна получиться запись вида `<first_name> <last_name>, <age>`.\n",
    "\n",
    "В решении используйте распаковку словаря при вызове функции."
   ]
  },
  {
   "cell_type": "code",
   "execution_count": null,
   "metadata": {
    "collapsed": true
   },
   "outputs": [],
   "source": [
    "import math\n",
    "fs = \"{name} = {value}\"\n",
    "s = fs.format(name='pi', value=math.pi)\n",
    "print(s)"
   ]
  },
  {
   "cell_type": "code",
   "execution_count": null,
   "metadata": {
    "collapsed": true
   },
   "outputs": [],
   "source": [
    "card = dict(\n",
    "    first_name='John',\n",
    "    last_name='Smith',\n",
    "    age=37,\n",
    ")\n",
    "file_name = 'lab12_ex1.txt'"
   ]
  },
  {
   "cell_type": "markdown",
   "metadata": {},
   "source": [
    "### <font color=red> НЕ РЕКОМЕНДУЕТСЯ ИСПОЛЬЗОВАТЬ ОБЪЕКТЫ ИЗМЕНЯЕМЫХ ТИПОВ В КАЧЕСТВЕ ЗНАЧЕНИЙ ПО УМОЛЧАНИЙ ДЛЯ ИМЕНОВАННЫХ АРГУМЕНТОВ</font>\n",
    "\n",
    "Значения по умолчанию аргументов функции являются свойствами функции, как объекта, и могут быть случайно изменены. Это часто приводит к ошибкам, которые тяжело отлаживать.\n",
    "\n",
    "### Пример 5. Список в качестве значения по умолчанию именованного аргумента"
   ]
  },
  {
   "cell_type": "code",
   "execution_count": null,
   "metadata": {},
   "outputs": [],
   "source": [
    "def f(l=[]):\n",
    "    print(l)\n",
    "    l.append(len(l))\n",
    "\n",
    "for _ in range(5):\n",
    "    f()"
   ]
  },
  {
   "cell_type": "markdown",
   "metadata": {},
   "source": [
    "## <font color=green> JSON </font>\n",
    "\n",
    "[JSON](https://www.json.org/) (JavaScript Object Notation) - формат сохранения структур данных в понятном для человека виде. Он похож на создание в коде python объектов `dict`, `str`, `list`, `int`, `float`.\n",
    "\n",
    "JSON удобен при хранении параметров для вызова функции и параметров экспериментов.\n",
    "\n",
    "Есть несколько отличий JSON от способов задания значений объектов в Python.\n",
    "\n",
    "1. Строки обозначаются двойными кавычками, одинарные не допускаются.\n",
    "\n",
    "2. Вместо встроенных переменных `None`, `False`, `True` используются соответсвенно `null`, `false`, `true`.\n",
    "\n",
    "3. Ключами словаря могут быть **только строки**.\n",
    "\n",
    "Для работы с JSON используется модуль json.\n",
    "\n",
    "### Пример 6. Сохранение объекта Python в json\n",
    "\n",
    "Сохранение объекта в JSON осуществляется с помощью функции [`json.dump()`](https://docs.python.org/3/library/json.html#json.dump). Аргумент `indent` определяет то, как будет оформлен файл. Если `indent=None` (по умолчанию), объект записывается в JSON-файл в одну строку, что не очень удобно. Если `indent` - целое неотрицательное число, то каждое поле записывается в отдельной строке, а структура объекта будет выделена отступами из `indent` пробелов. "
   ]
  },
  {
   "cell_type": "code",
   "execution_count": 23,
   "metadata": {
    "collapsed": true
   },
   "outputs": [],
   "source": [
    "import json\n",
    "dictionary = dict(\n",
    "    a=[1, 2, 3],\n",
    "    b='abc',\n",
    "    c={\"def\": 5}\n",
    ")\n",
    "# печатаем все в одну строку\n",
    "with open('lab12_example6_not_pretty.json', 'w') as f:\n",
    "    json.dump(dictionary, f, indent=2)\n",
    "# выделяем структуру объекта с помощью отступов\n",
    "with open('lab12_example6_dict.json', 'w') as f:\n",
    "    json.dump(dictionary, f, indent=2)\n",
    "    \n",
    "list_ = [1, {'a': 1}, [2, 3]]\n",
    "with open('lab12_example6_list.json', 'w') as f:\n",
    "    json.dump(list_, f, indent=2)"
   ]
  },
  {
   "cell_type": "markdown",
   "metadata": {},
   "source": [
    "### Пример 7. Загрузка json\n",
    "\n",
    "Загрузка содержимого json в программу осуществляется с помощью метода [`json.load()`](https://docs.python.org/3/library/json.html#json.load)."
   ]
  },
  {
   "cell_type": "code",
   "execution_count": null,
   "metadata": {},
   "outputs": [],
   "source": [
    "import json\n",
    "with open('lab12_example6_dict.json') as f:\n",
    "    dictionary = json.load(f)\n",
    "print(dictionary)"
   ]
  },
  {
   "cell_type": "markdown",
   "metadata": {},
   "source": [
    "### Упражнение 2. Хранение инструкций для построения графика в json\n",
    "\n",
    "В файле `python-biocad/files/lab12/ex2_conf.json` находятся параметры гистограммы, которую требуется построить. Напишите функцию `hist()` для рисования гистограмм, которая будет принимать на вход данные и путь к файлу с параметрами для рисования. \n",
    "\n",
    "В конце следующей клетки приведены инструкция `def` для создания функции `hist()` и ее вызов. Аргумент `data` - словарь, ключи которого должны стать подписями наборов данных, а значения - сами данные, на основании которых строится гистограмма. Аргумент `config_file_name` - путь к файлу с параметрами для рисования гистограммы.\n",
    "\n",
    "Функция `hist()` должна полностью нарисовать гистограмму, сохранить ее в файл и показать в jupyter.\n",
    "\n",
    "В следующей клетке показан пример кода для создания, сохранения и демонстрации гистограммы.\n",
    "\n",
    "В JSON-конфиге ключ `hist` содержит параметры, которые требуется передать методу [`matplotlib.pyplot.hist()`](https://matplotlib.org/api/_as_gen/matplotlib.pyplot.hist.html). **При передаче параметров используйте распаковку словаря.** Остальные ключи в JSON используются для задания подписей у осей, названия гистограммы и сетки."
   ]
  },
  {
   "cell_type": "code",
   "execution_count": null,
   "metadata": {
    "collapsed": true
   },
   "outputs": [],
   "source": [
    "import random\n",
    "import matplotlib.pyplot as plt\n",
    "%matplotlib inline\n",
    "\n",
    "x_mean, x_stddev = -2, 1\n",
    "y_mean, y_stddev = 1, 2\n",
    "N = 50000\n",
    "x = [random.gauss(x_mean, x_stddev) for _ in range(N)]\n",
    "y = [random.gauss(y_mean, y_stddev) for _ in range(N)]\n",
    "\n",
    "config = '../files/lab12/ex2_conf.json'\n",
    "\n",
    "plt.hist([x, y], label=['X', 'Y'])\n",
    "plt.legend()  # Добавить легенду (поле с подписями данных)\n",
    "plt.xlabel('value')  # Подпись оси X\n",
    "plt.ylabel('num hits')  # Подпись оси Y\n",
    "plt.title('Gauss distribution')  # Название гистограммы\n",
    "plt.grid(True)  # Добавить сетку\n",
    "# Сохранить гистограмму в формате .png с разрешением 900 пикселей на дюйм. \n",
    "# По умолчанию размер рисунка 4 х 3 дюйма\n",
    "plt.savefig('lab10_ex2_vanilla.png', dpi=900)  \n",
    "plt.show()  # Важно сначала сохранить гистограмму, а затем уже показывать, иначе будет сохранен пустой рисунок\n",
    "\n",
    "def hist(config_file_name=None, **data):\n",
    "    pass\n",
    "\n",
    "hist(X=x, Y=y, config_file_name=config)"
   ]
  },
  {
   "cell_type": "markdown",
   "metadata": {},
   "source": [
    "# <font color=blue>Взаимодействие с файловой системой с помощью модулей `os` и `shutil`</font>\n",
    "\n",
    "Встроенный модуль [`os`](https://docs.python.org/3/library/os.html) предоставляет многочисленные возможности для взаимодейстсвия с операционной системой. В том числе, `os` позволяет:\n",
    "\n",
    "1) получить путь к текущей директории;\n",
    "\n",
    "2) сменить текущую директорию;\n",
    "\n",
    "3) создавать папки;\n",
    "\n",
    "4) получать список содержимого директории;\n",
    "\n",
    "5) определять, куда ведет путь: к папке или файлу;\n",
    "\n",
    "6) удалять файлы.\n",
    "\n",
    "Кроме того, в модуле `os.path` есть  несколько полезных функций для работы с путями в операционной системе.\n",
    "\n",
    "#### Структура пути в файловой системе\n",
    "\n",
    "В файловых системах UNIX (Linux, OS X) есть только один корень (`root`), который доступен по пути `\"/\"`. Каталоги в пути разделяются прямыми слешами `\"/\"`, например `\"/usr/bin/python3\"`.\n",
    "\n",
    "Файловая система Windows может быть разделена на несколько томов (дисков), например `\"C:\\\"` и `\"D:\\\"`.  Каталоги в пути разделяются обратными слешами `\"\\\"`, например `\"С:\\Windows\\System32\"`.\n",
    "\n",
    "И в UNIX, и в Windows `'.'` означает текущий каталог, а `'..'` - родительский каталог.\n",
    "\n",
    "Бывают **абсолютные** и **относительные** пути. Абсолютный путь начинается с корня. Относительный путь показывает, как попасть в нужное место из текущей директории. Например, если наша текущая директория - <font color=green>/usr</font>, то путь к интерпретатору `Python 3` можно указать двумя способами:\n",
    "\n",
    "1) абсолютный путь\n",
    "```\n",
    "/usr/bin/python3\n",
    "```\n",
    "\n",
    "2) относительный путь\n",
    "```\n",
    "bin/python3\n",
    "```\n",
    "\n",
    "## <font color=green>Смена текущей директории</font>\n",
    "\n",
    "Чтобы получить путь к текущей директории используется функция [`os.getcwd()`](https://www.tutorialspoint.com/python/os_getcwd.htm) (get current working directory).\n",
    "\n",
    "### Пример 8. getcwd()"
   ]
  },
  {
   "cell_type": "code",
   "execution_count": null,
   "metadata": {
    "collapsed": true
   },
   "outputs": [],
   "source": [
    "import os\n",
    "print(os.getcwd())"
   ]
  },
  {
   "cell_type": "markdown",
   "metadata": {},
   "source": [
    "Для смены текущей директории используется функция [`os.chdir()`](https://docs.python.org/3/library/os.html#os.chdir). Функция `os.chdir()` может принимать как абсолютные (относительно корня), так и относительные пути (относительно текущей директории)\n",
    "\n",
    "### Пример 9. Переход в корневой каталог\n",
    "\n",
    ">POSIX (Portable Operating System Interface) - набор стандарто, обеспечивающих переносимость программ между операционными системами UNIX."
   ]
  },
  {
   "cell_type": "code",
   "execution_count": null,
   "metadata": {},
   "outputs": [],
   "source": [
    "import os\n",
    "root = '/' if os.name == 'posix' else 'C:\\\\'\n",
    "olddir = os.getcwd()\n",
    "print(olddir)\n",
    "os.chdir(root)\n",
    "print(os.getcwd())\n",
    "os.chdir(olddir)\n",
    "print(os.getcwd())"
   ]
  },
  {
   "cell_type": "markdown",
   "metadata": {},
   "source": [
    "### Пример 10. Особенности Windows\n",
    "\n",
    "При запуске Python из командной строки Python будет помнить отдельные текущие директории для каждого тома. Чтобы переключиться на текущую директорию другого тома, передайте `os.chdir()` название тома без слеша. Если путь указан со слешем до будет осуществлен переход строго по указанному пути."
   ]
  },
  {
   "cell_type": "code",
   "execution_count": null,
   "metadata": {},
   "outputs": [],
   "source": [
    "import os\n",
    "olddir = os.getcwd()\n",
    "print(olddir)\n",
    "os.chdir('D:')\n",
    "print(os.getcwd())\n",
    "os.chdir('C:')\n",
    "print(os.getcwd())\n",
    "os.chdir('D:')\n",
    "os.chdir('C:\\\\')\n",
    "print(os.getcwd())\n",
    "os.chdir(olddir)"
   ]
  },
  {
   "cell_type": "markdown",
   "metadata": {},
   "source": [
    "В Python поддерживаются пути с прямыми и обратными слешами."
   ]
  },
  {
   "cell_type": "code",
   "execution_count": null,
   "metadata": {
    "collapsed": true
   },
   "outputs": [],
   "source": [
    "import os\n",
    "olddir = os.getcwd()\n",
    "os.chdir('C:/')\n",
    "os.chdir(olddir)"
   ]
  },
  {
   "cell_type": "markdown",
   "metadata": {},
   "source": [
    "### Пример 11. Сырые строки\n",
    "\n",
    "Если перед строковым литералом поставить `r`, то при инициализации строки с помощью этого литерала специальные символы не будут обрабатываться. Другими словами, строка будет сохранена именно так, как она выглядит. Сырые строки могут быть удобны при работе с файловой системой Windows."
   ]
  },
  {
   "cell_type": "code",
   "execution_count": null,
   "metadata": {},
   "outputs": [],
   "source": [
    "s1 = r'ab\\tc\\n\\\\'\n",
    "print(s1)\n",
    "s2 = 'ab\\tc\\n\\\\'\n",
    "print(s2)\n",
    "path = r'C:\\Program Files'\n",
    "print(path)"
   ]
  },
  {
   "cell_type": "markdown",
   "metadata": {},
   "source": [
    "### Упражнение 3. Смена текущей директории\n",
    "\n",
    "Перейдите на 1 каталог выше, а затем вернитесь в исходную директорию, используя относительный путь."
   ]
  },
  {
   "cell_type": "code",
   "execution_count": null,
   "metadata": {
    "collapsed": true
   },
   "outputs": [],
   "source": []
  },
  {
   "cell_type": "markdown",
   "metadata": {},
   "source": [
    "## <font color=green>Модуль `os.path` для управления путями</font>\n",
    "\n",
    "Задавать пути в виде строки - не лучшая идея, так как код может стать непереносимым между UNIX и Windows. Чтобы не беспокоиться о разделителе в Ваших путях, можно использовать функцию [`os.path.join()`](https://docs.python.org/3/library/os.path.html#os.path.join). Функция `os.path.join()` объединяет любое положительное число строк в путь, причем разделитель подбирается автоматически. Также автоматически обрабатывается корневой каталог `'/'`  в UNIX.\n",
    "\n",
    "### Пример 12. `os.path.join()`"
   ]
  },
  {
   "cell_type": "code",
   "execution_count": null,
   "metadata": {},
   "outputs": [],
   "source": [
    "import os\n",
    "print(os.path.join('abc', 'cde'))\n",
    "print(os.path.join('abc', ''))\n",
    "print(os.path.join('/', 'home', 'user'))\n",
    "print(os.path.join('C:\\\\', 'Program Files', 'Adobe'))\n",
    "print(os.path.join('C:/', 'Program Files', 'Adobe'))\n",
    "print(os.path.join('C:', 'Program Files', 'Adobe'))"
   ]
  },
  {
   "cell_type": "markdown",
   "metadata": {},
   "source": [
    "Модуль [`os.path`](https://docs.python.org/3/library/os.path.html) включает в себя функции:\n",
    "\n",
    "1) [`os.path.split()`](https://docs.python.org/3/library/os.path.html#os.path.split) - разделяет путь на две часть: `head` и `tail`, `tail` - последний компонент пути, а `head` - остальная часть пути;\n",
    "\n",
    "2) [`os.path.exists()`](https://docs.python.org/3/library/os.path.html#os.path.exists) - возвращает `True`, если указанный путь существует и `False` в противном случае;\n",
    "\n",
    "3) [`os.path.isfile()`](https://docs.python.org/3/library/os.path.html#os.path.isfile) - возвращает `True`, если путь существует **и** является файлом;\n",
    "\n",
    "4) [`os.path.isdir()`](https://docs.python.org/3/library/os.path.html#os.path.isdir) - возвращает `True`, если путь существует **и** является папкой;\n",
    "\n",
    "5) [`os.path.expanduser()`](https://docs.python.org/3/library/os.path.html#os.path.expanduser) - заменяет `'~'` в путях UNIX на `'/home/<current_user>'`. \n",
    "\n",
    "### Пример 13. Использование некоторых функций из `os.path`"
   ]
  },
  {
   "cell_type": "code",
   "execution_count": null,
   "metadata": {},
   "outputs": [],
   "source": [
    "import os\n",
    "\n",
    "cwd = os.getcwd()\n",
    "print(\"os.path.split() demonstration\\ncwd:\", cwd)\n",
    "head, tail = os.path.split(cwd)\n",
    "print(\"head: {}\\ntail: {}\\n\".format(head, tail))\n",
    "\n",
    "print(\"os.path.exists() demonstration\\nПроверка существования текущей директории:\")\n",
    "print(os.path.exists('.'))\n",
    "print(\"Проверка существования nonexistent_directory\")\n",
    "print(os.path.exists('nonexistent_directory'))\n",
    "\n",
    "print(\"\\nos.path.isfile() demonstration\\nПроверка lab12.ipynb:\")\n",
    "print(os.path.isfile('lab12.ipynb'))\n",
    "print(\"Проверка текущей директории:\")\n",
    "print(os.path.isfile('.'))\n",
    "print(\"Проверка nonexistent_file:\")\n",
    "print(os.path.isfile('nonexistent_file'))\n",
    "\n",
    "print(\"\\nos.path.isdir() demostration\\nПроверка текущей директории:\")\n",
    "print(os.path.isdir('.'))\n",
    "print('Проверка nonexistent_directory:')\n",
    "print(os.path.isdir('nonexistent_directory'))\n",
    "print('Проверка lab12.ipynb:')\n",
    "print(os.path.isdir('lab12.ipynb'))\n",
    "\n",
    "print(\"\\nos.path.expanduser() demostration\\nПуть без тильды\")\n",
    "print(os.path.expanduser('abc'))\n",
    "print(\"Путь с тильдой '~/some_dir/some_file':\")\n",
    "print(os.path.expanduser('~/some_dir/some_file'))\n",
    "print(\"Путь с тильдой 'aa~/some_dir/some_file':\")\n",
    "print(os.path.expanduser('aa~/some_dir/some_file'))"
   ]
  },
  {
   "cell_type": "markdown",
   "metadata": {},
   "source": [
    "## <font color=green>Получение списка содержимого директории</font>\n",
    "\n",
    "Функция [`os.listdir()`](https://docs.python.org/3/library/os.html#os.listdir) возвращает список файлов и папок в каталоге. По умолчанию это текущий каталог.\n",
    "\n",
    "### Пример 13. Содержимое папки"
   ]
  },
  {
   "cell_type": "code",
   "execution_count": null,
   "metadata": {},
   "outputs": [],
   "source": [
    "import os\n",
    "print(os.listdir())  # содержимое текущего каталога\n",
    "print(os.listdir('/' if os.name == 'posix' else 'C:/'))  # содержимое корневого каталога "
   ]
  },
  {
   "cell_type": "markdown",
   "metadata": {},
   "source": [
    "### Упражнение 4. Перечисление содержимого папок\n",
    "\n",
    "Распечатайте содержимое всех каталогов в пути к текущей директории, начиная с текущей директории и до корня."
   ]
  },
  {
   "cell_type": "code",
   "execution_count": null,
   "metadata": {
    "collapsed": true
   },
   "outputs": [],
   "source": []
  },
  {
   "cell_type": "markdown",
   "metadata": {},
   "source": [
    "### Упражнение 5. Папка или файл\n",
    "\n",
    "Сделайте то же самое, что и в упражнении 4, но теперь напротив кажого пути укажите, является он папкой или файлом (`F` - файл, `D` - директория). Упорядочьте содержимое папок с помощью `sorted()`.\n",
    "\n",
    "| <font size=3>Пример выходных данных</font>    |\n",
    "| :--- |\n",
    "| <font size=3>&nbsp;&nbsp;&nbsp;&nbsp;/a/b/c<br>c_dir D<br>c_file F<br><br>&nbsp;&nbsp;&nbsp;&nbsp;/a/b<br>b_dir D<br>c D<br><br>&nbsp;&nbsp;&nbsp;&nbsp;/a<br>a_file1 F<br>a_file2 F<br>b D<br><br>&nbsp;&nbsp;&nbsp;&nbsp;/<br>a D<br>bin D<br>usr D</font> |"
   ]
  },
  {
   "cell_type": "code",
   "execution_count": null,
   "metadata": {
    "collapsed": true
   },
   "outputs": [],
   "source": []
  },
  {
   "cell_type": "markdown",
   "metadata": {},
   "source": [
    "## <font color=green>Создание папок</font>\n",
    "\n",
    "Функция [`os.mkdir()`](https://docs.python.org/3/library/os.html#os.mkdir) предназначена для создания одной новой директории. Если путь, переданный функции, уже существует, поднимается исключение `FileExistsError`.\n",
    "\n",
    "### Пример 14. Создание новой папки"
   ]
  },
  {
   "cell_type": "code",
   "execution_count": null,
   "metadata": {},
   "outputs": [],
   "source": [
    "import os\n",
    "path1 = 'lab12_example14_new_dir'\n",
    "path2 = 'lab12_example14_new_dir/new_dir2'\n",
    "\n",
    "print(\"Существование path1:\", os.path.exists(path1))\n",
    "os.mkdir(path2)  # Error, так как lab12_example14_new_dir не существует"
   ]
  },
  {
   "cell_type": "code",
   "execution_count": null,
   "metadata": {},
   "outputs": [],
   "source": [
    "import os\n",
    "path1 = 'lab12_example14_new_dir'\n",
    "path2 = 'lab12_example14_new_dir/new_dir2'\n",
    "\n",
    "print(\"Существование path1:\", os.path.exists(path1))\n",
    "os.mkdir(path1)\n",
    "print(\"Существование path1:\", os.path.exists(path1))\n",
    "print(\"Существование path2:\", os.path.exists(path2))\n",
    "os.mkdir(path2)\n",
    "print(\"Существование path2:\", os.path.exists(path2))"
   ]
  },
  {
   "cell_type": "markdown",
   "metadata": {},
   "source": [
    "Функция [`os.makedirs()`](https://docs.python.org/3/library/os.html#os.makedirs) позволяет за один вызов создать все папки в пути. Если путь уже существует поднимается исключение.\n",
    "\n",
    "### Пример 15. `os.makedirs()`"
   ]
  },
  {
   "cell_type": "code",
   "execution_count": null,
   "metadata": {},
   "outputs": [],
   "source": [
    "import os\n",
    "path1 = 'lab12_example14_new_dir/new_dir3/new_dir4'\n",
    "path2 = 'lab12_example14_new_dir/new_dir2'\n",
    "\n",
    "print(os.makedirs(path1))\n",
    "print(\"Существование path1:\", os.path.exists(path1))\n",
    "print(os.makedirs(path2))  # Error, так как 'lab12_example14_new_dir/new_dir2' уже существует "
   ]
  },
  {
   "cell_type": "markdown",
   "metadata": {},
   "source": [
    "### Упражнение 6. Создание папки\n",
    "\n",
    "Считайте имя папки <font color=green> &lt;dir_name&gt; </font> с клавиатуры и создайте ее. Если папка с именем  <font color=green> &lt;dir_name&gt; </font> уже сущетвует, создайте папку с именем  <font color=green> &lt;dirname&gt;#&lt;number&gt; </font>, где <font color=green> &lt;number&gt; </font> - наименьшее натуральное число, при котором папки с именем <font color=green> &lt;dirname&gt;#&lt;number&gt; </font> нет в текущей директории.\n",
    "\n",
    "#### Пояснение\n",
    "Пусть с клавиатуры было считано имя <font color=green>\"new_directory\"</font> и каталоги с именами <font color=green>\"new_directory\"</font>, <font color=green>\"new_directory#1\"</font> уже присутствуют в текущей директории. В таком случае имя новой папки должно быть <font color=green>\"new_directory#2\"</font>."
   ]
  },
  {
   "cell_type": "code",
   "execution_count": null,
   "metadata": {
    "collapsed": true
   },
   "outputs": [],
   "source": []
  },
  {
   "cell_type": "markdown",
   "metadata": {},
   "source": [
    "## <font color=green>Удаление файлов и папок</font>\n",
    "\n",
    "Для удаления файлов используйте функцию [`os.remove()`](https://docs.python.org/3/library/os.html#os.remove). Эта функция не может удалять директории.\n",
    "\n",
    "### Пример 16.  Удаление файла"
   ]
  },
  {
   "cell_type": "code",
   "execution_count": null,
   "metadata": {},
   "outputs": [],
   "source": [
    "import os\n",
    "file_name = 'tmp.file'\n",
    "with open(file_name, 'w'):\n",
    "    pass\n",
    "print(\"Существование {}: {}\".format(file_name, os.path.isfile(file_name)))\n",
    "os.remove('tmp.file')\n",
    "print(\"Существование {}: {}\".format(file_name, os.path.isfile(file_name)))"
   ]
  },
  {
   "cell_type": "markdown",
   "metadata": {},
   "source": [
    " Для удаления **пустой** директории можно использовать [`os.rmdir()`](https://docs.python.org/3/library/os.html#os.rmdir), а для удаления **цепочки пустых директорий** - [`os.removedirs()`](https://docs.python.org/3/library/os.html#os.removedirs). Однако на практике чаще встречаются задачи, в которых требуется удалить папку со всем ее содержимым, каким бы оно ни было. Этой цели служит функция [`shutil.rmtree()`](https://docs.python.org/3/library/shutil.html#shutil.rmtree) из модуля [`shutil`](https://docs.python.org/3/library/shutil.html). \n",
    " \n",
    ">  Название shutil происходит от **sh**ell **util**ities. shell - оболо́чка операцио́нной систе́мы (от англ. shell «оболочка») — интерпретатор команд операционной системы, обеспечивающий интерфейс для взаимодействия пользователя с функциями системы. В общем случае различают оболочки с двумя типами интерфейса для взаимодействия с пользователем: CLI (Command Line Interface) и GUI (Graphical User Interface).\n",
    "\n",
    "### Пример 17. Удаление директории"
   ]
  },
  {
   "cell_type": "code",
   "execution_count": null,
   "metadata": {},
   "outputs": [],
   "source": [
    "import os\n",
    "import shutil\n",
    "if os.path.exists('newdir'):\n",
    "    shutil.rmtree('newdir')\n",
    "os.makedirs('newdir/newdir1')\n",
    "os.mkdir('newdir/newdir2')\n",
    "f = open('newdir/newfile', 'w');f.close()\n",
    "f = open('newdir/newdir1/newfile1', 'w');f.close()\n",
    "f = open('newdir/newdir1/newfile2', 'w');f.close()\n",
    "f = open('newdir/newdir2/newfile3', 'w');f.close()\n",
    "\n",
    "print(\"Структура содержимого 'newdir':\")\n",
    "# Печатаем структуру ветки 'newdir'\n",
    "# Функция os.walk() перебирает ВСЕ содержимое сначала в глубину. а затем в ширину\n",
    "indent_step = 2\n",
    "for path, dirs, files in os.walk('newdir'):\n",
    "    indent = ' ' * path.count('/') * indent_step\n",
    "    print(indent + path)\n",
    "    for f in files:\n",
    "        print(indent + ' '*indent_step + f)\n",
    "\n",
    "# Удаляем ветку 'new_dir'\n",
    "shutil.rmtree('newdir')\n",
    "print(\"\\nСуществование 'newdir':\", os.path.exists('newdir'))"
   ]
  },
  {
   "cell_type": "markdown",
   "metadata": {},
   "source": [
    "### Пример 18. `shutil.rmtree()`  удаляет только директории\n",
    "\n",
    "С помощью `shutil.rmtree()`нельзя удалять файлы."
   ]
  },
  {
   "cell_type": "code",
   "execution_count": null,
   "metadata": {},
   "outputs": [],
   "source": [
    "import shutil\n",
    "f = open('tmp.file', 'w');f.close()\n",
    "shutil.rmtree('tmp.file')"
   ]
  },
  {
   "cell_type": "markdown",
   "metadata": {},
   "source": [
    "###  Упражнение 7. Удаление файлов и папок\n",
    "\n",
    "Удалите созданные в примерах 14 и 15 и в упражнении 6 файлы и папки, используя модули `os` и `shutil`."
   ]
  },
  {
   "cell_type": "code",
   "execution_count": null,
   "metadata": {
    "collapsed": true
   },
   "outputs": [],
   "source": []
  },
  {
   "cell_type": "markdown",
   "metadata": {},
   "source": [
    "## <font color=green>Копирование и перемещение файлов и папок</font>\n",
    "\n",
    "Копирование и перемещение можно осуществлять с помощью модуля `shutil`.\n",
    "\n",
    "- [`shutil.copyfile()`](https://docs.python.org/3/library/shutil.html#shutil.copyfile), [`shutil.copy()`](https://docs.python.org/3/library/shutil.html#shutil.copy), [`shutil.copy2()`](https://docs.python.org/3/library/shutil.html#shutil.copy2) - предназначены для копирования файлов.\n",
    "\n",
    "- [`shutil.copytree()`](https://docs.python.org/3/library/shutil.html#shutil.copytree) - предназначена для копирования директорий.\n",
    "\n",
    "- [`shutil.move()`](https://docs.python.org/3/library/shutil.html#shutil.move) - предназначена для перемещения файлов и директорий."
   ]
  }
 ],
 "metadata": {
  "kernelspec": {
   "display_name": "Python 3",
   "language": "python",
   "name": "python3"
  },
  "language_info": {
   "codemirror_mode": {
    "name": "ipython",
    "version": 3
   },
   "file_extension": ".py",
   "mimetype": "text/x-python",
   "name": "python",
   "nbconvert_exporter": "python",
   "pygments_lexer": "ipython3",
   "version": "3.5.2"
  }
 },
 "nbformat": 4,
 "nbformat_minor": 2
}
