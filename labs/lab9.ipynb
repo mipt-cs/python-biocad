{
 "cells": [
  {
   "cell_type": "markdown",
   "metadata": {},
   "source": [
    "# <font color=blue>Однопроходные алгоритмы</font>\n",
    "\n",
    "Правило простое: **если последовательность можно не хранить – ее хранить не нужно!** Из этого правила следует эффективность по времени. Раз мы не храним последовательность, то не можем просматривать ее много раз. Все делается за один \"проход\". А это быстро. Рассмотрим такие алгоритмы обработки последовательности, которые позволяют ее не хранить.\n",
    "\n",
    "### Пример 1. Поиск максимума\n",
    "\n",
    "Требуется распечатать наибольшее из поступивших на вход чисел. Сначала подается количество чисел в последовательности $N > 0$, а затем $N$ чисел (каждое в отдельной строке).\n",
    "\n",
    "| <font size=3>Входные данные</font> | <font size=3>Выходные данные</font>    |\n",
    "| :--- | :--- |\n",
    "| <font size=3>4<br>1<br>2<br>-1.5<br>0</font> | <font size=3>2</font> |"
   ]
  },
  {
   "cell_type": "code",
   "execution_count": null,
   "metadata": {},
   "outputs": [],
   "source": [
    "N = int(input())\n",
    "m = float(input())\n",
    "for _ in range(N - 1):\n",
    "    x = float(input())\n",
    "    if x > m:\n",
    "        m = x\n",
    "print(x)"
   ]
  },
  {
   "cell_type": "markdown",
   "metadata": {},
   "source": [
    "### Упражнение 1. Поиск второго максимума\n",
    "Напишите программу, опредеделяющую второе по величине число в последовательности. Сначала подается количество чисел в последовательности $N > 1$, а затем $N$ чисел (каждое в отдельной строке). \n",
    "\n",
    "| <font size=3>Входные данные</font> | <font size=3>Выходные данные</font>    |\n",
    "| :--- | :--- |\n",
    "| <font size=3>4<br>1<br>2<br>-1.5<br>0</font> | <font size=3>1</font> |"
   ]
  },
  {
   "cell_type": "code",
   "execution_count": null,
   "metadata": {},
   "outputs": [],
   "source": []
  },
  {
   "cell_type": "markdown",
   "metadata": {},
   "source": [
    "### Упражнение 2. Медиана последовательности\n",
    "\n",
    "Определите, какой элемент из введенной последовательности действительных чисел будет расположен в ее середине, если последовательность упорядочить по возрастанию. Серединой последовательности `L` считается элемент с индексом `idx` равным\n",
    "```python\n",
    "idx = len(L) // 2\n",
    "```\n",
    "Сначала подается количество чисел в последовательности $N > 0$, а затем $N$ чисел (каждое в отдельной строке).\n",
    "\n",
    "| <font size=3>Входные данные</font> | <font size=3>Выходные данные</font>    |\n",
    "| :--- | :--- |\n",
    "| <font size=3>4<br>1<br>2<br>-1.5<br>0</font> | <font size=3>1</font> |\n",
    "| <font size=3>4<br>1<br>2<br>-1.5<br>0<br>0.5</font> | <font size=3>0.5</font> |"
   ]
  },
  {
   "cell_type": "code",
   "execution_count": null,
   "metadata": {},
   "outputs": [],
   "source": []
  },
  {
   "cell_type": "markdown",
   "metadata": {},
   "source": []
  }
 ],
 "metadata": {
  "kernelspec": {
   "display_name": "Python 3",
   "language": "python",
   "name": "python3"
  },
  "language_info": {
   "codemirror_mode": {
    "name": "ipython",
    "version": 3
   },
   "file_extension": ".py",
   "mimetype": "text/x-python",
   "name": "python",
   "nbconvert_exporter": "python",
   "pygments_lexer": "ipython3",
   "version": "3.6.0"
  }
 },
 "nbformat": 4,
 "nbformat_minor": 2
}
