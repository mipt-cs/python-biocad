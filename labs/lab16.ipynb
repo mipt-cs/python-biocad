{
 "cells": [
  {
   "cell_type": "markdown",
   "metadata": {},
   "source": [
    "# <font color=blue>Взаимодействие с файловой системой с помощью модулей `os` и `shutil`</font>\n",
    "\n",
    "Встроенный модуль [`os`](https://docs.python.org/3/library/os.html) предоставляет многочисленные возможности для взаимодейстсвия с операционной системой. В том числе, `os` позволяет:\n",
    "\n",
    "1) получить путь к текущей директории;\n",
    "\n",
    "2) сменить текущую директорию;\n",
    "\n",
    "3) создавать папки;\n",
    "\n",
    "4) получать список содержимого директории;\n",
    "\n",
    "5) определять, куда ведет путь: к папке или файлу;\n",
    "\n",
    "6) удалять файлы.\n",
    "\n",
    "Кроме того, в модуле `os.path` есть  несколько полезных функций для работы с путями в операционной системе.\n",
    "\n",
    "#### Структура пути в файловой системе\n",
    "\n",
    "В файловых системах UNIX (Linux, OS X) есть только один корень (`root`), который доступен по пути `\"/\"`. Каталоги в пути разделяются прямыми слешами `\"/\"`, например `\"/usr/bin/python3\"`.\n",
    "\n",
    "Файловая система Windows может быть разделена на несколько томов (дисков), например `\"C:\\\"` и `\"D:\\\"`.  Каталоги в пути разделяются обратными слешами `\"\\\"`, например `\"С:\\Windows\\System32\"`.\n",
    "\n",
    "И в UNIX, и в Windows `'.'` означает текущий каталог, а `'..'` - родительский каталог.\n",
    "\n",
    "Бывают **абсолютные** и **относительные** пути. Абсолютный путь начинается с корня. Относительный путь показывает, как попасть в нужное место из текущей директории. Например, если наша текущая директория - <font color=green>/usr</font>, то путь к интерпретатору `Python 3` можно указать двумя способами:\n",
    "\n",
    "1) абсолютный путь\n",
    "```\n",
    "/usr/bin/python3\n",
    "```\n",
    "\n",
    "2) относительный путь\n",
    "```\n",
    "bin/python3\n",
    "```\n",
    "\n",
    "## <font color=green>Смена текущей директории</font>\n",
    "\n",
    "Чтобы получить путь к текущей директории используется функция [`os.getcwd()`](https://www.tutorialspoint.com/python/os_getcwd.htm) (get current working directory).\n",
    "\n",
    "### Пример 1. getcwd()"
   ]
  },
  {
   "cell_type": "code",
   "execution_count": null,
   "metadata": {
    "collapsed": true
   },
   "outputs": [],
   "source": [
    "import os\n",
    "print(os.getcwd())"
   ]
  },
  {
   "cell_type": "markdown",
   "metadata": {},
   "source": [
    "Для смены текущей директории используется функция [`os.chdir()`](https://docs.python.org/3/library/os.html#os.chdir). Функция `os.chdir()` может принимать как абсолютные (относительно корня), так и относительные пути (относительно текущей директории)\n",
    "\n",
    "### Пример 2. Переход в корневой каталог\n",
    "\n",
    ">POSIX (Portable Operating System Interface) - набор стандарто, обеспечивающих переносимость программ между операционными системами UNIX."
   ]
  },
  {
   "cell_type": "code",
   "execution_count": null,
   "metadata": {
    "collapsed": true
   },
   "outputs": [],
   "source": [
    "import os\n",
    "root = '/' if os.name == 'posix' else 'C:\\\\'\n",
    "olddir = os.getcwd()\n",
    "print(olddir)\n",
    "os.chdir(root)\n",
    "print(os.getcwd())\n",
    "os.chdir(olddir)\n",
    "print(os.getcwd())"
   ]
  },
  {
   "cell_type": "markdown",
   "metadata": {},
   "source": [
    "### Пример 3. Особенности Windows\n",
    "\n",
    "При запуске Python из командной строки Python будет помнить отдельные текущие директории для каждого тома. Чтобы переключиться на текущую директорию другого тома, передайте `os.chdir()` название тома без слеша. Если путь указан со слешем до будет осуществлен переход строго по указанному пути."
   ]
  },
  {
   "cell_type": "code",
   "execution_count": null,
   "metadata": {
    "collapsed": true
   },
   "outputs": [],
   "source": [
    "import os\n",
    "olddir = os.getcwd()\n",
    "print(olddir)\n",
    "os.chdir('D:')\n",
    "print(os.getcwd())\n",
    "os.chdir('C:')\n",
    "print(os.getcwd())\n",
    "os.chdir('D:')\n",
    "os.chdir('C:\\\\')\n",
    "print(os.getcwd())\n",
    "os.chdir(olddir)"
   ]
  },
  {
   "cell_type": "markdown",
   "metadata": {},
   "source": [
    "В Python поддерживаются пути с прямыми и обратными слешами."
   ]
  },
  {
   "cell_type": "code",
   "execution_count": null,
   "metadata": {
    "collapsed": true
   },
   "outputs": [],
   "source": [
    "import os\n",
    "olddir = os.getcwd()\n",
    "os.chdir('C:/')\n",
    "os.chdir(olddir)"
   ]
  },
  {
   "cell_type": "markdown",
   "metadata": {},
   "source": [
    "### Пример 4. Сырые строки\n",
    "\n",
    "Если перед строковым литералом поставить `r`, то при инициализации строки с помощью этого литерала специальные символы не будут обрабатываться. Другими словами, строка будет сохранена именно так, как она выглядит. Сырые строки могут быть удобны при работе с файловой системой Windows."
   ]
  },
  {
   "cell_type": "code",
   "execution_count": null,
   "metadata": {
    "collapsed": true
   },
   "outputs": [],
   "source": [
    "s1 = r'ab\\tc\\n\\\\'\n",
    "print(s1)\n",
    "s2 = 'ab\\tc\\n\\\\'\n",
    "print(s2)\n",
    "path = r'C:\\Program Files'\n",
    "print(path)"
   ]
  },
  {
   "cell_type": "markdown",
   "metadata": {},
   "source": [
    "### Упражнение 1. Смена текущей директории\n",
    "\n",
    "Перейдите на 1 каталог выше, а затем вернитесь в исходную директорию, используя относительный путь."
   ]
  },
  {
   "cell_type": "code",
   "execution_count": null,
   "metadata": {
    "collapsed": true
   },
   "outputs": [],
   "source": []
  },
  {
   "cell_type": "markdown",
   "metadata": {},
   "source": [
    "## <font color=green>Модуль `os.path` для управления путями</font>\n",
    "\n",
    "Задавать пути в виде строки - не лучшая идея, так как код может стать непереносимым между UNIX и Windows. Чтобы не беспокоиться о разделителе в Ваших путях, можно использовать функцию [`os.path.join()`](https://docs.python.org/3/library/os.path.html#os.path.join). Функция `os.path.join()` объединяет любое положительное число строк в путь, причем разделитель подбирается автоматически. Также автоматически обрабатывается корневой каталог `'/'`  в UNIX.\n",
    "\n",
    "### Пример 5. `os.path.join()`"
   ]
  },
  {
   "cell_type": "code",
   "execution_count": null,
   "metadata": {
    "collapsed": true
   },
   "outputs": [],
   "source": [
    "import os\n",
    "print(os.path.join('abc', 'cde'))\n",
    "print(os.path.join('abc', ''))\n",
    "print(os.path.join('/', 'home', 'user'))\n",
    "print(os.path.join('C:\\\\', 'Program Files', 'Adobe'))\n",
    "print(os.path.join('C:/', 'Program Files', 'Adobe'))\n",
    "print(os.path.join('C:', 'Program Files', 'Adobe'))"
   ]
  },
  {
   "cell_type": "markdown",
   "metadata": {},
   "source": [
    "Модуль [`os.path`](https://docs.python.org/3/library/os.path.html) включает в себя функции:\n",
    "\n",
    "1) [`os.path.split()`](https://docs.python.org/3/library/os.path.html#os.path.split) - разделяет путь на две часть: `head` и `tail`, `tail` - последний компонент пути, а `head` - остальная часть пути;\n",
    "\n",
    "2) [`os.path.exists()`](https://docs.python.org/3/library/os.path.html#os.path.exists) - возвращает `True`, если указанный путь существует и `False` в противном случае;\n",
    "\n",
    "3) [`os.path.isfile()`](https://docs.python.org/3/library/os.path.html#os.path.isfile) - возвращает `True`, если путь существует **и** является файлом;\n",
    "\n",
    "4) [`os.path.isdir()`](https://docs.python.org/3/library/os.path.html#os.path.isdir) - возвращает `True`, если путь существует **и** является папкой;\n",
    "\n",
    "5) [`os.path.expanduser()`](https://docs.python.org/3/library/os.path.html#os.path.expanduser) - заменяет `'~'` в путях UNIX на `'/home/<current_user>'`. \n",
    "\n",
    "### Пример 6. Использование некоторых функций из `os.path`"
   ]
  },
  {
   "cell_type": "code",
   "execution_count": null,
   "metadata": {
    "collapsed": true
   },
   "outputs": [],
   "source": [
    "import os\n",
    "\n",
    "cwd = os.getcwd()\n",
    "print(\"os.path.split() demonstration\\ncwd:\", cwd)\n",
    "head, tail = os.path.split(cwd)\n",
    "print(\"head: {}\\ntail: {}\\n\".format(head, tail))\n",
    "\n",
    "print(\"os.path.exists() demonstration\\nПроверка существования текущей директории:\")\n",
    "print(os.path.exists('.'))\n",
    "print(\"Проверка существования nonexistent_directory\")\n",
    "print(os.path.exists('nonexistent_directory'))\n",
    "\n",
    "print(\"\\nos.path.isfile() demonstration\\nПроверка lab12.ipynb:\")\n",
    "print(os.path.isfile('lab12.ipynb'))\n",
    "print(\"Проверка текущей директории:\")\n",
    "print(os.path.isfile('.'))\n",
    "print(\"Проверка nonexistent_file:\")\n",
    "print(os.path.isfile('nonexistent_file'))\n",
    "\n",
    "print(\"\\nos.path.isdir() demostration\\nПроверка текущей директории:\")\n",
    "print(os.path.isdir('.'))\n",
    "print('Проверка nonexistent_directory:')\n",
    "print(os.path.isdir('nonexistent_directory'))\n",
    "print('Проверка lab12.ipynb:')\n",
    "print(os.path.isdir('lab12.ipynb'))\n",
    "\n",
    "print(\"\\nos.path.expanduser() demostration\\nПуть без тильды\")\n",
    "print(os.path.expanduser('abc'))\n",
    "print(\"Путь с тильдой '~/some_dir/some_file':\")\n",
    "print(os.path.expanduser('~/some_dir/some_file'))\n",
    "print(\"Путь с тильдой 'aa~/some_dir/some_file':\")\n",
    "print(os.path.expanduser('aa~/some_dir/some_file'))"
   ]
  },
  {
   "cell_type": "markdown",
   "metadata": {},
   "source": [
    "## <font color=green>Получение списка содержимого директории</font>\n",
    "\n",
    "Функция [`os.listdir()`](https://docs.python.org/3/library/os.html#os.listdir) возвращает список файлов и папок в каталоге. По умолчанию это текущий каталог.\n",
    "\n",
    "### Пример 7. Содержимое папки"
   ]
  },
  {
   "cell_type": "code",
   "execution_count": null,
   "metadata": {
    "collapsed": true
   },
   "outputs": [],
   "source": [
    "import os\n",
    "print(os.listdir())  # содержимое текущего каталога\n",
    "print(os.listdir('/' if os.name == 'posix' else 'C:/'))  # содержимое корневого каталога "
   ]
  },
  {
   "cell_type": "markdown",
   "metadata": {},
   "source": [
    "### Упражнение 2. Перечисление содержимого папок\n",
    "\n",
    "Распечатайте содержимое всех каталогов в пути к текущей директории, начиная с текущей директории и до корня."
   ]
  },
  {
   "cell_type": "code",
   "execution_count": null,
   "metadata": {
    "collapsed": true
   },
   "outputs": [],
   "source": []
  },
  {
   "cell_type": "markdown",
   "metadata": {},
   "source": [
    "### Упражнение 3. Папка или файл\n",
    "\n",
    "Сделайте то же самое, что и в упражнении 4, но теперь напротив кажого пути укажите, является он папкой или файлом (`F` - файл, `D` - директория). Упорядочьте содержимое папок с помощью `sorted()`.\n",
    "\n",
    "| <font size=3>Пример выходных данных</font>    |\n",
    "| :--- |\n",
    "| <font size=3>&nbsp;&nbsp;&nbsp;&nbsp;/a/b/c<br>c_dir D<br>c_file F<br><br>&nbsp;&nbsp;&nbsp;&nbsp;/a/b<br>b_dir D<br>c D<br><br>&nbsp;&nbsp;&nbsp;&nbsp;/a<br>a_file1 F<br>a_file2 F<br>b D<br><br>&nbsp;&nbsp;&nbsp;&nbsp;/<br>a D<br>bin D<br>usr D</font> |"
   ]
  },
  {
   "cell_type": "code",
   "execution_count": null,
   "metadata": {
    "collapsed": true,
    "scrolled": false
   },
   "outputs": [],
   "source": []
  },
  {
   "cell_type": "markdown",
   "metadata": {},
   "source": [
    "Очень удобным инструментом для работы с файловой системой является функция [`os.walk()`](https://docs.python.org/3/library/os.html#os.walk). Функция позволяет пройтись по всему содержимому директории с заходом в содержащиеся в ней папки. Функция получает на вход путь к директории и возвращает генератор. Генератор возвращает кортежи из 3-х элементов:\n",
    "\n",
    "1) путь к директории, содержимое которой печатается;\n",
    "\n",
    "2) список папок;\n",
    "\n",
    "3) список файлов.\n",
    "\n",
    "Движение по файловому дереву осуществляется следующим образом.\n",
    "\n",
    "1. Папки из списка `D` упорядочиваются с помощью сравнения строк Python.\n",
    "\n",
    "2. Папки перебираются по возрастанию.\n",
    "\n",
    "3. При разборе дерева очередной папки оно разбирается **полностью**, прежде начинается разбор следующей папки из `D`.\n",
    "\n",
    "### Пример 8. Функционирование `os.walk()`\n",
    "\n",
    "Создадим директорию `newdir` со следующей структурой.\n",
    "\n",
    "```\n",
    "labs/newdir\n",
    "├── dir1\n",
    "│   ├── dir2\n",
    "│   │   ├── file4\n",
    "│   │   └── file5\n",
    "│   ├── dir3\n",
    "│   │   ├── file6\n",
    "│   │   └── file7\n",
    "│   ├── file2\n",
    "│   └── file3\n",
    "├── dir4\n",
    "│   ├── dir5\n",
    "│   │   ├── file10\n",
    "│   │   └── file11\n",
    "│   ├── dir6\n",
    "│   │   ├── file12\n",
    "│   │   └── file13\n",
    "│   ├── file8\n",
    "│   └── file9\n",
    "└── file1\n",
    "```"
   ]
  },
  {
   "cell_type": "code",
   "execution_count": 12,
   "metadata": {
    "collapsed": true,
    "scrolled": false
   },
   "outputs": [],
   "source": [
    "import os\n",
    "if not os.path.exists('newdir/dir1/dir2'):\n",
    "    os.makedirs('newdir/dir1/dir2')\n",
    "if not os.path.exists('newdir/dir1/dir3'):\n",
    "    os.mkdir('newdir/dir1/dir3')\n",
    "if not os.path.exists('newdir/dir4/dir5'):\n",
    "    os.makedirs('newdir/dir4/dir5')\n",
    "if not os.path.exists('newdir/dir4/dir6'):\n",
    "    os.mkdir('newdir/dir4/dir6')\n",
    "f = open('newdir/file1', 'w');f.close()\n",
    "f = open('newdir/dir1/file2', 'w');f.close()\n",
    "f = open('newdir/dir1/file3', 'w');f.close()\n",
    "f = open('newdir/dir1/dir2/file4', 'w');f.close()\n",
    "f = open('newdir/dir1/dir2/file5', 'w');f.close()\n",
    "f = open('newdir/dir1/dir3/file6', 'w');f.close()\n",
    "f = open('newdir/dir1/dir3/file7', 'w');f.close()\n",
    "f = open('newdir/dir4/file8', 'w');f.close()\n",
    "f = open('newdir/dir4/file9', 'w');f.close()\n",
    "f = open('newdir/dir4/dir5/file10', 'w');f.close()\n",
    "f = open('newdir/dir4/dir5/file11', 'w');f.close()\n",
    "f = open('newdir/dir4/dir6/file12', 'w');f.close()\n",
    "f = open('newdir/dir4/dir6/file13', 'w');f.close()"
   ]
  },
  {
   "cell_type": "code",
   "execution_count": null,
   "metadata": {},
   "outputs": [],
   "source": [
    "import os\n",
    "for dir_name, dirs, files in os.walk('newdir'):\n",
    "    print(dir_name, dirs, files, sep='\\n', end='\\n\\n')"
   ]
  },
  {
   "cell_type": "markdown",
   "metadata": {},
   "source": [
    "### Упражнение 4. Работа с `os.walk()`\n",
    "\n",
    "Получите с помощью `os.walk()` общее число файлов в директории `newdir`. Учитывать также файлы, находящиеся внутри всех вложенных каталогов."
   ]
  },
  {
   "cell_type": "code",
   "execution_count": null,
   "metadata": {
    "collapsed": true
   },
   "outputs": [],
   "source": []
  },
  {
   "cell_type": "markdown",
   "metadata": {},
   "source": [
    "## <font color=green>Создание папок</font>\n",
    "\n",
    "Функция [`os.mkdir()`](https://docs.python.org/3/library/os.html#os.mkdir) предназначена для кцикци создания одной новой директории. Если путь, переданный функции, уже существует, поднимается исключение `FileExistsError`.\n",
    "\n",
    "### Пример 9. Создание новой папки"
   ]
  },
  {
   "cell_type": "code",
   "execution_count": null,
   "metadata": {},
   "outputs": [],
   "source": [
    "import os\n",
    "path1 = 'lab12_example14_new_dir'\n",
    "path2 = 'lab12_example14_new_dir/new_dir2'\n",
    "\n",
    "print(\"Существование path1:\", os.path.exists(path1))\n",
    "os.mkdir(path2)  # Error, так как lab12_example14_new_dir не существует"
   ]
  },
  {
   "cell_type": "code",
   "execution_count": null,
   "metadata": {},
   "outputs": [],
   "source": [
    "import os\n",
    "path1 = 'lab12_example14_new_dir'\n",
    "path2 = 'lab12_example14_new_dir/new_dir2'\n",
    "\n",
    "print(\"Существование path1:\", os.path.exists(path1))\n",
    "os.mkdir(path1)\n",
    "print(\"Существование path1:\", os.path.exists(path1))\n",
    "print(\"Существование path2:\", os.path.exists(path2))\n",
    "os.mkdir(path2)\n",
    "print(\"Существование path2:\", os.path.exists(path2))"
   ]
  },
  {
   "cell_type": "markdown",
   "metadata": {},
   "source": [
    "Функция [`os.makedirs()`](https://docs.python.org/3/library/os.html#os.makedirs) позволяет за один вызов создать все папки в пути. Если путь уже существует поднимается исключение.\n",
    "\n",
    "### Пример 10. `os.makedirs()`"
   ]
  },
  {
   "cell_type": "code",
   "execution_count": null,
   "metadata": {},
   "outputs": [],
   "source": [
    "import os\n",
    "path1 = 'lab12_example14_new_dir/new_dir3/new_dir4'\n",
    "path2 = 'lab12_example14_new_dir/new_dir2'\n",
    "\n",
    "print(os.makedirs(path1))\n",
    "print(\"Существование path1:\", os.path.exists(path1))\n",
    "print(os.makedirs(path2))  # Error, так как 'lab12_example14_new_dir/new_dir2' уже существует "
   ]
  },
  {
   "cell_type": "markdown",
   "metadata": {},
   "source": [
    "### Упражнение 5. Создание папки\n",
    "\n",
    "Считайте имя папки <font color=green> &lt;dir_name&gt; </font> с клавиатуры и создайте ее. Если папка с именем  <font color=green> &lt;dir_name&gt; </font> уже сущетвует, создайте папку с именем  <font color=green> &lt;dirname&gt;#&lt;number&gt; </font>, где <font color=green> &lt;number&gt; </font> - наименьшее натуральное число, при котором папки с именем <font color=green> &lt;dirname&gt;#&lt;number&gt; </font> нет в текущей директории.\n",
    "\n",
    "#### Пояснение\n",
    "Пусть с клавиатуры было считано имя <font color=green>\"new_directory\"</font> и каталоги с именами <font color=green>\"new_directory\"</font>, <font color=green>\"new_directory#1\"</font> уже присутствуют в текущей директории. В таком случае имя новой папки должно быть <font color=green>\"new_directory#2\"</font>."
   ]
  },
  {
   "cell_type": "code",
   "execution_count": null,
   "metadata": {
    "collapsed": true
   },
   "outputs": [],
   "source": []
  },
  {
   "cell_type": "markdown",
   "metadata": {},
   "source": [
    "## <font color=green>Удаление файлов и папок</font>\n",
    "\n",
    "Для удаления файлов используйте функцию [`os.remove()`](https://docs.python.org/3/library/os.html#os.remove). Эта функция не может удалять директории.\n",
    "\n",
    "### Пример 11.  Удаление файла"
   ]
  },
  {
   "cell_type": "code",
   "execution_count": null,
   "metadata": {
    "collapsed": true
   },
   "outputs": [],
   "source": [
    "import os\n",
    "file_name = 'tmp.file'\n",
    "with open(file_name, 'w'):\n",
    "    pass\n",
    "print(\"Существование {}: {}\".format(file_name, os.path.isfile(file_name)))\n",
    "os.remove('tmp.file')\n",
    "print(\"Существование {}: {}\".format(file_name, os.path.isfile(file_name)))"
   ]
  },
  {
   "cell_type": "markdown",
   "metadata": {},
   "source": [
    " Для удаления **пустой** директории можно использовать [`os.rmdir()`](https://docs.python.org/3/library/os.html#os.rmdir), а для удаления **цепочки пустых директорий** - [`os.removedirs()`](https://docs.python.org/3/library/os.html#os.removedirs). Однако на практике чаще встречаются задачи, в которых требуется удалить папку со всем ее содержимым, каким бы оно ни было. Этой цели служит функция [`shutil.rmtree()`](https://docs.python.org/3/library/shutil.html#shutil.rmtree) из модуля [`shutil`](https://docs.python.org/3/library/shutil.html). \n",
    " \n",
    ">  Название shutil происходит от **sh**ell **util**ities. shell - оболо́чка операцио́нной систе́мы (от англ. shell «оболочка») — интерпретатор команд операционной системы, обеспечивающий интерфейс для взаимодействия пользователя с функциями системы. В общем случае различают оболочки с двумя типами интерфейса для взаимодействия с пользователем: CLI (Command Line Interface) и GUI (Graphical User Interface).\n",
    "\n",
    "### Пример 12. Удаление директории"
   ]
  },
  {
   "cell_type": "code",
   "execution_count": null,
   "metadata": {
    "collapsed": true
   },
   "outputs": [],
   "source": [
    "import os\n",
    "import shutil\n",
    "if os.path.exists('newdir'):\n",
    "    shutil.rmtree('newdir')\n",
    "os.makedirs('newdir/newdir1')\n",
    "os.mkdir('newdir/newdir2')\n",
    "f = open('newdir/newfile', 'w');f.close()\n",
    "f = open('newdir/newdir1/newfile1', 'w');f.close()\n",
    "f = open('newdir/newdir1/newfile2', 'w');f.close()\n",
    "f = open('newdir/newdir2/newfile3', 'w');f.close()\n",
    "\n",
    "print(\"Структура содержимого 'newdir':\")\n",
    "# Печатаем структуру ветки 'newdir'\n",
    "# Функция os.walk() перебирает ВСЕ содержимое сначала в глубину. а затем в ширину\n",
    "indent_step = 2\n",
    "for path, dirs, files in os.walk('newdir'):\n",
    "    indent = ' ' * path.count('/') * indent_step\n",
    "    print(indent + path)\n",
    "    for f in files:\n",
    "        print(indent + ' '*indent_step + f)\n",
    "\n",
    "# Удаляем ветку 'new_dir'\n",
    "shutil.rmtree('newdir')\n",
    "print(\"\\nСуществование 'newdir':\", os.path.exists('newdir'))"
   ]
  },
  {
   "cell_type": "markdown",
   "metadata": {},
   "source": [
    "### Пример 13. `shutil.rmtree()`  удаляет только директории\n",
    "\n",
    "Функция `shutil.rmtree()`не принимает на вход файлы."
   ]
  },
  {
   "cell_type": "code",
   "execution_count": null,
   "metadata": {
    "collapsed": true
   },
   "outputs": [],
   "source": [
    "import shutil\n",
    "f = open('tmp.file', 'w');f.close()\n",
    "shutil.rmtree('tmp.file')"
   ]
  },
  {
   "cell_type": "markdown",
   "metadata": {},
   "source": [
    "###  Упражнение 6. Удаление файлов и папок\n",
    "\n",
    "Удалите созданные в примерах 9 и 10 и в упражнении 6 файлы и папки, используя модули `os` и `shutil`."
   ]
  },
  {
   "cell_type": "code",
   "execution_count": null,
   "metadata": {
    "collapsed": true
   },
   "outputs": [],
   "source": []
  },
  {
   "cell_type": "markdown",
   "metadata": {},
   "source": [
    "## <font color=green>Копирование, перемещение и переименование файлов и папок</font>\n",
    "\n",
    "Копирование и перемещение можно осуществлять с помощью модуля `shutil`.\n",
    "\n",
    "- [`shutil.copyfile()`](https://docs.python.org/3/library/shutil.html#shutil.copyfile), [`shutil.copy()`](https://docs.python.org/3/library/shutil.html#shutil.copy), [`shutil.copy2()`](https://docs.python.org/3/library/shutil.html#shutil.copy2) - предназначены для копирования файлов.\n",
    "\n",
    "- [`shutil.copytree()`](https://docs.python.org/3/library/shutil.html#shutil.copytree) - предназначена для копирования директорий.\n",
    "\n",
    "- [`shutil.move()`](https://docs.python.org/3/library/shutil.html#shutil.move) - предназначена для перемещения файлов и директорий.\n",
    "\n",
    "- [`os.rename()`](https://docs.python.org/3/library/os.html#os.rename) - предназначена для переименования файлов и папок. Если  новое имя совпадает с именем какой-либо директории, будет поднято исключение `OSError`. Если новое имя совпадает с именем файла, то **этот файл будет заменен**.\n",
    "\n",
    "### Пример 14. Копирование"
   ]
  },
  {
   "cell_type": "code",
   "execution_count": null,
   "metadata": {},
   "outputs": [],
   "source": [
    "import shutil\n",
    "import os\n",
    "\n",
    "f = open('newfile', 'w');f.close()\n",
    "shutil.copyfile('newfile', 'newfile2')\n",
    "print(\"File 'newfile2' exists:\", os.path.isfile('newfile2'))\n",
    "\n",
    "path = os.path.join('newdir', 'newdir2')\n",
    "if not os.path.exists(path):\n",
    "    os.makedirs(path)\n",
    "shutil.copytree('newdir', 'newdir3')\n",
    "print(\"Directory 'newdir3' exists:\", os.path.isdir('newdir3'))"
   ]
  },
  {
   "cell_type": "markdown",
   "metadata": {},
   "source": [
    "### Пример 15. Перемещение"
   ]
  },
  {
   "cell_type": "code",
   "execution_count": null,
   "metadata": {},
   "outputs": [],
   "source": [
    "import shutil\n",
    "shutil.move('newfile2', 'newdir/newfile2')\n",
    "shutil.move('newdir3', 'newdir/newdir3')\n",
    "print(\"File 'newfile2' exists:\", os.path.isfile('newfile2'))\n",
    "print(\"File 'newdir/newfile2' exists:\", os.path.isfile('newdir/newfile2'))\n",
    "print(\"Directory 'newdir3' exists:\", os.path.isdir('newdir3'))\n",
    "print(\"Directory 'newdir/newdir3' exists:\", os.path.isdir('newdir/newdir3'))"
   ]
  },
  {
   "cell_type": "markdown",
   "metadata": {},
   "source": [
    "### Пример 16. Переименование"
   ]
  },
  {
   "cell_type": "code",
   "execution_count": null,
   "metadata": {},
   "outputs": [],
   "source": [
    "import os\n",
    "os.rename('newdir/newfile2', 'newdir/newfile3')\n",
    "print(\"File 'newdir/newfile2' exists:\", os.path.isfile('newdir/newfile2'))\n",
    "print(\"File 'newdir/newfile3' exists:\", os.path.isfile('newdir/newfile3'))\n",
    "os.rename('newdir', 'newdir4')\n",
    "print(\"Directory 'newdir' exists:\", os.path.isdir('newdir'))\n",
    "print(\"Directory 'newdir4' exists:\", os.path.isdir('newdir4'))"
   ]
  },
  {
   "cell_type": "markdown",
   "metadata": {},
   "source": [
    "### Пример 17. Удаление созданных в примерах 13 - 15 файлов и папок"
   ]
  },
  {
   "cell_type": "code",
   "execution_count": null,
   "metadata": {
    "collapsed": true
   },
   "outputs": [],
   "source": [
    "import shutil\n",
    "shutil.rmtree('newdir4')"
   ]
  },
  {
   "cell_type": "markdown",
   "metadata": {},
   "source": [
    "### Упражнение 7. Копирование, перемещение, переименование\n",
    "\n",
    "1. Создайте папку `newdir` со следующим содержимым.\n",
    "\n",
    "```\n",
    "newdir\n",
    "├── dir1\n",
    "├── dir2\n",
    "└── file1\n",
    "```\n",
    "2. Создайте копию `file1` по пути `newdir/dir1/file2`.\n",
    "\n",
    "3. Создайте копию `dir1` по пути `newdir/dir3`.\n",
    "\n",
    "4. Переместите `dir3` из `newdir` в `dir2`.\n",
    "\n",
    "5. Переименуйте `file2` в `file3`.\n",
    "\n",
    "6. Переименуйте `dir2` в `dir4`.\n",
    "\n",
    "7. Удалите `newdir`."
   ]
  },
  {
   "cell_type": "code",
   "execution_count": null,
   "metadata": {
    "collapsed": true
   },
   "outputs": [],
   "source": []
  },
  {
   "cell_type": "markdown",
   "metadata": {},
   "source": [
    "# <font color=blue>Модуль `sys`</font>\n",
    "\n",
    "Модуль [`sys`](https://docs.python.org/3/library/sys.html) используется для взаимодействия с интерпретатором (Интерпретатор - программа, выполняющая исходный код).\n",
    "\n",
    "Модуль `sys` может быть использован для \n",
    "\n",
    "1) получения доступа к аргументам и флагам командной строки, \n",
    "\n",
    "2) получения информации о версии интерпретатора и операционной системе, \n",
    "\n",
    "3) управления путями. по которым производится поиск подключаемых модулей,\n",
    "\n",
    "4) выхода из программы.\n",
    "\n",
    "## <font color=green>Аргументы командной строки с помощью модуля `sys`</font>\n",
    "\n",
    "Модуль `sys` не является предпочтительным, если требуется обработать аргументы командной строки. Рекомендуется применять модуль [`argparse`](https://docs.python.org/3/library/argparse.html), особенно в случаях, когда аргументов командной строки много. Однако возмножность применения `sys` мы все равно рассмотрим.\n",
    "\n",
    "Аргументы командной строки доступны в переменной `sys.argv`. `sys.argv` -  список, в котором первым элементом является имя скрипта, который был запущен с помощью интерпретатора, а остальные аргументы - строки, которые получились бы, если бы команду выполнения скрипта разбили по пробелам.\n",
    "\n",
    "### Пример 18. `sys.argv` \n",
    "Создайте текстовый файл `sysargv.py` и запишите туда код \n",
    "```python\n",
    "import sys\n",
    "print(sys.argv)\n",
    "```\n",
    "\n",
    "Затем откройте терминал и выполните команду\n",
    "\n",
    "```bash\n",
    "python3 sysargv.py 1 2 3 a b -l --verbose\n",
    "```\n",
    "\n",
    "или \n",
    "\n",
    "```bash\n",
    "python sysargv.py 1 2 3 a b -l --verbose\n",
    "```\n",
    "\n",
    "в зависимости от того, как у Вас запускается интерпретатор.\n",
    "\n",
    "### Упражнение 8. Скрипт для сложения чисел\n",
    "\n",
    "Напишите скрипт `add.py` для сложения двух чисел."
   ]
  },
  {
   "cell_type": "code",
   "execution_count": null,
   "metadata": {},
   "outputs": [],
   "source": [
    "import sys\n",
    "print(sys.version)\n",
    "print(sys.version_info)"
   ]
  },
  {
   "cell_type": "markdown",
   "metadata": {},
   "source": [
    "## <font color=green>Версия интерпретатора и операционной системы</font>\n",
    "\n",
    "### Пример 19. Версия интерпретатора\n",
    "\n",
    "Строка `sys.version` содержит информацию о версии интерпретатора, о том, когда он  был собран и какой комплилятор был использован для этой цели. Кортеж `sys.version_info` содержит информацию о версии интерпретатора в более удобном для работы с ней формате."
   ]
  },
  {
   "cell_type": "code",
   "execution_count": null,
   "metadata": {
    "collapsed": true
   },
   "outputs": [],
   "source": [
    "import sys\n",
    "print(sys.version)\n",
    "print(sys.version_info)\n",
    "print(sys.version_info[0])\n",
    "print(sys.version_info[1])"
   ]
  },
  {
   "cell_type": "markdown",
   "metadata": {},
   "source": [
    "### Пример 20. Версия системы\n",
    "\n",
    "Строка [`sys.platform`](https://docs.python.org/3/library/sys.html#sys.platform) содержит название ОС. \n",
    "\n",
    "|<font size=3>System</font>|<font size=3>platform value</font>|\n",
    "| :---: | :---: |\n",
    "|<font size=3>Linux</font>|<font size=3>'linux'</font>|\n",
    "|<font size=3>Windows</font>|<font size=3>'win32'</font>|\n",
    "|<font size=3>Windows/Cygwin</font>|<font size=3>'cygwin'</font>|\n",
    "|<font size=3>Mac OS X</font>|<font size=3>'darwin'</font>|\n",
    "\n",
    "Более подробную информацию об операционной системе можно получить с помощью модуля [`platform`](https://docs.python.org/3/library/platform.html)."
   ]
  },
  {
   "cell_type": "code",
   "execution_count": null,
   "metadata": {
    "collapsed": true
   },
   "outputs": [],
   "source": [
    "import sys\n",
    "print(sys.platform)"
   ]
  },
  {
   "cell_type": "markdown",
   "metadata": {},
   "source": [
    "## <font color=green>Завершение программы с помощью `sys.exit()`</font>\n",
    "\n",
    "Функция `sys.exit()` завершает выполнение программы. Функция доступна без импортирования `sys` по имени `exit()`.\n",
    "\n",
    "### Пример 21. Функция `exit()`  в интерактивном режиме\n",
    "\n",
    "1. Откройте терминал и выполните команду.\n",
    "```bash\n",
    "python3\n",
    "```\n",
    "\n",
    "2. Напишите какие-нибудь команды на Python.\n",
    "\n",
    "3. Выполните команду `exit()`.\n",
    "\n",
    "# <font color=blue>Модули и пакеты</font>\n",
    "\n",
    "## <font color=green>Модули</font>\n",
    "\n",
    "[Модуль](https://docs.python.org/3/tutorial/modules.html) в Python - файл с определениями функций, классов, констант. По сути, модуль содержит код на Python, должен иметь расширение `.py` и любой скрипт на Python можно использовать, как модуль. \n",
    "\n",
    "### Пример 22. Создание модуля\n",
    "\n",
    "Создайте файл `lists.py` в одной директории с данным ноутбуком и поместите в него код из клетки снизу."
   ]
  },
  {
   "cell_type": "code",
   "execution_count": null,
   "metadata": {
    "collapsed": true
   },
   "outputs": [],
   "source": [
    "print(\"I am module lists.py\")\n",
    "\n",
    "def add(l1, l2):\n",
    "    return [a + b for a, b in zip(l1, l2)]\n",
    "\n",
    "def sub(l1, l2):\n",
    "    return [a - b for a, b in zip(l1, l2)]\n",
    "\n",
    "def _reflect(num):\n",
    "    return int(str(num)[::-1])\n",
    "\n",
    "def reflect(l):\n",
    "    return [_reflect(a) for a in l]"
   ]
  },
  {
   "cell_type": "markdown",
   "metadata": {},
   "source": [
    "#### Зачем нужны модули.\n",
    "\n",
    "1. В случаях, когда проект достаточно большой (~1000 строк), модули позволяют структурировать код и облегчить процесс работы над ним.\n",
    "\n",
    "2. Модуль можно применять в нескольких проектах, что позволяет легко повторно использовать код.\n",
    "\n",
    "## <font color=green>Подключение модуля</font>\n",
    "\n",
    "Модуль подключается с помощью инструкций \n",
    "```python\n",
    "import module_name\n",
    "from module_name import object_name\n",
    "```\n",
    "Есть возможность сразу опредилить новое имя для подключаемого модуля или загружаемого объекта с помощью инструкции `as`: \n",
    "```python\n",
    "import module_name as some_name\n",
    "from module_name import object_name as some_name\n",
    "```\n",
    "\n",
    "Вы можете импортировать все имена, не начинающиеся с нижнего подчеркивания `_`. **Это не рекомендуется делать, так как в программе оказывается много новых идентификаторов, что осложняет отладку программы.**\n",
    "\n",
    "```python\n",
    "from module_name import *\n",
    "```\n",
    "\n",
    "Имена после ключевого слова `import` можно перечислять через запятую, в том числе, когда используется `as`\n",
    "\n",
    "```python\n",
    "import os, sys, collections as cl, platform\n",
    "from collections import OrderedDict as OD, namedtuple\n",
    "```\n",
    "\n",
    ">При выполнении инструкции `import` код в модуле будет выполнен, поэтому чаще всего не желательно присутствие в модуле чего-то не связанного с определением новых объектов.\n",
    "\n",
    "Доступ к объектам, импортированным без использования ключевого слова `from`, применяется **оператор ссылки на атрибут `.` (точка)**.\n",
    "\n",
    "### Пример 23. Подкючение модуля\n",
    "\n",
    "В следующих клетках приведены различные варианты подключения модуля `lists.py`. После выполнения каждой из клеток перезапускайте ноутбук, так как **при повторном импортировании в модуль не исполняется**."
   ]
  },
  {
   "cell_type": "code",
   "execution_count": null,
   "metadata": {
    "collapsed": true
   },
   "outputs": [],
   "source": [
    "import lists\n",
    "\n",
    "print(lists.add([1, 2, 3], [5, 6, 7]))\n",
    "print(lists._reflect(23))"
   ]
  },
  {
   "cell_type": "code",
   "execution_count": null,
   "metadata": {
    "collapsed": true
   },
   "outputs": [],
   "source": [
    "import lists as ls\n",
    "\n",
    "print(ls.add([1, 2, 3], [5, 6, 7]))"
   ]
  },
  {
   "cell_type": "code",
   "execution_count": null,
   "metadata": {
    "collapsed": true
   },
   "outputs": [],
   "source": [
    "from lists import _reflect, sub\n",
    "\n",
    "print(_reflect(23))"
   ]
  },
  {
   "cell_type": "code",
   "execution_count": null,
   "metadata": {
    "collapsed": true
   },
   "outputs": [],
   "source": [
    "from lists import _reflect as reverse, sub as subtract, add\n",
    "\n",
    "print(reverse(23))"
   ]
  },
  {
   "cell_type": "code",
   "execution_count": null,
   "metadata": {
    "collapsed": true
   },
   "outputs": [],
   "source": [
    "from lists import *\n",
    "\n",
    "print(add)\n",
    "print(sub)\n",
    "print(reflect)\n",
    "print(_reflect)  # _reflect не был импортирован, так как имя начинается с нижнего подчеркивания _"
   ]
  },
  {
   "cell_type": "markdown",
   "metadata": {},
   "source": [
    "### Упражнение 9. Создание и импортирование модуля\n",
    "\n",
    "Создайте модуль `fibo.py` для вычисления чисел Фибоначчи, в котором будут 2 функции:\n",
    "\n",
    "1) `fib()` будет возвращать N-e число Фибоначчи,\n",
    "\n",
    "2) `fiblist()` будет возвращать первые N чисел Фибоначчи.\n",
    "\n",
    "Подключите модуль `fibo` следующими способами:\n",
    "\n",
    "1) только с помощью `import`,\n",
    "\n",
    "2) под именем `FIB`,\n",
    "\n",
    "3) импортируя только функцию `fiblist` под именем `fl`."
   ]
  },
  {
   "cell_type": "code",
   "execution_count": null,
   "metadata": {
    "collapsed": true
   },
   "outputs": [],
   "source": []
  },
  {
   "cell_type": "markdown",
   "metadata": {},
   "source": [
    "### Упражнение 10. Повторное импортирование модуля\n",
    "\n",
    "Создайте модули <font color=green face=\"monospace\">a.py</font> и <font color=green face=\"monospace\">b.py</font>, которые импортируют модуль <font color=green face=\"monospace\">lists.py</font>. Перезапустите ноутбук и импортируйте в программу сразу <font color=green face=\"monospace\">a.py</font>, <font color=green face=\"monospace\">b.py</font> и <font color=green face=\"monospace\">lists.py</font>."
   ]
  },
  {
   "cell_type": "code",
   "execution_count": null,
   "metadata": {
    "collapsed": true
   },
   "outputs": [],
   "source": []
  },
  {
   "cell_type": "markdown",
   "metadata": {},
   "source": [
    "## <font color=green>Где должен находится модуль</font>\n",
    "\n",
    "Модуль будет успешно импортирован, если он находится в одной директории с запущенным скриптом или в одной из других директорий, перечисленных в списке `sys.path`."
   ]
  },
  {
   "cell_type": "code",
   "execution_count": null,
   "metadata": {
    "collapsed": true
   },
   "outputs": [],
   "source": [
    "import sys\n",
    "print(sys.path)"
   ]
  },
  {
   "cell_type": "markdown",
   "metadata": {},
   "source": [
    "### Пример 24. Содержимое `sys.path`\n",
    "\n",
    "Запустите Python в интерактивном режиме и распечатайте `sys.path`.\n",
    "\n",
    "***\n",
    "\n",
    "Поиск модуля по директориям производится в том порядке, в котором они присутствуют в списке `sys.path`. \n",
    "\n",
    "Это не является общепринятой практикой, но возможно добавление путей в `sys.path` для получения доступа к неудобно расположенным модулям. Однако лучше это делать с помощью переменной окружения PYTHONPATH.\n",
    "\n",
    "Переменная `sys.path` состоит из:\n",
    "\n",
    "1) директории, в которой находится запущенный скрипт (или текущей, если используется интерактивный режим);\n",
    "\n",
    "2) переменной окружения PYTHONPATH (в ней пути разделяются двоеточиями);\n",
    "\n",
    "3) путей, которые добавляются по умолчанию и связаны с установкой интерпретатора.\n",
    "\n",
    "### Пример 25. Посмотреть переменную окружения\n",
    "\n",
    "Откройте терминал и выполните команды:<br>\n",
    "UNIX\n",
    "```bash\n",
    "echo $PYTHONPATH\n",
    "```\n",
    "Windows cmd.exe\n",
    "```\n",
    "echo %PYTHONPATH%\n",
    "```\n",
    "***\n",
    "\n",
    "### Пример 26. Модификация переменной окружения\n",
    "UNIX\n",
    "```bash\n",
    "export PYTHONPATH=/home/user/my_modules_are_here  # задать новое значение\n",
    "export PYTHONPATH=\"/home/user/my_modules_are_here:$PYTHONPATH\"  # дописать путь в начало переменной\n",
    "```\n",
    "Windows cmd.exe\n",
    "```\n",
    "set PYTHONPATH=\"C:\\Users\\%USERPROFILE%\\my_modules_are_here\"\n",
    "set PYTHONPATH=\"C:\\Users\\%USERPROFILE%\\my_modules_are_here:%PYTHONPATH%\"\n",
    "```\n",
    "***\n",
    "\n",
    "Можно задать значение переменной \"навсегда\", то избавиться от необходимости модифицировать ее при каждом запуске терминала. \n",
    "\n",
    "В UNIX команду модификации переменной окружения дописать в файл, который выполняется при запуске терминала (`~/.bashrc`, `~/.bash_profile`). \n",
    "\n",
    "В Windows нужно открыть \"Мой компьютер\", кликнуть правой кнопкой мыши, выбрать Свойства, затем Расширенные и Переменные окружения. Это также можно сделать через реестр, но этот способ здесь не приводится.\n",
    "\n",
    "#### Внимание!\n",
    "\n",
    "Относительные пути в `sys.path` рассматриваются относительно каталога, в котором лежит запущенный скрипт. Изменение текущей директории с помощью `os.chdir()` процесса не позволит изменить набор мест, в котором осуществляется поиск модуля.\n",
    "\n",
    "### Упражнение 11. Работа с PYTHONPATH\n",
    "\n",
    "Создайте скрипт <font color=green face=\"monospace\">script.py</font> и в той же папке создайте каталог <font color=green face=\"monospace\">test_dir_for_modules</font>, в котором будет модуль <font color=green face=\"monospace\">my_module.py</font>. Скрипт <font color=green face=\"monospace\">script.py</font> должен импортировать <font color=green face=\"monospace\">my_module.py</font> и печатать строку <font color=blue face=\"monospace\">\"I am script.py!\"</font> и список <font color=red face=\"monospace\">sys.path</font>, а модуль <font color=green face=\"monospace\">my_module.py</font> должен печатать строку <font color=blue face=\"monospace\">\"I am my_module.py\"</font>. Добавьте в PYTHONPATH \"навсегда\" путь <font color=blue face=\"monospace\">\"test_dir_for_modules\"</font>, и выполните <font color=green face=\"monospace\">script.py</font>.\n",
    "\n",
    "Верните значение PYTHONPATH по умолчанию в исходное состояние.\n",
    "\n",
    "***\n",
    "\n",
    "## <font color=green>Содержимое модуля</font>\n",
    "\n",
    "Получить содержимое модуля можно с помощью встроенной функции [`dir()`](https://docs.python.org/3/library/functions.html#dir).\n",
    "\n",
    "### Пример 27"
   ]
  },
  {
   "cell_type": "code",
   "execution_count": null,
   "metadata": {
    "collapsed": true
   },
   "outputs": [],
   "source": [
    "import lists\n",
    "print(dir(lists))"
   ]
  },
  {
   "cell_type": "markdown",
   "metadata": {},
   "source": [
    "## <font color=green>Используем модуль, как скрипт</font>\n",
    "\n",
    "Как Вы заметили в примере 27, модуль содержит глобальную переменную <font color=red face=\"monospace\">\\_\\_name\\_\\_</font>. Файл с расширением `.py`, как скрипт, то <font color=red face=\"monospace\">\\_\\_name\\_\\_</font> принимает значение <font color=blue face=\"monospace\">\"\\_\\_main\\_\\_\"</font>. Сравнивая <font color=red face=\"monospace\">\\_\\_name\\_\\_</font> с <font color=blue face=\"monospace\">\"\\_\\_main\\_\\_\"</font> можно понять, как используется файл и, таким образом, изменить его поведение.\n",
    "\n",
    "### Пример 28. Использование `__name__`\n",
    "\n",
    "Создайте файл <font color=green face=\"monospace\">launchable_module.py</font> и поместите туда код\n",
    "```python\n",
    "def func():\n",
    "    print(\"func\")\n",
    "    \n",
    "if __name__ == \"__main__\":\n",
    "    print(\"I am main script\")\n",
    "    func()\n",
    "```\n",
    "Затем выполните скрипт <font color=green face=\"monospace\">launchable_module.py</font> и код в следующей клетке."
   ]
  },
  {
   "cell_type": "code",
   "execution_count": null,
   "metadata": {
    "collapsed": true
   },
   "outputs": [],
   "source": [
    "import launchable_module\n",
    "launchable_module.func()"
   ]
  },
  {
   "cell_type": "markdown",
   "metadata": {},
   "source": [
    "### Упражнение 12. Запускаемый модуль\n",
    "\n",
    "Добавьте модулю <font color=green face=\"monospace\">fibo.py</font> из упражнения 9 возможность вычисления N-го Фибоначчи при его вызове из командной строки. Число <font color=red face=\"monospace\">N</font> должно передаваться, как аргумент командной строки. Воспользуйтесь модулем <font color=green face=\"monospace\">fibo.py</font> также, как упражнении 9."
   ]
  },
  {
   "cell_type": "code",
   "execution_count": null,
   "metadata": {
    "collapsed": true
   },
   "outputs": [],
   "source": []
  }
 ],
 "metadata": {
  "kernelspec": {
   "display_name": "Python 3",
   "language": "python",
   "name": "python3"
  },
  "language_info": {
   "codemirror_mode": {
    "name": "ipython",
    "version": 3
   },
   "file_extension": ".py",
   "mimetype": "text/x-python",
   "name": "python",
   "nbconvert_exporter": "python",
   "pygments_lexer": "ipython3",
   "version": "3.5.2"
  }
 },
 "nbformat": 4,
 "nbformat_minor": 2
}
