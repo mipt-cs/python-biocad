{
 "cells": [
  {
   "cell_type": "markdown",
   "metadata": {},
   "source": [
    "# <font color='blue'>Форматирование строк</font>\n",
    "Иногда (а точнее, довольно часто) возникают ситуации, когда нужно сделать строку, подставив в неё некоторые данные, полученные в процессе выполнения программы (пользовательский ввод, данные из файлов и т. д.). Мы рассмотрим, как это делается с помощью метода строк [`str.format`](https://docs.python.org/3/library/stdtypes.html#str.format). Есть хороший [обзор](https://python-scripts.com/string-formatting) остальных подходов к форматированию строк и более детальное [описание](https://pythonworld.ru/osnovy/formatirovanie-strok-metod-format.html) синтаксиса `str.format` на русском.\n",
    "\n",
    "Подстановка значения в строку выполняется на место фигурных скобок.\n",
    "\n",
    "### Пример 1. Подстановка строк"
   ]
  },
  {
   "cell_type": "code",
   "execution_count": null,
   "metadata": {
    "collapsed": true
   },
   "outputs": [],
   "source": [
    "print(\"Меня зовут {}.\".format(\"Вася\"))  # одна строка\n",
    "print(\"меня зовут {} {}\".format(\"Вася\", \"Петров\"))  # две строки"
   ]
  },
  {
   "cell_type": "markdown",
   "metadata": {},
   "source": [
    "### Упражнение 1. Подстановка строк\n",
    "\n",
    "На вход подаются фамилия и имя, разделенные пробелом. Поместите их в форматируемую строку \n",
    "```python\n",
    "\"Фамилия: {}\\nИмя: {}\"\n",
    "```\n",
    "\n",
    "При разбиении входных данных на фамилию и имя используйте множественное присваивание."
   ]
  },
  {
   "cell_type": "code",
   "execution_count": null,
   "metadata": {
    "collapsed": true
   },
   "outputs": [],
   "source": []
  },
  {
   "cell_type": "markdown",
   "metadata": {},
   "source": [
    "### Пример 2. Подстановка чисел. Простейший случай\n",
    "Числа можно подставлять также, как и строки. В этом случае вещественные числа подставляются в десятичном формате."
   ]
  },
  {
   "cell_type": "code",
   "execution_count": null,
   "metadata": {
    "collapsed": true
   },
   "outputs": [],
   "source": [
    "print(\"Подстановка числа типа 'int': {}\".format(10))\n",
    "print(\"Подстановка числа типа 'float': {}\".format(2**0.5))"
   ]
  },
  {
   "cell_type": "markdown",
   "metadata": {},
   "source": [
    "### Упражнение 2. Подстановка чисел 1\n",
    "\n",
    "Подставьте в форматируемую строку `\"Рост: {} м., вес {} кг.\"` рост и вес. Рост и вес вводятся через пробел. Рост действительное число, вес - целое. Используйте множественное присваивание при разбиении входных данных."
   ]
  },
  {
   "cell_type": "code",
   "execution_count": null,
   "metadata": {
    "collapsed": true
   },
   "outputs": [],
   "source": []
  },
  {
   "cell_type": "markdown",
   "metadata": {},
   "source": [
    "### Упражнение 3. Подстановка чисел 2\n",
    "\n",
    "Подставьте в форматируемую строку `\"x={} y={} z={}\"` координаты `x`, `y` и `z`. Действительные числа `x`, `y` и `z` вводятся через пробел. Используйте множественное присваивание при разбиении входных данных."
   ]
  },
  {
   "cell_type": "code",
   "execution_count": null,
   "metadata": {
    "collapsed": true
   },
   "outputs": [],
   "source": []
  },
  {
   "cell_type": "markdown",
   "metadata": {},
   "source": [
    "### Пример 3. Фигурные скобки в форматируемых строках\n",
    "Если требуется добавить в форматируемую строку фигурную скобку, ее нужно повторить 2 раза."
   ]
  },
  {
   "cell_type": "code",
   "execution_count": null,
   "metadata": {
    "collapsed": true
   },
   "outputs": [],
   "source": [
    "print(\"Левая фигурная скобка {{ в форматируемой строке\".format())\n",
    "print(\"Правая фигурная скобка }} в форматируемой строке\".format())\n",
    "print(\"А вот, что получается, если не использовать метод str.format: {{ }}\")\n",
    "set_ = {1, 2, 3}\n",
    "l = list(set_)\n",
    "print(\"Печатаем множество из трех элементов: {{{}, {}, {}}}\".format(l[0], l[1], l[2]))"
   ]
  },
  {
   "cell_type": "markdown",
   "metadata": {},
   "source": [
    "### Упражнение 4. Фигурные скобки\n",
    "\n",
    "Вставьте два целых числа, поданных на вход форматируемую строку так, чтобы получилось, как в примере входных и выходных данных.\n",
    "\n",
    "| <font size=3>Входные данные</font>      | <font size=3>Выходные данные</font>    |\n",
    "| :--- | :--- |\n",
    "| <font size=3>1 2</font> | <font size=3>Форматируемая строка с фигурными скобками {{1} 2}</font> |\n",
    "| <font size=3>3 4</font> | <font size=3>Форматируемая строка с фигурными скобками {{3} 4}</font> |"
   ]
  },
  {
   "cell_type": "code",
   "execution_count": null,
   "metadata": {
    "collapsed": true
   },
   "outputs": [],
   "source": []
  },
  {
   "cell_type": "markdown",
   "metadata": {},
   "source": [
    "## <font color='green'>Форматирование вещественных чисел</font>\n",
    "Наиболее полезным форматирование строк становится, когда требуется записать вещественное число в определенном формате. Например, форматирование строк позволяет указать число знаков после запятой, а также следует использовать экспоненту или нет.\n",
    "\n",
    "### Пример 4. Форматирование в вид с заданным количеством значащих цифр.\n",
    "\n",
    "Для того, чтобы указать точность, надо поставить двоеточие и точку. Целое число, которое за ними следует, показывает количество значащих цифр в записи (при условии, что не указан тип форматирования, см. в следующем примере)."
   ]
  },
  {
   "cell_type": "code",
   "execution_count": null,
   "metadata": {},
   "outputs": [],
   "source": [
    "r = 287.89361269\n",
    "print(\"{:.5}\".format(r))  # Округление до 5 зачащих цифр\n",
    "print(\"{:.2}\".format(r))  # Округление до 2 зачащих цифр\n",
    "print(\"{:.1}\".format(r))  # Округление до 1 зачащей цифры"
   ]
  },
  {
   "cell_type": "markdown",
   "metadata": {},
   "source": [
    "### Упражнение 5. Указание точности 1\n",
    "\n",
    "Распечатайте число $\\pi$ с точностью до 3, 5 и 7 значащих цифр с помощью форматирования строк. Число $\\pi$ можно получить из модуля `math`."
   ]
  },
  {
   "cell_type": "code",
   "execution_count": null,
   "metadata": {
    "collapsed": true
   },
   "outputs": [],
   "source": [
    "import math\n",
    "pi = math.pi"
   ]
  },
  {
   "cell_type": "markdown",
   "metadata": {},
   "source": [
    "### Пример 5. Выбор типа форматирования\n",
    "Для того, чтобы выбрать, в каком формате число будет добавлено в строку, необходимо указать тип. Полный перечень типов есть [здесь](https://docs.python.org/3/library/string.html#formatstrings), и достаточно подробный на русском [тут](https://pythonworld.ru/osnovy/formatirovanie-strok-metod-format.html). Мы рассмотрим запись в десятичном виде (тип `f`) и в виде экспоненты (тип `e`). Если указана точность, то теперь она показывает число знаков после запятой."
   ]
  },
  {
   "cell_type": "code",
   "execution_count": null,
   "metadata": {},
   "outputs": [],
   "source": [
    "print(\"{{:f}}\\n{:f}\\n\".format(r))\n",
    "print(\"{{:.2f}}\\n{:.2f}\\n\".format(r))\n",
    "print(\"{{:e}}\\n{:e}\\n\".format(r))\n",
    "print(\"{{:.2e}}\\n{:.2e}\\n\".format(r))"
   ]
  },
  {
   "cell_type": "markdown",
   "metadata": {},
   "source": [
    "### Упражнение 6. Подготовка данных для построения графика\n",
    "\n",
    "В следующей клетке реализована функция `env`, которая симулирует среду с двумя параметрами `x` и `y`. Эти параметры связаны друг с другом зависимостью, определяемой функцией `f`. При каждом вызове функции `env` она возвращает зашумленные значения `x` и `y`. Требуется записать результаты 1000 измерений (вызовов функции `env`) в файл lab6_ex6.txt в следующем формате:\n",
    "\n",
    "1. В каждой строке записывается результат одного измерения.\n",
    "\n",
    "2. В строке сначала записывается `x`, а затем через пробел `y`.\n",
    "\n",
    "3. `x` сохраняется с точностью до 6 значащих цифр, `y` - с точностью до 4 значащих цифр."
   ]
  },
  {
   "cell_type": "code",
   "execution_count": null,
   "metadata": {
    "collapsed": true
   },
   "outputs": [],
   "source": [
    "import random\n",
    "\n",
    "def f(x):\n",
    "    return x**2\n",
    "\n",
    "def env():\n",
    "    x = random.uniform(-1, 1)\n",
    "    y = f(x) + random.gauss(0, 0.1*abs(x))\n",
    "    return x, y\n",
    "    \n",
    "print(env())"
   ]
  },
  {
   "cell_type": "markdown",
   "metadata": {
    "collapsed": true
   },
   "source": [
    "# <font color=blue>Именованные аргументы функции. \\*args, **kwargs</font>"
   ]
  },
  {
   "cell_type": "markdown",
   "metadata": {},
   "source": [
    "## <font color=green> Именованные аргументы </font>\n",
    "\n",
    "У функций есть позиционные и именованные аргументы. Позиционные аргументы при определении функции просто перечисляются через запятую. Пример:\n",
    "```python\n",
    "def f(x, y, z):\n",
    "    ...\n",
    "```\n",
    "В этом примере `x`, `y`, `z` - позиционные аргументы, и они все должны быть переданы функции при ее вызове.\n",
    "\n",
    "### Пример 6. Что будет, если вызвать функцию с неверным числом позиционных аргументов.\n",
    "\n",
    "В первой клетке снизу определяется функция `add()`, а в следующих трех она вызывается с правильным и неправильным числом параметров."
   ]
  },
  {
   "cell_type": "code",
   "execution_count": 35,
   "metadata": {
    "collapsed": true
   },
   "outputs": [],
   "source": [
    "def add(x, y):\n",
    "    return x + y"
   ]
  },
  {
   "cell_type": "code",
   "execution_count": null,
   "metadata": {
    "collapsed": true
   },
   "outputs": [],
   "source": [
    "z = add(1, 2)  # правильный вызов функции add\n",
    "print(z)"
   ]
  },
  {
   "cell_type": "code",
   "execution_count": null,
   "metadata": {
    "collapsed": true
   },
   "outputs": [],
   "source": [
    "z = add(1)  # недостаточно аргументов"
   ]
  },
  {
   "cell_type": "code",
   "execution_count": null,
   "metadata": {
    "collapsed": true
   },
   "outputs": [],
   "source": [
    "z = add(1, 2, 3)  # слишком много аргументов"
   ]
  },
  {
   "cell_type": "markdown",
   "metadata": {},
   "source": [
    "**Именованные аргументы** - это аргументы функции, для которых определено значение по умолчанию. Так как у аргумента есть значение по умолчанию, его *не обязательно* передавать при вызове функции. Если требуется передать именованный параметр при вызове функции, следует указать его имя.\n",
    "\n",
    "### Пример 7. Функция с именованным аргументом и ее вызов\n",
    "\n",
    "В следующей клетке определяется и вызывается функция с именованным аргументом"
   ]
  },
  {
   "cell_type": "code",
   "execution_count": null,
   "metadata": {
    "collapsed": true
   },
   "outputs": [],
   "source": [
    "def greet(phrase=\"Hello!\"):\n",
    "    print(phrase)\n",
    "print(\"Вызов функции со значением именованного аргумента по умолчанию\")\n",
    "greet()\n",
    "\n",
    "print(\"\\nВызов функции со своим аргументом\")\n",
    "greet(phrase=\"Hi!\")"
   ]
  },
  {
   "cell_type": "markdown",
   "metadata": {},
   "source": [
    "#### Зачем нужны именованные аргументы.\n",
    "\n",
    "1. Для упрощения вызова функций с большим числом параметров. В таких случаях удобно, если нет необходимости перечислять все аргументы и можно задать значения по умолчанию для части из них.\n",
    "\n",
    "2. Некоторые параметры функции могут практически всегда принимать одни и те же значения. Для краткости эти значения удобней указать в определении функции, а не перечислять каждый раз при ее вызове.\n",
    "\n",
    "3. Именованные аргументы при вызове функции можно указывать в произвольном порядке, что освобождает пользователя и разработчика от необходимости помнить очередность параметров функции.\n",
    "\n",
    "#### Правила использования именованных аргументов\n",
    "\n",
    "1. В определении и вызове функции сначала должны быть указаны сначала позиционные, а затем именованные аргументы.\n",
    "\n",
    "2. Именованные аргументы функции при вызове можно указыать в произвольном порядке.\n",
    "\n",
    "### Пример 8. Неправильное использование именованных аргументов\n",
    "\n",
    "Ошибка, так как именованный аргумент указан перед позиционным."
   ]
  },
  {
   "cell_type": "code",
   "execution_count": null,
   "metadata": {
    "collapsed": true
   },
   "outputs": [],
   "source": [
    "def add_item_to_dict(dict_, verbose=False, key, value): \n",
    "    \"\"\"Args:\n",
    "        verbose: если True и key уже содержится в dict_ печатается предупреждение.\n",
    "            verbose (англ.) - многословный\"\"\"\n",
    "    if verbose:\n",
    "        if key in dict_:\n",
    "            print(\"WARNING:{} is already in dictionary\".format(repr(key)))\n",
    "    dict_[key] = value"
   ]
  },
  {
   "cell_type": "markdown",
   "metadata": {},
   "source": [
    "Ошибка так именованный аргумент аргумент стоит перед позиционным при вызове функции."
   ]
  },
  {
   "cell_type": "code",
   "execution_count": null,
   "metadata": {
    "collapsed": true
   },
   "outputs": [],
   "source": [
    "def add_item_to_dict(dict_, key, value, verbose=False): \n",
    "    \"\"\"Args:\n",
    "        verbose: если True и key уже содержится в dict_ печатается предупреждение.\n",
    "            (verbose (англ.) - многословный)\"\"\"\n",
    "    if verbose:\n",
    "        if key in dict_:\n",
    "            print(\"WARNING:{} is already in dictionary\".format(repr(key)))\n",
    "    dict_[key] = value\n",
    "    \n",
    "d = {}\n",
    "add_item_to_dict(d, verbose=True, 'a', 0)"
   ]
  },
  {
   "cell_type": "markdown",
   "metadata": {},
   "source": [
    "В следующей клетке показано правильное использование именованных аргументов в функции `add_item_to_dict()`."
   ]
  },
  {
   "cell_type": "code",
   "execution_count": null,
   "metadata": {
    "collapsed": true
   },
   "outputs": [],
   "source": [
    "def add_item_to_dict(dict_, key, value, verbose=False): \n",
    "    \"\"\"Args:\n",
    "        verbose: если True и key уже содержится в dict_ печатается предупреждение.\n",
    "            (verbose (англ.) - многословный)\"\"\"\n",
    "    if verbose:\n",
    "        if key in dict_:\n",
    "            print(\"WARNING:{} is already in dictionary\".format(repr(key)))\n",
    "    dict_[key] = value\n",
    "    \n",
    "d = {}\n",
    "add_item_to_dict(d, 'a', 0)\n",
    "print(\"После добавления ключа 'a':\", d)\n",
    "\n",
    "print(\"\\nПовторно добавляем ключ 'a' при значении verbose по умолчанию:\")\n",
    "add_item_to_dict(d, 'a', 0)\n",
    "\n",
    "print(\"\\nПовторно добавляем ключ 'a' при verbose=True:\")\n",
    "add_item_to_dict(d, 'a', 0, verbose=True)"
   ]
  },
  {
   "cell_type": "markdown",
   "metadata": {},
   "source": [
    "### Упражнение 7. Дата\n",
    "\n",
    "Напишите функцию, которая прринимает на вход три позиционных аргумента: день, месяц и год (все целые числа) и именованный аргумент `delim`. Функция должна вернуть строку в формате <день> <месяц> <год>, где между числами будет стоять `delim`. По умолчанию `delim` равен `'.'`.\n",
    "\n",
    "| <font size=3>Вызов функции</font>      | <font size=3>Возвращаемое значение</font>    |\n",
    "| :--- | :--- |\n",
    "| <font size=3>f(1, 2, 3)</font> | <font size=3>1.2.3</font> |\n",
    "| <font size=3>f(1, 2, 3, delim='/')</font> | <font size=3>1/2/3</font> |"
   ]
  },
  {
   "cell_type": "code",
   "execution_count": null,
   "metadata": {
    "collapsed": true
   },
   "outputs": [],
   "source": []
  },
  {
   "cell_type": "markdown",
   "metadata": {},
   "source": [
    "## <font color=green>Произвольное количество позиционных аргументов. \\*args</font>\n",
    "\n",
    "Чтобы функция могла принимать произвольное количество позиционных аргументов, необходимо поставить `*` перед последним позиционным аргументом $args$. Пусть у функции $N$ позиционных аргументов, кроме $args$. Тогда, если при ее вызове позиционных параметров больше $N$, то параметры начиная с $(N+1)$-го попадут в кортеж $args$. В этом абзаце подразумевается, что нумерация параметров начинается с 1.\n",
    "\n",
    ">Имя $args$ не является специальной переменной, встроенной функцией и для создания функции, способной принять произвольное число позиционных аргументов, можно этот кортеж называть так, как удобно. Имя $args$ - не более  чем традиция.\n",
    "\n",
    "\n",
    "### Пример 9. Функции с произвольным числом позиционных аргументов"
   ]
  },
  {
   "cell_type": "code",
   "execution_count": null,
   "metadata": {
    "collapsed": true
   },
   "outputs": [],
   "source": [
    "def f(*args):\n",
    "    print(\"args:\", args)\n",
    "    \n",
    "print(\"Передаем функции f() 2 параметра\")\n",
    "f(1, 2)\n",
    "\n",
    "print(\"\\nПередаем функции f() 5 параметров\")\n",
    "f(1, 2, 3, 4, 5)\n",
    "\n",
    "print(\"\\nПередаем функции f() 0 параметров\")\n",
    "f()"
   ]
  },
  {
   "cell_type": "markdown",
   "metadata": {},
   "source": [
    "Пример функции, которой должен быть передан минимум 1 позиционный параметр."
   ]
  },
  {
   "cell_type": "code",
   "execution_count": null,
   "metadata": {
    "collapsed": true
   },
   "outputs": [],
   "source": [
    "def f(a, *args):\n",
    "        print(\"args:\", args)\n",
    "    \n",
    "print(\"Передаем функции f() 2 параметра\")\n",
    "f(1, 2)\n",
    "\n",
    "print(\"\\nПередаем функции f() 5 параметров\")\n",
    "f(1, 2, 3, 4, 5)\n",
    "\n",
    "print(\"\\nПередаем функции f() 1 параметр\")\n",
    "f(1)\n",
    "\n",
    "print(\"\\nПередаем функции f() 0 параметров\")  # ERROR! Не передан аргумент a\n",
    "f()"
   ]
  },
  {
   "cell_type": "markdown",
   "metadata": {},
   "source": [
    "Кортеж не обязательно называть $args$."
   ]
  },
  {
   "cell_type": "code",
   "execution_count": null,
   "metadata": {
    "collapsed": true
   },
   "outputs": [],
   "source": [
    "def f(*spam):\n",
    "    print(spam)\n",
    "f(1, 2)"
   ]
  },
  {
   "cell_type": "markdown",
   "metadata": {},
   "source": [
    "#### Правилa использования $*args$\n",
    "\n",
    "1. В определении функции $*args$ может быть указан только 1 раз.\n",
    "\n",
    "2. $*args$ указывается после всех остальных позиционных аргументов и до именованных аргументов. Пример правильной сигнатуры функции: `def f(a, b, c, *args, d='foo', e='bar')`."
   ]
  },
  {
   "cell_type": "markdown",
   "metadata": {},
   "source": [
    "### Упражение 8. Сложение\n",
    "\n",
    "Напишите функцию, складывающую произвольное количество чисел. Если функции не были переданы аргументы, она должна возвращать `None`."
   ]
  },
  {
   "cell_type": "code",
   "execution_count": null,
   "metadata": {
    "collapsed": true
   },
   "outputs": [],
   "source": []
  },
  {
   "cell_type": "markdown",
   "metadata": {},
   "source": [
    "## <font color=green> Распаковка итерируемых типов при вызове функции </font>\n",
    "\n",
    "Пусть требуется передать функции $f$ 6 позиционных аргументов, которые находятся в списке $L$. "
   ]
  },
  {
   "cell_type": "code",
   "execution_count": null,
   "metadata": {
    "collapsed": true
   },
   "outputs": [],
   "source": [
    "def f(a, b, c, d, e, f):\n",
    "    print(sum([a, b, c, d, e, f]))\n",
    "L = [1, 2, 3, 4, 5, 6]"
   ]
  },
  {
   "cell_type": "markdown",
   "metadata": {},
   "source": [
    "Это можно сделать, обращаясь к элементам списка по индексу и передавая эти аргументы по одному."
   ]
  },
  {
   "cell_type": "code",
   "execution_count": null,
   "metadata": {
    "collapsed": true
   },
   "outputs": [],
   "source": [
    "f(L[0], L[1], L[2], L[3], L[4], L[5])"
   ]
  },
  {
   "cell_type": "markdown",
   "metadata": {},
   "source": [
    "Однако такой подход выглядит крайне громоздким. В python предусмотрен инструмент для автоматического решения данной задачи. Если при вызове функции поставить перед списком `*`, то список будет автоматически распределен по соответствующим позиционным параметрам."
   ]
  },
  {
   "cell_type": "code",
   "execution_count": null,
   "metadata": {
    "collapsed": true
   },
   "outputs": [],
   "source": [
    "f(*L)"
   ]
  },
  {
   "cell_type": "markdown",
   "metadata": {},
   "source": [
    "#### Правила распаковки при вызове функции\n",
    "\n",
    "1. С помощью одной звездочки `*` может быть распакован любой итерируемый объект. Сюда входят списки, строки, кортежи, множества, словари (если таким способом распаковывать словарь, то функция получит его ключи, а не значения), **а также `zip`, `enumerate`, `map` и `range` объекты**.\n",
    "\n",
    "2. Распаковка происходит в том же в порядке, в котором бы происходила итерация по объекту в цикле `for`.\n",
    "\n",
    "3. При указании позиционных аргументов, распаковку можно начинать в любом месте. То есть до и после распаковываемого объекта могут стоять другие позиционные параметры.\n",
    "\n",
    "4. При одном вызове функции можно распаковать несколько объектов.\n",
    "\n",
    "5. **Распаковка может быть осуществлена только при вызове функции, т. е. внутри круглых скобок.**\n",
    "\n",
    "###  Пример 10. Распаковка разных объектов\n",
    "\n",
    "Распаковка встроенных типов python."
   ]
  },
  {
   "cell_type": "code",
   "execution_count": null,
   "metadata": {
    "collapsed": true
   },
   "outputs": [],
   "source": [
    "def f(*args):\n",
    "    print(args)\n",
    "    \n",
    "l1 = [5, 6, 7, 8]\n",
    "s = 'abcd'\n",
    "t = tuple(l1)\n",
    "set_ = {'A', 'B', 'C', 'D'}\n",
    "\n",
    "print(\"l1:\", l1)\n",
    "print(\"s:\", s)\n",
    "print(\"t:\", t)\n",
    "print(\"set_\", set_)\n",
    "\n",
    "print(\"\\nРаспаковываем список l1:\")    \n",
    "f(*l1)\n",
    "\n",
    "print(\"\\nРаспаковываем кортеж t:\")  \n",
    "f(*t)\n",
    "  \n",
    "print(\"\\nРаспаковываем строку s:\")  \n",
    "f(*s)\n",
    "  \n",
    "print(\"\\nРаспаковываем множество set_:\") \n",
    "f(*set_)"
   ]
  },
  {
   "cell_type": "markdown",
   "metadata": {},
   "source": [
    "Распаковка `zip` и `enumerate` объектов."
   ]
  },
  {
   "cell_type": "code",
   "execution_count": null,
   "metadata": {
    "collapsed": true
   },
   "outputs": [],
   "source": [
    "z = zip(l1, s, set_)\n",
    "e = enumerate(s)\n",
    "\n",
    "print(\"Распаковываем zip:\") \n",
    "f(*z)\n",
    "\n",
    "print(\"\\nРаспаковываем enumerate:\") \n",
    "f(*e)"
   ]
  },
  {
   "cell_type": "markdown",
   "metadata": {},
   "source": [
    "### Пример 11. Распаковка более одного объекта при вызове функции"
   ]
  },
  {
   "cell_type": "code",
   "execution_count": null,
   "metadata": {
    "collapsed": true
   },
   "outputs": [],
   "source": [
    "f(\"I love python\", *[\"because\", \"I\", \"like\"], *[\"doing mad\", \"things\"], \"lalala\", *s, *zip(s, l1))"
   ]
  },
  {
   "cell_type": "markdown",
   "metadata": {},
   "source": [
    "### Упражнение 9. Сложение\n",
    "\n",
    "Сложите, используя функццию, которую Вы реализовали в упражнении 8, элементы спискоы `A`, `B` и кортежа `C` вместе с числами `d` и `e`."
   ]
  },
  {
   "cell_type": "code",
   "execution_count": null,
   "metadata": {
    "collapsed": true
   },
   "outputs": [],
   "source": [
    "A = [1, 2, 3]\n",
    "B = [3, 4]\n",
    "C = (5, 6, 7, 8)\n",
    "d = 8\n",
    "e = -2"
   ]
  },
  {
   "cell_type": "markdown",
   "metadata": {},
   "source": [
    " ### Упражнение 10. Считывание массива данных из файла.\n",
    "Считайте данные из файла lab6_ex6.txt в список, каждый элемент которого будет списком, состоящим из двух чисел. Используя `zip`, преобразуйте список из точек в два списка со значениями `x` и `y` соответственно (см. упр. 6)."
   ]
  },
  {
   "cell_type": "code",
   "execution_count": null,
   "metadata": {
    "collapsed": true
   },
   "outputs": [],
   "source": []
  },
  {
   "cell_type": "markdown",
   "metadata": {},
   "source": [
    "Установите matplotlib.\n",
    "```\n",
    "pip install matplotlib\n",
    "```"
   ]
  },
  {
   "cell_type": "code",
   "execution_count": null,
   "metadata": {
    "collapsed": true
   },
   "outputs": [],
   "source": [
    "import matplotlib.pyplot as plt\n",
    "\n",
    "plt.plot(x, y)\n",
    "plt.show()"
   ]
  }
 ],
 "metadata": {
  "kernelspec": {
   "display_name": "Python 3",
   "language": "python",
   "name": "python3"
  },
  "language_info": {
   "codemirror_mode": {
    "name": "ipython",
    "version": 3
   },
   "file_extension": ".py",
   "mimetype": "text/x-python",
   "name": "python",
   "nbconvert_exporter": "python",
   "pygments_lexer": "ipython3",
   "version": "3.6.0"
  }
 },
 "nbformat": 4,
 "nbformat_minor": 2
}
