{
 "cells": [
  {
   "cell_type": "markdown",
   "metadata": {},
   "source": [
    "# <font color=blue>Операторы `is`, `is not`</font>\n",
    "\n",
    "## <font color=green> Операторы `is` и `is not` </font>\n",
    "\n",
    "Так как все переменные в Python являются ссылками, иногда возникает необходимость проверить не ссылаются ли 2 переменные на 1 и тот же объект. Операторы `is` и `is not` сравнивают не значения переменных, а их ссылки (в отличие от операторов `==` и `!=`). Оператор `is` возвращает `True`, если левый и правый операнд указывают на один и тот же объект, и `False` в противном случае. Действие `is not` противоположно тому, как функционирует оператор `is`.\n",
    "\n",
    "### Пример 1. Разные объекты"
   ]
  },
  {
   "cell_type": "code",
   "execution_count": null,
   "metadata": {
    "collapsed": true
   },
   "outputs": [],
   "source": [
    "l1 = [1, 2]\n",
    "l2 = [1, 2]\n",
    "print(\"l1 == l2:\", l1 == l2)\n",
    "print(\"l1 is l2:\", l1 is l2)\n",
    "print(\"l1 is not l2:\", l1 is not l2)"
   ]
  },
  {
   "cell_type": "markdown",
   "metadata": {},
   "source": [
    "### Упражнение 1. Сравнение с помощью `is`\n",
    "\n",
    "Осуществите попарное сравнение элементов списков `L1` и `L2` с помощью оператора `is`. Распечатайте результат сравнения в следующем виде:\n",
    "\n",
    "1. В первой строке должна быть запись вида `<some_value_1> is <some_value_2>`, если сравниваемые переменные `a` и `b` имеют значения `some_value_1` и `some_value_2`.\n",
    "\n",
    "2. Во второй строке должен быть результат операции `a is b`.\n",
    "\n",
    "3. Записи для пар значений должны разделяться пустой строкой.\n",
    "\n",
    "4. Пример:\n",
    "\n",
    "```\n",
    "[1, 2] is [1, 2]\n",
    "False\n",
    "\n",
    "1 is 1\n",
    "True\n",
    "```\n",
    "\n",
    "Используйте форматирование строк и `zip()`."
   ]
  },
  {
   "cell_type": "code",
   "execution_count": null,
   "metadata": {
    "collapsed": true
   },
   "outputs": [],
   "source": [
    "l = [1, 2]\n",
    "s = 'a b'\n",
    "L1 = [1, 1.0, 'a', 11111111111111111111, 'a b', 'abc', [1], (1,), set(), None, l, s, []]\n",
    "L2 = [1, 1.0, 'a', 11111111111111111111, 'a b', 'abc', [1], (1,), set(), None, l, s, []]"
   ]
  },
  {
   "cell_type": "markdown",
   "metadata": {},
   "source": [
    "### Упражнение 2. Инициализация списка списков нулями.\n",
    "\n",
    "В следующей клетке создается объект вида `[[0, 0], [0, 0], [0, 0]]`,  в который в дальнейшем будут помещаться целые числа. Однако что-то пошло не так. Как исправить ошибку?"
   ]
  },
  {
   "cell_type": "code",
   "execution_count": null,
   "metadata": {
    "collapsed": true
   },
   "outputs": [],
   "source": [
    "L = [[0, 0]]*3\n",
    "L[0][0] = 1\n",
    "print(L)"
   ]
  },
  {
   "cell_type": "markdown",
   "metadata": {},
   "source": [
    "### Упражнение 3. Передача объектов в функцию\n",
    "\n",
    "Вася написал две функции `sqr()` и `sub()` для возведения в квадрат элементов списка и поэлементного вычитания списков соответственно. Однако программа дает неожиданный результат. Как исправить ошибку?"
   ]
  },
  {
   "cell_type": "code",
   "execution_count": null,
   "metadata": {
    "collapsed": true
   },
   "outputs": [],
   "source": [
    "def sqr(l):\n",
    "    for i in range(len(l)):\n",
    "        l[i] *= l[i]\n",
    "    return l\n",
    "\n",
    "def sub(l1, l2):\n",
    "    for idx, e2 in enumerate(l2):\n",
    "        l1[idx] -= e2\n",
    "    return l1\n",
    "\n",
    "L = [1, 2, 3]\n",
    "sqr_L = sqr(L)  # L^2\n",
    "diff = sub(sqr_L, L)  # L^2 - L\n",
    "print(diff)  # должно получится [0, 3, 8]"
   ]
  },
  {
   "cell_type": "markdown",
   "metadata": {},
   "source": [
    "## <font color=green>Проверка `None`</font>\n",
    "\n",
    "Проверка, является ли переменная `None` - самый распространенный случай применения операторов `is` и `is not`. Дело в том, что в Python можно перегрузить оператор `==` так, что операция `obj == None` будут возвращать `True`. **Операторы `is` и `is not` не могут быть перегружены, поэтому именно они должны использоваться для проверки `None`.** \n",
    "\n",
    "### Пример 2. Проверка `None`"
   ]
  },
  {
   "cell_type": "code",
   "execution_count": null,
   "metadata": {
    "collapsed": true
   },
   "outputs": [],
   "source": [
    "a = None; b = 0\n",
    "if a is None:\n",
    "    print(\"a is None\")\n",
    "if b is not None:\n",
    "    print(b)"
   ]
  },
  {
   "cell_type": "markdown",
   "metadata": {},
   "source": [
    "### Упражнение 4. Уточнить данные из персональной карточки\n",
    "\n",
    "Проверьте полностью ли заполнены персональная карточка сотрудника. Персональная карточка - это словарь, который должен содержать 4 элемента: имя, фамилию, возраст и должность. Если какие-то из значений в словаре равны `None`, организуйте ввод значения с клавиатуры (программа должна выдать подсказку `\"Заполните поле '<имя поля>'\"`)."
   ]
  },
  {
   "cell_type": "code",
   "execution_count": null,
   "metadata": {
    "collapsed": true
   },
   "outputs": [],
   "source": [
    "card = dict(\n",
    "    name='Mary',\n",
    "    surname=None,\n",
    "    age=24\n",
    ")"
   ]
  },
  {
   "cell_type": "markdown",
   "metadata": {},
   "source": [
    "# <font color=blue>Распаковка словаря при вызове функции</font>\n",
    "\n",
    "## <font color=green> Распаковка словаря при вызове функции </font>\n",
    "\n",
    "Пусть требуется передать функции 2 именованных аргумента `a` и `b` из словаря `d`, в котором присутствуют два ключа `a` и `b`."
   ]
  },
  {
   "cell_type": "code",
   "execution_count": null,
   "metadata": {
    "collapsed": true
   },
   "outputs": [],
   "source": [
    "def f(a=1, b=2):\n",
    "    print('a + b =', a + b)\n",
    "    \n",
    "d = {'a': 3, 'b': 4}"
   ]
  },
  {
   "cell_type": "markdown",
   "metadata": {},
   "source": [
    "Это можно сделать, обращаясь к элементам словаря по ключам и передавая эти аргументы по одному."
   ]
  },
  {
   "cell_type": "code",
   "execution_count": null,
   "metadata": {
    "collapsed": true
   },
   "outputs": [],
   "source": [
    "f(a=d['a'], b=d['b'])"
   ]
  },
  {
   "cell_type": "markdown",
   "metadata": {},
   "source": [
    "Однако такой подход выглядит громоздким. В python предусмотрен инструмент для автоматического решения данной задачи. Если при вызове функции поставить перед словарем `**`, то словарь будет автоматически распределен по соответствующим именованным параметрам."
   ]
  },
  {
   "cell_type": "code",
   "execution_count": null,
   "metadata": {
    "collapsed": true
   },
   "outputs": [],
   "source": [
    "f(**d)"
   ]
  },
  {
   "cell_type": "markdown",
   "metadata": {},
   "source": [
    "### <font color=red> Правила распаковки словарей при вызове функции</font>\n",
    "1. Распаковка словаря должна быть записана **после** позиционных аргументов. Передачу именованных параметров и распаковку словаря можно производить в любом порядке.\n",
    "\n",
    "- При одном вызове функции можно распаковать несколько словарей.\n",
    "\n",
    "- Также возможна распаковка объектов типов, которые наследуются от словарей. Например `collections.OrderedDict`.\n",
    "\n",
    "- **Распаковка может быть осуществлена только при вызове функции, т. е. внутри круглых скобок.**\n",
    "\n",
    "### Пример 3. Распаковка словарей при вызове функции"
   ]
  },
  {
   "cell_type": "code",
   "execution_count": null,
   "metadata": {
    "collapsed": true
   },
   "outputs": [],
   "source": [
    "def f(a, b=2, **kwargs):\n",
    "    print('a:', a)\n",
    "    print('b:', b)\n",
    "    print('kwargs:', kwargs)\n",
    "    \n",
    "d1 = dict(\n",
    "    b=3,\n",
    "    c=4,\n",
    "    d=5\n",
    ")\n",
    "print(\"Распаковка словаря, содержащего кроме аргумента со значением по умолчанию произвольные ключи\")\n",
    "f(0, **d1)\n",
    "\n",
    "d1 = dict(\n",
    "    c=4,\n",
    "    d=5\n",
    ")\n",
    "print(\"\\nРаспаковка словаря, не содержащего аргумент со значением по умолчанию\")\n",
    "f(0, b='b', **d1)\n",
    "print(\"\\nПерестановка передачи именнованого аргумента и распаковки словаря\")\n",
    "f(0, **d1, b='b')\n",
    "\n",
    "d1 = dict(\n",
    "    a=3,\n",
    "    b=4,\n",
    "    c=5,\n",
    "    d=6,\n",
    ")\n",
    "print(\"\\nРаспаковка словаря, не содержащего аргументы со значениями по умолчанию и без\")\n",
    "f(**d1)\n",
    "\n",
    "d1 = dict(\n",
    "    b=3,\n",
    "    c=4,\n",
    "    d=5\n",
    ")\n",
    "d2 = dict(\n",
    "    e=6,\n",
    "    f=7,\n",
    ")\n",
    "print(\"\\nРаспаковка 2-х словарей\")\n",
    "f(0, **d1, **d2)"
   ]
  },
  {
   "cell_type": "markdown",
   "metadata": {},
   "source": [
    "### Пример 4. Неправильное использование распаковки словаря. Дублирование именованного аргумента"
   ]
  },
  {
   "cell_type": "code",
   "execution_count": null,
   "metadata": {
    "collapsed": true
   },
   "outputs": [],
   "source": [
    "def f(a, b=2, **kwargs):\n",
    "    print('a:', a)\n",
    "    print('b:', b)\n",
    "    print('kwargs:', kwargs)\n",
    "    \n",
    "d1 = dict(\n",
    "    b=3,\n",
    "    c=4,\n",
    "    d=5\n",
    ")\n",
    "print(\"Распаковка словаря, содержащего ключ, который совпадает с именем аргумента, переданного обычным способом\")\n",
    "f(0, **d1, b=4)"
   ]
  },
  {
   "cell_type": "markdown",
   "metadata": {},
   "source": [
    "### Пример 5. Неправильное использование распаковки словаря. Передача неопределенного аргумента при отсутствии `**kwargs`"
   ]
  },
  {
   "cell_type": "code",
   "execution_count": null,
   "metadata": {
    "collapsed": true
   },
   "outputs": [],
   "source": [
    "def f(a, b=2):\n",
    "    print('a:', a)\n",
    "    print('b:', b)\n",
    "    \n",
    "d1 = dict(\n",
    "    b=3,\n",
    "    c=4,\n",
    ")\n",
    "print(\"Распаковка словаря, содержащего ключ, не соответствующий ни одному из именованных аргументов\")\n",
    "f(0, **d1)"
   ]
  },
  {
   "cell_type": "markdown",
   "metadata": {},
   "source": [
    "### Пример 6. Неправильное использование распаковки словаря. Распаковка словаря перед позиционным параметром"
   ]
  },
  {
   "cell_type": "code",
   "execution_count": null,
   "metadata": {
    "collapsed": true
   },
   "outputs": [],
   "source": [
    "def f(a, b=2, **kwargs):\n",
    "    print('a:', a)\n",
    "    print('b:', b)\n",
    "    print('kwargs:', kwargs)\n",
    "    \n",
    "d1 = dict(\n",
    "    b=3,\n",
    "    c=4,\n",
    "    d=5\n",
    ")\n",
    "print(\"Распаковка словаря перед указанием позицционного аргумента\")\n",
    "f(**d1, 0)"
   ]
  },
  {
   "cell_type": "markdown",
   "metadata": {},
   "source": [
    "### Упражнение 4. Форматирование строк методом `str.format()` с указанием имен параметров.\n",
    "Метод `str.format()` принимает на вход произвольное число именованных параметров, которые затем можно вставить в строку по их имени (пример в следующей клетке). Напишите программу, вставляющую в строку значения, содержащиеся в персональной карточке `card`. Словарь `card` имеет три ключа: `\"first_name\"`, `\"last_name\"`, `\"age\"`.  Запишите результат в файл.\n",
    "\n",
    "В файле <font color=green>lab8_ex3.txt</font> должна получиться запись вида `<first_name> <last_name>, <age>`.\n",
    "\n",
    "В решении используйте распаковку словаря при вызове функции."
   ]
  },
  {
   "cell_type": "code",
   "execution_count": null,
   "metadata": {
    "collapsed": true
   },
   "outputs": [],
   "source": [
    "import math\n",
    "fs = \"{name} = {value}\"\n",
    "s = fs.format(name='pi', value=math.pi)\n",
    "print(s)"
   ]
  },
  {
   "cell_type": "code",
   "execution_count": null,
   "metadata": {
    "collapsed": true
   },
   "outputs": [],
   "source": [
    "card = dict(\n",
    "    first_name='John',\n",
    "    last_name='Smith',\n",
    "    age=37,\n",
    ")\n",
    "file_name = 'lab10_ex1.txt'"
   ]
  },
  {
   "cell_type": "markdown",
   "metadata": {},
   "source": [
    "### <font color=red> НЕ РЕКОМЕНДУЕТСЯ ИСПОЛЬЗОВАТЬ ОБЪЕКТЫ ИЗМЕНЯЕМЫХ ТИПОВ В КАЧЕСТВЕ ЗНАЧЕНИЙ ПО УМОЛЧАНИЙ ДЛЯ ИМЕНОВАННЫХ АРГУМЕНТОВ</font>\n",
    "\n",
    "Значения по умолчанию именованных аргументов входят в функцию, как объект и потому могут быть случайно изменены. Это чаще приводит к ошибкам, которые тяжело отлаживать.\n",
    "\n",
    "### Пример 7. Список в качестве значения по умолчанию именованного аргумента"
   ]
  },
  {
   "cell_type": "code",
   "execution_count": null,
   "metadata": {
    "collapsed": true
   },
   "outputs": [],
   "source": [
    "def f(l=[]):\n",
    "    print(l)\n",
    "    l.append(len(l))\n",
    "\n",
    "for _ in range(5):\n",
    "    f()"
   ]
  },
  {
   "cell_type": "markdown",
   "metadata": {},
   "source": [
    "## <font color=green> JSON </font>\n",
    "\n",
    "[JSON](https://www.json.org/) (JavaScript Object Notation) - формат сохранения структур данных в понятном для человека виде. По своему виду он похож на используемые в python типы `dict`, `str`, `list`, `int`, `float`. Его удобно использовать для хранения параметров для вызова функции и параметров экспериментов.\n",
    "\n",
    "Есть несколько отличий JSON формата от способов задания значений объектов в Python.\n",
    "\n",
    "1. Строки обозначаются двойными кавычками, одинарные не допускаются.\n",
    "\n",
    "2. Вместо встроенных переменных `None`, `False`, `True` используются соответсвенно `null`, `false`, `true`.\n",
    "\n",
    "3. Ключами словаря могут быть **только строки**.\n",
    "\n",
    "Для работы с JSON в python используется модуль json.\n",
    "\n",
    "### Пример 8. Сохранение объекта Python в json\n",
    "\n",
    "Сохранение объекта в JSON осуществляется с помощью функции [`json.dump()`](https://docs.python.org/3/library/json.html#json.dump). Аргумент `indent` определяет то, как будет оформлен файл. Если `indent=None` (по умолчанию), объект буте записан в JSON-файл в одну строку, что не очень удобно. Если `indent` - целое неотрицательное, то каждое будет в отдельной строке в файле, а структура объекта будет выделена отступами, равными `indent`. "
   ]
  },
  {
   "cell_type": "code",
   "execution_count": null,
   "metadata": {
    "collapsed": true
   },
   "outputs": [],
   "source": [
    "import json\n",
    "dictionary = dict(\n",
    "    a=[1, 2, 3],\n",
    "    b='abc',\n",
    "    c={\"def\": 5}\n",
    ")\n",
    "# печатаем все в одну строку\n",
    "with open('lab10_example10_not_pretty.json', 'w') as f:\n",
    "    json.dump(dictionary, f, indent=2)\n",
    "# выделяем структуру объекта с помощью отступов\n",
    "with open('lab10_example10_dict.json', 'w') as f:\n",
    "    json.dump(dictionary, f, indent=2)\n",
    "    \n",
    "list_ = [1, {'a': 1}, [2, 3]]\n",
    "with open('lab10_example10_list.json', 'w') as f:\n",
    "    json.dump(list_, f, indent=2)"
   ]
  },
  {
   "cell_type": "markdown",
   "metadata": {},
   "source": [
    "### Пример 9. Загрузка json\n",
    "\n",
    "Загрузка содержимого json в программу осуществляется с помощью метода [`json.load()`](https://docs.python.org/3/library/json.html#json.load)."
   ]
  },
  {
   "cell_type": "code",
   "execution_count": null,
   "metadata": {
    "collapsed": true
   },
   "outputs": [],
   "source": [
    "import json\n",
    "with open('lab10_example10_dict.json') as f:\n",
    "    dictionary = json.load(f)\n",
    "print(dictionary)"
   ]
  },
  {
   "cell_type": "markdown",
   "metadata": {},
   "source": [
    "### Упражнение 5. Хранение инструкций для построения графика в json\n",
    "\n",
    "В файле `python-biocad/files/lab10/ex2_conf.json` находятся параметры гистограммы, которую требуется построить. Напишите функцию `hist()` для рисования гистограмм, которая будет принимать на вход данные и путь к файлу с параметрами для рисования. \n",
    "\n",
    "В конце следующей клетки приведены инструкция `def` для создания функции `hist()` и ее вызов. Аргумент `data` - словарь, ключи которого должны стать подписями наборов данных, а значения - сами данные, на основании которых строится гистограмма. Аргумент `config_file_name` - путь к файлу с параметрами для рисования гистограммы.\n",
    "\n",
    "Функция `hist()` должна полностью нарисовать гистограмму, сохранить ее в файл и показать в jupyter.\n",
    "\n",
    "В следующей клетке показан пример кода для создания, сохранения и демонстрации гистограммы.\n",
    "\n",
    "В JSON-конфиге ключ `hist` содержит параметры, которые требуется передать методу [`matplotlib.pyplot.hist()`](https://matplotlib.org/api/_as_gen/matplotlib.pyplot.hist.html). **При передаче параметров используйте распаковку словаря.** Остальные ключи в JSON используются для задания подписей у осей, названия гистограммы и сетки."
   ]
  },
  {
   "cell_type": "code",
   "execution_count": null,
   "metadata": {
    "collapsed": true
   },
   "outputs": [],
   "source": [
    "import random\n",
    "import matplotlib.pyplot as plt\n",
    "%matplotlib inline\n",
    "\n",
    "x_mean, x_stddev = -2, 1\n",
    "y_mean, y_stddev = 1, 2\n",
    "N = 50000\n",
    "x = [random.gauss(x_mean, x_stddev) for _ in range(N)]\n",
    "y = [random.gauss(y_mean, y_stddev) for _ in range(N)]\n",
    "\n",
    "config = '../files/lab10/ex2_conf.json'\n",
    "\n",
    "plt.hist([x, y], labels=['X', 'Y'])\n",
    "plt.legend()\n",
    "plt.xlabel('value')\n",
    "plt.ylabel('num hits')\n",
    "plt.title('Gauss distribution')\n",
    "plt.grid(True)\n",
    "plt.savefig('lab10_ex2_vanilla.png', dpi=900)\n",
    "plt.show()\n",
    "\n",
    "def hist(config_file_name=None, **data):\n",
    "    pass\n",
    "\n",
    "hist(X=x, Y=y, config_file_name=config)"
   ]
  }
 ],
 "metadata": {
  "kernelspec": {
   "display_name": "Python 3",
   "language": "python",
   "name": "python3"
  },
  "language_info": {
   "codemirror_mode": {
    "name": "ipython",
    "version": 3
   },
   "file_extension": ".py",
   "mimetype": "text/x-python",
   "name": "python",
   "nbconvert_exporter": "python",
   "pygments_lexer": "ipython3",
   "version": "3.5.2"
  }
 },
 "nbformat": 4,
 "nbformat_minor": 2
}
