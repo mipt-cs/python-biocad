{
 "cells": [
  {
   "cell_type": "markdown",
   "metadata": {},
   "source": [
    "# <font color=blue>Операторы `is`, `is not`</font>\n",
    "\n",
    "## <font color=green> Операторы `is` и `is not` </font>\n",
    "\n",
    "Так как все переменные в Python являются ссылками, иногда возникает необходимость проверить не ссылаются ли 2 переменные на 1 и тот же объект. Операторы `is` и `is not` сравнивают не значения переменных, а их ссылки (в отличие от операторов `==` и `!=`). Оператор `is` возвращает `True`, если левый и правый операнд указывают на один и тот же объект, и `False` в противном случае. Действие `is not` противоположно тому, как функционирует оператор `is`.\n",
    "\n",
    "### Пример 1. Разные объекты"
   ]
  },
  {
   "cell_type": "code",
   "execution_count": null,
   "metadata": {
    "collapsed": true
   },
   "outputs": [],
   "source": [
    "l1 = [1, 2]\n",
    "l2 = [1, 2]\n",
    "print(\"l1 == l2:\", l1 == l2)\n",
    "print(\"l1 is l2:\", l1 is l2)\n",
    "print(\"l1 is not l2:\", l1 is not l2)"
   ]
  },
  {
   "cell_type": "markdown",
   "metadata": {},
   "source": [
    "### Упражнение 1. Сравнение с помощью `is`\n",
    "\n",
    "Осуществите попарное сравнение элементов списков `L1` и `L2` с помощью оператора `is`. Распечатайте результат сравнения в следующем виде:\n",
    "\n",
    "1. В первой строке должна быть запись вида `<some_value_1> is <some_value_2>`, если сравниваемые переменные `a` и `b` имеют значения `some_value_1` и `some_value_2`.\n",
    "\n",
    "2. Во второй строке должен быть результат операции `a is b`.\n",
    "\n",
    "3. Записи для пар значений должны разделяться пустой строкой.\n",
    "\n",
    "4. Пример:\n",
    "\n",
    "```\n",
    "[1, 2] is [1, 2]\n",
    "False\n",
    "\n",
    "1 is 1\n",
    "True\n",
    "```\n",
    "\n",
    "Используйте форматирование строк и `zip()`."
   ]
  },
  {
   "cell_type": "code",
   "execution_count": null,
   "metadata": {
    "collapsed": true
   },
   "outputs": [],
   "source": [
    "l = [1, 2]\n",
    "s = 'a b'\n",
    "L1 = [1, 1.0, 'a', 11111111111111111111, 'a b', 'abc', [1], (1,), set(), None, l, s, []]\n",
    "L2 = [1, 1.0, 'a', 11111111111111111111, 'a b', 'abc', [1], (1,), set(), None, l, s, []]"
   ]
  },
  {
   "cell_type": "markdown",
   "metadata": {},
   "source": [
    "### Упражнение 2. Инициализация списка списков нулями.\n",
    "\n",
    "В следующей клетке создается объект вида `[[0, 0], [0, 0], [0, 0]]`,  в который в дальнейшем будут помещаться целые числа. Однако что-то пошло не так. Как исправить ошибку?"
   ]
  },
  {
   "cell_type": "code",
   "execution_count": null,
   "metadata": {
    "collapsed": true
   },
   "outputs": [],
   "source": [
    "L = [[0, 0]]*3\n",
    "L[0][0] = 1\n",
    "print(L)"
   ]
  },
  {
   "cell_type": "markdown",
   "metadata": {},
   "source": [
    "### Упражнение 3. Передача объектов в функцию\n",
    "\n",
    "Вася написал две функции `sqr()` и `sub()` для возведения в квадрат элементов списка и поэлементного вычитания списков соответственно. Однако программа дает неожиданный результат. Как исправить ошибку?"
   ]
  },
  {
   "cell_type": "code",
   "execution_count": 1,
   "metadata": {},
   "outputs": [
    {
     "name": "stdout",
     "output_type": "stream",
     "text": [
      "[1, 4, 9]\n",
      "[0, 0, 0]\n"
     ]
    }
   ],
   "source": [
    "def sqr(l):\n",
    "    return [e**2 for e in l]\n",
    "\n",
    "def sub(l1, l2):\n",
    "    for idx, e2 in enumerate(l2):\n",
    "        l1[idx] -= e2\n",
    "    return l1\n",
    "\n",
    "L = [1, 2, 3]\n",
    "sqr_L = sqr(L)  # L^2\n",
    "print(L)\n",
    "diff = sub(sqr_L, L)  # L^2 - L\n",
    "print(diff)  # должно получится [0, 2, 6]"
   ]
  },
  {
   "cell_type": "markdown",
   "metadata": {},
   "source": [
    "## <font color=green>Проверка `None`</font>\n",
    "\n",
    "Проверка, является ли переменная `None` - самый распространенный случай применения операторов `is` и `is not`. Дело в том, что в Python можно перегрузить оператор `==` так, что операция `obj == None` будут возвращать `True`. **Операторы `is` и `is not` не могут быть перегружены, поэтому именно они должны использоваться для проверки `None`.** \n",
    "\n",
    "### Пример 2. Проверка `None`"
   ]
  },
  {
   "cell_type": "code",
   "execution_count": null,
   "metadata": {
    "collapsed": true
   },
   "outputs": [],
   "source": [
    "a = None; b = 0\n",
    "if a is None:\n",
    "    print(\"a is None\")\n",
    "if b is not None:\n",
    "    print(b)"
   ]
  },
  {
   "cell_type": "markdown",
   "metadata": {},
   "source": [
    "### Упражнение 4. Уточнить данные из персональной карточки\n",
    "\n",
    "Проверьте полностью ли заполнены персональная карточка сотрудника. Персональная карточка - это словарь, который должен содержать 4 элемента: имя, фамилию, возраст и должность. Если какие-то из значений в словаре равны `None`, организуйте ввод значения с клавиатуры (программа должна выдать подсказку `\"Заполните поле '<имя поля>'\"`)."
   ]
  },
  {
   "cell_type": "code",
   "execution_count": null,
   "metadata": {
    "collapsed": true
   },
   "outputs": [],
   "source": [
    "card = dict(\n",
    "    name='Mary',\n",
    "    surname=None,\n",
    "    age=None,\n",
    "    position='junior developer'\n",
    ")"
   ]
  }
 ],
 "metadata": {
  "kernelspec": {
   "display_name": "Python 3",
   "language": "python",
   "name": "python3"
  },
  "language_info": {
   "codemirror_mode": {
    "name": "ipython",
    "version": 3
   },
   "file_extension": ".py",
   "mimetype": "text/x-python",
   "name": "python",
   "nbconvert_exporter": "python",
   "pygments_lexer": "ipython3",
   "version": "3.6.9"
  }
 },
 "nbformat": 4,
 "nbformat_minor": 2
}
