{
 "cells": [
  {
   "cell_type": "markdown",
   "metadata": {},
   "source": [
    "# Строки\n",
    "Все методы для работы со строками можно найти [здесь](https://docs.python.org/3/library/stdtypes.html#text-sequence-type-str).\n",
    "\n",
    "Строку можно создать 2-мя способами:\n",
    "1. Использовать конструктор\n",
    "```python\n",
    "a = 3; b = 4.0; c = [1, 2, 3]\n",
    "sa = str(a); sb = str(b); sc = str(c)\n",
    "```\n",
    "\n",
    "2. Явно задать\n",
    "```python\n",
    "a = \"abc\"\n",
    "b = 'abc'\n",
    "c = \"\"\"Very long\n",
    "string that spans multiple lines\"\"\"\n",
    "```\n",
    "\n",
    "#### Важно: `str` - не изменяемый тип.\n",
    "Это значит, что невозможно, как в случае со списком, присвоение элементу строки нового значения.<br>\n",
    "Попробуйте:"
   ]
  },
  {
   "cell_type": "code",
   "execution_count": null,
   "metadata": {
    "collapsed": true
   },
   "outputs": [],
   "source": [
    "s = \"abc\"\n",
    "s[1] = 'd'"
   ]
  },
  {
   "cell_type": "markdown",
   "metadata": {},
   "source": [
    "## Символы\n",
    "В python нет типа `char` (отдельный символ). В python 3 строки поддерживают unicode.<br>\n",
    "Чтобы определить порядковый номер символа в unicode, используется встроенная ([built-in](https://docs.python.org/3/library/functions.html)) функция `ord()`. И наоборот, для того чтобы получить символ по его порядковому номеру в unicode, используется функция `chr()`.<br>\n",
    "Попробуйте:"
   ]
  },
  {
   "cell_type": "code",
   "execution_count": null,
   "metadata": {
    "collapsed": true
   },
   "outputs": [],
   "source": [
    "print(ord('Щ'))\n",
    "print(ord('('))\n",
    "print(chr(2000))"
   ]
  },
  {
   "cell_type": "markdown",
   "metadata": {},
   "source": [
    "#### Специальные символы\n",
    "\n",
    "Запись специальных символов начинается `\\` (escape character). К часто встречающимся на практике специальным символам относятся\n",
    "\n",
    "| <font size=5>запись</font> | <font size=5>что обозначает</font> |\n",
    "| :---: | :---: |\n",
    "| <font size=5>\\\\n</font> | <font size=5>новая строка (переход на следующую строку)</font> |\n",
    "| <font size=5>\\\\t</font> | <font size=5>табуляция</font> |\n",
    "| <font size=5>\\\\\\\\</font> | <font size=5>\\\\</font> |\n",
    "| <font size=5>\\\\\"</font> | <font size=5>\"</font> |\n",
    "| <font size=5>\\\\'</font> | <font size=5>'</font> |\n",
    "\n",
    "\n",
    "Символы `\"` и `'` равносильны в том смысле, что оба могут служить для обозначения границ строки. Если символ, с помощью которого обозначены границы строки, встречается в самой строке, перед ним следует ставить `\\`.\n",
    "\n",
    "Пример:"
   ]
  },
  {
   "cell_type": "code",
   "execution_count": null,
   "metadata": {
    "collapsed": true
   },
   "outputs": [],
   "source": [
    "print('abc\\ndef');print('abc\\tdef');print('abc\\\\def');print()\n",
    "print('abc\\'def');print('abc\\\"def');print('abc\"def');print()\n",
    "print(\"abc\\\"def\");print(\"abc\\'def\");print(\"abc'def\")"
   ]
  },
  {
   "cell_type": "markdown",
   "metadata": {},
   "source": [
    "## Операции со строками\n",
    "* Длина строки\n",
    "```python\n",
    "s = \"abc\"\n",
    "string_length = len(s)\n",
    "```\n",
    "\n",
    "+ Обращение к элементу строки\n",
    "```python\n",
    "s = \"abc\"\n",
    "с = s[1]\n",
    "assert c == 'b'  # команда assert предназначена для отладки программы. Если условие не выполнено, программа прерывается с AssertionError.\n",
    "```\n",
    "Также возможна индексация с конца строки. -1-й элемент является последним в строке.\n",
    "```python\n",
    "с = s[-1]; assert c == 'c' \n",
    "с = s[-3]; assert c == 'a' \n",
    "```\n",
    "\n",
    "+ Срезы (slices)<br>\n",
    "  \n",
    "  Можно выделить подстроку, если известны индексы граничных символов. Пусть `S` - строка длины `N`.\n",
    "    - `S[i:j]` - подстрока $S_iS_{i+1}...S_{j-1}$.\n",
    "    - `S[i:]` - подстрока $S_iS_{i+1}...S_{N-1}$.\n",
    "    - `S[:j]` - подстрока $S_0...S_{j-2}S_{j-1}$\n",
    "    \n",
    "  Выделять элементы можно с определенным шагом\n",
    "    - `S[i:j:k]` - $S_iS_{i+k}...S_{i+k(m-1)}$, где $k>0$, $m = (j - i)~ //~ k$\n",
    "  \n",
    "  Можно располагать элементы в обратном порядке\n",
    "    - `S[j:i:-k]` - $S_jS_{j-k}...S_{i-k(m-1)}$, где $k>0$, $j > i$, $m = (j - i)~ //~ k$\n",
    "\n",
    "### Примеры:"
   ]
  },
  {
   "cell_type": "code",
   "execution_count": null,
   "metadata": {
    "collapsed": true
   },
   "outputs": [],
   "source": [
    "S = \"\"\"Идет бычок, качается,\n",
    "Вздыхает на ходу:\n",
    "- Ох, доска кончается,\n",
    "Сейчас я упаду! \"\"\"\n",
    "s1 = S[:4]  # первые четыре символа в строке\n",
    "s2 = S[5:10]  # символы с 5-го по 9-й включительно\n",
    "s3 = S[72:]  # часть строки, начиная с 72-го символа\n",
    "s4 = S[:-10]  # кроме последних 10-ти символов\n",
    "s5 = S[::2]  # каждый второй символ строки S, начиная с 0-го\n",
    "s6 = S[2:-2:3]  # каждый третий символ строки S начиная со второго без последних двух символов S\n",
    "s7 = S[-2::-1]  # исходная строка, кроме последнего символа, записанная в обратном порядке\n",
    "\n",
    "print(\"\\ns1:\\n\", s1)\n",
    "print(\"\\ns2:\\n\", s2)\n",
    "print(\"\\ns3:\\n\", s3)\n",
    "print(\"\\ns4:\\n\", s4)\n",
    "print(\"\\ns5:\\n\", s5)\n",
    "print(\"\\ns6:\\n\", s6)\n",
    "print(\"\\ns7:\\n\", s7)"
   ]
  },
  {
   "cell_type": "markdown",
   "metadata": {},
   "source": [
    "### Упражнение 1\n",
    "Напишите программу, которая переставляет в обратном порядке символы второй половины строки."
   ]
  },
  {
   "cell_type": "code",
   "execution_count": 6,
   "metadata": {},
   "outputs": [
    {
     "ename": "AssertionError",
     "evalue": "",
     "output_type": "error",
     "traceback": [
      "\u001b[0;31m---------------------------------------------------------------------------\u001b[0m",
      "\u001b[0;31mAssertionError\u001b[0m                            Traceback (most recent call last)",
      "\u001b[0;32m<ipython-input-6-54466d2bdbdb>\u001b[0m in \u001b[0;36m<module>\u001b[0;34m()\u001b[0m\n\u001b[1;32m      1\u001b[0m \u001b[0ms\u001b[0m \u001b[0;34m=\u001b[0m \u001b[0;34m\"abc\"\u001b[0m\u001b[0;34m\u001b[0m\u001b[0m\n\u001b[1;32m      2\u001b[0m \u001b[0mc\u001b[0m \u001b[0;34m=\u001b[0m \u001b[0ms\u001b[0m\u001b[0;34m[\u001b[0m\u001b[0;36m0\u001b[0m\u001b[0;34m]\u001b[0m\u001b[0;34m\u001b[0m\u001b[0m\n\u001b[0;32m----> 3\u001b[0;31m \u001b[0;32massert\u001b[0m \u001b[0mc\u001b[0m \u001b[0;34m==\u001b[0m \u001b[0;34m'b'\u001b[0m\u001b[0;34m\u001b[0m\u001b[0m\n\u001b[0m",
      "\u001b[0;31mAssertionError\u001b[0m: "
     ]
    }
   ],
   "source": [
    "s = \"abc\"\n",
    "c = s[0]\n",
    "assert c == 'b'"
   ]
  },
  {
   "cell_type": "markdown",
   "metadata": {},
   "source": [
    "### Упражнение 2*\n",
    "\n",
    "Реализуйте алгоритм Кнута-Морриса-Пратта для поиска подстроки в строке"
   ]
  },
  {
   "cell_type": "code",
   "execution_count": null,
   "metadata": {
    "collapsed": true
   },
   "outputs": [],
   "source": []
  },
  {
   "cell_type": "markdown",
   "metadata": {},
   "source": [
    "* Конкатенация строк\n",
    "```python\n",
    "s1 = \"abc\"\n",
    "s2 = \"def\"\n",
    "s = s1 + s2\n",
    "assert s == \"abcdef\"  \n",
    "```\n",
    "\n",
    "+ Повторение строк\n",
    "```python\n",
    "s1 = \"abc\"\n",
    "s2 = s1 * 3\n",
    "s3 = 3 * s1\n",
    "assert s2 == s3 == \"abcabcabc\" \n",
    "```\n",
    "\n",
    "+ Разбиение строки по подстроке<br>\n",
    "Осуществляется с помощью метода `split()`. Метод возвращает список строк, на которые была разбита исходная строка. Если методу `split` не передавать аргумент, то разбиение будет произведено по пробелам.\n",
    "\n",
    "> Метод - функция, связанная с объектом, к которому этот метод принадлежит. Методы имеют доступ к объекту, которому принадлежат, и поэтому могут использовать свой объект и его свойства.\n",
    "\n",
    "```python\n",
    "s = \"Вася,Петя,Маша,\"\n",
    "l = s.split(\",\")\n",
    "assert l == [\"Вася\", \"Петя\", \"Маша\", \"\"]  # обратите внимание, если разделитель стоит в начале или в конце строки, то в полученном списке в соответствующем месте появится пустая строка.\n",
    "```\n",
    "\n",
    "### Упражнение 3\n",
    "Найти самое длинное слово во введенном предложении. \n",
    "> Подсказка: знаки препинания можно убрать с помощью метода `replace`. Найдите его в документации и разберитесь, как его применять."
   ]
  },
  {
   "cell_type": "code",
   "execution_count": null,
   "metadata": {
    "collapsed": true
   },
   "outputs": [],
   "source": []
  },
  {
   "cell_type": "markdown",
   "metadata": {},
   "source": [
    "* Строки, как и списки, - итерируемый тип<br>\n",
    "Пример:"
   ]
  },
  {
   "cell_type": "code",
   "execution_count": null,
   "metadata": {
    "collapsed": true
   },
   "outputs": [],
   "source": [
    "string = \"abcdef\"\n",
    "for char in string:\n",
    "    print(char)"
   ]
  },
  {
   "cell_type": "markdown",
   "metadata": {},
   "source": [
    "### Упражнение 4\n",
    "Программа сначала получает на вход строку S, а затем натуральное число N. На выходе должна быть такая строка R, что каждый символ из S повторяется N раз.\n",
    "$$\\Large R_{i \\cdot N + k} = S_i,\\;\\forall\\; k\\in \\overline{0, N-1}$$ \n",
    "\n",
    "| <font size=3>входные данные</font> | <font size=3>выходные данные</font> |\n",
    "| :---: | :---: |\n",
    "| <font size=3>a<br>3</font> | <font size=3>aaa</font> |\n",
    "| <font size=3>килька<br>2</font> | <font size=3>ккииллььккаа</font> |\n",
    "| <font size=3>spam<br>1</font> | <font size=3>spam</font> |"
   ]
  },
  {
   "cell_type": "code",
   "execution_count": null,
   "metadata": {
    "collapsed": true
   },
   "outputs": [],
   "source": []
  },
  {
   "cell_type": "markdown",
   "metadata": {},
   "source": [
    "### Упражнение 5*\n",
    "\n",
    "[1038F из архива codeforces.com](http://codeforces.com/problemset/problem/1038/F)\n",
    "\n",
    "Вам дана строка *s* над бинарным алфавитом.\n",
    "\n",
    "Посчитайте количество различных *циклических строк* длины *n* над бинарным алфавитом, которые содержат *s* как подстроку. \n",
    "\n",
    "Циклическая строка *t* содержит *s* как подстроку если существует какой-то циклический сдвиг строки *t*, такой что *s* является подстрокой этого циклического сдвига строки *t*.\n",
    "\n",
    "Например, циклическая строка «000111» содержит подстроки «001», «01110» и «10», но не содержит «0110» и «10110».\n",
    "\n",
    "Две циклические строки называются различными, если они отличаются как строки. Например, две различные строки, которые отличаются друг от друга циклическим сдвигом, являются **различными** циклическими строками.\n",
    "\n",
    "#### Входные данные\n",
    "\n",
    "Первая строка содержит одно целое число $n$ $(1\\leq n\\leq 40)$ — длина требуемых строк $t$.\n",
    "Вторая строка содержит строку $s$ $(1 \\leq |s| \\leq n)$ — строка, которая должна быть подстрокой циклической строки $t$. Строка $s$ содержит только символы '0' и '1'.\n",
    "\n",
    "\n",
    "#### Выходные данные\n",
    "\n",
    "Выведите одно число — количество различных циклических строк *t* над бинарным алфавитом, которые содержат *s* как подстроку."
   ]
  },
  {
   "cell_type": "code",
   "execution_count": null,
   "metadata": {
    "collapsed": true
   },
   "outputs": [],
   "source": []
  },
  {
   "cell_type": "markdown",
   "metadata": {},
   "source": [
    "* метод `join()`\n",
    "\n",
    "Метод `join()` позволяет объединить строки из некоторого списка строк в одну строку, соединяя их строкой `delim`.\n",
    "\n",
    "Пример:"
   ]
  },
  {
   "cell_type": "code",
   "execution_count": null,
   "metadata": {
    "collapsed": true
   },
   "outputs": [],
   "source": [
    "delim = '!!!'\n",
    "list_of_strings = [\"Hey\", \"Pete\", \"I am here\"]\n",
    "s = delim.join(list_of_strings)\n",
    "s2 = ','.join(list_of_strings)\n",
    "s3 = ''.join(list_of_strings)\n",
    "print(s);print(s2);print(s3)"
   ]
  },
  {
   "cell_type": "markdown",
   "metadata": {},
   "source": [
    "### Упражнение 6\n",
    "Напишите программу, заменяющую в подаваемой на вход строке пробелы на запятые, используя при этом методы `split()` и `join()`. Потом сделайте тоже самое с помощью метода `replace()`.\n",
    "\n",
    "| <font size=3>входные данные</font> | <font size=3>выходные данные</font> |\n",
    "| :---: | :---: |\n",
    "| <font size=3>избавь меня от пробелов</font> | <font size=3>избавь,меня,от,пробелов</font> |"
   ]
  },
  {
   "cell_type": "code",
   "execution_count": null,
   "metadata": {
    "collapsed": true
   },
   "outputs": [],
   "source": []
  },
  {
   "cell_type": "code",
   "execution_count": null,
   "metadata": {
    "collapsed": true
   },
   "outputs": [],
   "source": []
  },
  {
   "cell_type": "markdown",
   "metadata": {},
   "source": [
    "## Проверка наличия подстроки в строке\n",
    "Осуществляется с помощью операторов членства `in` и `not in`\n",
    "```python\n",
    "s = \"abcdef\"\n",
    "b = \"bc\" in s; assert b == True  # операторы in и not in возвращают True или False\n",
    "b = \"bd\" in s; assert b == False  \n",
    "b = \"bc\" not in s; assert b == False  \n",
    "b = \"bd\" not in s; assert b == True\n",
    "```"
   ]
  },
  {
   "cell_type": "markdown",
   "metadata": {},
   "source": [
    "### Упражнение 7\n",
    "Программа должна считывать 2 строки и проверять, входит ли вторая строка в первую. На выходе должно быть `True` или `False`\n",
    "\n",
    "| <font size=3>входные данные</font> | <font size=3>выходные данные</font> |\n",
    "| :---: | :---: |\n",
    "| <font size=3>aabb<br>ab</font> | <font size=3>True</font> |\n",
    "| <font size=3>aabb<br>bbb</font> | <font size=3>False</font> |"
   ]
  },
  {
   "cell_type": "code",
   "execution_count": null,
   "metadata": {
    "collapsed": true
   },
   "outputs": [],
   "source": []
  },
  {
   "cell_type": "markdown",
   "metadata": {},
   "source": [
    "##  Сравнение строк\n",
    "* Строки равны, если они полностью совпадают.\n",
    "\n",
    "```python\n",
    "a = \"abcdef\"\n",
    "b = \"abcdef\"\n",
    "assert a == b\n",
    "```\n",
    "* Строка `a` длины 1 больше строки `b` длины 1, если `ord(a) > ord(b)`\n",
    "\n",
    "* Сравнение строк произвольной длины произвоится согласно следующи правилам\n",
    "\n",
    "  1) если $S_1[i] = S_2[i]\\;\\forall i = \\overline{0,N-1}$ и $S_1[N] > S_2[N]$, то $S_1 > S_2$\n",
    "  \n",
    "  2) если $len(S_1) > len(S_2) = N$ и $S_1[i] = S_2[i]\\;\\forall i = \\overline{0,N}$, то $S_1 > S_2$\n",
    "  \n",
    "Попробуйте"
   ]
  },
  {
   "cell_type": "code",
   "execution_count": null,
   "metadata": {
    "collapsed": true
   },
   "outputs": [],
   "source": [
    "s1 = \"abc\"\n",
    "s2 = \"ab\"\n",
    "s3 = \"ac\"\n",
    "print(\"s2 > s3:\", s2 > s3)\n",
    "print(\"s1 > s2:\", s1 > s2)"
   ]
  },
  {
   "cell_type": "markdown",
   "metadata": {},
   "source": [
    "### Упражнение 8\n",
    "\n",
    "На вход подаются две строки. Будем говорить , что строка $S$ выше строки $P$, если одновременно выполняются 2 условия: \n",
    "\n",
    "1) при расположении $S$ и $P$ в алфавитном порядке $S$ стоит прежде $P$,\n",
    "\n",
    "2) при расположении $S^{-1}$ и $P^{-1}$ в алфавитном порядке $S^{-1}$ стоит прежде $P^{-1}$.\n",
    "\n",
    "Здесь $S^{-1}$ и $P^{-1}$ --- строки $S$ и $P$, записанные в обратном порядке.\n",
    "\n",
    "Если первая строка выше второй, напечатайте `Первая!`, если вторая выше первой --- `Вторая!`. Если ни одна из строк не выше и не ниже другой, напечатайте `Несравнимы`.\n",
    "\n",
    "| <font size=3>входные данные</font> | <font size=3>выходные данные</font> |\n",
    "| :---: | :---: |\n",
    "| <font size=3>aabb<br>ab</font> | <font size=3>Несравнимы</font> |\n",
    "| <font size=3>aabb<br>bbb</font> | <font size=3>Первая!</font> |\n",
    "| <font size=3>печь<br>течь</font> | <font size=3>Первая!</font> |\n",
    "| <font size=3>spam<br>spam</font> | <font size=3>Несравнимы</font> |"
   ]
  },
  {
   "cell_type": "code",
   "execution_count": null,
   "metadata": {
    "collapsed": true
   },
   "outputs": [],
   "source": []
  },
  {
   "cell_type": "markdown",
   "metadata": {},
   "source": [
    "# Списки\n",
    "Один список в python может включать в себя элементы разных типов. Пример:\n",
    "```python\n",
    "l = ['abc', 1, 4.0]\n",
    "```\n",
    "Список может быть создан при инциализации, как выше, либо с помощью конструктора из объекта перечисляемого типа (к перечисляемым типа относятся списки, строки, кортежи (`tuple`), множества, словари, итераторы)\n",
    "```python\n",
    "l2 = list(['abc', 1, 4.0])  # новый список создан из старого, равен старому, но является независимым объектом\n",
    "s = \"abcdef\n",
    "l3 = list(s)  # получаем список из символов строки, которая была передана конструктору\n",
    "```\n",
    "Пустой список можно создать двумя способами:\n",
    "```python\n",
    "empty1 = list()\n",
    "empty2 = []\n",
    "```\n",
    "## Генераторы списков (list comprehensions)\n",
    "Генераторы списков - способ сократить объем кода, если элементы списка создаются в цикле. Следующие два фрагмента эквивалентны."
   ]
  },
  {
   "cell_type": "code",
   "execution_count": null,
   "metadata": {
    "collapsed": true
   },
   "outputs": [],
   "source": [
    "L = [i**2 for i in range(10)]  # создается список из квадратов целых числе от нуля до 10"
   ]
  },
  {
   "cell_type": "code",
   "execution_count": null,
   "metadata": {
    "collapsed": true
   },
   "outputs": [],
   "source": [
    "L = []\n",
    "for i in range(10):\n",
    "    L.append(i**2)"
   ]
  },
  {
   "cell_type": "markdown",
   "metadata": {},
   "source": [
    "В генераторе списка можно указать условие добавления элемента в список. Ниже приведены два фрагмента, решающих задачу отбора элементов `L`, не превосходящих `13`."
   ]
  },
  {
   "cell_type": "code",
   "execution_count": null,
   "metadata": {
    "collapsed": true
   },
   "outputs": [],
   "source": [
    "# в генераторах списков есть возможность добавить условие, определяющее,\n",
    "# будет очередной элемент внесен в список или нет.\n",
    "L2 = [elem for elem in L if elem <= 13]"
   ]
  },
  {
   "cell_type": "code",
   "execution_count": null,
   "metadata": {
    "collapsed": true
   },
   "outputs": [],
   "source": [
    "L2 = []\n",
    "for elem in L:\n",
    "    if elem <= 13:\n",
    "        L2.append(elem)"
   ]
  },
  {
   "cell_type": "markdown",
   "metadata": {},
   "source": [
    "### Упражнение 9\n",
    "На вход подается строка, состоящая из разделенных пробелами цифр. Получите из строки список целых чисел, используя генераторы списков.\n",
    "\n",
    "| <font size=3>входные данные</font> | <font size=3>выходные данные</font> |\n",
    "| :---: | :---: |\n",
    "| <font size=3>1 4 3 9 0</font> | <font size=3>[1, 4, 3, 9, 0]</font> |"
   ]
  },
  {
   "cell_type": "code",
   "execution_count": 7,
   "metadata": {},
   "outputs": [
    {
     "name": "stdout",
     "output_type": "stream",
     "text": [
      "df dfg sg sdg\n",
      "['df', 'dfg', 'sg', 'sdg']\n"
     ]
    }
   ],
   "source": [
    "s = input()\n",
    "s = s.split()\n",
    "print(s)"
   ]
  },
  {
   "cell_type": "code",
   "execution_count": 8,
   "metadata": {},
   "outputs": [
    {
     "data": {
      "text/plain": [
       "3"
      ]
     },
     "execution_count": 8,
     "metadata": {},
     "output_type": "execute_result"
    }
   ],
   "source": [
    "int('3')"
   ]
  },
  {
   "cell_type": "code",
   "execution_count": 9,
   "metadata": {},
   "outputs": [
    {
     "data": {
      "text/plain": [
       "4"
      ]
     },
     "execution_count": 9,
     "metadata": {},
     "output_type": "execute_result"
    }
   ],
   "source": [
    "len(s)"
   ]
  },
  {
   "cell_type": "markdown",
   "metadata": {},
   "source": [
    "### Упражнение 10\n",
    "На вход подается строка, состоящая из разделенных запятыми слов, часть которых - цифры. Требуется получить список из целых чисел, равных этим цифрам. Для решения использовать генераторы списков и метод объектов типа `str` `isdigit()`. Описание метода есть [здесь](https://docs.python.org/3/library/stdtypes.html#str).\n",
    "\n",
    "| <font size=3>входные данные</font> | <font size=3>выходные данные</font> |\n",
    "| :---: | :---: |\n",
    "| <font size=3>у Маши было 3 конфеты, а у Пети - 5</font> | <font size=3>[3, 5]</font> |"
   ]
  },
  {
   "cell_type": "code",
   "execution_count": null,
   "metadata": {
    "collapsed": true
   },
   "outputs": [],
   "source": []
  },
  {
   "cell_type": "markdown",
   "metadata": {},
   "source": [
    "## Операции со списками\n",
    "\n",
    "Часть операций, которые можно выполнять над строками, применимы к спискам без изменений.\n",
    "* срезы\n",
    "* конкатенация\n",
    "* повторение\n",
    "\n",
    "### Упражнение 11\n",
    "Допишите код в следующей клетке так, чтобы элементы списка печатались с конца через 1:<br>\n",
    "  1) начиная с последнего<br>\n",
    "  2) начиная с предпоследнего\n",
    "  \n",
    "Программа ничего не получает на вход.\n",
    "  \n",
    "| <font size=3>входные данные</font> | <font size=3>выходные данные</font> |\n",
    "| :---: | :---: |\n",
    "|  <sp>  | <font size=3>[['d', 'ef'], -3.7, 3, 'bc']</font> |"
   ]
  },
  {
   "cell_type": "code",
   "execution_count": null,
   "metadata": {
    "collapsed": true
   },
   "outputs": [],
   "source": [
    "l = ['a', 'bc', 1, 3, 2, -3.7, 4.8e10, [\"d\", 'ef']]"
   ]
  },
  {
   "cell_type": "markdown",
   "metadata": {},
   "source": [
    "### Упражнение 12\n",
    "Получите список `l2`, первая половина которого совпадает со списком `l`, а вторая половина `l2` симметрична первой относительно середины `l2`.\n",
    "\n",
    "| <font size=3>входные данные</font> | <font size=3>выходные данные</font> |\n",
    "| :---: | :---: |\n",
    "|  <font size=3>[1, 2, 3]</font>  | <font size=3>[1, 2, 3, 3, 2, 1]</font> |"
   ]
  },
  {
   "cell_type": "code",
   "execution_count": null,
   "metadata": {
    "collapsed": true
   },
   "outputs": [],
   "source": []
  },
  {
   "cell_type": "markdown",
   "metadata": {},
   "source": [
    "В отличие от строк список - изменяемый тип, поэтому возможны следующие операции.\n",
    "* Присваивание значения элементу списка\n",
    "```python\n",
    "l = [1, -2, 1e-4]\n",
    "l[1] = 3.1\n",
    "assert l == [1, 3.1, 1e-4]\n",
    "```\n",
    "+ Добавление элемента в конец списка\n",
    "```python\n",
    "l.append([1, 2])  # Последним элементом списка теперь является список [1, 2]\n",
    "l.append('John')\n",
    "assert l == [1, 3.1, 1e-4, [1, 2], 'John']\n",
    "```\n",
    "+ Удаление одного или нескольких элементов из списка\n",
    "```python\n",
    "del l[0]\n",
    "assert l == [3.1, 1e-4, [1, 2], 'John']\n",
    "del l[1:3]\n",
    "assert l == [3.1, 'John']\n",
    "```\n",
    "+ [И многие другие](https://docs.python.org/3/library/stdtypes.html#typesseq-mutable)\n",
    "\n",
    "### Упражнение 13\n",
    "На вход программе подается некоторая строка. Требуется разделить строку по пробелам и поместить подстроки, начинающиеся с прописной буквы, в один список, а остальные подстроки - в другой список. Порядок подстрок в списках должен быть таким же, как в исходной строке.\n",
    ">Для определения того, является ли символ прописной буквой, можно использовать метод объектов типа [`str`](https://docs.python.org/3/library/stdtypes.html#str) `isupper()`.\n",
    "\n",
    "| <font size=3>входные данные</font> | <font size=3>выходные данные</font> |\n",
    "| :---: | :---: |\n",
    "|  <font size=3>Yes, God can make a rock bigger than even He can lift! And you can write more code than you can understand! </font>  | <font size=3>['Yes,', 'God', 'He', 'And'], ['can', 'make,', 'a', 'rock', 'bigger', 'than', 'even', 'can', 'lift!', 'you', 'can', 'write', 'more', 'code', 'than', 'you', 'can', 'understand!']</font> |"
   ]
  },
  {
   "cell_type": "code",
   "execution_count": null,
   "metadata": {
    "collapsed": true
   },
   "outputs": [],
   "source": []
  },
  {
   "cell_type": "markdown",
   "metadata": {},
   "source": [
    "* Присвоение срезу\n",
    "\n",
    "```python\n",
    "l = [1, 2, 3, 4, 5, 6, 7]\n",
    "l2 = [8, 9, 10, 11]\n",
    "l[2:4] = l2  # Элементы со 2-го по 3-й включительно удаляются и вместо них встают элементы списка l2\n",
    "assert l == [1, 2, 8, 9, 10, 11, 5, 6, 7]\n",
    "```\n",
    "\n",
    "### Упражнение 14\n",
    "Допишите код в следующей клетке так, чтобы после наименьшего элемента списка `l` вставлялся список `l2`.\n",
    ">Используйте встроенную функцию [`min()`](https://docs.python.org/3/library/functions.html#min) и метод [`index()`](https://docs.python.org/3/library/stdtypes.html#typesseq-common) итерируемых объектов.\n",
    "\n",
    "| <font size=3>входные данные</font> | <font size=3>выходные данные</font> |\n",
    "| :---: | :---: |\n",
    "| Действительные числа, разделенные пробелами | <sp> |\n",
    "|  <font size=3>-1 0.5 -.91 4.6e-8</font>  | <font size=3>[-1.0, 'b', 'y', 's', 'h', 0.5, -0.91, 4.6e-6]</font> |\n",
    "\n",
    ">Замечание: при записи действительных чисел ведущий и замыкающие нули можно опускать. Например\n",
    "```python\n",
    "assert 0.5 == .5\n",
    "assert 1.0 == 1.\n",
    "```"
   ]
  },
  {
   "cell_type": "code",
   "execution_count": null,
   "metadata": {
    "collapsed": true
   },
   "outputs": [],
   "source": [
    "l = [float(substr) for substr in input().split()]\n",
    "l2 = ['b', 'y', 's', 'h']"
   ]
  },
  {
   "cell_type": "markdown",
   "metadata": {},
   "source": [
    "* Сортировка\n",
    "\n",
    "Список - единственный встроенный тип в python, относящийся к последовательностям (Sequence), элементы которого можно отсортировать. Этой цели служит метод `sort()`. Метод располагает элементы списка в порядке возрастания. Если элементы равны, то они располагаются в том же порядке по отношению друг к другу, что и до сортировки. Если передать методу аргумент `reverse=True`, то сортировка будет произведена по убыванию. \n",
    "\n",
    "Пример:"
   ]
  },
  {
   "cell_type": "code",
   "execution_count": null,
   "metadata": {
    "collapsed": true
   },
   "outputs": [],
   "source": [
    "l1 = [2, 1, 3]\n",
    "l2 = [\"Ann\", \"John\", \"Thomas\", \"Bob\", \"Michael\", \"Алёша\"]\n",
    "l3 = [[3, 2, 1], [1, 2, 3], [-10.5, 5.6]]\n",
    "l4 = [[-10.5, 5.6], 5]\n",
    "l1.sort();print(l1)\n",
    "l2.sort();print(l2)\n",
    "l3.sort(reverse=True);print(l3)\n",
    "l4.sort();print(l4)"
   ]
  },
  {
   "cell_type": "markdown",
   "metadata": {},
   "source": [
    "### Упражнение 15\n",
    "\n",
    "На вход подается строка, расположите символы в строке по убыванию их номера в UNICODE. Используются строковые  методы `split()` и `join()` и метод  `sort()` для списков.\n",
    "\n",
    "| <font size=3>входные данные</font> | <font size=3>выходные данные</font> |\n",
    "| :---: | :---: |\n",
    "|  <font size=3>python</font>  | <font size=3>hnopty</font> |\n",
    "|  <font size=3>banana</font>  | <font size=3>aaabnn</font> |"
   ]
  },
  {
   "cell_type": "code",
   "execution_count": null,
   "metadata": {
    "collapsed": true
   },
   "outputs": [],
   "source": []
  },
  {
   "cell_type": "markdown",
   "metadata": {},
   "source": [
    "### Упражнение 16*\n",
    "[1034D из архива codeforces.com](http://codeforces.com/problemset/problem/1038/F)\n",
    "\n",
    "Little D — друг Little C, который очень любит интервалы вместо числа \"3\".\n",
    "\n",
    "В данный момент у него есть $n$ отрезков на числовой оси, $i$-й из них — $[a_i,b_i]$.\n",
    "\n",
    "Но только $n$ отрезков не могут его удовлевторить. Он определяет значение отрезка отрезков $[l,\\;r]$ ($1\\leq l\\leq r\\leq n$, $l$ и $r$ целые) как длину объединения отрезков с номерами с $l$ по $r$.\n",
    "\n",
    "Он хочет выбрать ровно $k$ различных отрезков отрезков, что сумма их значений максимальна. Помогите ему вычислить эту сумму.\n",
    "#### Входные данные\n",
    "Первая строка содержит два целых числа $n$ и $k$ ($1\\leq n\\leq 3⋅10^5$, $1\\leq k\\leq min\\left\\lbrace \\frac{n(n+1)}{2},\\;10^9\\right\\rbrace$) — количество отрезков у Little D и количество отрезков отрезков, которые он выберет.\n",
    "\n",
    "Каждая из $n$ следующих строк содержит два целых числа $a_i$ и $b_i$, $i$-я строка описывает $i$-й отрезок ($1\\leq a_i< b_i \\leq 10^9$).\n",
    "#### Выходные данные\n",
    "\n",
    "Выведите единственное число — максимальную сумму значений, которую может получить Little D.\n"
   ]
  },
  {
   "cell_type": "code",
   "execution_count": null,
   "metadata": {
    "collapsed": true
   },
   "outputs": [],
   "source": []
  },
  {
   "cell_type": "markdown",
   "metadata": {},
   "source": [
    "# Переменные логического типа (bool)\n",
    "Переменные логического типа могут принимать только 2 значения ложное (`False`) и истинное (`True`). Идентификаторы `True` и `False` не следует использовать для обозначения переменных. Переменные типа `bool` могут быть преобразованы в `str`, `int`, `float`.\n",
    "\n",
    "Если последовательность (строка, список или кортеж) `S` не пустая, то `bool(S) == True`. Для пустой последоватльности `bool(S) == False`.\n",
    "\n",
    "Числа равные `0` преобразуются в `False`, остальные в `True`.\n",
    "\n",
    "Выполните код снизу."
   ]
  },
  {
   "cell_type": "code",
   "execution_count": null,
   "metadata": {
    "collapsed": true
   },
   "outputs": [],
   "source": [
    "print(\"Преобразуем True\")\n",
    "print(\"int(True) =\", int(True))\n",
    "print(\"float(True) =\", float(True))\n",
    "print(\"str(True) =\", str(True))\n",
    "\n",
    "print(\"\\nПреобразуем False\")\n",
    "print(\"int(False) =\", int(False))\n",
    "print(\"float(False) =\", float(False))\n",
    "print(\"str(False) =\", str(False))\n",
    "\n",
    "print(\"\\nПустая строка: bool('') =\", bool(''))\n",
    "print(\"Любая непустая строка: bool('True') =\", bool('True'))\n",
    "print(\"Любая непустая строка: bool('False') =\", bool('False'))\n",
    "print(\"Любая непустая строка: bool('some string') =\", bool('some string'))\n",
    "\n",
    "print(\"bool(-3) =\", bool(-3))\n",
    "print(\"bool(2) =\", bool(2))\n",
    "print(\"bool(0) =\", bool(0))"
   ]
  },
  {
   "cell_type": "markdown",
   "metadata": {},
   "source": [
    "В инструкции `if-elif-else` и в условии цикла `while` производится неявное преобразование условия к типу `bool`. Например, в клетке внизу в первой инструкции `if-else` `l` заменяется на `bool(l)`."
   ]
  },
  {
   "cell_type": "code",
   "execution_count": null,
   "metadata": {
    "collapsed": true
   },
   "outputs": [],
   "source": [
    "l = [1, 2]\n",
    "if l:  # эквивалентно if bool(l)\n",
    "    print(\"condition is True\")\n",
    "else:\n",
    "    print(\"condition is False\")\n",
    "    \n",
    "l = []\n",
    "if l and True:  # эквивалентно if bool(l) and True\n",
    "    print(\"condition is True\")\n",
    "else:\n",
    "    print(\"condition is False\")"
   ]
  },
  {
   "cell_type": "markdown",
   "metadata": {},
   "source": [
    "### Упражнение 17\n",
    "\n",
    "В следующей клетке задан список `l`. Напишите цикл `while`, в теле которого будет удаляться 0-й элемент списка `l`. Цикл должен прерваться, когда список станет пустым. Использовать список в качестве условия: `if l`"
   ]
  },
  {
   "cell_type": "code",
   "execution_count": null,
   "metadata": {
    "collapsed": true
   },
   "outputs": [],
   "source": [
    "import random\n",
    "l = [0]*random.randint(0, 40)"
   ]
  },
  {
   "cell_type": "markdown",
   "metadata": {},
   "source": [
    "# Каскадные условия\n",
    "\n",
    "```python\n",
    "if condition0:\n",
    "    print(0)\n",
    "elif condition1:\n",
    "    print(1)\n",
    "elif condition2:\n",
    "    print(2)\n",
    "else:\n",
    "    print(3)\n",
    "```\n",
    "Если не выполняется условие condition1, следующее условие и т. д. до тех пор пока условия не закончатся или не встретится else. Наличие else не обязательно.  "
   ]
  },
  {
   "cell_type": "markdown",
   "metadata": {},
   "source": [
    "### Упражнение 18\n",
    "По очереди вводятся число ``a``, символ ``ch``, равный ``*``, ``/``, ``+`` или ``-`` и второе число ``b``.\n",
    "\n",
    "1. Если ``ch == '*'``, то распечатать ``a * b``\n",
    "\n",
    "2. Если ``ch == '/'`` и ``b != 0`` - распечатать ``a / b``\n",
    "\n",
    "3. Если ``ch == '/'`` и ``b == 0`` распечатать строку \"Ошибка! Деление на ноль\".\n",
    "\n",
    "4. Если ``ch == '+'``, то распечатать ``a + b``\n",
    "\n",
    "5. Если ``ch == '-'``, то распечатать ``a - b``\n",
    "\n",
    "| <font size=3>входные данные</font> | <font size=3>выходные данные</font> |\n",
    "| :---: | :---: |\n",
    "|  <font size=3>6<br>/<br>2</font>  | <font size=3>3</font> |\n",
    "|  <font size=3>6<br>-<br>2</font>  | <font size=3>4</font> |"
   ]
  },
  {
   "cell_type": "code",
   "execution_count": null,
   "metadata": {
    "collapsed": true
   },
   "outputs": [],
   "source": []
  },
  {
   "cell_type": "markdown",
   "metadata": {},
   "source": [
    "# Логические операторы\n",
    "\n",
    "| <font size=4>логическая операция</font> | <font size=4>оператор</font> |\n",
    "|:------------------: |:-------: |\n",
    "| <font size=4>\"не\"</font> | <font size=4>not</font> |\n",
    "| <font size=4>\"и\"</font> | <font size=4>and</font> |\n",
    "| <font size=4>\"или\"</font> | <font size=4>or</font> |"
   ]
  },
  {
   "cell_type": "markdown",
   "metadata": {},
   "source": [
    "### Упражнение 19\n",
    "На вход программе подается год от РХ (натуральное число). Программа должна вернуть True, если год високосный и False если не високосный. В решении должна быть только одна конструкция if...else. Год високосный, если его номер кратен 400 или кратен 4 и при этом не кратен 100.\n",
    "\n",
    "| <font size=3>входные данные</font> | <font size=3>выходные данные</font> |\n",
    "| :---: | :---: |\n",
    "|  <font size=3>2000</font>  | <font size=3>True</font> |\n",
    "|  <font size=3>1996</font>  | <font size=3>True</font> |\n",
    "|  <font size=3>1900</font>  | <font size=3>False</font> |\n",
    "|  <font size=3>2019</font>  | <font size=3>False</font> |"
   ]
  },
  {
   "cell_type": "code",
   "execution_count": null,
   "metadata": {
    "collapsed": true
   },
   "outputs": [],
   "source": []
  },
  {
   "cell_type": "markdown",
   "metadata": {},
   "source": [
    "# Вложеные циклы и списки\n",
    "В теле одного цикла может быть другой цикл, а элементы списка могут быть списками. В python нет специального типа для многомерных массивов, и на практике многомерные массивы часто реализуются с помощью списков, содержащих списки.\n",
    "\n",
    "### Упражнение 20\n",
    "Допишите код в следуещей клетке так, чтобы элементы двумерного массива A были возведены в квадрат."
   ]
  },
  {
   "cell_type": "code",
   "execution_count": null,
   "metadata": {
    "collapsed": true
   },
   "outputs": [],
   "source": [
    "import random\n",
    "num_rows = 6\n",
    "num_columns = 7\n",
    "A = [[random.randint(-10, 10) for _ in range(num_columns)] for _ in range(num_rows)]  # random.randint(a, b) возвращает случайное целое число от a до b\n",
    "# Нижнее подчеркивание _ имеет несколько назначений в python \n",
    "# Одно из них - отбрасывать результаты операций, который не нужны в программе"
   ]
  },
  {
   "cell_type": "markdown",
   "metadata": {},
   "source": [
    "### Упражнение 21\n",
    "На вход программе подаются несколько чисел, разделенных пробелами. Отсортируйте эти числа по убыванию используя алгоритм [сортировки выбором](https://ru.wikipedia.org/wiki/%D0%A1%D0%BE%D1%80%D1%82%D0%B8%D1%80%D0%BE%D0%B2%D0%BA%D0%B0_%D0%B2%D1%8B%D0%B1%D0%BE%D1%80%D0%BE%D0%BC). Не используйте встроенные инструменты python для сортировки (функцию `sorted()` и метод `sort()` объектов типа `list`). Распечатайте список с упорядоченными числами.\n",
    "\n",
    ">Преобразуйте сроки в действительные числа.\n",
    "\n",
    "| <font size=3>входные данные</font> | <font size=3>выходные данные</font> |\n",
    "| :---: | :---: |\n",
    "|  <font size=3>2000 3 -1.5 7.9</font>  | <font size=3>[-1.5, 3.0, 7.9, 2000.0]</font> |"
   ]
  },
  {
   "cell_type": "code",
   "execution_count": null,
   "metadata": {
    "collapsed": true
   },
   "outputs": [],
   "source": []
  },
  {
   "cell_type": "markdown",
   "metadata": {},
   "source": [
    "### Упражнение 22\n",
    "На вход программе подается строка, сотоящая из слов, разделенных пробелами. Сформируйте список из этих слов, в котором они будут расположены в алфавитном порядке. Предварительно замените прописные буквы строчными с помощью метода `lowercase()` объектов типа `str`. Используйте метод [сортировки пузырьком](https://ru.wikipedia.org/wiki/%D0%A1%D0%BE%D1%80%D1%82%D0%B8%D1%80%D0%BE%D0%B2%D0%BA%D0%B0_%D0%BF%D1%83%D0%B7%D1%8B%D1%80%D1%8C%D0%BA%D0%BE%D0%BC).\n",
    "\n",
    "| <font size=3>входные данные</font> | <font size=3>выходные данные</font> |\n",
    "| :---: | :---: |\n",
    "|  <font size=3>Я люблю питон</font>  | <font size=3>['люблю', 'питон', 'я']</font> |"
   ]
  },
  {
   "cell_type": "code",
   "execution_count": null,
   "metadata": {
    "collapsed": true
   },
   "outputs": [],
   "source": []
  },
  {
   "cell_type": "markdown",
   "metadata": {},
   "source": [
    "### Упражнение 23\n",
    "Решите предыдущую задачу с помощью [быстрой сортировки](https://ru.wikipedia.org/wiki/%D0%91%D1%8B%D1%81%D1%82%D1%80%D0%B0%D1%8F_%D1%81%D0%BE%D1%80%D1%82%D0%B8%D1%80%D0%BE%D0%B2%D0%BA%D0%B0)"
   ]
  },
  {
   "cell_type": "code",
   "execution_count": null,
   "metadata": {
    "collapsed": true
   },
   "outputs": [],
   "source": []
  }
 ],
 "metadata": {
  "kernelspec": {
   "display_name": "Python 3",
   "language": "python",
   "name": "python3"
  },
  "language_info": {
   "codemirror_mode": {
    "name": "ipython",
    "version": 3
   },
   "file_extension": ".py",
   "mimetype": "text/x-python",
   "name": "python",
   "nbconvert_exporter": "python",
   "pygments_lexer": "ipython3",
   "version": "3.6.3"
  }
 },
 "nbformat": 4,
 "nbformat_minor": 2
}
