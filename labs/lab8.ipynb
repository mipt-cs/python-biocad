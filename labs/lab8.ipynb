{
 "cells": [
  {
   "cell_type": "markdown",
   "metadata": {},
   "source": [
    "# <font color=blue>Произвольное количество именованных аргументов. Распаковка словаря при вызове функции</font>\n",
    "\n",
    "## <font color=green> Произвольное количество именованных аргументов </font>\n",
    "\n",
    "Чтобы функция могла принимать произвольное количество именованных аргументов, необходимо поставить `**` перед последним аргументом  $kwargs$ в определении функции. Пусть у функции $N$ аргументов (кроме `*args`). Тогда, если при ее вызове были указаны именованные аргументы, не входящие в упомянутые $N$ параметров, то они попадут в словарь $kwargs$.\n",
    "\n",
    ">Имя $kwargs$ не является специальной переменной и для создания функции, способной принять произвольное число именованных аргументов, можно этот словарь называть так, как удобно. Имя $kwargs$ расшифровывается, как \"key word arguments\", и является не более чем соглашением между пользователями Python.\n",
    "\n",
    "### Пример 1. Функции с произвольным числом именованных аргументов"
   ]
  },
  {
   "cell_type": "code",
   "execution_count": null,
   "metadata": {
    "collapsed": true
   },
   "outputs": [],
   "source": [
    "def f(**kwargs):\n",
    "    print(\"kwargs:\", kwargs)\n",
    "    \n",
    "print(\"Передаем функции f() 2 параметра\")\n",
    "f(a=1, b=2)\n",
    "\n",
    "print(\"\\nПередаем функции f() 5 параметров\")\n",
    "f(a=1, b=2, c=3, d=4, e=5)\n",
    "\n",
    "print(\"\\nПередаем функции f() 0 параметров\")\n",
    "f()"
   ]
  },
  {
   "cell_type": "markdown",
   "metadata": {},
   "source": [
    "### Пример 2. Функция c другими аргументами, кроме  `**kwargs`\n",
    "\n",
    "Если в определении функции присутствуют обыкновенные аргументы, то в `kwargs` попадут только ключи, не указанные в определении."
   ]
  },
  {
   "cell_type": "code",
   "execution_count": null,
   "metadata": {
    "collapsed": true
   },
   "outputs": [],
   "source": [
    "def f(a, *args, b='b', **kwargs):\n",
    "    print(\"kwargs:\", kwargs)\n",
    "    print(\"args:\", args)\n",
    "    print(\"a:\", a)\n",
    "    print(\"b:\", b)\n",
    "    \n",
    "print(\"Передаем функции f() 2 параметра, включая a\")\n",
    "f(a=1, b=2)\n",
    "\n",
    "print(\"\\nПередаем функции f() 2 параметра, среди которых нет b\")\n",
    "f(1, с=3, b=2)\n",
    "\n",
    "print(\"\\nПередаем функции f() только параметр a\")  # ERROR! Не передан аргумент a\n",
    "f(a=1)\n",
    "\n",
    "print(\"\\nПередаем функции f() 2 позиционных аргумента\")  # ERROR! Не передан аргумент a\n",
    "f(1, 2, c=4, d=5)"
   ]
  },
  {
   "cell_type": "markdown",
   "metadata": {},
   "source": [
    "### Пример 3. Словарь не обязательно называть `**kwargs`"
   ]
  },
  {
   "cell_type": "code",
   "execution_count": null,
   "metadata": {
    "collapsed": true
   },
   "outputs": [],
   "source": [
    "def f(**dictionary):\n",
    "    print(dictionary)\n",
    "    \n",
    "f(a=1)"
   ]
  },
  {
   "cell_type": "markdown",
   "metadata": {},
   "source": [
    "### Упражнение 1. Печать именованных аргументов в алфавитном порядке\n",
    "\n",
    "Напишите функцию `pr()`, принимающую на вход произвольное число именованных аргументов. Распечатайте `*kwargs` так, чтобы ключи следовали в алфавитном порядке. "
   ]
  },
  {
   "cell_type": "code",
   "execution_count": null,
   "metadata": {
    "collapsed": true
   },
   "outputs": [],
   "source": []
  },
  {
   "cell_type": "markdown",
   "metadata": {},
   "source": [
    "### Упражнение 2. Пользовательская функция для добавления элемента в словарь.\n",
    "\n",
    "Напишите функцию `add2dict()`, добавляющую элемент со строковым ключом в словарь. И, в случае, если элемент с таким ключом `\"some_key\"` уже присутствует, то ключ модифицируется дописыванием к нему строки `\"#<N>\"`, где `<N>` - число элементов в словаре с ключами вида `\"some_key\"` и `\"some_key#<idx>\"`. В следующей клетке показано возможное применение функции `add2dict()`."
   ]
  },
  {
   "cell_type": "code",
   "execution_count": null,
   "metadata": {
    "collapsed": true
   },
   "outputs": [],
   "source": [
    "d = {'a': 1}\n",
    "add2dict(d, b=2)\n",
    "assert d == {'a': 1, 'b': 2}\n",
    "add2dict(d, a=3)\n",
    "assert d == {'a': 1, 'b': 2, 'a#1': 3}"
   ]
  }
 ],
 "metadata": {
  "kernelspec": {
   "display_name": "Python 3",
   "language": "python",
   "name": "python3"
  },
  "language_info": {
   "codemirror_mode": {
    "name": "ipython",
    "version": 3
   },
   "file_extension": ".py",
   "mimetype": "text/x-python",
   "name": "python",
   "nbconvert_exporter": "python",
   "pygments_lexer": "ipython3",
   "version": "3.5.2"
  }
 },
 "nbformat": 4,
 "nbformat_minor": 2
}
