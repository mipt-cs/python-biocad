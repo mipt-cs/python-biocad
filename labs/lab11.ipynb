{
 "cells": [
  {
   "cell_type": "markdown",
   "metadata": {},
   "source": [
    "## <font color=red>Литература</font>\n",
    "\n",
    "1. Лекции «Алгоритмы: построение, анализ и реализация на языке программирования Си» - Ворожцов А.В., Винокуров Н.А.. Выложена в канале **#edu_materials**\n",
    "\n",
    "# <font color=blue>Алгоритмы сортировки</font>\n",
    "\n",
    "## <font color=green>Сортировка выбором</font>\n",
    "\n",
    "Пусть требуется отсортировать некоторый массив `L` по возрастанию. Если используется сортировка выбором, то упорядочивание будет происходить по порядку слева направо. Иначе говоря, сначала будет найден элемент, который будет занимать нулевое место в упорядоченном массиве, за тем элемент, который займет первое место и т. д.. \n",
    "\n",
    "Идея алгоритма состояит в том, чтобы на каждом шаге искать наименьший элемент в неупорядоченной части массива и менять его местами с элементом, который занимает 0-е место в неупорядоченной части массива.\n",
    "\n",
    "В соответствующей статье на [википедии](https://ru.wikipedia.org/wiki/%D0%A1%D0%BE%D1%80%D1%82%D0%B8%D1%80%D0%BE%D0%B2%D0%BA%D0%B0_%D0%B2%D1%8B%D0%B1%D0%BE%D1%80%D0%BE%D0%BC) есть наглядная анимация.\n",
    "\n",
    "| <font size=3>Сложность</font> | <font size=3>Лучший случай</font> |<font size=3>В среднем</font>|<font size=3>Худший случай</font>|  \n",
    "| :---: | :---: | :---: | :---: |\n",
    "| <font size=3>Время</font> | <font size=3> $O(n^2)$</font> | <font size=3> $O(n^2)$</font> | <font size=3> $O(n^2)$</font> |\n",
    "| <font size=3>Память</font> | <font size=3>$O(1)$</font> | <font size=3>$O(1)$</font> | <font size=3>$O(1)$</font> |\n",
    "\n",
    "\n",
    "### Упражнение 1. Сортировка выбором\n",
    "\n",
    "Реализуйте сортировку выбором для поданного на вход списка. Оформите сортировку в виде функции."
   ]
  },
  {
   "cell_type": "code",
   "execution_count": null,
   "metadata": {
    "collapsed": true
   },
   "outputs": [],
   "source": []
  },
  {
   "cell_type": "markdown",
   "metadata": {},
   "source": [
    "## <font color=green>Сортировка пузырьком</font>\n",
    "\n",
    "Сортировка «пузырьком» осуществляется следующим образом. «Пробежим» по элементам массива, сравнивая каждый из них со следующим. После каждого сравнения будем менять соседние элементы местами, если они расположены в неправильном порядке. Потом «пробежим» снова и снова, пока массив не окажется упорядоченным.\n",
    "\n",
    "При каждом пробеге в конец массива будет \"всплывать\" наибольший элемент массива.\n",
    "\n",
    "В соответствующей статье на [википедии](https://en.wikipedia.org/wiki/Bubble_sort) есть наглядная анимация.\n",
    "\n",
    "| <font size=3>Сложность</font> | <font size=3>Лучший случай</font> |<font size=3>В среднем</font>|<font size=3>Худший случай</font>|  \n",
    "| :---: | :---: | :---: | :---: |\n",
    "| <font size=3>Время</font> | <font size=3> $O(n)$</font> | <font size=3> $O(n^2)$</font> | <font size=3> $O(n^2)$</font> |\n",
    "| <font size=3>Память</font> | <font size=3>$O(1)$</font> | <font size=3>$O(1)$</font> | <font size=3>$O(1)$</font> |\n",
    "\n",
    "### Пример 1. Сортировка пузырьком\n",
    "Ниже приведен пример сортировки массива целых чисел. Результаты перестановок выделены красным.\n",
    "\n",
    "<font size=4>\n",
    "4 3 2 7 1 8 6 5<br>\n",
    "<font color=red>3 4</font> 2 7 1 8 6 5<br>\n",
    "3 <font color=red>2 4</font> 7 1 8 6 5<br>\n",
    "3 2 4 <font color=red>1 7</font> 8 6 5<br>\n",
    "3 2 4 1 7 <font color=red>6 8</font> 5<br>\n",
    "3 2 4 1 7 6 <font color=red>5 8</font> <br>\n",
    "<font color=red>2 3</font> 4 1 7 6 5 8 <br>\n",
    "2 3 <font color=red>1 4</font> 7 6 5 8 <br>\n",
    "2 3 1 4 <font color=red>6 7</font> 5 8 <br>\n",
    "2 3 1 4 6 <font color=red>5 7</font> 8 <br>\n",
    "2 <font color=red>1 3</font> 4 6 5 7 8 <br>\n",
    "2 1 3 4 <font color=red>5 6</font> 7 8 <br>\n",
    "<font color=red>1 2</font> 3 4 5 6 7 8 <br>\n",
    "</font>\n",
    "\n",
    "### Упражнение 2. Сортировка пузырьком\n",
    "\n",
    "Реализуйте сортировку пузырьком для поданного на вход списка. Оформите сортировку в виде функции."
   ]
  },
  {
   "cell_type": "code",
   "execution_count": null,
   "metadata": {
    "collapsed": true
   },
   "outputs": [],
   "source": []
  },
  {
   "cell_type": "markdown",
   "metadata": {},
   "source": [
    "### Упражнение 3. Эффективность сортировки пузырьком\n",
    "\n",
    "Как Вы считаете, какой из алгоритмов эффективнее, \"сортировка выбором\" или \"сортировка пузырьком\"? Почему?"
   ]
  },
  {
   "cell_type": "markdown",
   "metadata": {},
   "source": [
    "## <font color=green>Сортировка вставками</font>\n",
    "\n",
    "Алгоритм отчасти похож на сортировку пузырьком. Пусть первые $n-1$ элементов массива упорядочены. Если $n$-й элемент меньше $(n-1)$-го он перемещается налево \"пузырьком\", пока не будет найдено его место в упорядоченной части массива. После того, как было найдено место для $n$-го элемента, \"пузырьковая\" часть прерывается и начинается обработка $(n+1)$-го элемента.\n",
    "\n",
    "В соответствующей статье на [википедии](https://en.wikipedia.org/wiki/Insertion_sort) есть наглядная анимация.\n",
    "\n",
    "| <font size=3>Сложность</font> | <font size=3>Лучший случай</font> |<font size=3>В среднем</font>|<font size=3>Худший случай</font>|  \n",
    "| :---: | :---: | :---: | :---: |\n",
    "| <font size=3>Время</font> | <font size=3> $O(n)$</font> | <font size=3> $O(n^2)$</font> | <font size=3> $O(n^2)$</font> |\n",
    "| <font size=3>Память</font> | <font size=3>$O(1)$</font> | <font size=3>$O(1)$</font> | <font size=3>$O(1)$</font> |\n",
    "\n",
    "### Упражнение 4. Сортировка вставками\n",
    "\n",
    "Реализуйте сортировку вставками для поданного на вход списка. Оформите сортировку в виде функции."
   ]
  },
  {
   "cell_type": "code",
   "execution_count": null,
   "metadata": {
    "collapsed": true
   },
   "outputs": [],
   "source": []
  },
  {
   "cell_type": "markdown",
   "metadata": {},
   "source": [
    "## <font color=green>Быстрая сортировка</font>\n",
    "\n",
    "Быстрая сортировка работает в среднем быстрее, чем сортировка методом «пузырька». Она основана на важной идее построения алгоритмов: **Разделяй и Властвуй.**\n",
    "Лучший способ решить сложную задачу — это разделить её на несколько простых и «разделаться» с ними по отдельности. По сути, это один из важных инструментов мышления при решении задач. Функция QuickSort сводит сортировку данного ей массива к разделению этого массива на две группы элементов и сортировке этих двух групп по отдельности, причём для сортировки этих групп вызывает саму себя.\n",
    "\n",
    "Пусть нам нужно отсортировать участок массива A, начиная с p-го по q-й элемент включительно. Будем называть этот участок подмассивом A[p..q]. Тогда\n",
    "\n",
    "**ШАГ 1**: Возьмем элемент A[p] и «раскидаем» остальные элементы A[(p + 1)..q] по раз-\n",
    "ные стороны от него стороны — меньшие влево, большие — вправо, то есть переставим\n",
    "элементы подмассива A[p..q] так, чтобы вначале шли элементы меньше либо равные A[p]\n",
    "потом элементы, больше либо равные A[p]. Назовём этот шаг разделением (partition).\n",
    "\n",
    "**ШАГ 2**: Пусть r есть новый индекс элемента A[p]. Тогда, если q−p > 2, вызовем функцию\n",
    "сортировки для подмассивов A[p..(r − 1)] и A[(r + 1)..q].\n",
    "\n",
    "#### Разбиение Хоара\n",
    "\n",
    "Есть два варианта реализации шага 1 `partition`, на котором осуществляется \"раскидывание\" элементов массива по разные строны опорного элемента: разбиение Ломуто и разбиение Хоара.\n",
    "\n",
    "В разбиении Хоара в качестве опорного элемента берется первый элемент обрабатываемой части массива. Далее задаются 2 индекса, которые двигаются на встречу друг другу. Если оказывается, что левый элемент больше либо равен опорному и правый элемент меньше либо равен опорному элементу, то производится их перестановка.\n",
    "\n",
    "Псевдокод алгоритма можно найти на стр. 194 в <font color=blue>[1]</font>.\n",
    "\n",
    "\n",
    "В соответствующей статье на [википедии](https://ru.wikipedia.org/wiki/%D0%91%D1%8B%D1%81%D1%82%D1%80%D0%B0%D1%8F_%D1%81%D0%BE%D1%80%D1%82%D0%B8%D1%80%D0%BE%D0%B2%D0%BA%D0%B0) есть наглядная анимация.\n",
    "\n",
    "\n",
    "| <font size=3>Сложность</font> | <font size=3>Лучший случай</font> |<font size=3>Средняя эффективность</font>|<font size=3>Худший случай</font>|  \n",
    "| :---: | :---: | :---: | :---: |\n",
    "| <font size=3>Время</font> | <font size=3> $O(n \\cdot \\log n)$ </font> | <font size=3> $O(n \\cdot \\log n)$ </font> | <font size=3> $O(n^2)$</font> |\n",
    "| <font size=3>Память</font> | <font size=3>$O(1)$</font> | <font size=3>$O(1)$</font> | <font size=3>$O(1)$</font> |\n",
    "\n",
    "### Свойства сортировки слиянием.\n",
    "\n",
    "1. Разбиение и слияние будут выполнены вне зависимости от того, насколько упорядочен исхлдный массив. Поэтому быстрая сортировка не является лучшим решением для частично упорядоченных массивов.\n",
    "\n",
    "3. Так как реализуется через рекурсию, требует памяти в стеке.\n",
    "\n",
    "### Упражнение 5. Быстрая сортировка\n",
    "\n",
    "Реализуйте быструю сортировку для поданного на вход списка с помощью разбиения Хоара. Оформите сортировку в виде функции."
   ]
  },
  {
   "cell_type": "code",
   "execution_count": null,
   "metadata": {
    "collapsed": true
   },
   "outputs": [],
   "source": []
  },
  {
   "cell_type": "markdown",
   "metadata": {},
   "source": [
    "## <font color=green>Сортировка слиянием</font>\n",
    "\n",
    "При сортировке слиянием мы разделяем массив пополам до тех пор, пока каждый участок не станет длиной в один элемент. Затем эти участки возвращаются на место (сливаются) в правильном порядке.\n",
    "\n",
    "Рассмотрим массив\n",
    "\n",
    "| <font size=3>3</font> | <font size=3>8</font> |<font size=3>2</font>|<font size=3>1</font>|<font size=3>5</font>|<font size=3>4</font>|<font size=3>6</font>|<font size=3>7</font>|  \n",
    "| :---: | :---: | :---: | :---: | :---: | :---: | :---: | :---: |\n",
    "\n",
    "Разделим его пополам и будем делить, пока не останутся части с одни элементом.\n",
    "\n",
    "| <font size=3>3</font> | <font size=3>8</font> |<font size=3>2</font>|<font size=3>1</font>|&nbsp;&nbsp;&nbsp; |<font size=3>5</font>|<font size=3>4</font>|<font size=3>6</font>|<font size=3>7</font>|  \n",
    "| :---: | :---: | :---: | :---: | :---: | :---: | :---: | :---: | :---: |\n",
    "\n",
    "\n",
    "| <font size=3>3</font> | <font size=3>8</font> | &nbsp;&nbsp;&nbsp;|<font size=3>2</font>|<font size=3>1</font>| &nbsp;&nbsp;&nbsp;|<font size=3>5</font>|<font size=3>4</font>|&nbsp;&nbsp;&nbsp; |<font size=3>6</font>|<font size=3>7</font>|  \n",
    "| :---: | :---: | :---: | :---: | :---: | :---: | :---: | :---: | :---: | :---: | :---: |\n",
    "\n",
    "\n",
    "| <font size=3>3</font> | &nbsp;&nbsp;&nbsp;| <font size=3>8</font> | &nbsp;&nbsp;&nbsp;|<font size=3>2</font>| &nbsp;&nbsp;&nbsp;|<font size=3>1</font>| &nbsp;&nbsp;&nbsp;|<font size=3>5</font>| &nbsp;&nbsp;&nbsp;|<font size=3>4</font>|&nbsp;&nbsp;&nbsp; |<font size=3>6</font>| &nbsp;&nbsp;&nbsp;|<font size=3>7</font>|  \n",
    "| :---: | :---: | :---: | :---: | :---: | :---: | :---: | :---: | :---: | :---: | :---: |:---: |:---: |:---: |:---: |\n",
    "\n",
    "\n",
    "Теперь, когда мы разделили массив на максимально короткие участки, мы сливаем их в правильном порядке.\n",
    "\n",
    "| <font size=3>3</font> | <font size=3>8</font> | &nbsp;&nbsp;&nbsp;|<font size=3>1</font>|<font size=3>2</font>| &nbsp;&nbsp;&nbsp;|<font size=3>4</font>|<font size=3>5</font>|&nbsp;&nbsp;&nbsp; |<font size=3>6</font>|<font size=3>7</font>|  \n",
    "| :---: | :---: | :---: | :---: | :---: | :---: | :---: | :---: | :---: | :---: | :---: |\n",
    "\n",
    "Сначала мы получаем группы по два отсортированных элемента, потом «собираем» их в группы по четыре элемента и в конце собираем все вместе в отсортированный массив.\n",
    "\n",
    "| <font size=3>1</font> | <font size=3>2</font> |<font size=3>3</font>|<font size=3>8</font>|&nbsp;&nbsp;&nbsp; |<font size=3>4</font>|<font size=3>5</font>|<font size=3>6</font>|<font size=3>7</font>|  \n",
    "| :---: | :---: | :---: | :---: | :---: | :---: | :---: | :---: | :---: |\n",
    "\n",
    "| <font size=3>1</font> | <font size=3>2</font> |<font size=3>3</font>|<font size=3>4</font>|<font size=3>5</font>|<font size=3>6</font>|<font size=3>7</font>|<font size=3>8</font>|  \n",
    "| :---: | :---: | :---: | :---: | :---: | :---: | :---: | :---: |\n",
    "\n",
    "### Свойства сортировки слиянием.\n",
    "\n",
    "1. Разбиение и слияние будут выполнены вне зависимости от того, насколько упорядочен исхлдный массив. Поэтому сортировка слиянием не является лучшим решением для частично упорядоченных массивов.\n",
    "\n",
    "2. Требует дополнительной памяти на этапе слияния.\n",
    "\n",
    "3. Так как реализуется через рекурсию, требует памяти в стеке.\n",
    "\n",
    "| <font size=3>Сложность</font> | <font size=3>Лучший случай</font> |<font size=3>Средняя эффективность</font>|<font size=3>Худший случай</font>|  \n",
    "| :---: | :---: | :---: | :---: |\n",
    "| <font size=3>Время</font> | <font size=3> $O(n \\cdot \\log_2 n)$ </font> | <font size=3> $O(n \\cdot \\log_2 n)$ </font> | <font size=3> $O(n \\cdot \\log_2 n)$</font> |\n",
    "| <font size=3>Память</font> | <font size=3>$O(n)$</font> | <font size=3>$O(n)$</font> | <font size=3>$O(n)$</font> |\n",
    "\n",
    "В соответствующей статье на [википедии](https://ru.wikipedia.org/wiki/%D0%A1%D0%BE%D1%80%D1%82%D0%B8%D1%80%D0%BE%D0%B2%D0%BA%D0%B0_%D1%81%D0%BB%D0%B8%D1%8F%D0%BD%D0%B8%D0%B5%D0%BC) есть наглядная анимация.\n",
    "\n",
    "\n",
    "### Упражнение 6. Сортировка слиянием\n",
    "\n",
    "Реализуйте сортировку слиянием для поданного на вход списка. Оформите сортировку в виде функции."
   ]
  },
  {
   "cell_type": "code",
   "execution_count": null,
   "metadata": {
    "collapsed": true
   },
   "outputs": [],
   "source": []
  },
  {
   "cell_type": "markdown",
   "metadata": {},
   "source": [
    "## <font color=green>Свойства и классификация алгоритмов сортировки</font>\n",
    "\n",
    "### <font color=violet>Устойчивость</font>\n",
    "\n",
    "Алгоритмы сортировки дялятся на устойчивые и неустойчивые. Устойчивые алгоритмы сохраняют порядок элементов с одинаковыми ключами.\n",
    "\n",
    "### Пример 1. Устойчивость\n",
    "\n",
    "Пусть требуется упорядочить слова в списке `[\"Bob\", \"Ann\", \"Angie\"]` по первой букве. Ключи слов `\"Ann\"` и `\"Angie\"` совпадают и равны `\"A\"`. Если сортировка устойчива, то гарантируется, что в упорядоченном списке `\"Ann\"` будет стоять перед `\"Angie\"`.\n",
    "\n",
    "### Упражнение 7. Устойчивость сортировки выбором\n",
    "\n",
    "Почему сортировка выбором в варианте, когда выполняется перестановка элементов, не является устойчивой? Приведите пример. Реализуйте устойчивый вариант сортировки выбором. Для этого нужно вставлять минимальный элемент перед неупорядоченной частью массива."
   ]
  },
  {
   "cell_type": "code",
   "execution_count": null,
   "metadata": {
    "collapsed": true
   },
   "outputs": [],
   "source": []
  },
  {
   "cell_type": "markdown",
   "metadata": {},
   "source": [
    "### Упражнение 8. Устойчивость быстрой сортировки\n",
    "\n",
    "Почему быстрая сортировка неустойчива? Приведите пример. Реализуйте устойчивый вариант быстрой сортировки. Для этого нужно закрепить за каждым элементом массива его индекс в исходном массиве и в случае, когда ключи равны, большим будет считаться элемент с большим индексом."
   ]
  },
  {
   "cell_type": "code",
   "execution_count": null,
   "metadata": {
    "collapsed": true
   },
   "outputs": [],
   "source": []
  },
  {
   "cell_type": "markdown",
   "metadata": {},
   "source": [
    "**Вариант быстрой сортировки, в котором ключ расширяется засчет индекса элемента в исходном массиве требует дополнительно $O(n)$ памяти.**\n",
    "\n",
    "### <font color=violet>Естественность поведения</font>\n",
    "\n",
    "Алгоритм принято называть естественным, если он эффективно работает на упорядоченных и частично упорядоченных массивах. Алгоритмы сортировки пузырьком и вставками эффективны на частично упорядоченных массивах, в то время как поведение быстрой сортировки и сортировки слиянием не естественно.\n",
    "\n",
    "### <font color=violet>Внутренняя и внешняя сортировка</font>\n",
    "\n",
    "Сортировка называется **внутренней**, если массив целиком помещается в оперативной памяти и возможен доступ к произвольному элементу массива. Сортировка называется **внешней**, если данные находятся на носителе большого объема с последовательным доступом к памяти. На этом занятии рассматриваются только алгоритмы внутренней сортировки."
   ]
  },
  {
   "cell_type": "code",
   "execution_count": null,
   "metadata": {
    "collapsed": true
   },
   "outputs": [],
   "source": []
  },
  {
   "cell_type": "markdown",
   "metadata": {},
   "source": [
    "### Упражнение 9. Рекламная акция\n",
    "\n",
    "В сети магазинов \"Н-Аудио\" проводится рекламная акция. Каждый второй товар – бесплатно. Естественно, кассирам дано указание пробивать товары в таком порядке, чтобы магазин потерял как можно меньше денег.\n",
    "\n",
    "По списку товаров определите максимальную сумму в чеке.\n",
    "\n",
    "**Вход**: натуральное число товаров (N < 1000) и далее N натуральных чисел – цены товаров.\n",
    "\n",
    "**Выход**: одно число – максимальная сумма чека.\n",
    "\n",
    "<table class=MsoTableGrid border=1 cellspacing=0 cellpadding=0\n",
    " style='border-collapse:collapse;border:none;mso-border-alt:solid windowtext .5pt;\n",
    " mso-yfti-tbllook:480;mso-padding-alt:0cm 5.4pt 0cm 5.4pt'>\n",
    " <tr style='mso-yfti-irow:0;mso-yfti-firstrow:yes'>\n",
    "  <td width=121 valign=top style='width:90.45pt;border:solid windowtext 1.0pt;\n",
    "  mso-border-alt:solid windowtext .5pt;padding:0cm 5.4pt 0cm 5.4pt'>\n",
    "  <p class=MsoNormal>Вход</p>\n",
    "  </td>\n",
    "  <td width=132 valign=top style='width:99.25pt;border:solid windowtext 1.0pt;\n",
    "  border-left:none;mso-border-left-alt:solid windowtext .5pt;mso-border-alt:\n",
    "  solid windowtext .5pt;padding:0cm 5.4pt 0cm 5.4pt'>\n",
    "  <p class=MsoNormal>Выход</p>\n",
    "  </td>\n",
    "  <td width=385 valign=top style='width:288.85pt;border:solid windowtext 1.0pt;\n",
    "  border-left:none;mso-border-left-alt:solid windowtext .5pt;mso-border-alt:\n",
    "  solid windowtext .5pt;padding:0cm 5.4pt 0cm 5.4pt'>\n",
    "  <p class=MsoNormal>Комментарий</p>\n",
    "  </td>\n",
    " </tr>\n",
    " <tr style='mso-yfti-irow:1;mso-yfti-lastrow:yes'>\n",
    "  <td width=121 valign=top style='width:90.45pt;border:solid windowtext 1.0pt;\n",
    "  border-top:none;mso-border-top-alt:solid windowtext .5pt;mso-border-alt:solid windowtext .5pt;\n",
    "  padding:0cm 5.4pt 0cm 5.4pt'>\n",
    "  <p class=MsoNormal>5 2 1 10 50 10</p>\n",
    "  </td>\n",
    "  <td width=132 valign=top style='width:99.25pt;border-top:none;border-left:\n",
    "  none;border-bottom:solid windowtext 1.0pt;border-right:solid windowtext 1.0pt;\n",
    "  mso-border-top-alt:solid windowtext .5pt;mso-border-left-alt:solid windowtext .5pt;\n",
    "  mso-border-alt:solid windowtext .5pt;padding:0cm 5.4pt 0cm 5.4pt'>\n",
    "  <p class=MsoNormal>70</p>\n",
    "  </td>\n",
    "  <td width=385 valign=top style='width:288.85pt;border-top:none;border-left:\n",
    "  none;border-bottom:solid windowtext 1.0pt;border-right:solid windowtext 1.0pt;\n",
    "  mso-border-top-alt:solid windowtext .5pt;mso-border-left-alt:solid windowtext .5pt;\n",
    "  mso-border-alt:solid windowtext .5pt;padding:0cm 5.4pt 0cm 5.4pt'>\n",
    "  <p class=MsoNormal>Возможен такой порядок: 10 2 50 1 10</p>\n",
    "  </td>\n",
    " </tr>\n",
    "</table>\n"
   ]
  },
  {
   "cell_type": "code",
   "execution_count": null,
   "metadata": {
    "collapsed": true
   },
   "outputs": [],
   "source": []
  },
  {
   "cell_type": "markdown",
   "metadata": {},
   "source": [
    "### Упражнение 10. Ровно K обменов\n",
    "\n",
    "Даны два числа N и К. Вывести перестановку из N чисел (N чисел от 1 до N без повторений) такую чтобы сортировка пузырьком по возрастанию на соответствующем массиве сделала ровно K обменов. Если возможных ответов несколько – выведите любой.\n",
    "\n",
    "**Вход**: натуральное число N (N < 100) и целое  неотрицательное К. Гарантируется, что для всех наборов тестовых данных решение существует.\n",
    "\n",
    "**Выход**: ответ на задачу.\n",
    "\n",
    "<table class=MsoTableGrid border=1 cellspacing=0 cellpadding=0\n",
    " style='border-collapse:collapse;border:none;mso-border-alt:solid windowtext .5pt;\n",
    " mso-yfti-tbllook:480;mso-padding-alt:0cm 5.4pt 0cm 5.4pt'>\n",
    " <tr style='mso-yfti-irow:0;mso-yfti-firstrow:yes'>\n",
    "  <td width=177 valign=top style='width:133.0pt;border:solid windowtext 1.0pt;\n",
    "  mso-border-alt:solid windowtext .5pt;padding:0cm 5.4pt 0cm 5.4pt'>\n",
    "  <p class=MsoNormal>Вход</p>\n",
    "  </td>\n",
    "  <td width=118 valign=top style='width:88.4pt;border:solid windowtext 1.0pt;\n",
    "  border-left:none;mso-border-left-alt:solid windowtext .5pt;mso-border-alt:\n",
    "  solid windowtext .5pt;padding:0cm 5.4pt 0cm 5.4pt'>\n",
    "  <p class=MsoNormal>Выход</p>\n",
    "  </td>\n",
    "  <td width=343 valign=top style='width:257.15pt;border:solid windowtext 1.0pt;\n",
    "  border-left:none;mso-border-left-alt:solid windowtext .5pt;mso-border-alt:\n",
    "  solid windowtext .5pt;padding:0cm 5.4pt 0cm 5.4pt'>\n",
    "  <p class=MsoNormal>Комментарий</p>\n",
    "  </td>\n",
    " </tr>\n",
    " <tr style='mso-yfti-irow:1;mso-yfti-lastrow:yes'>\n",
    "  <td width=177 valign=top style='width:133.0pt;border:solid windowtext 1.0pt;\n",
    "  border-top:none;mso-border-top-alt:solid windowtext .5pt;mso-border-alt:solid windowtext .5pt;\n",
    "  padding:0cm 5.4pt 0cm 5.4pt'>\n",
    "  <p class=MsoNormal>5 3</p>\n",
    "  </td>\n",
    "  <td width=118 valign=top style='width:88.4pt;border-top:none;border-left:\n",
    "  none;border-bottom:solid windowtext 1.0pt;border-right:solid windowtext 1.0pt;\n",
    "  mso-border-top-alt:solid windowtext .5pt;mso-border-left-alt:solid windowtext .5pt;\n",
    "  mso-border-alt:solid windowtext .5pt;padding:0cm 5.4pt 0cm 5.4pt'>\n",
    "  <p class=MsoNormal>3 1 2 5 4</p>\n",
    "  </td>\n",
    "  <td width=343 valign=top style='width:257.15pt;border-top:none;border-left:\n",
    "  none;border-bottom:solid windowtext 1.0pt;border-right:solid windowtext 1.0pt;\n",
    "  mso-border-top-alt:solid windowtext .5pt;mso-border-left-alt:solid windowtext .5pt;\n",
    "  mso-border-alt:solid windowtext .5pt;padding:0cm 5.4pt 0cm 5.4pt'>\n",
    "  <p class=MsoNormal>В процессе сортировки массива 3 1 2 5 4 будут совершены\n",
    "  обмены: 1<span style='font-family:Symbol;mso-ascii-font-family:\"Times New Roman\";\n",
    "  mso-hansi-font-family:\"Times New Roman\";mso-char-type:symbol;mso-symbol-font-family:\n",
    "  Symbol'><span style='mso-char-type:symbol;mso-symbol-font-family:Symbol'>«</span></span>3\n",
    "  3<span style='font-family:Symbol;mso-ascii-font-family:\"Times New Roman\";\n",
    "  mso-hansi-font-family:\"Times New Roman\";mso-char-type:symbol;mso-symbol-font-family:\n",
    "  Symbol'><span style='mso-char-type:symbol;mso-symbol-font-family:Symbol'>«</span></span>2\n",
    "  и 5<span style='font-family:Symbol;mso-ascii-font-family:\"Times New Roman\";\n",
    "  mso-hansi-font-family:\"Times New Roman\";mso-char-type:symbol;mso-symbol-font-family:\n",
    "  Symbol'><span style='mso-char-type:symbol;mso-symbol-font-family:Symbol'>«</span></span>4.\n",
    "  Возможны и другие варианты ответа.</p>\n",
    "  </td>\n",
    " </tr>\n",
    "</table>\n"
   ]
  },
  {
   "cell_type": "code",
   "execution_count": null,
   "metadata": {
    "collapsed": true
   },
   "outputs": [],
   "source": []
  },
  {
   "cell_type": "markdown",
   "metadata": {},
   "source": [
    "### Упражнение 11. Лента Мебиуса\n",
    "\n",
    "Предположим, что имеется некоторый кусок ленты, разделенный на кадры. Кадры занумерованы с двух сторон. Полоска ленты склеена в лист Мебиуса. Необходимо составить алгоритм упорядочения этой последовательности, предположив, что соседние кадры можно переставлять, (естественно, в упорядоченной последовательности будет один \"скачок\" от минимального элемента к максимальному). Следует учесть, что при перестановке кадров переставляются числа с обеих сторон кадров. "
   ]
  },
  {
   "cell_type": "code",
   "execution_count": null,
   "metadata": {
    "collapsed": true
   },
   "outputs": [],
   "source": []
  }
 ],
 "metadata": {
  "kernelspec": {
   "display_name": "Python 3",
   "language": "python",
   "name": "python3"
  },
  "language_info": {
   "codemirror_mode": {
    "name": "ipython",
    "version": 3
   },
   "file_extension": ".py",
   "mimetype": "text/x-python",
   "name": "python",
   "nbconvert_exporter": "python",
   "pygments_lexer": "ipython3",
   "version": "3.6.0"
  }
 },
 "nbformat": 4,
 "nbformat_minor": 2
}
