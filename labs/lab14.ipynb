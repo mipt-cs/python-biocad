{
 "cells": [
  {
   "cell_type": "markdown",
   "metadata": {},
   "source": [
    "# <font color=blue>Взаимодействие с файловой системой с помощью модулей `os` и `shutil`</font>\n",
    "\n",
    "Встроенный модуль [`os`](https://docs.python.org/3/library/os.html) предоставляет многочисленные возможности для взаимодейстсвия с операционной системой. В том числе, `os` позволяет:\n",
    "\n",
    "1) получить путь к текущей директории;\n",
    "\n",
    "2) сменить текущую директорию;\n",
    "\n",
    "3) создавать папки;\n",
    "\n",
    "4) получать список содержимого директории;\n",
    "\n",
    "5) определять, куда ведет путь: к папке или файлу;\n",
    "\n",
    "6) удалять файлы.\n",
    "\n",
    "Кроме того, в модуле `os.path` есть  несколько полезных функций для работы с путями в операционной системе.\n",
    "\n",
    "#### Структура пути в файловой системе\n",
    "\n",
    "В файловых системах UNIX (Linux, OS X) есть только один корень (`root`), который доступен по пути `\"/\"`. Каталоги в пути разделяются прямыми слешами `\"/\"`, например `\"/usr/bin/python3\"`.\n",
    "\n",
    "Файловая система Windows может быть разделена на несколько томов (дисков), например `\"C:\\\"` и `\"D:\\\"`.  Каталоги в пути разделяются обратными слешами `\"\\\"`, например `\"С:\\Windows\\System32\"`.\n",
    "\n",
    "И в UNIX, и в Windows `'.'` означает текущий каталог, а `'..'` - родительский каталог.\n",
    "\n",
    "Бывают **абсолютные** и **относительные** пути. Абсолютный путь начинается с корня. Относительный путь показывает, как попасть в нужное место из текущей директории. Например, если наша текущая директория - <font color=green>/usr</font>, то путь к интерпретатору `Python 3` можно указать двумя способами:\n",
    "\n",
    "1) абсолютный путь\n",
    "```\n",
    "/usr/bin/python3\n",
    "```\n",
    "\n",
    "2) относительный путь\n",
    "```\n",
    "bin/python3\n",
    "```\n",
    "\n",
    "## <font color=green>Смена текущей директории</font>\n",
    "\n",
    "Чтобы получить путь к текущей директории используется функция [`os.getcwd()`](https://www.tutorialspoint.com/python/os_getcwd.htm) (get current working directory).\n",
    "\n",
    "### Пример 1. getcwd()"
   ]
  },
  {
   "cell_type": "code",
   "execution_count": null,
   "metadata": {
    "collapsed": true
   },
   "outputs": [],
   "source": [
    "import os\n",
    "print(os.getcwd())"
   ]
  },
  {
   "cell_type": "markdown",
   "metadata": {},
   "source": [
    "Для смены текущей директории используется функция [`os.chdir()`](https://docs.python.org/3/library/os.html#os.chdir). Функция `os.chdir()` может принимать как абсолютные (относительно корня), так и относительные пути (относительно текущей директории)\n",
    "\n",
    "### Пример 2. Переход в корневой каталог\n",
    "\n",
    ">POSIX (Portable Operating System Interface) - набор стандарто, обеспечивающих переносимость программ между операционными системами UNIX."
   ]
  },
  {
   "cell_type": "code",
   "execution_count": null,
   "metadata": {
    "collapsed": true
   },
   "outputs": [],
   "source": [
    "import os\n",
    "root = '/' if os.name == 'posix' else 'C:\\\\'\n",
    "olddir = os.getcwd()\n",
    "print(olddir)\n",
    "os.chdir(root)\n",
    "print(os.getcwd())\n",
    "os.chdir(olddir)\n",
    "print(os.getcwd())"
   ]
  },
  {
   "cell_type": "markdown",
   "metadata": {},
   "source": [
    "### Пример 3. Особенности Windows\n",
    "\n",
    "При запуске Python из командной строки Python будет помнить отдельные текущие директории для каждого тома. Чтобы переключиться на текущую директорию другого тома, передайте `os.chdir()` название тома без слеша. Если путь указан со слешем до будет осуществлен переход строго по указанному пути."
   ]
  },
  {
   "cell_type": "code",
   "execution_count": null,
   "metadata": {
    "collapsed": true
   },
   "outputs": [],
   "source": [
    "import os\n",
    "olddir = os.getcwd()\n",
    "print(olddir)\n",
    "os.chdir('D:')\n",
    "print(os.getcwd())\n",
    "os.chdir('C:')\n",
    "print(os.getcwd())\n",
    "os.chdir('D:')\n",
    "os.chdir('C:\\\\')\n",
    "print(os.getcwd())\n",
    "os.chdir(olddir)"
   ]
  },
  {
   "cell_type": "markdown",
   "metadata": {},
   "source": [
    "В Python поддерживаются пути с прямыми и обратными слешами."
   ]
  },
  {
   "cell_type": "code",
   "execution_count": null,
   "metadata": {
    "collapsed": true
   },
   "outputs": [],
   "source": [
    "import os\n",
    "olddir = os.getcwd()\n",
    "os.chdir('C:/')\n",
    "os.chdir(olddir)"
   ]
  },
  {
   "cell_type": "markdown",
   "metadata": {},
   "source": [
    "### Пример 4. Сырые строки\n",
    "\n",
    "Если перед строковым литералом поставить `r`, то при инициализации строки с помощью этого литерала специальные символы не будут обрабатываться. Другими словами, строка будет сохранена именно так, как она выглядит. Сырые строки могут быть удобны при работе с файловой системой Windows."
   ]
  },
  {
   "cell_type": "code",
   "execution_count": null,
   "metadata": {
    "collapsed": true
   },
   "outputs": [],
   "source": [
    "s1 = r'ab\\tc\\n\\\\'\n",
    "print(s1)\n",
    "s2 = 'ab\\tc\\n\\\\'\n",
    "print(s2)\n",
    "path = r'C:\\Program Files'\n",
    "print(path)"
   ]
  },
  {
   "cell_type": "markdown",
   "metadata": {},
   "source": [
    "### Упражнение 1. Смена текущей директории\n",
    "\n",
    "Перейдите на 1 каталог выше, а затем вернитесь в исходную директорию, используя относительный путь."
   ]
  },
  {
   "cell_type": "code",
   "execution_count": null,
   "metadata": {
    "collapsed": true
   },
   "outputs": [],
   "source": []
  },
  {
   "cell_type": "markdown",
   "metadata": {},
   "source": [
    "## <font color=green>Модуль `os.path` для управления путями</font>\n",
    "\n",
    "Задавать пути в виде строки - не лучшая идея, так как код может стать непереносимым между UNIX и Windows. Чтобы не беспокоиться о разделителе в Ваших путях, можно использовать функцию [`os.path.join()`](https://docs.python.org/3/library/os.path.html#os.path.join). Функция `os.path.join()` объединяет любое положительное число строк в путь, причем разделитель подбирается автоматически. Также автоматически обрабатывается корневой каталог `'/'`  в UNIX.\n",
    "\n",
    "### Пример 5. `os.path.join()`"
   ]
  },
  {
   "cell_type": "code",
   "execution_count": null,
   "metadata": {},
   "outputs": [],
   "source": [
    "import os\n",
    "print(os.path.join('abc', 'cde'))\n",
    "print(os.path.join('abc', ''))\n",
    "print(os.path.join('/', 'home', 'user'))\n",
    "print(os.path.join('C:\\\\', 'Program Files', 'Adobe'))\n",
    "print(os.path.join('C:/', 'Program Files', 'Adobe'))\n",
    "print(os.path.join('C:', 'Program Files', 'Adobe'))"
   ]
  },
  {
   "cell_type": "markdown",
   "metadata": {},
   "source": [
    "Модуль [`os.path`](https://docs.python.org/3/library/os.path.html) включает в себя функции:\n",
    "\n",
    "1) [`os.path.split()`](https://docs.python.org/3/library/os.path.html#os.path.split) - разделяет путь на две часть: `head` и `tail`, `tail` - последний компонент пути, а `head` - остальная часть пути;\n",
    "\n",
    "2) [`os.path.exists()`](https://docs.python.org/3/library/os.path.html#os.path.exists) - возвращает `True`, если указанный путь существует и `False` в противном случае;\n",
    "\n",
    "3) [`os.path.isfile()`](https://docs.python.org/3/library/os.path.html#os.path.isfile) - возвращает `True`, если путь существует **и** является файлом;\n",
    "\n",
    "4) [`os.path.isdir()`](https://docs.python.org/3/library/os.path.html#os.path.isdir) - возвращает `True`, если путь существует **и** является папкой;\n",
    "\n",
    "5) [`os.path.expanduser()`](https://docs.python.org/3/library/os.path.html#os.path.expanduser) - заменяет `'~'` в путях UNIX на `'/home/<current_user>'`. \n",
    "\n",
    "### Пример 6. Использование некоторых функций из `os.path`"
   ]
  },
  {
   "cell_type": "code",
   "execution_count": null,
   "metadata": {},
   "outputs": [],
   "source": [
    "import os\n",
    "\n",
    "cwd = os.getcwd()\n",
    "print(\"os.path.split() demonstration\\ncwd:\", cwd)\n",
    "head, tail = os.path.split(cwd)\n",
    "print(\"head: {}\\ntail: {}\\n\".format(head, tail))\n",
    "\n",
    "print(\"os.path.exists() demonstration\\nПроверка существования текущей директории:\")\n",
    "print(os.path.exists('.'))\n",
    "print(\"Проверка существования nonexistent_directory\")\n",
    "print(os.path.exists('nonexistent_directory'))\n",
    "\n",
    "print(\"\\nos.path.isfile() demonstration\\nПроверка lab12.ipynb:\")\n",
    "print(os.path.isfile('lab12.ipynb'))\n",
    "print(\"Проверка текущей директории:\")\n",
    "print(os.path.isfile('.'))\n",
    "print(\"Проверка nonexistent_file:\")\n",
    "print(os.path.isfile('nonexistent_file'))\n",
    "\n",
    "print(\"\\nos.path.isdir() demostration\\nПроверка текущей директории:\")\n",
    "print(os.path.isdir('.'))\n",
    "print('Проверка nonexistent_directory:')\n",
    "print(os.path.isdir('nonexistent_directory'))\n",
    "print('Проверка lab12.ipynb:')\n",
    "print(os.path.isdir('lab12.ipynb'))\n",
    "\n",
    "print(\"\\nos.path.expanduser() demostration\\nПуть без тильды\")\n",
    "print(os.path.expanduser('abc'))\n",
    "print(\"Путь с тильдой '~/some_dir/some_file':\")\n",
    "print(os.path.expanduser('~/some_dir/some_file'))\n",
    "print(\"Путь с тильдой 'aa~/some_dir/some_file':\")\n",
    "print(os.path.expanduser('aa~/some_dir/some_file'))"
   ]
  },
  {
   "cell_type": "markdown",
   "metadata": {},
   "source": [
    "## <font color=green>Получение списка содержимого директории</font>\n",
    "\n",
    "Функция [`os.listdir()`](https://docs.python.org/3/library/os.html#os.listdir) возвращает список файлов и папок в каталоге. По умолчанию это текущий каталог.\n",
    "\n",
    "### Пример 7. Содержимое папки"
   ]
  },
  {
   "cell_type": "code",
   "execution_count": null,
   "metadata": {},
   "outputs": [],
   "source": [
    "import os\n",
    "print(os.listdir())  # содержимое текущего каталога\n",
    "print(os.listdir('/' if os.name == 'posix' else 'C:/'))  # содержимое корневого каталога "
   ]
  },
  {
   "cell_type": "markdown",
   "metadata": {},
   "source": [
    "### Упражнение 2. Перечисление содержимого папок\n",
    "\n",
    "Распечатайте содержимое всех каталогов в пути к текущей директории, начиная с текущей директории и до корня."
   ]
  },
  {
   "cell_type": "code",
   "execution_count": null,
   "metadata": {
    "collapsed": true
   },
   "outputs": [],
   "source": []
  },
  {
   "cell_type": "markdown",
   "metadata": {},
   "source": [
    "### Упражнение 3. Папка или файл\n",
    "\n",
    "Сделайте то же самое, что и в упражнении 4, но теперь напротив кажого пути укажите, является он папкой или файлом (`F` - файл, `D` - директория). Упорядочьте содержимое папок с помощью `sorted()`.\n",
    "\n",
    "| <font size=3>Пример выходных данных</font>    |\n",
    "| :--- |\n",
    "| <font size=3>&nbsp;&nbsp;&nbsp;&nbsp;/a/b/c<br>c_dir D<br>c_file F<br><br>&nbsp;&nbsp;&nbsp;&nbsp;/a/b<br>b_dir D<br>c D<br><br>&nbsp;&nbsp;&nbsp;&nbsp;/a<br>a_file1 F<br>a_file2 F<br>b D<br><br>&nbsp;&nbsp;&nbsp;&nbsp;/<br>a D<br>bin D<br>usr D</font> |"
   ]
  },
  {
   "cell_type": "code",
   "execution_count": null,
   "metadata": {
    "collapsed": true
   },
   "outputs": [],
   "source": []
  },
  {
   "cell_type": "markdown",
   "metadata": {},
   "source": [
    "## <font color=green>Создание папок</font>\n",
    "\n",
    "Функция [`os.mkdir()`](https://docs.python.org/3/library/os.html#os.mkdir) предназначена для создания одной новой директории. Если путь, переданный функции, уже существует, поднимается исключение `FileExistsError`.\n",
    "\n",
    "### Пример 8. Создание новой папки"
   ]
  },
  {
   "cell_type": "code",
   "execution_count": null,
   "metadata": {
    "collapsed": true
   },
   "outputs": [],
   "source": [
    "import os\n",
    "path1 = 'lab12_example14_new_dir'\n",
    "path2 = 'lab12_example14_new_dir/new_dir2'\n",
    "\n",
    "print(\"Существование path1:\", os.path.exists(path1))\n",
    "os.mkdir(path2)  # Error, так как lab12_example14_new_dir не существует"
   ]
  },
  {
   "cell_type": "code",
   "execution_count": null,
   "metadata": {
    "collapsed": true
   },
   "outputs": [],
   "source": [
    "import os\n",
    "path1 = 'lab12_example14_new_dir'\n",
    "path2 = 'lab12_example14_new_dir/new_dir2'\n",
    "\n",
    "print(\"Существование path1:\", os.path.exists(path1))\n",
    "os.mkdir(path1)\n",
    "print(\"Существование path1:\", os.path.exists(path1))\n",
    "print(\"Существование path2:\", os.path.exists(path2))\n",
    "os.mkdir(path2)\n",
    "print(\"Существование path2:\", os.path.exists(path2))"
   ]
  },
  {
   "cell_type": "markdown",
   "metadata": {},
   "source": [
    "Функция [`os.makedirs()`](https://docs.python.org/3/library/os.html#os.makedirs) позволяет за один вызов создать все папки в пути. Если путь уже существует поднимается исключение.\n",
    "\n",
    "### Пример 9. `os.makedirs()`"
   ]
  },
  {
   "cell_type": "code",
   "execution_count": null,
   "metadata": {
    "collapsed": true
   },
   "outputs": [],
   "source": [
    "import os\n",
    "path1 = 'lab12_example14_new_dir/new_dir3/new_dir4'\n",
    "path2 = 'lab12_example14_new_dir/new_dir2'\n",
    "\n",
    "print(os.makedirs(path1))\n",
    "print(\"Существование path1:\", os.path.exists(path1))\n",
    "print(os.makedirs(path2))  # Error, так как 'lab12_example14_new_dir/new_dir2' уже существует "
   ]
  },
  {
   "cell_type": "markdown",
   "metadata": {},
   "source": [
    "### Упражнение 4. Создание папки\n",
    "\n",
    "Считайте имя папки <font color=green> &lt;dir_name&gt; </font> с клавиатуры и создайте ее. Если папка с именем  <font color=green> &lt;dir_name&gt; </font> уже сущетвует, создайте папку с именем  <font color=green> &lt;dirname&gt;#&lt;number&gt; </font>, где <font color=green> &lt;number&gt; </font> - наименьшее натуральное число, при котором папки с именем <font color=green> &lt;dirname&gt;#&lt;number&gt; </font> нет в текущей директории.\n",
    "\n",
    "#### Пояснение\n",
    "Пусть с клавиатуры было считано имя <font color=green>\"new_directory\"</font> и каталоги с именами <font color=green>\"new_directory\"</font>, <font color=green>\"new_directory#1\"</font> уже присутствуют в текущей директории. В таком случае имя новой папки должно быть <font color=green>\"new_directory#2\"</font>."
   ]
  },
  {
   "cell_type": "code",
   "execution_count": null,
   "metadata": {
    "collapsed": true
   },
   "outputs": [],
   "source": []
  },
  {
   "cell_type": "markdown",
   "metadata": {},
   "source": [
    "## <font color=green>Удаление файлов и папок</font>\n",
    "\n",
    "Для удаления файлов используйте функцию [`os.remove()`](https://docs.python.org/3/library/os.html#os.remove). Эта функция не может удалять директории.\n",
    "\n",
    "### Пример 10.  Удаление файла"
   ]
  },
  {
   "cell_type": "code",
   "execution_count": null,
   "metadata": {
    "collapsed": true
   },
   "outputs": [],
   "source": [
    "import os\n",
    "file_name = 'tmp.file'\n",
    "with open(file_name, 'w'):\n",
    "    pass\n",
    "print(\"Существование {}: {}\".format(file_name, os.path.isfile(file_name)))\n",
    "os.remove('tmp.file')\n",
    "print(\"Существование {}: {}\".format(file_name, os.path.isfile(file_name)))"
   ]
  },
  {
   "cell_type": "markdown",
   "metadata": {},
   "source": [
    " Для удаления **пустой** директории можно использовать [`os.rmdir()`](https://docs.python.org/3/library/os.html#os.rmdir), а для удаления **цепочки пустых директорий** - [`os.removedirs()`](https://docs.python.org/3/library/os.html#os.removedirs). Однако на практике чаще встречаются задачи, в которых требуется удалить папку со всем ее содержимым, каким бы оно ни было. Этой цели служит функция [`shutil.rmtree()`](https://docs.python.org/3/library/shutil.html#shutil.rmtree) из модуля [`shutil`](https://docs.python.org/3/library/shutil.html). \n",
    " \n",
    ">  Название shutil происходит от **sh**ell **util**ities. shell - оболо́чка операцио́нной систе́мы (от англ. shell «оболочка») — интерпретатор команд операционной системы, обеспечивающий интерфейс для взаимодействия пользователя с функциями системы. В общем случае различают оболочки с двумя типами интерфейса для взаимодействия с пользователем: CLI (Command Line Interface) и GUI (Graphical User Interface).\n",
    "\n",
    "### Пример 11. Удаление директории"
   ]
  },
  {
   "cell_type": "code",
   "execution_count": null,
   "metadata": {
    "collapsed": true
   },
   "outputs": [],
   "source": [
    "import os\n",
    "import shutil\n",
    "if os.path.exists('newdir'):\n",
    "    shutil.rmtree('newdir')\n",
    "os.makedirs('newdir/newdir1')\n",
    "os.mkdir('newdir/newdir2')\n",
    "f = open('newdir/newfile', 'w');f.close()\n",
    "f = open('newdir/newdir1/newfile1', 'w');f.close()\n",
    "f = open('newdir/newdir1/newfile2', 'w');f.close()\n",
    "f = open('newdir/newdir2/newfile3', 'w');f.close()\n",
    "\n",
    "print(\"Структура содержимого 'newdir':\")\n",
    "# Печатаем структуру ветки 'newdir'\n",
    "# Функция os.walk() перебирает ВСЕ содержимое сначала в глубину. а затем в ширину\n",
    "indent_step = 2\n",
    "for path, dirs, files in os.walk('newdir'):\n",
    "    indent = ' ' * path.count('/') * indent_step\n",
    "    print(indent + path)\n",
    "    for f in files:\n",
    "        print(indent + ' '*indent_step + f)\n",
    "\n",
    "# Удаляем ветку 'new_dir'\n",
    "shutil.rmtree('newdir')\n",
    "print(\"\\nСуществование 'newdir':\", os.path.exists('newdir'))"
   ]
  },
  {
   "cell_type": "markdown",
   "metadata": {},
   "source": [
    "### Пример 12. `shutil.rmtree()`  удаляет только директории\n",
    "\n",
    "С помощью `shutil.rmtree()`нельзя удалять файлы."
   ]
  },
  {
   "cell_type": "code",
   "execution_count": null,
   "metadata": {
    "collapsed": true
   },
   "outputs": [],
   "source": [
    "import shutil\n",
    "f = open('tmp.file', 'w');f.close()\n",
    "shutil.rmtree('tmp.file')"
   ]
  },
  {
   "cell_type": "markdown",
   "metadata": {},
   "source": [
    "###  Упражнение 5. Удаление файлов и папок\n",
    "\n",
    "Удалите созданные в примерах 14 и 15 и в упражнении 6 файлы и папки, используя модули `os` и `shutil`."
   ]
  },
  {
   "cell_type": "code",
   "execution_count": null,
   "metadata": {
    "collapsed": true
   },
   "outputs": [],
   "source": []
  },
  {
   "cell_type": "markdown",
   "metadata": {},
   "source": [
    "## <font color=green>Копирование и перемещение файлов и папок</font>\n",
    "\n",
    "Копирование и перемещение можно осуществлять с помощью модуля `shutil`.\n",
    "\n",
    "- [`shutil.copyfile()`](https://docs.python.org/3/library/shutil.html#shutil.copyfile), [`shutil.copy()`](https://docs.python.org/3/library/shutil.html#shutil.copy), [`shutil.copy2()`](https://docs.python.org/3/library/shutil.html#shutil.copy2) - предназначены для копирования файлов.\n",
    "\n",
    "- [`shutil.copytree()`](https://docs.python.org/3/library/shutil.html#shutil.copytree) - предназначена для копирования директорий.\n",
    "\n",
    "- [`shutil.move()`](https://docs.python.org/3/library/shutil.html#shutil.move) - предназначена для перемещения файлов и директорий."
   ]
  }
 ],
 "metadata": {
  "kernelspec": {
   "display_name": "Python 3",
   "language": "python",
   "name": "python3"
  },
  "language_info": {
   "codemirror_mode": {
    "name": "ipython",
    "version": 3
   },
   "file_extension": ".py",
   "mimetype": "text/x-python",
   "name": "python",
   "nbconvert_exporter": "python",
   "pygments_lexer": "ipython3",
   "version": "3.5.2"
  }
 },
 "nbformat": 4,
 "nbformat_minor": 2
}
