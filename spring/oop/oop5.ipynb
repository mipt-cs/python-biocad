{
 "cells": [
  {
   "cell_type": "markdown",
   "metadata": {},
   "source": [
    "# <font color=blue>Наследование. Продолжение</font>\n",
    "\n",
    "## <font color=green>Ромб смерти</font>\n",
    "\n",
    "Отдельного рассмотрения заслуживает случай, в котором класс `D` наследует классу по двум разным путям. В этом случае наследуемый аттрибут сначала ищется в классе `B`, затем в классе `C` и уже в конце в классе `A`.\n",
    "\n",
    "<img src=\"images/diamond_inheritance.png\" alt=\"Drawing\" style=\"width: 200px\">"
   ]
  },
  {
   "cell_type": "code",
   "execution_count": null,
   "metadata": {
    "collapsed": true
   },
   "outputs": [],
   "source": [
    "# Пример без переопределения метода\n",
    "class A:\n",
    "    value = 13\n",
    "    \n",
    "    def some_method(self):\n",
    "        print(f\"Method in A, value = {self.value}\")\n",
    "        \n",
    "        \n",
    "class B(A):\n",
    "    pass\n",
    "\n",
    "\n",
    "class C(A):\n",
    "    pass\n",
    "\n",
    "\n",
    "class D(B, C):\n",
    "    pass\n",
    "\n",
    "# Рассмотрим реализацию в D\n",
    "D().some_method()\n",
    "print()"
   ]
  },
  {
   "cell_type": "code",
   "execution_count": null,
   "metadata": {
    "collapsed": true
   },
   "outputs": [],
   "source": [
    "# Переопределим метод в D\n",
    "class A:\n",
    "    value = 13\n",
    "    \n",
    "    def some_method(self):\n",
    "        print(f\"Method in A, value = {self.value}\")\n",
    "        \n",
    "        \n",
    "class B(A):\n",
    "    pass\n",
    "\n",
    "\n",
    "class C(A):\n",
    "    pass\n",
    "\n",
    "\n",
    "class D(B, C):\n",
    "    \n",
    "    def some_method(self):\n",
    "        print(f\"Method in D, value = {self.value}\")\n",
    "\n",
    "# Рассмотрим реализацию в D\n",
    "D().some_method()\n",
    "print()"
   ]
  },
  {
   "cell_type": "code",
   "execution_count": null,
   "metadata": {
    "collapsed": true
   },
   "outputs": [],
   "source": [
    "# Переопределим метод в C\n",
    "class A:\n",
    "    value = 13\n",
    "    \n",
    "    def some_method(self):\n",
    "        print(f\"Method in A, value = {self.value}\")\n",
    "        \n",
    "        \n",
    "class B(A):\n",
    "    pass\n",
    "\n",
    "\n",
    "class C:\n",
    "    \n",
    "    def some_method(self):\n",
    "        print(f\"Method in С, value = {self.value}\")\n",
    "\n",
    "class D(B, C):\n",
    "    pass\n",
    "\n",
    "# Рассмотрим реализацию в D\n",
    "D().some_method()\n",
    "print()"
   ]
  },
  {
   "cell_type": "code",
   "execution_count": null,
   "metadata": {
    "collapsed": true
   },
   "outputs": [],
   "source": [
    "# Переопределим метод в  B и C b значение в С\n",
    "class A:\n",
    "    value = 13\n",
    "    \n",
    "    def some_method(self):\n",
    "        print(f\"Method in A, value = {self.value}\")\n",
    "        \n",
    "        \n",
    "class B(A):\n",
    "    \n",
    "    def some_method(self):\n",
    "        print(f\"Method in B, value = {self.value}\")\n",
    "\n",
    "\n",
    "class C(A):\n",
    "    value = 6\n",
    "    \n",
    "    def some_method(self):\n",
    "        print(f\"Method in С, value = {self.value}\")\n",
    "\n",
    "class D(B, C):\n",
    "    pass\n",
    "\n",
    "# Рассмотрим реализацию в D\n",
    "D().some_method()\n",
    "print()"
   ]
  },
  {
   "cell_type": "markdown",
   "metadata": {},
   "source": [
    "### Упражнение 1. Длинный ромб\n",
    "\n",
    "Определите, как будет происходить поиск методов, если на месте классов `B` и `C` будут цепочки из двух классов."
   ]
  },
  {
   "cell_type": "code",
   "execution_count": null,
   "metadata": {
    "collapsed": true
   },
   "outputs": [],
   "source": []
  },
  {
   "cell_type": "markdown",
   "metadata": {},
   "source": [
    "# <font color=blue> PEP 8 </font>\n",
    "\n",
    "[PEP 8](https://www.python.org/dev/peps/pep-0008/) (Python Enhancement Proposal) определяет общепринятые правила написания кода на Python. Соблюдение соглашений сделает Ваш код более читабельным и приятным на вид, упростит его использование и сделает его более безопасным.\n",
    "\n",
    "Это не копия копия PEP 8, только основные положения. С полной версией рекомендуется ознакомится самостоятельно. [`Русская версия PEP 8`](https://pythonworld.ru/osnovy/pep-8-rukovodstvo-po-napisaniyu-koda-na-python.html#id3)\n",
    "\n",
    "В корне репозитория лежит краткое изложение на русском."
   ]
  },
  {
   "cell_type": "code",
   "execution_count": null,
   "metadata": {
    "collapsed": true
   },
   "outputs": [],
   "source": []
  },
  {
   "cell_type": "markdown",
   "metadata": {},
   "source": [
    "# <font color=blue>Инкапсуляция</font>\n",
    "\n",
    "Под **инкапсуляцией** понимают два разных понятия.\n",
    "\n",
    "1. Объединение данных и методов для работы с ними в единый объект и обеспечение согласованной работы объекта.\n",
    "\n",
    "2. Сокрытие части данных и методов объекта от непосредственного доступа пользователя.\n",
    "\n",
    "С инкапсуляцией в ее первом значении мы не раз сталкивались, примером может послужить объект типа словарь. Объект включает в себя данные (элементы словаря) и методы для работы с ними, которые не могут быть применины для других целей. С помощью классов программист может создавать свои типы данных использу таким образом инкапсуляцию. \n",
    "\n",
    "### Пример 1. Инкапсуляция\n",
    "\n",
    "Экземпляры класса `ArrayBasedQueue` содержат в себе контейнеры для хранения данных и работы с ними."
   ]
  },
  {
   "cell_type": "code",
   "execution_count": null,
   "metadata": {
    "collapsed": true
   },
   "outputs": [],
   "source": [
    "class Empty(Exception):\n",
    "    def __init__(self, message):\n",
    "        super().__init__(message)\n",
    "\n",
    "\n",
    "class Full(Exception):\n",
    "    def __init__(self, message):\n",
    "        super().__init__(message)\n",
    "\n",
    "\n",
    "class ArrayBasedQueue:\n",
    "    def __init__(self, max_size=10**3):\n",
    "        self.max_size = max_size\n",
    "        self.values = [0] * max_size\n",
    "        self.start, self.end = max_size - 1, max_size - 1\n",
    "        self.size = 0\n",
    "    \n",
    "    def enqueue(self, value):\n",
    "        if self.size >= self.max_size:\n",
    "            raise Full(\"can not add element {} because queue is full\".format(value))\n",
    "        self.values[self.end] = value\n",
    "        self.end -= 1\n",
    "        self.end %= self.max_size\n",
    "        self.size += 1\n",
    "            \n",
    "    def __getitem__(self, idx): \n",
    "        \"\"\"Method is used to get zeroth and last elements\"\"\"\n",
    "        if idx not in {-1, 0}:\n",
    "            raise IndexError(\"index {} of queue element was used: only 0 and -1 are allowed\".format(idx))\n",
    "        return self.values[idx]"
   ]
  },
  {
   "cell_type": "markdown",
   "metadata": {},
   "source": [
    "## <font color=green>Ограничение доступа одних элементов программы другим</font>\n",
    "\n",
    "В C++ доступ регулируется с помощью модификаторов доступа `public`, `private`, `protected`.\n",
    "```C++\n",
    "class Cat                      // begin declaration of the class\n",
    "{\n",
    "  public:                      // begin public section\n",
    "    Cat(int initialAge);       // constructor\n",
    "    Cat(const Cat& copy_from); //copy constructor\n",
    "    Cat& operator=(const Cat& copy_from); //copy assignment\n",
    "    ~Cat();                    // destructor\n",
    "\n",
    "    int GetAge() const;        // accessor function\n",
    "    void SetAge(int age);      // accessor function\n",
    "    void Meow();\n",
    " private:                      // begin private section\n",
    "    int itsAge;                // member variable\n",
    "    char * string;\n",
    "};\n",
    "```\n",
    "\n",
    "В данном примере \"возраст кошки\" - приватное поле и его значение можно получить только используя мтоды класса. Модификатор `protected` допускает, что к аттрибуту могут обращаться экземпляры классов друзей и потомков.\n",
    "\n",
    "Модификаторы доступа позволяют проектировать строгие интерфейсы между частями программы, что делает ее более понятной, безопасной и простой в отладке.\n",
    "\n",
    "### Замечание\n",
    "В Python отсутствуют инструменты, позволяющие сделать часть методов и данных невидимыми для других объектов программы. \n",
    "\n",
    "Тем не менее можно разделять поля и методы на публичные и приватные с помощью синтаксических соглашений. \n",
    "\n",
    "1. Одно нижнее подчеркивание в начале имени аттрибута означает, что он предназначен для внутреннего пользования и не является частью интерфейса пользователяотносится к категории **protected**. **protected** аттрибуты доступны в классах наследниках, но обращение к ним извне категорически не рекомендуется.\n",
    "\n",
    "2. Имена приватных **private** аттрибутов начинаются с двух нижних подчеркиваний. Кроме того, в конце имени аттрибута должно быть не более 1 нижнего подчеркивания. Приватные аттрибуты доступны только внутри своего класса и не видны в классах наследниках.\n",
    "\n",
    "Если в начале имени аттрибута класса есть два нижних подчеркивания (в эту категорию **не входят методы**, у которых 2 нижних подчеркивания в начале и в конце имени), то выполняется искажение имени. Искажение имени включает присоединение к нему спереди нижнего подчеркивания и имени класса. В результате аттрибут становится недоступен по своему оригинальному имени извне и в классах наследниках.\n",
    "\n",
    "### Пример 2. Искажение имен"
   ]
  },
  {
   "cell_type": "code",
   "execution_count": null,
   "metadata": {},
   "outputs": [],
   "source": [
    "class HelloClass:\n",
    "    def __init__(self, name):\n",
    "        # переменная, которую программист хочет всеми силами защитить от изменения\n",
    "        self.__template = 'Hello, {}!'\n",
    "        # \"приватное\" поле\n",
    "        self._name = name\n",
    "        \n",
    "    # \"публичный\" метод для взаимодествия объекта с пользователем\n",
    "    def speak(self):\n",
    "        print(self.__generate_answer(self._name))\n",
    "        \n",
    "    def __generate_answer(self, name):\n",
    "        return self.__template.format(self._name)\n",
    "        \n",
    "        \n",
    "hc = HelloClass('Vasya')\n",
    "hc.speak()"
   ]
  },
  {
   "cell_type": "code",
   "execution_count": null,
   "metadata": {},
   "outputs": [],
   "source": [
    "# Тем не менеее поле __template все равно доступно снаружи, но под другим именем\n",
    "hc._HelloClass__template"
   ]
  },
  {
   "cell_type": "code",
   "execution_count": null,
   "metadata": {},
   "outputs": [],
   "source": [
    "print(hc._HelloClass__generate_answer('Petya'))"
   ]
  },
  {
   "cell_type": "code",
   "execution_count": null,
   "metadata": {
    "collapsed": true
   },
   "outputs": [],
   "source": [
    "class FriendlyHelloClass(HelloClass):\n",
    "    def __init__(self, name):\n",
    "        super().__init__(name)\n",
    "        self.__template += ':)'\n",
    "        \n",
    "        \n",
    "fh = FriendlyHelloClass('Masha')\n",
    "fh.speak()"
   ]
  },
  {
   "cell_type": "code",
   "execution_count": null,
   "metadata": {},
   "outputs": [],
   "source": [
    "class SadHelloClass(HelloClass):\n",
    "    def __init__(self, name):\n",
    "        super().__init__(name)\n",
    "        self.__template = self._HelloClass__template[:-1] + ' :('\n",
    "        \n",
    "        \n",
    "fh = SadHelloClass('Misha')\n",
    "fh.speak()"
   ]
  },
  {
   "cell_type": "code",
   "execution_count": null,
   "metadata": {},
   "outputs": [],
   "source": [
    "class VerySadHelloClass(HelloClass):\n",
    "    def __init__(self, name):\n",
    "        super().__init__(name)\n",
    "        self.__template = self._HelloClass__template[:-1] + ' :((('\n",
    "     \n",
    "    def speak(self):\n",
    "        print(self.__generate_answer(self._name))\n",
    "        \n",
    "    def __generate_answer(self, name):\n",
    "        return self.__template.format(self._name)\n",
    "        \n",
    "fh = VerySadHelloClass('Vera')\n",
    "fh.speak()"
   ]
  },
  {
   "cell_type": "markdown",
   "metadata": {},
   "source": [
    "# <font color=blue>Принципы объектно-ориентированного программирования</font>\n",
    "\n"
   ]
  },
  {
   "cell_type": "code",
   "execution_count": 11,
   "metadata": {},
   "outputs": [
    {
     "name": "stdout",
     "output_type": "stream",
     "text": [
      "[1, 1, 1]\n",
      "0.3333333333333333\n",
      "18\n",
      "[1, 1, 1]\n",
      "0.13333333333333333\n",
      "nan\n",
      "0.3333333333333333\n",
      "0.08333333333333333\n",
      "[1, 1, 1]\n",
      "0.3333333333333333\n",
      "6\n"
     ]
    }
   ],
   "source": [
    "import math\n",
    "from abc import ABC, abstractmethod\n",
    "\n",
    "\n",
    "class Base(ABC):\n",
    "    \n",
    "    @abstractmethod\n",
    "    def get_answer(self):\n",
    "        pass\n",
    "      \n",
    "    @abstractmethod\n",
    "    def get_score(self):\n",
    "        pass\n",
    "      \n",
    "    @abstractmethod\n",
    "    def get_loss(self):\n",
    "        pass\n",
    "\n",
    "    \n",
    "class A(Base):\n",
    "\n",
    "    def __init__(self, data, result):\n",
    "        self.data = data\n",
    "        self.result = result\n",
    "    \n",
    "    def get_answer(self):\n",
    "          return [int(x >= 0.5) for x in self.data]\n",
    "  \n",
    "    def get_score(self):\n",
    "        ans = self.get_answer()\n",
    "        return sum([int(x == y) for (x, y) in zip(ans, self.result)]) \\\n",
    "            / len(ans)\n",
    "\n",
    "    def get_loss(self):\n",
    "        return sum([(x - y) * (x - y) for (x, y) in zip(self.data,\n",
    "                   self.result)])\n",
    "\n",
    "\n",
    "class B(A):\n",
    "\n",
    "    def get_loss(self):\n",
    "        return -sum(\n",
    "            [y * (math.log(x) if x > 0 else float('-inf')) + \n",
    "             (1 - y) * (math.log(1 - x) if x < 1 else float('-inf'))\n",
    "             for (x, y) in zip(self.data, self.result)]\n",
    "        )\n",
    "\n",
    "    def get_pre(self):\n",
    "        ans = self.get_answer()\n",
    "        res = [int(x == 1 and y == 1) for (x, y) in zip(ans,\n",
    "               self.result)]\n",
    "        return sum(res) / sum(ans)\n",
    "\n",
    "    def get_rec(self):\n",
    "        ans = self.get_answer()\n",
    "        return self.get_pre() * sum(ans) / sum(self.result)\n",
    "\n",
    "    def get_score(self):\n",
    "        pre = self.get_pre()\n",
    "        rec = self.get_rec()\n",
    "        return 2 * pre * rec / (pre + rec)\n",
    "\n",
    "\n",
    "class C(A):\n",
    "\n",
    "    def get_loss(self):\n",
    "        return sum([abs(x - y) for (x, y) in zip(self.data,\n",
    "                   self.result)])\n",
    "    \n",
    "\n",
    "a = A([1, 2, 3], [1, 5, 6])\n",
    "print(a.get_answer())\n",
    "print(a.get_score())\n",
    "print(a.get_loss())\n",
    "b = B([1, 2, 3], [1, 5, 6])\n",
    "print(b.get_answer())\n",
    "print(b.get_score())\n",
    "print(b.get_loss())\n",
    "print(b.get_pre())\n",
    "print(b.get_rec())\n",
    "c = C([1, 2, 3], [1, 5, 6])\n",
    "print(c.get_answer())\n",
    "print(c.get_score())\n",
    "print(c.get_loss())"
   ]
  },
  {
   "cell_type": "code",
   "execution_count": 14,
   "metadata": {},
   "outputs": [
    {
     "data": {
      "text/plain": [
       "nan"
      ]
     },
     "execution_count": 14,
     "metadata": {},
     "output_type": "execute_result"
    }
   ],
   "source": [
    "float('-inf') + float('inf')"
   ]
  }
 ],
 "metadata": {
  "kernelspec": {
   "display_name": "Python 3",
   "language": "python",
   "name": "python3"
  }
 },
 "nbformat": 4,
 "nbformat_minor": 2
}
