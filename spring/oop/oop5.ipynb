{
 "cells": [
  {
   "cell_type": "markdown",
   "metadata": {},
   "source": [
    "# <font color=blue>Наследование. Продолжение</font>\n",
    "\n",
    "## <font color=green>Ромб смерти</font>\n",
    "\n",
    "Отдельного рассмотрения заслуживает случай, в котором класс `D` наследует классу по двум разным путям. В этом случае наследуемый аттрибут сначала ищется в классе `B`, затем в классе `C` и уже в конце в классе `A`.\n",
    "\n",
    "<img src=\"images/diamond_inheritance.png\" alt=\"Drawing\" style=\"width: 200px\">"
   ]
  },
  {
   "cell_type": "code",
   "execution_count": 38,
   "metadata": {},
   "outputs": [
    {
     "name": "stdout",
     "output_type": "stream",
     "text": [
      "Method in A, value = 13\n",
      "\n"
     ]
    }
   ],
   "source": [
    "# Пример без переопределения метода\n",
    "class A:\n",
    "    value = 13\n",
    "    \n",
    "    def some_method(self):\n",
    "        print(\"Method in A, value = {}\".format(self.value))\n",
    "        \n",
    "        \n",
    "class B(A):\n",
    "    pass\n",
    "\n",
    "\n",
    "class C(A):\n",
    "    pass\n",
    "\n",
    "\n",
    "class D(B, C):\n",
    "    pass\n",
    "\n",
    "# Рассмотрим реализацию в D\n",
    "D().some_method()\n",
    "print()"
   ]
  },
  {
   "cell_type": "code",
   "execution_count": 39,
   "metadata": {},
   "outputs": [
    {
     "ename": "SyntaxError",
     "evalue": "invalid syntax (<ipython-input-39-9434bd411704>, line 6)",
     "output_type": "error",
     "traceback": [
      "\u001b[0;36m  File \u001b[0;32m\"<ipython-input-39-9434bd411704>\"\u001b[0;36m, line \u001b[0;32m6\u001b[0m\n\u001b[0;31m    print(f\"Method in A, value = {self.value}\")\u001b[0m\n\u001b[0m                                             ^\u001b[0m\n\u001b[0;31mSyntaxError\u001b[0m\u001b[0;31m:\u001b[0m invalid syntax\n"
     ]
    }
   ],
   "source": [
    "# Переопределим метод в D\n",
    "class A:\n",
    "    value = 13\n",
    "    \n",
    "    def some_method(self):\n",
    "        print(\"Method in A, value = {}\".format(self.value))\n",
    "        \n",
    "        \n",
    "class B(A):\n",
    "    pass\n",
    "\n",
    "\n",
    "class C(A):\n",
    "    pass\n",
    "\n",
    "\n",
    "class D(B, C):\n",
    "    \n",
    "    def some_method(self):\n",
    "        print(\"Method in D, value = {}\".format(self.value))\n",
    "\n",
    "# Рассмотрим реализацию в D\n",
    "D().some_method()\n",
    "print()"
   ]
  },
  {
   "cell_type": "code",
   "execution_count": null,
   "metadata": {
    "collapsed": true
   },
   "outputs": [],
   "source": [
    "# Переопределим метод в C\n",
    "class A:\n",
    "    value = 13\n",
    "    \n",
    "    def some_method(self):\n",
    "        print(\"Method in A, value = {}\".format(self.value))\n",
    "        \n",
    "        \n",
    "class B(A):\n",
    "    pass\n",
    "\n",
    "\n",
    "class C:\n",
    "    \n",
    "    def some_method(self):\n",
    "        print(\"Method in С, value = {}\".format(self.value))\n",
    "\n",
    "class D(B, C):\n",
    "    pass\n",
    "\n",
    "# Рассмотрим реализацию в D\n",
    "D().some_method()\n",
    "print()"
   ]
  },
  {
   "cell_type": "code",
   "execution_count": null,
   "metadata": {
    "collapsed": true
   },
   "outputs": [],
   "source": [
    "# Переопределим метод в  B и C b значение в С\n",
    "class A:\n",
    "    value = 13\n",
    "    \n",
    "    def some_method(self):\n",
    "        print(\"Method in A, value = {}\".format(self.value))\n",
    "        \n",
    "        \n",
    "class B(A):\n",
    "    def some_method(self):\n",
    "        print(\"Method in B, value = {}\".format(self.value))\n",
    "        \n",
    "    def __init__():\n",
    "        pass\n",
    "\n",
    "\n",
    "class C(A):\n",
    "    value = 6\n",
    "    \n",
    "    def some_method(self):\n",
    "        print(\"Method in С, value = {}\".format(self.value))\n",
    "\n",
    "class D(B, C):\n",
    "    pass\n",
    "\n",
    "# Рассмотрим реализацию в D\n",
    "D().some_method()\n",
    "print()"
   ]
  },
  {
   "cell_type": "markdown",
   "metadata": {},
   "source": [
    "### Упражнение 1. Длинный ромб\n",
    "\n",
    "Определите, как будет происходить поиск методов, если на месте классов `B` и `C` будут цепочки из двух классов."
   ]
  },
  {
   "cell_type": "code",
   "execution_count": null,
   "metadata": {
    "collapsed": true
   },
   "outputs": [],
   "source": [
    "# Переопределим метод в  B и C b значение в С\n",
    "class A:\n",
    "    value = 13\n",
    "    \n",
    "    def some_method(self):\n",
    "        print(\"Method in A, value = {}\".format(self.value))\n",
    "        \n",
    "        \n",
    "class Q(A):\n",
    "    \n",
    "    def some_method(self):\n",
    "        print(\"Method in Q, value = {}\".format(self.value))\n",
    "\n",
    "\n",
    "class P(Q):\n",
    "    pass\n",
    "\n",
    "\n",
    "class N(A):\n",
    "    pass\n",
    "\n",
    "\n",
    "class M(N):\n",
    "    value = 6\n",
    "    \n",
    "    def some_method(self):\n",
    "        print(\"Method in M, value = {}\".format(self.value))\n",
    "\n",
    "class D(P, M):\n",
    "    pass\n",
    "\n",
    "# Рассмотрим реализацию в D\n",
    "D().some_method()\n",
    "print()"
   ]
  },
  {
   "cell_type": "markdown",
   "metadata": {},
   "source": [
    "# <font color=blue> PEP 8 </font>\n",
    "\n",
    "[PEP 8](https://www.python.org/dev/peps/pep-0008/) (Python Enhancement Proposal) определяет общепринятые правила написания кода на Python. Соблюдение соглашений сделает Ваш код более читабельным и приятным на вид, упростит его использование и сделает его более безопасным.\n",
    "\n",
    "Это не копия копия PEP 8, только основные положения. С полной версией рекомендуется ознакомится самостоятельно. [`Русская версия PEP 8`](https://pythonworld.ru/osnovy/pep-8-rukovodstvo-po-napisaniyu-koda-na-python.html#id3)\n",
    "\n",
    "В корне репозитория лежит [краткое изложение](https://github.com/mipt-cs/python-biocad/blob/master/PEP8_short.pdf) на русском.\n",
    "\n",
    "### Упражнение 2. PEP 8\n",
    "\n",
    "Приведите код внизу в соответствие с PEP 8."
   ]
  },
  {
   "cell_type": "code",
   "execution_count": null,
   "metadata": {
    "collapsed": true
   },
   "outputs": [],
   "source": [
    "class my_class(Base):\n",
    "\n",
    "    def __init__(self,\n",
    "            data,result):\n",
    "      self.Data=data\n",
    "      self.Result=result\n",
    "    def getAnswer(self):\n",
    "          return([int (x >=0.5) \n",
    "            for x in self.data])\n",
    "    def GetScore (self):\n",
    "        ans=self.get_answer ()\n",
    "        return(sum([int(x==y) for (x,y) in zip(ans,self.result)]) \\\n",
    "            /len(ans))\n",
    "    def get_loss (self):\n",
    "            return(sum([(x - y)*(x - y) for (x,y) in zip(self.data,\n",
    "                   self.result)]))"
   ]
  },
  {
   "cell_type": "markdown",
   "metadata": {},
   "source": [
    "# <font color=blue>Инкапсуляция</font>\n",
    "\n",
    "Под **инкапсуляцией** понимают два разных понятия.\n",
    "\n",
    "1. Объединение данных и методов для работы с ними в единый объект и обеспечение согласованной работы объекта.\n",
    "\n",
    "2. Сокрытие части данных и методов объекта от непосредственного доступа пользователя.\n",
    "\n",
    "С инкапсуляцией в ее первом значении мы не раз сталкивались, примером может послужить объект типа словарь. Объект включает в себя данные (элементы словаря) и методы для работы с ними, которые не могут быть применины для других целей. С помощью классов программист может создавать свои типы данных использу таким образом инкапсуляцию. \n",
    "\n",
    "### Пример 1. Инкапсуляция\n",
    "\n",
    "Экземпляры класса `ArrayBasedQueue` содержат в себе контейнеры для хранения данных и работы с ними."
   ]
  },
  {
   "cell_type": "code",
   "execution_count": null,
   "metadata": {
    "collapsed": true
   },
   "outputs": [],
   "source": [
    "class Empty(Exception):\n",
    "    def __init__(self, message):\n",
    "        super().__init__(message)\n",
    "\n",
    "\n",
    "class Full(Exception):\n",
    "    def __init__(self, message):\n",
    "        super().__init__(message)\n",
    "\n",
    "\n",
    "class ArrayBasedQueue:\n",
    "    def __init__(self, max_size=10**3):\n",
    "        self.max_size = max_size\n",
    "        self.values = [0] * max_size\n",
    "        self.start, self.end = max_size - 1, max_size - 1\n",
    "        self.size = 0\n",
    "    \n",
    "    def enqueue(self, value):\n",
    "        if self.size >= self.max_size:\n",
    "            raise Full(\"can not add element {} because queue is full\".format(value))\n",
    "        self.values[self.end] = value\n",
    "        self.end -= 1\n",
    "        self.end %= self.max_size\n",
    "        self.size += 1\n",
    "            \n",
    "    def __getitem__(self, idx): \n",
    "        \"\"\"Method is used to get zeroth and last elements\"\"\"\n",
    "        if idx not in {-1, 0}:\n",
    "            raise IndexError(\"index {} of queue element was used: only 0 and -1 are allowed\".format(idx))\n",
    "        return self.values[idx]"
   ]
  },
  {
   "cell_type": "markdown",
   "metadata": {},
   "source": [
    "## <font color=green>Интерфейс и реализация</font>\n",
    "\n",
    "**Интерфейс** - это совокупность всех способов доступа и взаимодействия с некоторым объектом. Интерфейс объекта складывается из всех публичных (доступных снаружи) методов и полей, доставшихся ему от родительских классов, а также его собственных публичных полей. Интерфейс - это то, что будет видеть пользователь Вашего объекта, именно он будет описан в документации к продукту.\n",
    "\n",
    "### Разработка интерфейса\n",
    "\n",
    "- Интерфейс должен быть продуманным\n",
    "\n",
    "- При разработке интерфейса надо думать о пользователе\n",
    "\n",
    "- Все необходимые методы взаимодействия с объектом должны входить в интерфейс\n",
    "\n",
    "- Все служебные методы и переменные в интерфейс не входят\n",
    "\n",
    "[Интерфейс](https://www.programiz.com/python-programming/methods/list) и [реализация](https://github.com/python/cpython/blob/master/Objects/listobject.c) на примере встроенного типа `list`.\n",
    "\n",
    "## <font color=green>Ограничение доступа одних элементов программы другим</font>\n",
    "\n",
    "В C++ доступ регулируется с помощью модификаторов доступа `public`, `private`, `protected`.\n",
    "```C++\n",
    "class Cat                      // begin declaration of the class\n",
    "{\n",
    "  public:                      // begin public section\n",
    "    Cat(int initialAge);       // constructor\n",
    "    Cat(const Cat& copy_from); //copy constructor\n",
    "    Cat& operator=(const Cat& copy_from); //copy assignment\n",
    "    ~Cat();                    // destructor\n",
    "\n",
    "    int GetAge() const;        // accessor function\n",
    "    void SetAge(int age);      // accessor function\n",
    "    void Meow();\n",
    " private:                      // begin private section\n",
    "    int itsAge;                // member variable\n",
    "    char * string;\n",
    "};\n",
    "```\n",
    "\n",
    "В данном примере \"возраст кошки\" - приватное поле и его значение можно получить только используя мтоды класса. Модификатор `protected` допускает, что к аттрибуту могут обращаться экземпляры классов друзей и потомков.\n",
    "\n",
    "Модификаторы доступа позволяют проектировать строгие интерфейсы между частями программы, что делает ее более понятной, безопасной и простой в отладке.\n",
    "\n",
    "### Замечание\n",
    "В Python отсутствуют инструменты, позволяющие сделать часть методов и данных невидимыми для других объектов программы. \n",
    "\n",
    "Тем не менее можно разделять поля и методы на публичные и приватные с помощью синтаксических соглашений. \n",
    "\n",
    "1. Одно нижнее подчеркивание в начале имени аттрибута означает, что он предназначен для внутреннего пользования и не является частью интерфейса пользователяотносится к категории **protected**. **protected** аттрибуты доступны в классах наследниках, но обращение к ним извне категорически не рекомендуется.\n",
    "\n",
    "2. Имена приватных **private** аттрибутов начинаются с двух нижних подчеркиваний. Кроме того, в конце имени аттрибута должно быть не более 1 нижнего подчеркивания. Приватные аттрибуты доступны только внутри своего класса и не видны в классах наследниках.\n",
    "\n",
    "Если в начале имени аттрибута класса есть два нижних подчеркивания (в эту категорию **не входят аттрибуты**, у которых 2 нижних подчеркивания в начале и в конце имени), то выполняется искажение имени. Искажение имени включает присоединение к нему спереди нижнего подчеркивания и имени класса. В результате аттрибут становится недоступен по своему оригинальному имени извне и в классах наследниках.\n",
    "\n",
    "### Пример 2. Искажение имен"
   ]
  },
  {
   "cell_type": "code",
   "execution_count": null,
   "metadata": {
    "collapsed": true
   },
   "outputs": [],
   "source": [
    "class HelloClass:\n",
    "    def __init__(self, name):\n",
    "        # переменная, которую программист хочет всеми силами защитить от изменения\n",
    "        self.__template = 'Hello, {}!'\n",
    "        # \"приватное\" поле\n",
    "        self._name = name\n",
    "        \n",
    "    # \"публичный\" метод для взаимодествия объекта с пользователем\n",
    "    def speak(self):\n",
    "        print(self.__generate_answer(self._name))\n",
    "        \n",
    "    def __generate_answer(self, name):\n",
    "        return self.__template.format(name)\n",
    "        \n",
    "        \n",
    "hc = HelloClass('Vasya')\n",
    "hc.speak()"
   ]
  },
  {
   "cell_type": "code",
   "execution_count": null,
   "metadata": {
    "collapsed": true
   },
   "outputs": [],
   "source": [
    "# Тем не менеее поле __template все равно доступно снаружи, но под другим именем\n",
    "hc._HelloClass__template"
   ]
  },
  {
   "cell_type": "code",
   "execution_count": null,
   "metadata": {
    "collapsed": true
   },
   "outputs": [],
   "source": [
    "print(hc._HelloClass__generate_answer('Petya'))"
   ]
  },
  {
   "cell_type": "code",
   "execution_count": null,
   "metadata": {
    "collapsed": true
   },
   "outputs": [],
   "source": [
    "class FriendlyHelloClass(HelloClass):\n",
    "    def __init__(self, name):\n",
    "        super().__init__(name)\n",
    "        self.__template += ':)'\n",
    "        \n",
    "        \n",
    "fh = FriendlyHelloClass('Masha')\n",
    "fh.speak()"
   ]
  },
  {
   "cell_type": "code",
   "execution_count": null,
   "metadata": {
    "collapsed": true
   },
   "outputs": [],
   "source": [
    "class SadHelloClass(HelloClass):\n",
    "    def __init__(self, name):\n",
    "        super().__init__(name)\n",
    "        self.__template = self._HelloClass__template[:-1] + ' :('\n",
    "        \n",
    "        \n",
    "fh = SadHelloClass('Misha')\n",
    "fh.speak()"
   ]
  },
  {
   "cell_type": "code",
   "execution_count": null,
   "metadata": {
    "collapsed": true
   },
   "outputs": [],
   "source": [
    "class VerySadHelloClass(HelloClass):\n",
    "    def __init__(self, name):\n",
    "        super().__init__(name)\n",
    "        self.__template = self._HelloClass__template[:-1] + ' :((('\n",
    "     \n",
    "    def speak(self):\n",
    "        print(self.__generate_answer(self._name))\n",
    "        \n",
    "    def __generate_answer(self, name):\n",
    "        return self.__template.format(self._name)\n",
    "        \n",
    "fh = VerySadHelloClass('Vera')\n",
    "fh.speak()"
   ]
  },
  {
   "cell_type": "markdown",
   "metadata": {},
   "source": [
    "# <font color=blue>Методы и поля класса</font>\n",
    "\n",
    "Как известно в Python все является объектами, в том числе и классы. При создании класса, можно создать ему поля точно также, как это делается для экземпляров классов при их конструировании.\n",
    "\n",
    "## <font color=green>Поля класса</font>\n",
    "\n",
    "### Пример 3. Поля класса"
   ]
  },
  {
   "cell_type": "code",
   "execution_count": null,
   "metadata": {
    "collapsed": true
   },
   "outputs": [],
   "source": [
    "class A:\n",
    "    a = 1\n",
    "    b = 2\n",
    "    \n",
    "print(A.a, A.b)"
   ]
  },
  {
   "cell_type": "markdown",
   "metadata": {},
   "source": [
    "Поля класса доступны внутри методов экземпляра класса."
   ]
  },
  {
   "cell_type": "code",
   "execution_count": null,
   "metadata": {
    "collapsed": true
   },
   "outputs": [],
   "source": [
    "class A:\n",
    "    a = 1\n",
    "    def __init__(self):\n",
    "        print(self.a)\n",
    "        \n",
    "a = A()"
   ]
  },
  {
   "cell_type": "markdown",
   "metadata": {},
   "source": [
    "Но если попытаться присвоить им значение, то будет создано поле экземпляра класса с таким же именем. В дальнейшем поле класса будет недоступно через идентификатор объекта, но останется доступным через идентификатор класса."
   ]
  },
  {
   "cell_type": "code",
   "execution_count": null,
   "metadata": {
    "collapsed": true
   },
   "outputs": [],
   "source": [
    "class A:\n",
    "    x = 1\n",
    "    def __init__(self):\n",
    "        self.x = 3\n",
    "        \n",
    "    def f(self):\n",
    "        print(self.x)\n",
    "        \n",
    "a = A()\n",
    "print(A.x, a.x)\n",
    "a.f()"
   ]
  },
  {
   "cell_type": "markdown",
   "metadata": {},
   "source": [
    "### Пример 4. Изменение поля класса\n",
    "\n",
    "#### <font color=red>Замечание</font>\n",
    "\n",
    "Изменение поля класса сопровождается его изменением во всех объектах. Эта особенность дает массу интересных возможностей, но может служить причиной ошибок."
   ]
  },
  {
   "cell_type": "code",
   "execution_count": null,
   "metadata": {
    "collapsed": true
   },
   "outputs": [],
   "source": [
    "class A:\n",
    "    x = [1]\n",
    "    def add_to_list(self, a):\n",
    "        self.x.append(a)\n",
    "        \n",
    "a = A()\n",
    "b = A()\n",
    "print(b.x)\n",
    "a.add_to_list(3)\n",
    "print(b.x)"
   ]
  },
  {
   "cell_type": "markdown",
   "metadata": {},
   "source": [
    "### Упражнение 3. Список экземпляров класса\n",
    "\n",
    "Создайте класс `A`, у которого будет поле `instances`, хранящее все экземпляры класса `A`."
   ]
  },
  {
   "cell_type": "code",
   "execution_count": null,
   "metadata": {
    "collapsed": true
   },
   "outputs": [],
   "source": []
  },
  {
   "cell_type": "markdown",
   "metadata": {},
   "source": [
    "## <font color=green>Методы класса</font>\n",
    "\n",
    "Для создания метода класса используется декоратор `@classmethod` (понятие декоратора будет подробно разобрано нами позже). В отличие от обычных методов, первым аргументом методу класса на вход подается класс, от которого метод вызывается. Методы класса \"не видят\" аттрибуты экземпляра, от которого вызываются.   "
   ]
  },
  {
   "cell_type": "code",
   "execution_count": null,
   "metadata": {
    "collapsed": true
   },
   "outputs": [],
   "source": [
    "class A:\n",
    "    x = 0\n",
    "    def __init__(self):\n",
    "        self.x = 3\n",
    "        self.y = 4\n",
    "      \n",
    "    @classmethod\n",
    "    def f(cls):\n",
    "        print(cls.x)\n",
    "        print(cls.y)\n",
    "        \n",
    "    @classmethod\n",
    "    def cm(cls):\n",
    "        print(\"I am class method\")\n",
    "    \n",
    "        \n",
    "a = A()\n",
    "a.f()"
   ]
  },
  {
   "cell_type": "markdown",
   "metadata": {},
   "source": [
    "Методы класса могут вызываться и от самого класса"
   ]
  },
  {
   "cell_type": "code",
   "execution_count": null,
   "metadata": {
    "collapsed": true
   },
   "outputs": [],
   "source": [
    "A.cm()"
   ]
  },
  {
   "cell_type": "markdown",
   "metadata": {},
   "source": [
    "## <font color=green>Метод [`__new__()`](https://docs.python.org/3/reference/datamodel.html#object.__new__)</font>\n",
    "\n",
    "Метод `__new__()` - важнейший метод класса, так как именно он создает экземпляры класса. Созданный экземпляр затем подается на вход `__init__()` для инициализации. Вместе `__new__()` и `__init__()` работают, как конструктор класса.\n",
    "\n",
    "###  Пример 5. Переопределение метода `__new__()`"
   ]
  },
  {
   "cell_type": "code",
   "execution_count": null,
   "metadata": {
    "collapsed": true
   },
   "outputs": [],
   "source": [
    "class A:\n",
    "    def __new__(cls):\n",
    "        print(\"Instantiating A!\")\n",
    "        instance = super().__new__(cls)\n",
    "        return instance\n",
    "\n",
    "a = A()"
   ]
  },
  {
   "cell_type": "markdown",
   "metadata": {},
   "source": [
    "### Упражнение 4. Singleton\n",
    "\n",
    "Создайте класс `Singleton`, у которого в коде может быть только один экземпляр."
   ]
  },
  {
   "cell_type": "code",
   "execution_count": null,
   "metadata": {
    "collapsed": true
   },
   "outputs": [],
   "source": [
    "class Singleton:\n",
    "    flag = 0\n",
    "    obj = 0\n",
    "    def __new__(cls):\n",
    "        if cls.flag > 0:\n",
    "            return cls.obj\n",
    "        cls.flag = 1\n",
    "        cls.obj =  super().__new__(cls)\n",
    "        return cls.obj\n",
    "    \n",
    "s1 = Singleton()\n",
    "s2 = Singleton()\n",
    "id(s1) == id(s2)"
   ]
  },
  {
   "cell_type": "markdown",
   "metadata": {},
   "source": [
    "## <font color=green>Статические методы</font>\n",
    "\n",
    "Статические методы - удобная разновидность методов, которую используют, если метод не использует экземпляр или класс. Другими словами в методе зайдействованы переменные `self` и `cls`. Статические методы одинаково вызываются от класса и экземпляра.\n",
    "\n",
    "### Пример 6. Таймер"
   ]
  },
  {
   "cell_type": "code",
   "execution_count": null,
   "metadata": {
    "collapsed": true
   },
   "outputs": [],
   "source": [
    "import time\n",
    "\n",
    "\n",
    "class Timer:\n",
    "    def __init__(self):\n",
    "        self.start_time = None\n",
    "    \n",
    "    def start(self):\n",
    "        self.start_time = self.get_time()\n",
    "        \n",
    "    def stop(self):\n",
    "        return time.clock() - self.start_time\n",
    "    \n",
    "    @staticmethod\n",
    "    def get_time():\n",
    "        return time.clock()\n",
    "    \n",
    "    \n",
    "timer = Timer()\n",
    "print(timer.get_time())\n",
    "timer.start()\n",
    "print(timer.stop())"
   ]
  },
  {
   "cell_type": "markdown",
   "metadata": {},
   "source": [
    "# <font color=blue>Абстрактные классы и методы</font>\n",
    "\n",
    "Абстрактные классы и методы не используются самостоятельно, а предназначены для дизайна интерфейса объектов. Необходимы интсрументы для работы с абстрактными классами и методами реализованы в модуле [`abc`](https://docs.python.org/3/library/abc.html) (Abstract Base Classes).\n",
    "\n",
    "Часто возникает необходимость гарантировать, что в классе наследнике будет реализован определенный метод. Чтобы этого добиться, класс родитель наследуется от абстрактного класса и в нем создается абстрактный метод. Имплементация абстрактного метода не имеет значения, важно лишь его наличие. В результате создания экземпляра класса потомка будет возможно лишь в случае, если в нем реализован соответствующий метод."
   ]
  },
  {
   "cell_type": "code",
   "execution_count": null,
   "metadata": {
    "collapsed": true
   },
   "outputs": [],
   "source": [
    "from abc import abstractmethod, ABC\n",
    "\n",
    "class Animal(ABC):\n",
    "    @abstractmethod\n",
    "    def move(self):\n",
    "        pass\n",
    "    \n",
    "class Whale(Animal):\n",
    "    pass\n",
    "\n",
    "whale = Whale()  # ошибка, т.к. в классе Whale не реализован метод move()"
   ]
  },
  {
   "cell_type": "code",
   "execution_count": null,
   "metadata": {
    "collapsed": true
   },
   "outputs": [],
   "source": [
    "class Dolphin(Animal):\n",
    "    def move(self):\n",
    "        print(\"I am swimming\")\n",
    "        \n",
    "dolphin = Dolphin()\n",
    "dolphin.move()"
   ]
  },
  {
   "cell_type": "markdown",
   "metadata": {},
   "source": [
    "#### Внимание!\n",
    "\n",
    "Невозможно создать экземпляр абстрактного класса."
   ]
  }
 ],
 "metadata": {
  "kernelspec": {
   "display_name": "Python 3",
   "language": "python",
   "name": "python3"
  },
  "language_info": {
   "codemirror_mode": {
    "name": "ipython",
    "version": 3
   },
   "file_extension": ".py",
   "mimetype": "text/x-python",
   "name": "python",
   "nbconvert_exporter": "python",
   "pygments_lexer": "ipython3",
   "version": "3.5.2"
  }
 },
 "nbformat": 4,
 "nbformat_minor": 2
}
