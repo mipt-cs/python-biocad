{
 "cells": [
  {
   "cell_type": "markdown",
   "metadata": {},
   "source": [
    "# <font color=blue>Наследование</font>\n",
    "\n",
    "Наследование подразумевает то, что дочерний класс содержит все атрибуты родительского класса, при этом некоторые из них могут быть переопределены или добавлены в дочернем. \n",
    "\n",
    "### Пример 1. Добавление метода\n",
    "\n",
    "В качестве примера рассмотрим разработку класса столов и его двух подклассов – кухонных и письменных столов. Все столы, независимо от своего типа, имеют длину, ширину и высоту. Пусть для письменных столов важна площадь поверхности, а для кухонных – количество посадочных мест. Общее вынесем в класс, частное – в подклассы.\n",
    "\n",
    "Связь между родительским и дочерним классом устанавливается через дочерний: родительские классы перечисляются в скобках после его имени."
   ]
  },
  {
   "cell_type": "code",
   "execution_count": null,
   "metadata": {
    "collapsed": true
   },
   "outputs": [],
   "source": [
    "class Table:\n",
    "    def __init__(self, l, w, h):\n",
    "        self.lenght = l\n",
    "        self.width = w\n",
    "        self.height = h\n",
    "        \n",
    "\n",
    "class KitchenTable(Table):\n",
    "    def set_places(self, p):\n",
    "        self.places = p\n",
    "\n",
    "\n",
    "class DeskTable(Table):\n",
    "    def square(self):\n",
    "        return self.width * self.length"
   ]
  },
  {
   "cell_type": "markdown",
   "metadata": {},
   "source": [
    "В данном случае классы `KitchenTable` и `DeskTable` не имеют своих собственных конструкторов, поэтому наследуют его от родительского класса. При создании экземпляров этих столов, передавать аргументы для `__init__()` обязательно, иначе возникнет ошибка:"
   ]
  },
  {
   "cell_type": "code",
   "execution_count": null,
   "metadata": {
    "collapsed": true
   },
   "outputs": [],
   "source": [
    "t1 = KitchenTable()"
   ]
  },
  {
   "cell_type": "markdown",
   "metadata": {},
   "source": [
    "Несомненно можно создавать столы и от родительского класса `Table`. Однако он не будет, согласно неким родственным связям, иметь доступ к методам `set_places()` и `square()`. Точно также как объект класса `KitchenTable` не имеет доступа к единоличным атрибутам сестринского класса `DeskTable`."
   ]
  },
  {
   "cell_type": "code",
   "execution_count": null,
   "metadata": {
    "collapsed": true
   },
   "outputs": [],
   "source": [
    "t1 = KitchenTable(2, 2, 0.7)\n",
    "t2 = DeskTable(1.5, 0.8, 0.75)\n",
    "t3 = KitchenTable(1, 1.2, 0.8)"
   ]
  },
  {
   "cell_type": "code",
   "execution_count": null,
   "metadata": {
    "collapsed": true
   },
   "outputs": [],
   "source": [
    "t4 = Table(1, 1, 0.5)\n",
    "print(t2.square())\n",
    "t4.square()"
   ]
  },
  {
   "cell_type": "markdown",
   "metadata": {},
   "source": [
    "В этом смысле терминология \"родительский и дочерний класс\" не совсем верна. Наследование в ООП – это скорее аналог систематизации и классификации наподобие той, что есть в живой природе. Все млекопитающие имеют четырехкамерное сердце, но только носороги – рог.\n",
    "\n",
    "### Упражнение 1. Наследование и добавление метода\n",
    "\n",
    "Создайте свой тип словаря `CustomDict`, у которого будет метод `speak()`. Метод `speak()` должен печатать строку `\"I am custom dictionary!\"`. Проверьте, сохранились ли методы `get()`, `pop()`, `items()`, а также возможность добавления элемента в словарь и удаления элемента из словаря с помощью слова `del`.\n",
    "\n",
    ">`CustomDict` должен наследовать встроенному типу `dict`"
   ]
  },
  {
   "cell_type": "code",
   "execution_count": null,
   "metadata": {},
   "outputs": [],
   "source": []
  },
  {
   "cell_type": "markdown",
   "metadata": {},
   "source": [
    "## <font color=green>Переопределение методов</font>\n",
    "\n",
    "Что если в подклассе нам не подходит код метода его надкласса. Допустим, мы вводим еще один класс столов, который является дочерним по отношению к `DeskTable`. Пусть это будут компьютерные столы, при вычислении рабочей поверхности которых надо отнимать заданную величину. Имеет смысл внести в этот новый подкласс его собственный метод `square()`:"
   ]
  },
  {
   "cell_type": "code",
   "execution_count": null,
   "metadata": {
    "collapsed": true
   },
   "outputs": [],
   "source": [
    "class ComputerTable(DeskTable):\n",
    "    def square(self, e):\n",
    "        return self.width * self.length - e"
   ]
  },
  {
   "cell_type": "markdown",
   "metadata": {},
   "source": [
    "При создании объекта типа `ComputerTable` по-прежнему требуется указывать параметры, так как интерпретатор в поисках конструктора пойдет по дереву наследования сначала в родителя, а потом в прародителя и найдет там метод `__init__()`.\n",
    "\n",
    "Однако когда будет вызываться метод `square()`, то поскольку он будет обнаружен в самом `ComputerTable`, то метод `square()` из `DeskTable` останется невидимым, т. е. для объектов класса `ComputerTable` он окажется переопределенным."
   ]
  },
  {
   "cell_type": "code",
   "execution_count": null,
   "metadata": {},
   "outputs": [],
   "source": [
    "ct = ComputerTable(2, 1, 1)\n",
    "ct.square(0.3)"
   ]
  },
  {
   "cell_type": "markdown",
   "metadata": {},
   "source": [
    "### Упражнение 2. Переопределение метода\n",
    "\n",
    "Создайте класс `Bird`, в котором будет метод `move()`. Метод `move()` должен печатать строку `\"I am flying!\"`. Классу `Bird` должен наследовать класс `Pinguin`, у которого метод `move()` должен печатать строку `\"I am swimming!\"`."
   ]
  },
  {
   "cell_type": "code",
   "execution_count": null,
   "metadata": {
    "collapsed": true
   },
   "outputs": [],
   "source": []
  },
  {
   "cell_type": "markdown",
   "metadata": {},
   "source": [
    "## <font color=green>Дополнение метода</font>\n",
    "\n",
    "Если посмотреть на вычисление площади, то часть кода надкласса дублируется в подклассе. Этого можно избежать, если вызвать родительский метод, а потом дополнить его:"
   ]
  },
  {
   "cell_type": "code",
   "execution_count": null,
   "metadata": {
    "collapsed": true
   },
   "outputs": [],
   "source": [
    "class ComputerTable(DeskTable):\n",
    "    def square(self, e):\n",
    "        return DeskTable.square(self) - e "
   ]
  },
  {
   "cell_type": "markdown",
   "metadata": {},
   "source": [
    "Здесь вызывается метод другого класса, а потом дополняется своими выражениями. В данном случае вычитанием.\n",
    "\n",
    "Рассмотрим другой пример. Допустим, в классе `KitchenTable` нам не нужен метод, поле `places` должно устанавливаться при создании объекта в конструкторе. В классе можно создать собсвенный конструктор с чистого листа, чем переопределить родительский:"
   ]
  },
  {
   "cell_type": "code",
   "execution_count": null,
   "metadata": {
    "collapsed": true
   },
   "outputs": [],
   "source": [
    "class KitchenTable(Table):\n",
    "    def __init__(self, l, w, h, p):\n",
    "        self.length = l\n",
    "        self.width = w\n",
    "        self.height = h\n",
    "        self.places = p"
   ]
  },
  {
   "cell_type": "markdown",
   "metadata": {},
   "source": [
    "Однако это не лучший способ, если дублируется почти весь конструктор надкласса. Проще вызвать родительский конструктор, после чего дополнить своим кодом:"
   ]
  },
  {
   "cell_type": "code",
   "execution_count": null,
   "metadata": {
    "collapsed": true
   },
   "outputs": [],
   "source": [
    "class KitchenTable(Table):\n",
    "    def __init__(self, l, w, h, p):\n",
    "        Table.__init__(self, l, w, h)\n",
    "        self.places = p"
   ]
  },
  {
   "cell_type": "markdown",
   "metadata": {},
   "source": [
    "Теперь при создании объекта типа KitchenTable надо указывать в конструкторе четыре аргумента. Три из них будут переданы выше по лестнице наследования, а четвертый оприходован на месте."
   ]
  },
  {
   "cell_type": "code",
   "execution_count": null,
   "metadata": {
    "collapsed": true
   },
   "outputs": [],
   "source": [
    "tk = KitchenTable(2, 1.5, 0.7, 10)\n",
    "print(tk.places)\n",
    "print(tk.width)"
   ]
  },
  {
   "cell_type": "markdown",
   "metadata": {},
   "source": [
    "### Упражнение 3. Дополнение метода\n",
    "\n",
    "Напишите класс `Person` и класс `Student`, наследующий классу `Person`. Метод `__init__()` класса `Person` должен принимать на вход  имя и возраст, а метод `__init__()` класса `Student` должен дополнительно принимать на вход параметр `student_id`. У класса `Person` реализуйте  методы `show_name()` и `show_age()`, печатающие соответственно имя и возраст, а у класса `Student` реализуйте метод `get_id()` возвращающий `student_id`."
   ]
  },
  {
   "cell_type": "code",
   "execution_count": null,
   "metadata": {},
   "outputs": [],
   "source": []
  },
  {
   "cell_type": "markdown",
   "metadata": {},
   "source": [
    "## <font color=green>Встроенная функция `super()`</font>\n",
    "\n",
    "Встроенная функция [`super()`](https://docs.python.org/3/library/functions.html#super) возвращает прокси-объект, который позволяет вызывать методы родительского класса."
   ]
  },
  {
   "cell_type": "code",
   "execution_count": null,
   "metadata": {},
   "outputs": [],
   "source": [
    "class A:\n",
    "    def __init__(self, x):\n",
    "        self.x = x\n",
    "        \n",
    "class B(A):\n",
    "    def __init__(self, x):\n",
    "        super(B, self).__init__(x)\n",
    "        \n",
    "class С(A):\n",
    "    def __init__(self, x):\n",
    "        super().__init__(x)\n",
    "        \n",
    "b = B(2)\n",
    "print(b.x)\n",
    "c = С(3)\n",
    "c.x"
   ]
  },
  {
   "cell_type": "code",
   "execution_count": null,
   "metadata": {
    "collapsed": true
   },
   "outputs": [],
   "source": []
  }
 ],
 "metadata": {
  "kernelspec": {
   "display_name": "Python 3",
   "language": "python",
   "name": "python3"
  },
  "language_info": {
   "codemirror_mode": {
    "name": "ipython",
    "version": 3
   },
   "file_extension": ".py",
   "mimetype": "text/x-python",
   "name": "python",
   "nbconvert_exporter": "python",
   "pygments_lexer": "ipython3",
   "version": "3.5.2"
  }
 },
 "nbformat": 4,
 "nbformat_minor": 2
}
