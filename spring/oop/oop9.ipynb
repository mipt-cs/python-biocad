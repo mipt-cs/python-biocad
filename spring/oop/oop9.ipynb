{
 "cells": [
  {
   "cell_type": "markdown",
   "metadata": {},
   "source": [
    "# <font color=blue>Итераторы и генераторы</font>\n",
    "\n",
    "## <font color=green>Итераторы</font>\n",
    "\n",
    "Итак, чем же является итератор? Итератор — это вспомогательный объект, возвращающий следующий элемент всякий раз, когда выполняется вызов функции `next()` с передачей этого объекта в качестве аргумента. Таким образом, любой объект, предоставляющий метод `__next__()`, является итератором, возвращающим следующий элемент при вызове этого метода, при этом совершенно неважно как именно это происходит.\n",
    "\n",
    "Итак, итератор — это некая фабрика по производству значений. Всякий раз, когда вы обращаетесь к ней с просьбой \"давай следующее значение\", она знает как сделать это, поскольку сохраняет своё внутреннее состояние между обращениями к ней.\n",
    "\n",
    "Существует бесчисленное множество примеров использования итераторов. Например, все функции пакета itertools возвращают итераторы. \n",
    "\n",
    "Некоторые из которых генерируют бесконечные последовательности:"
   ]
  },
  {
   "cell_type": "code",
   "execution_count": null,
   "metadata": {
    "collapsed": true
   },
   "outputs": [],
   "source": [
    "from itertools import count\n",
    "\n",
    "counter = count(start=13)\n",
    "print(next(counter))\n",
    "print(next(counter))"
   ]
  },
  {
   "cell_type": "markdown",
   "metadata": {},
   "source": [
    "В следующем примере генерируются все возможные перестановки элементов из `L`."
   ]
  },
  {
   "cell_type": "code",
   "execution_count": null,
   "metadata": {
    "collapsed": true
   },
   "outputs": [],
   "source": [
    "from itertools import permutations\n",
    "\n",
    "L = list(range(4))\n",
    "\n",
    "perms = permutations(L)\n",
    "\n",
    "for _ in range(10):\n",
    "    print(next(perms))"
   ]
  },
  {
   "cell_type": "markdown",
   "metadata": {},
   "source": [
    "Итератор останавливается, когда выбрасывается исключение `StopIteration`"
   ]
  },
  {
   "cell_type": "code",
   "execution_count": null,
   "metadata": {
    "collapsed": true
   },
   "outputs": [],
   "source": [
    "it = iter([1, 2])\n",
    "\n",
    "print(next(it))\n",
    "print(next(it))\n",
    "print(next(it))"
   ]
  },
  {
   "cell_type": "markdown",
   "metadata": {},
   "source": [
    "Итераторы в Python применяются повсеместно:\n",
    "\n",
    "1. При использовании списка `for` объект, по которому выполняется итерация преобразуется в итератор, то есть код\n",
    "\n",
    "```python\n",
    "for a in obj:\n",
    "    do_smth()\n",
    "```\n",
    "\n",
    "реализуется приблизительно так\n",
    "\n",
    "```python\n",
    "it = iter(obj)\n",
    "while True:\n",
    "    try:\n",
    "        a = next(it)\n",
    "    except StopIteration:\n",
    "        break\n",
    "    do_smth(a)\n",
    "```\n",
    "\n",
    "2. `map`-, `zip`-, `enumerate`-, `filter`-, `reversed`- объекты являются итераторами.\n",
    "\n",
    "3. Файловые объекты являются итераторами.\n",
    "\n",
    "### <font color=red>Важно!</font>\n",
    "По итератору можно выполнить тольк один проход. Для повторной итерации нужно создавать новый итератор."
   ]
  },
  {
   "cell_type": "code",
   "execution_count": null,
   "metadata": {
    "collapsed": true
   },
   "outputs": [],
   "source": [
    "e = enumerate([1, 2])\n",
    "print(next(e))\n",
    "print(next(e))\n",
    "next(e)"
   ]
  },
  {
   "cell_type": "code",
   "execution_count": null,
   "metadata": {
    "collapsed": true
   },
   "outputs": [],
   "source": [
    "for i in e:\n",
    "    print(i)"
   ]
  },
  {
   "cell_type": "code",
   "execution_count": null,
   "metadata": {
    "collapsed": true
   },
   "outputs": [],
   "source": [
    "e = enumerate([1, 2])\n",
    "print(next(e))\n",
    "print('loop')\n",
    "for i in e:\n",
    "    print(i)"
   ]
  },
  {
   "cell_type": "markdown",
   "metadata": {},
   "source": [
    "## <font color=green>Создание своих итераторов</font>\n",
    "\n",
    "1. В первую очередь у объекта-итератора должен быть метод `__next__()`, возвращающий очередной элемент.\n",
    "\n",
    "2. Если элементы закончились, объект должен бросать исключение `StopIteration`.\n",
    "\n",
    "3. У итератора должен быть метод `__iter__()`. Метод `__iter__()` при примении к объекту встроенной функции `iter()` и возвращает сам итератор. Система `iter()` - `__iter__()` итераторов из контейнеров (списков, словарей, кортежей, множеств) и строк и в итераторах нужна для совместимости интерфейса.\n",
    "\n",
    "### Пример 1. Единицы\n",
    "\n",
    "Итератор, создающий заданное количество единиц."
   ]
  },
  {
   "cell_type": "code",
   "execution_count": 29,
   "metadata": {
    "scrolled": false
   },
   "outputs": [
    {
     "name": "stdout",
     "output_type": "stream",
     "text": [
      "1\n",
      "1\n",
      "1\n",
      "<class '__main__.Ones'>\n"
     ]
    }
   ],
   "source": [
    "class Ones:\n",
    "    def __init__(self, n):\n",
    "        self._n = n\n",
    "        self._counter = 0\n",
    "        \n",
    "    def __iter__(self):\n",
    "        return self\n",
    "    \n",
    "    def __next__(self):\n",
    "        if self._counter < self._n:\n",
    "            self._counter += 1\n",
    "            return 1\n",
    "        else: \n",
    "            raise StopIteration\n",
    "        \n",
    "        \n",
    "ones = Ones(3)\n",
    "for k in ones:\n",
    "    print(k)\n",
    "    \n",
    "s = ones.__class__.__name__\n",
    "cl = eval(s)\n",
    "print(cl)"
   ]
  },
  {
   "cell_type": "markdown",
   "metadata": {},
   "source": [
    "### Упражнение 1. Числа Фибоначчи\n",
    "\n",
    "Напишите итератор, для первых `n` чисел Фибоначчи."
   ]
  },
  {
   "cell_type": "code",
   "execution_count": null,
   "metadata": {
    "collapsed": true
   },
   "outputs": [],
   "source": []
  },
  {
   "cell_type": "markdown",
   "metadata": {},
   "source": [
    "### Упражнение 2. Чтение из файла\n",
    "\n",
    "Напишите итератор считывающий из файла по 10 символов. При последнем считывании, если невозможно вернуть 10 символов, итератор возращает столько, сколько есть."
   ]
  },
  {
   "cell_type": "code",
   "execution_count": null,
   "metadata": {
    "collapsed": true
   },
   "outputs": [],
   "source": []
  },
  {
   "cell_type": "markdown",
   "metadata": {},
   "source": [
    "## <font color=green>Генераторы</font>\n",
    "\n",
    "Генераторы - это разновидность итераторов. Их отличает краткость и удобство реализации, благодаря чему они создаются разработчиками гораздо чаще. \n",
    "\n",
    "Генератор – это функция, которая будучи вызванной в функции `next()` возвращает следующий объект согласно алгоритму ее работы. Вместо ключевого слова `return` в генераторе используется `yield`. Проще всего работу генератор посмотреть на примере. Напишем функцию, которая генерирует необходимое нам количество единиц."
   ]
  },
  {
   "cell_type": "code",
   "execution_count": null,
   "metadata": {
    "collapsed": true
   },
   "outputs": [],
   "source": [
    "def ones(n):\n",
    "    for _ in range(n):\n",
    "        yield 1\n",
    "        \n",
    "        \n",
    "my_ones = ones(2)\n",
    "print(next(my_ones))\n",
    "print(next(my_ones))\n",
    "print(next(my_ones))"
   ]
  },
  {
   "cell_type": "code",
   "execution_count": null,
   "metadata": {
    "collapsed": true
   },
   "outputs": [],
   "source": [
    "my_ones = ones(5)\n",
    "\n",
    "for a in my_ones:\n",
    "    print(a)"
   ]
  },
  {
   "cell_type": "code",
   "execution_count": null,
   "metadata": {
    "collapsed": true
   },
   "outputs": [],
   "source": [
    "my_ones = iter(ones(2))\n",
    "print(dir(my_ones))"
   ]
  },
  {
   "cell_type": "markdown",
   "metadata": {},
   "source": [
    "При выполнении инструкции `yield` весь контекст функции (локальные переменные) сохраняются. При следующем примении `next()` к генератору функция продолжает, как ни в чем не бывало, работать с инструкции, следующей за `yield`.\n",
    "\n",
    "Важно отметить, что тело генератора в первый раз выполняется при примении к нему `next()`, а не при его создании."
   ]
  },
  {
   "cell_type": "code",
   "execution_count": null,
   "metadata": {
    "collapsed": true
   },
   "outputs": [],
   "source": [
    "def gen():\n",
    "    print(\"I am generator\")\n",
    "    yield None\n",
    "    \n",
    "g = gen()\n",
    "print(\"And now next() is called\")\n",
    "next(g)"
   ]
  },
  {
   "cell_type": "markdown",
   "metadata": {},
   "source": [
    "###  Упражнение 3.\n",
    "\n",
    "Реализуйте итераторы из упражнений 1 и 2 в виде генераторов."
   ]
  }
 ],
 "metadata": {
  "kernelspec": {
   "display_name": "Python 3",
   "language": "python",
   "name": "python3"
  },
  "language_info": {
   "codemirror_mode": {
    "name": "ipython",
    "version": 3
   },
   "file_extension": ".py",
   "mimetype": "text/x-python",
   "name": "python",
   "nbconvert_exporter": "python",
   "pygments_lexer": "ipython3",
   "version": "3.6.3"
  }
 },
 "nbformat": 4,
 "nbformat_minor": 2
}
