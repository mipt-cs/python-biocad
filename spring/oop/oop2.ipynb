{
 "cells": [
  {
   "cell_type": "markdown",
   "metadata": {},
   "source": [
    "## <font color=green>Пакеты</font>\n",
    "\n",
    "Пакеты в Python позволяют объединять и структурировать модули. Пакет - это каталог, который содержит файл <font color=green>\\_\\_init\\_\\_.py</font> и другие пакеты и модули. \n",
    "\n",
    "### Пример 1. Пакет (из книги \"Программирование на Python 3\" Саммерфильд М.)\n",
    "\n",
    "Например, допустим, что у нас имеется некоторое множество файлов модулей, предназначенных для чтения и записи графических файлов различных форматов с именами <font color=green>Bmp.py</font>, <font color=green>Jpeg.py</font>, <font color=green>Png.py</font>, <font color=green>Tiff.py</font> и <font color=green>Xpm.py</font>, в каждом из которых имеются функции `load()`, `save()` и т. д. Мы могли бы сохранить все эти модули в одном каталоге с программой, но в крупных программных продуктах, использующих массу собственных модулей, модули для работы с графикой, скорее всего, лучше хранить отдельно. Поместив их в свой собственный подкаталог, например Graphics, их можно хранить все вместе. А если поместить в каталог <font color=green>Graphics</font> пустой файл <font color=green>\\_\\_init\\_\\_.py</font>, этот каталог превратится в пакет:\n",
    "\n",
    "```\n",
    "Graphics/\n",
    "├── __init__.py\n",
    "├── Bmp.py\n",
    "├── Jpeg.py\n",
    "├── Png.py\n",
    "├── Tiff.py\n",
    "└── Xpm.py\n",
    "```\n",
    "\n",
    "Пока каталог <font color=green>Graphics</font> является подкаталогом каталога с программой или находится в пути поиска Python, мы будем иметь возможность импортировать любой из этих модулей и использовать их. Мы должны сделать все возможное, чтобы гарантировать несовпадение имени нашего модуля верхнего уровня (<font color=green>Graphics</font>) с каким-то из имен верхнего уровня в стандартной библиотеке – с целью избежать конфликтов имен. (В системе UNIX это легко обеспечить, достаточно лишь использовать в качестве первого символа имени символ верхнего регистра, так как в именах модулей стандартной библиотеки используются только символы нижнего регистра.) Ниже показано, как импортировать и использовать наши модули:\n",
    "\n",
    "```python\n",
    "import Graphics.Bmp\n",
    "image = Graphics.Bmp.load(\"bashful.bmp\")\n",
    "```\n",
    "В небольших программах некоторые программисты предпочитают использовать более короткие имена, и язык Python позволяет делать это двумя, немного отличающимися способами.\n",
    "\n",
    "```python\n",
    "import Graphics.Jpeg as Jpeg\n",
    "image = Jpeg.load(\"doc.jpeg\")\n",
    "```\n",
    "\n",
    "Здесь мы импортировали модуль `Jpeg` из пакета `Graphics` и сообщили интерпретатору, что вместо полного квалифицированного имени `Graphics.Jpeg` хотим использовать более короткое имя `Jpeg`.\n",
    "\n",
    "```python\n",
    "from Graphics import Png\n",
    "image = Png.load(\"dopey.png\")\n",
    "```\n",
    "\n",
    "Этот фрагмент программного кода напрямую импортирует модуль `Png` из пакета `Graphics`. Данная синтаксическая конструкция (`import ... from`) обеспечивает непосредственный доступ к модулю `Png`. Мы не обязаны использовать в нашем программном коде оригинальные имена модулей. Например:\n",
    "\n",
    "```python\n",
    "from Graphics import Tiff as picture\n",
    "image = picture.load(\"grumpy.tiff\")\n",
    "```\n",
    "\n",
    "Возможно импортирование отдельных объектов из модулей, содержащихся в пакетах.\n",
    "\n",
    "```python\n",
    "from Graphics.Jpeg import load as load_jpeg\n",
    "```\n",
    "\n",
    "### <font color=red>Важно!</font>\n",
    "\n",
    "1. При импортировании пакета выполняется **только** файл \\_\\_init\\_\\_.py, а содержащиеся в пакете модули и пакеты **не** выполняются. Попробуйте код\n",
    "```python\n",
    "import Graphics\n",
    "im = Graphics.Tiff.load(\"my_image.tiff\")\n",
    "```\n",
    "\n",
    "2. При импортировании модуля из пакета выполняются все <font color=green>\\_\\_init\\_\\_.py</font> файлы на пути к нужному модулю.<br>\n",
    "Добавьте в <font color=green>\\_\\_init\\_\\_.py</font> код\n",
    "```python\n",
    "print(\"I am __init__.py\")\n",
    "```\n",
    "и выполните\n",
    "```python\n",
    "import Graphics.Png\n",
    "```\n",
    "***\n",
    "\n",
    "### Упражнение 1. Создание пакета\n",
    "\n",
    "Создайте пакет, описанный в примере 1. Добавьте в <font color=green>Graphics</font> пакет <font color=green>Convert</font>, который будет содержать модули <font color=green>jpeg2png.py</font> и <font color=green>png2jpeg.py</font>. Добавьте в модули <font color=green>Bmp.py</font>, <font color=green>Jpeg.py</font>, <font color=green>Png.py</font>, <font color=green>Tiff.py</font>, <font color=green>Xpm.py</font> код\n",
    "```python\n",
    "def load(file_name):\n",
    "    pass\n",
    "```\n",
    "а в модули <font color=green>jpeg2png.py</font> и <font color=green>png2jpeg.py</font> - код\n",
    "```python\n",
    "def convert(file_name):\n",
    "    pass\n",
    "```\n",
    "\n",
    "Далее выполните код из примера 1, а также код\n",
    "```python\n",
    "from Graphics.Convert.jpeg2png import convert as jpeg2png\n",
    "jpeg2png('my_image.jpeg')\n",
    "```"
   ]
  },
  {
   "cell_type": "code",
   "execution_count": null,
   "metadata": {
    "collapsed": true
   },
   "outputs": [],
   "source": []
  },
  {
   "cell_type": "markdown",
   "metadata": {},
   "source": [
    "## <font color=green>Импортирование * из пакета</font>\n",
    "\n",
    " Из пакета можно импортировать сразу несколько модулей, если в файле <font color=green>\\_\\_init\\_\\_.py</font> определить список <font color=green>\\_\\_all\\_\\_</font>. В списке <font color=green>\\_\\_all\\_\\_</font> должны перечисляться имена модулей и пакетов которые будут импортированы при использовании инструкции\n",
    "```python\n",
    "from package import *\n",
    "```\n",
    "\n",
    "### Упражнение 2. `from package import *`\n",
    "\n",
    "Модифицируйте пакет `Graphics` так, чтобы при использовании инструкции `from package import *` импортировались модули <font color=green>Jpeg.py</font>, <font color=green>Png.py</font>  и пакет <font color=green>Convert</font>."
   ]
  },
  {
   "cell_type": "code",
   "execution_count": null,
   "metadata": {
    "collapsed": true
   },
   "outputs": [],
   "source": []
  },
  {
   "cell_type": "markdown",
   "metadata": {},
   "source": [
    "### <font color=red>Замечание</font>\n",
    "\n",
    "**Использование инструкций вида `from module_or_package import *` не рекомендуется, так как в программе появляется несколько новых имен, которые определены в другом файле. Это повышает риск возникновения ошибок и осложняет отладку.**\n",
    "\n",
    "***"
   ]
  },
  {
   "cell_type": "markdown",
   "metadata": {},
   "source": [
    "## <font color=green>Импортирование модулей внутри пакета</font>\n",
    "\n",
    "**Если модуль $M$ импортируется вместе с пакетом** то появляются 2 новых способа импортировать модули внутри $M$. В модуле $M$ можно импортировать модули, находящиеся в одном с ним каталоге. Это делается с помощью инструкции\n",
    "```\n",
    "package/\n",
    "├── __init__.py\n",
    "├── uncle_module.py\n",
    "└── father\n",
    "    ├── M.py\n",
    "    └── brother_module.py\n",
    "```\n",
    "```python\n",
    "from . import brother_module\n",
    "```\n",
    "Также можно импортировать модули, которые находятся на один уровень выше $M$ в дереве каталогов.\n",
    "```python\n",
    "from .. import uncle_module\n",
    "```\n",
    "### <font color=red>Замечание</font>\n",
    "\n",
    "**Относительное импортирование не работает, если не загружен пакет.**\n",
    "\n",
    "***\n",
    "\n",
    "### Упражнение 3. Относительное импортирование модулей\n",
    "\n",
    "Создайте пакет `package` со структурой, которая приведена выше и добавьте в `M.py` команды относительного импортирования. Попробуйте выполнить `M.py` как скрипт, а затем попробуйте импортировать его вместе с пакетом `package`."
   ]
  },
  {
   "cell_type": "code",
   "execution_count": null,
   "metadata": {
    "collapsed": true
   },
   "outputs": [],
   "source": []
  }
 ],
 "metadata": {
  "kernelspec": {
   "display_name": "Python 3",
   "language": "python",
   "name": "python3"
  },
  "language_info": {
   "codemirror_mode": {
    "name": "ipython",
    "version": 3
   },
   "file_extension": ".py",
   "mimetype": "text/x-python",
   "name": "python",
   "nbconvert_exporter": "python",
   "pygments_lexer": "ipython3",
   "version": "3.6.3"
  }
 },
 "nbformat": 4,
 "nbformat_minor": 2
}
