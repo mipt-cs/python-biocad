{
 "cells": [
  {
   "cell_type": "markdown",
   "metadata": {},
   "source": [
    "# <font color=blue>Декораторы (элемент синтаксиса). Продолжение</font>\n",
    "\n",
    "Декораторы в Python и примеры их практического использования.\n",
    "\n",
    "## <font color=green>Декораторы принимающие на вход аргументы</font>\n",
    "\n",
    "А теперь попробуем написать декоратор, принимающий аргументы:"
   ]
  },
  {
   "cell_type": "code",
   "execution_count": 1,
   "metadata": {},
   "outputs": [
    {
     "name": "stdout",
     "output_type": "stream",
     "text": [
      "Я создаю декораторы! Я буду вызван только раз: когда ты попросишь меня создать декоратор.\n",
      "Я возвращаю декоратор.\n",
      "Я - декоратор! Я буду вызван только раз: в момент декорирования функции.\n",
      "Я возвращаю обёрнутую функцию.\n",
      "Я - обёртка вокруг декорируемой функции.\n",
      "Я буду вызвана каждый раз, когда ты вызываешь декорируемую функцию.\n",
      "Я возвращаю результат работы декорируемой функции.\n",
      "Я - декорируемая функция.\n"
     ]
    }
   ],
   "source": [
    "def decorator_maker():\n",
    "    print(\"Я создаю декораторы! Я буду вызван только раз: когда ты попросишь меня создать декоратор.\")\n",
    "    def my_decorator(func):\n",
    "        print(\"Я - декоратор! Я буду вызван только раз: в момент декорирования функции.\")\n",
    "        def wrapped():\n",
    "            print (\"Я - обёртка вокруг декорируемой функции.\\n\"\n",
    "                   \"Я буду вызвана каждый раз, когда ты вызываешь декорируемую функцию.\\n\"\n",
    "                   \"Я возвращаю результат работы декорируемой функции.\")\n",
    "            return func()\n",
    "        print(\"Я возвращаю обёрнутую функцию.\")\n",
    "        return wrapped\n",
    "    print(\"Я возвращаю декоратор.\")\n",
    "    return my_decorator\n",
    "\n",
    "# Давайте теперь создадим декоратор. Это всего лишь ещё один вызов функции\n",
    "new_decorator = decorator_maker()\n",
    "# Теперь декорируем функцию\n",
    "def decorated_function():\n",
    "    print(\"Я - декорируемая функция.\")\n",
    "\n",
    "decorated_function = new_decorator(decorated_function)\n",
    "# Теперь наконец вызовем функцию:\n",
    "decorated_function()"
   ]
  },
  {
   "cell_type": "markdown",
   "metadata": {},
   "source": [
    "Теперь перепишем данный код с помощью декораторов:"
   ]
  },
  {
   "cell_type": "code",
   "execution_count": 2,
   "metadata": {},
   "outputs": [
    {
     "name": "stdout",
     "output_type": "stream",
     "text": [
      "Я создаю декораторы! Я буду вызван только раз: когда ты попросишь меня создать декоратор.\n",
      "Я возвращаю декоратор.\n",
      "Я - декоратор! Я буду вызван только раз: в момент декорирования функции.\n",
      "Я возвращаю обёрнутую функцию.\n",
      "Я - обёртка вокруг декорируемой функции.\n",
      "Я буду вызвана каждый раз, когда ты вызываешь декорируемую функцию.\n",
      "Я возвращаю результат работы декорируемой функции.\n",
      "Я - декорируемая функция.\n"
     ]
    }
   ],
   "source": [
    "@decorator_maker()\n",
    "def decorated_function():\n",
    "    print(\"Я - декорируемая функция.\")\n",
    "\n",
    "decorated_function()"
   ]
  },
  {
   "cell_type": "markdown",
   "metadata": {},
   "source": [
    "Вернёмся к аргументам декораторов, ведь, если мы используем функцию, чтобы создавать декораторы \"на лету\", мы можем передавать ей любые аргументы, верно?"
   ]
  },
  {
   "cell_type": "code",
   "execution_count": 3,
   "metadata": {},
   "outputs": [
    {
     "name": "stdout",
     "output_type": "stream",
     "text": [
      "Я создаю декораторы! И я получил следующие аргументы: Леонард Шелдон\n",
      "Я - декоратор. И ты всё же смог передать мне эти аргументы: Леонард Шелдон\n",
      "Я - обёртка вокруг декорируемой функции.\n",
      "И я имею доступ ко всем аргументам\n",
      "\t- и декоратора: Леонард Шелдон\n",
      "\t- и функции: Раджеш Говард\n",
      "Теперь я могу передать нужные аргументы дальше\n",
      "Я - декорируемая функция и я знаю только о своих аргументах: Раджеш Говард\n"
     ]
    }
   ],
   "source": [
    "def decorator_maker_with_arguments(decorator_arg1, decorator_arg2):\n",
    "    print(\"Я создаю декораторы! И я получил следующие аргументы:\",\n",
    "           decorator_arg1, decorator_arg2)\n",
    "    def my_decorator(func):\n",
    "        print(\"Я - декоратор. И ты всё же смог передать мне эти аргументы:\",\n",
    "               decorator_arg1, decorator_arg2)\n",
    "        # Не перепутайте аргументы декораторов с аргументами функций!\n",
    "        def wrapped(function_arg1, function_arg2):\n",
    "            print (\"Я - обёртка вокруг декорируемой функции.\\n\"\n",
    "                   \"И я имею доступ ко всем аргументам\\n\"\n",
    "                   \"\\t- и декоратора: {0} {1}\\n\"\n",
    "                   \"\\t- и функции: {2} {3}\\n\"\n",
    "                   \"Теперь я могу передать нужные аргументы дальше\"\n",
    "                   .format(decorator_arg1, decorator_arg2,\n",
    "                           function_arg1, function_arg2))\n",
    "            return func(function_arg1, function_arg2)\n",
    "        return wrapped\n",
    "    return my_decorator\n",
    "\n",
    "@decorator_maker_with_arguments(\"Леонард\", \"Шелдон\")\n",
    "def decorated_function_with_arguments(function_arg1, function_arg2):\n",
    "    print (\"Я - декорируемая функция и я знаю только о своих аргументах: {0}\"\n",
    "           \" {1}\".format(function_arg1, function_arg2))\n",
    "\n",
    "decorated_function_with_arguments(\"Раджеш\", \"Говард\")"
   ]
  },
  {
   "cell_type": "markdown",
   "metadata": {},
   "source": [
    "Таким образом, мы можем передавать декоратору любые аргументы, как обычной функции.\n",
    "\n",
    "Некоторые особенности работы с декораторами\n",
    "\n",
    "1. Декораторы несколько замедляют вызов функции, не забывайте об этом.\n",
    "\n",
    "2. Вы не можете \"раздекорировать\" функцию. Безусловно, существуют трюки, позволяющие создать декоратор, который можно отсоединить от функции, но это плохая практика. Правильнее будет запомнить, что если функция декорирована — это не отменить.\n",
    "\n",
    "3. Декораторы оборачивают функции, что может затруднить отладку.\n",
    "\n",
    "## <font color=green>Модуль `logging`</font>\n",
    "Для решения следующего упражнения используйте модуль [`logging`](https://docs.python.org/3/howto/logging.html#logging-basic-tutorial).  Модуль предоставляет богатый инструментарий для контроля за работой приложения:\n",
    "\n",
    "- вывод в консоль (поток stderr) или файл сообщений;\n",
    "\n",
    "- поддержка сообщений разных уровней важности: DEBUG, INFO, WARNING, ERROR, CRITICAL, возможность добавления собственных уровней важности;\n",
    "\n",
    "- фильтрация сообщений по степени важности: только сообщения с достаточным уровнем важности будут выведены;\n",
    "\n",
    "- логирование имени модуля, из которого пришло сообщение;\n",
    "\n",
    "- инструменты для записи даты и времени;\n",
    "\n",
    "- инструменты для логгирования названия модуля, из которого вышло сообщение"
   ]
  },
  {
   "cell_type": "code",
   "execution_count": 2,
   "metadata": {
    "collapsed": true
   },
   "outputs": [],
   "source": [
    "def try_all_log_levels():\n",
    "    logging.debug(\"debug message\")\n",
    "    logging.info(\"my info\")\n",
    "    logging.warning(\"my warning\")\n",
    "    logging.error(\"my error\")\n",
    "    logging.critical(\"my critical error\")"
   ]
  },
  {
   "cell_type": "code",
   "execution_count": 2,
   "metadata": {},
   "outputs": [
    {
     "name": "stderr",
     "output_type": "stream",
     "text": [
      "WARNING:root:my warning\n",
      "ERROR:root:my error\n",
      "CRITICAL:root:my critical error\n"
     ]
    }
   ],
   "source": [
    "import logging\n",
    "# По умолчанию уровень логирования - WARNING\n",
    "try_all_log_levels()"
   ]
  },
  {
   "cell_type": "markdown",
   "metadata": {},
   "source": [
    "Перезапустите ноутбук и попробуйте"
   ]
  },
  {
   "cell_type": "code",
   "execution_count": 3,
   "metadata": {},
   "outputs": [
    {
     "name": "stderr",
     "output_type": "stream",
     "text": [
      "DEBUG:root:debug message\n",
      "INFO:root:my info\n",
      "WARNING:root:my warning\n",
      "ERROR:root:my error\n",
      "CRITICAL:root:my critical error\n"
     ]
    }
   ],
   "source": [
    "import logging\n",
    "\n",
    "logging.basicConfig(level=logging.DEBUG)\n",
    "try_all_log_levels()"
   ]
  },
  {
   "cell_type": "markdown",
   "metadata": {},
   "source": [
    "Можно задать файл, в который будут писаться логи и определить их формат.\n",
    "\n",
    "Перезапустите ноутбук"
   ]
  },
  {
   "cell_type": "code",
   "execution_count": 2,
   "metadata": {},
   "outputs": [
    {
     "name": "stdout",
     "output_type": "stream",
     "text": [
      "03/30/2019 03:15:33 - INFO: my info\n",
      "03/30/2019 03:15:33 - WARNING: my warning\n",
      "\n"
     ]
    }
   ],
   "source": [
    "import logging\n",
    "import os\n",
    "\n",
    "# Каталог, в котором будет файл с логами должен существовать\n",
    "if not os.path.exists('logs'):\n",
    "    os.mkdir('logs')\n",
    "file_name = 'logs/example.log'\n",
    "\n",
    "logging.basicConfig(\n",
    "    filename=file_name,\n",
    "    level=logging.INFO,\n",
    "    filemode='w',  #  по умолчанию файйл открывается в режиме 'a'\n",
    "    format='%(asctime)s - %(levelname)s: %(message)s',\n",
    "    datefmt='%m/%d/%Y %I:%M:%S',\n",
    ")\n",
    "logging.info(\"my info\")\n",
    "logging.warning(\"my warning\")\n",
    "\n",
    "with open(file_name, 'r') as f:\n",
    "    print(f.read())"
   ]
  },
  {
   "cell_type": "markdown",
   "metadata": {},
   "source": [
    "### Упражнение 1\n",
    "\n",
    "Напишите декоратор, который принимает в качестве аргумента путь к файлу. Если данный декоратор добавить к функции, то в указанный файл будет логироваться информация вида: \n",
    "\n",
    "1. Время вызова функции \n",
    "\n",
    "2. Входящие аргументы \n",
    "\n",
    "3. Ответ return (если есть, если нет то логгировать '-') \n",
    "\n",
    "4. Время завершения работы функции \n",
    "\n",
    "5. Время работы функции"
   ]
  },
  {
   "cell_type": "code",
   "execution_count": 1,
   "metadata": {
    "collapsed": true
   },
   "outputs": [],
   "source": [
    "import logging\n",
    "import os\n",
    "\n",
    "log_file = 'logs/second.log'\n",
    "\n",
    "\n",
    "logger = logging.getLogger(os.path.split(log_file)[1].split('.')[0])\n",
    "logger.setLevel(logging.INFO)\n",
    "if not logger.hasHandlers():\n",
    "    handler = logging.FileHandler(log_file, mode='w') \n",
    "    formatter = logging.Formatter(\n",
    "        '%(asctime)s - %(levelname)s: %(message)s',\n",
    "        datefmt='%m/%d/%Y %I:%M:%S',\n",
    "    )\n",
    "    handler.setFormatter(formatter)\n",
    "    logger.addHandler(handler)\n",
    "\n",
    "logger.info('my info')"
   ]
  },
  {
   "cell_type": "code",
   "execution_count": 2,
   "metadata": {},
   "outputs": [
    {
     "name": "stdout",
     "output_type": "stream",
     "text": [
      "2019-03-30 15:23:19,036 - INFO: my info\n",
      "03/31/2019 08:49:43 - INFO: my info\n",
      "\n"
     ]
    }
   ],
   "source": [
    "with open(log_file, 'r') as f:\n",
    "    print(f.read())"
   ]
  },
  {
   "cell_type": "code",
   "execution_count": 4,
   "metadata": {},
   "outputs": [
    {
     "data": {
      "text/plain": [
       "16"
      ]
     },
     "execution_count": 4,
     "metadata": {},
     "output_type": "execute_result"
    }
   ],
   "source": [
    "import logging\n",
    "import os\n",
    "\n",
    "def decorator_maker(log_file):\n",
    "    logger = logging.getLogger(os.path.split(log_file)[1].split('.')[0])\n",
    "    logger.setLevel(logging.INFO)\n",
    "    if not logger.hasHandlers():\n",
    "        handler = logging.FileHandler(log_file, mode='w') \n",
    "        formatter = logging.Formatter(\n",
    "            '%(asctime)s - %(levelname)s: %(message)s',\n",
    "            datefmt='%m/%d/%Y %I:%M:%S',\n",
    "        )\n",
    "        handler.setFormatter(formatter)\n",
    "        logger.addHandler(handler)\n",
    "    def decorator(func):\n",
    "        def wrapper(*args, **kwargs):\n",
    "            logger.info('start function {}'.format(func.__name__))\n",
    "            'positional arguments: ' + ', '.join(['{}']*len(args)).format(*args)\n",
    "            res = func(*args, **kwargs)\n",
    "            return res\n",
    "        return wrapper\n",
    "    return decorator\n",
    "\n",
    "@decorator_maker('logs/f.log')\n",
    "def f(x):\n",
    "    return x**2\n",
    "\n",
    "@decorator_maker('logs/f.log')\n",
    "def g(y):\n",
    "    return y**2\n",
    "\n",
    "f(3)\n",
    "g(4)"
   ]
  },
  {
   "cell_type": "code",
   "execution_count": 5,
   "metadata": {},
   "outputs": [
    {
     "name": "stdout",
     "output_type": "stream",
     "text": [
      "04/06/2019 02:16:58 - INFO: start function f\n",
      "04/06/2019 02:16:58 - INFO: start function g\n",
      "\n"
     ]
    }
   ],
   "source": [
    "with open('logs/f.log', 'r') as f:\n",
    "    print(f.read())"
   ]
  },
  {
   "cell_type": "markdown",
   "metadata": {},
   "source": [
    "## <font color=green>Метод  `__call__()`</font>\n",
    "\n",
    "Некоторые объекты можно \"вызывать\", передавая им при этом аргументы в круглых скобках. Что объект был вызываемым (callable) нужно, чтобы у него был метод `__call__()`. Например функции являются вызываемыми объектами, а строки - нет."
   ]
  },
  {
   "cell_type": "code",
   "execution_count": 6,
   "metadata": {},
   "outputs": [
    {
     "name": "stdout",
     "output_type": "stream",
     "text": [
      "<method-wrapper '__call__' of function object at 0x7f9e9c0cd048>\n",
      "\n"
     ]
    }
   ],
   "source": [
    "def f():\n",
    "    pass\n",
    "\n",
    "f()\n",
    "print(f.__call__, end='\\n'*2)"
   ]
  },
  {
   "cell_type": "code",
   "execution_count": 7,
   "metadata": {},
   "outputs": [
    {
     "ename": "TypeError",
     "evalue": "'str' object is not callable",
     "output_type": "error",
     "traceback": [
      "\u001b[0;31m---------------------------------------------------------------------------\u001b[0m",
      "\u001b[0;31mTypeError\u001b[0m                                 Traceback (most recent call last)",
      "\u001b[0;32m<ipython-input-7-679c8ec560a6>\u001b[0m in \u001b[0;36m<module>\u001b[0;34m()\u001b[0m\n\u001b[1;32m      1\u001b[0m \u001b[0ms\u001b[0m \u001b[0;34m=\u001b[0m \u001b[0;34m'abc'\u001b[0m\u001b[0;34m\u001b[0m\u001b[0m\n\u001b[0;32m----> 2\u001b[0;31m \u001b[0ms\u001b[0m\u001b[0;34m(\u001b[0m\u001b[0;34m)\u001b[0m\u001b[0;34m\u001b[0m\u001b[0m\n\u001b[0m",
      "\u001b[0;31mTypeError\u001b[0m: 'str' object is not callable"
     ]
    }
   ],
   "source": [
    "s = 'abc'\n",
    "s()"
   ]
  },
  {
   "cell_type": "code",
   "execution_count": 8,
   "metadata": {},
   "outputs": [
    {
     "ename": "AttributeError",
     "evalue": "'str' object has no attribute '__call__'",
     "output_type": "error",
     "traceback": [
      "\u001b[0;31m---------------------------------------------------------------------------\u001b[0m",
      "\u001b[0;31mAttributeError\u001b[0m                            Traceback (most recent call last)",
      "\u001b[0;32m<ipython-input-8-f5d572ae1fad>\u001b[0m in \u001b[0;36m<module>\u001b[0;34m()\u001b[0m\n\u001b[0;32m----> 1\u001b[0;31m \u001b[0ms\u001b[0m\u001b[0;34m.\u001b[0m\u001b[0m__call__\u001b[0m\u001b[0;34m\u001b[0m\u001b[0m\n\u001b[0m",
      "\u001b[0;31mAttributeError\u001b[0m: 'str' object has no attribute '__call__'"
     ]
    }
   ],
   "source": [
    "s.__call__"
   ]
  },
  {
   "cell_type": "markdown",
   "metadata": {},
   "source": [
    "Для того чтобы сделать экземпляры класса вызываемыми, необходимо добавить в класс метод `__call__()`."
   ]
  },
  {
   "cell_type": "code",
   "execution_count": 9,
   "metadata": {},
   "outputs": [
    {
     "name": "stdout",
     "output_type": "stream",
     "text": [
      "3.0\n"
     ]
    },
    {
     "data": {
      "text/plain": [
       "-1"
      ]
     },
     "execution_count": 9,
     "metadata": {},
     "output_type": "execute_result"
    }
   ],
   "source": [
    "def apply_op(arg1, arg2, op):\n",
    "    if op == '+':\n",
    "        res = arg1 + arg2\n",
    "    elif op == '-':\n",
    "        res = arg1 - arg2\n",
    "    elif op == '*':\n",
    "        res = arg1 * arg2\n",
    "    else:\n",
    "        res = arg1 / arg2\n",
    "    return res\n",
    "\n",
    "\n",
    "def compute_postfix(expr):\n",
    "    stack = []\n",
    "    expr = expr.split()\n",
    "    for w in expr:\n",
    "        if w in '*/+-':\n",
    "            arg2 = stack.pop()\n",
    "            arg1 = stack.pop()\n",
    "            stack.append(apply_op(arg1, arg2, w))\n",
    "        else:\n",
    "            stack.append(float(w))\n",
    "    return stack.pop()\n",
    "\n",
    "\n",
    "class Calculator:\n",
    "    def __init__(self, notation):\n",
    "        self._notation = notation\n",
    "        \n",
    "    def __call__(self, expr):\n",
    "        if self._notation == 'infix':\n",
    "            return eval(expr)\n",
    "        elif self._notation == 'postfix':\n",
    "            return compute_postfix(expr)\n",
    "        \n",
    "        \n",
    "calc1 = Calculator('postfix')\n",
    "print(calc1('1 2 +'))\n",
    "calc2 = Calculator('infix')\n",
    "calc2('1 - 2')"
   ]
  },
  {
   "cell_type": "markdown",
   "metadata": {},
   "source": [
    "### Упражнение 2\n",
    "\n",
    " Решите упражнение 3 с помощью класса."
   ]
  },
  {
   "cell_type": "code",
   "execution_count": null,
   "metadata": {
    "collapsed": true
   },
   "outputs": [],
   "source": [
    "@Log(\"logs/my.log\")\n",
    "def f():\n",
    "    pass"
   ]
  },
  {
   "cell_type": "markdown",
   "metadata": {},
   "source": [
    "# <font color=blue> Паттерн проектирования Adapter</font>\n",
    "\n",
    "Паттерн адаптер — структурный шаблон. Предназначен для обеспечения совместимости объекта системе. По своему принципу подобен переходнику: например у вас есть объект (ноутбук, рассчитанный на подключение к американской розетке) и система (европейская розетка с элестричеством). Тогда — для присоединения объекта к системе необходим адаптер (переходник с европейской розетки на американскую).\n",
    "\n",
    "<img src=\"https://upload.wikimedia.org/wikipedia/ru/thumb/0/04/Adapter_pattern.svg/627px-Adapter_pattern.svg.png\">\n",
    "\n",
    "### Пример"
   ]
  },
  {
   "cell_type": "code",
   "execution_count": null,
   "metadata": {
    "collapsed": true
   },
   "outputs": [],
   "source": [
    "import re\n",
    "from abc import ABC, abstractmethod\n",
    "\n",
    "_text = '''\n",
    "Design Patterns: Elements of Reusable Object-Oriented Software is a software\n",
    "engineering book describing software design patterns. The book's authors are\n",
    "Erich Gamma, Richard Helm, Ralph Johnson and John Vlissides with a foreword by\n",
    "Grady Booch. The book is divided into two parts, with the first two chapters\n",
    "exploring the capabilities and pitfalls of object-oriented programming, and\n",
    "the remaining chapters describing 23 classic software design patterns. The\n",
    "book includes examples in C++ and Smalltalk.\n",
    "It has been influential to the field of software engineering and is regarded\n",
    "as an important source for object-oriented design theory and practice. More\n",
    "than 500,000 copies have been sold in English and in 13 other languages.\n",
    "The authors are often referred to as the Gang of Four (GoF).\n",
    "'''\n",
    "\n",
    "class System:\n",
    "    ''' Класс, представляющий систему '''\n",
    "    def __init__(self, text):\n",
    "        tmp = re.sub(r'\\W', ' ', text.lower())\n",
    "        tmp = re.sub(r' +', ' ', tmp).strip()\n",
    "        self.text = tmp\n",
    "\n",
    "    def get_processed_text(self, processor):\n",
    "        ''' Метод, требующий на вход класс-обработчик '''\n",
    "        result = processor.process_text(self.text) # Вызов метода обработчика\n",
    "        print('\\n'.join(map(str, result))) # печать результата\n",
    "\n",
    "class TextProcessor(ABC):\n",
    "    ''' Абстрактный интерфейс обработчика '''\n",
    "    @abstractmethod\n",
    "    def process_text(self, text):\n",
    "        ''' Здесь должен быть обработчик '''\n",
    "        pass\n",
    "\n",
    "class WordCounter:\n",
    "    ''' Обработчик, несовместимый с основной системой '''\n",
    "    def count_words(self, text):\n",
    "        ''' Считает сколько раз встретилось каждое слово текста'''\n",
    "        self.__words = dict()\n",
    "        for word in text.split():\n",
    "            self.__words[word] = self.__words.get(word, 0) + 1\n",
    "\n",
    "    def get_count(self, word):\n",
    "        ''' Возвращает количество вхождений '''\n",
    "        return self.__words.get(word, 0)\n",
    "\n",
    "    def get_all_words(self):\n",
    "        ''' Возвращает копию всего словоря слов '''\n",
    "        return self.__words.copy()\n",
    "\n",
    "class WordCounterAdapter(TextProcessor):\n",
    "    ''' Адаптер к обработчику '''\n",
    "    def __init__(self, adaptee):\n",
    "        ''' В конструкторе указывается, к какому объекту следует подключить адаптер '''\n",
    "        self.adaptee = adaptee\n",
    "\n",
    "    def process_text(self, text):\n",
    "        ''' Реализация интерфейса обработчика, требуемого системой.'''\n",
    "        self.adaptee.count_words(text)\n",
    "        words = self.adaptee.get_all_words().keys()\n",
    "        return sorted(words,\n",
    "                      key = lambda x: self.adaptee.get_count(x),\n",
    "                      reverse = True)\n",
    "\n",
    "# Создаём систему\n",
    "system = System(_text)\n",
    "# Создаём объект - \"считатель слов\"\n",
    "counter = WordCounter()\n",
    "# Подключаем адаптер к обекту\n",
    "adapter = WordCounterAdapter(counter)\n",
    "# Запускаем обработчик в системе, через адаптер\n",
    "system.get_processed_text(adapter)"
   ]
  },
  {
   "cell_type": "markdown",
   "metadata": {},
   "source": [
    "### Упражнение 5. Адаптер\n",
    "\n",
    "Вам нужно написать адаптер, который позволил бы использовать найденный вами класс совместно с вашей системой.\n",
    "\n",
    "Интерфейс класса выглядит следующим образом:"
   ]
  },
  {
   "cell_type": "code",
   "execution_count": null,
   "metadata": {
    "collapsed": true
   },
   "outputs": [],
   "source": [
    "class Light:\n",
    "    def __init__(self, dim):\n",
    "        self.dim = dim\n",
    "        self.grid = [[0 for _ in range(dim[0])] for _ in range(dim[1])]\n",
    "        self.lights = []\n",
    "        self.obstacles = []\n",
    "\n",
    "    def set_dim(self, dim):\n",
    "        self.dim = dim\n",
    "        self.grid = [[0 for _ in range(dim[0])] for _ in range(dim[1])]\n",
    "\n",
    "    def set_lights(self, lights):\n",
    "        self.lights = lights\n",
    "        self.generate_lights()\n",
    "\n",
    "    def set_obstacles(self, obstacles):\n",
    "        self.obstacles = obstacles\n",
    "        self.generate_lights()\n",
    "\n",
    "    def generate_lights(self):\n",
    "        return self.grid.copy()"
   ]
  },
  {
   "cell_type": "markdown",
   "metadata": {},
   "source": [
    "Интерфейс системы выглядит следующим образом:"
   ]
  },
  {
   "cell_type": "code",
   "execution_count": null,
   "metadata": {
    "collapsed": true
   },
   "outputs": [],
   "source": [
    "class System:\n",
    "    def __init__(self):\n",
    "        self.map = self.grid = [[0 for _ in range(30)] for _ in range(20)]\n",
    "        self.map[5][7] = 1 # Источники света\n",
    "        self.map[5][2] = -1 # Стены\n",
    "\n",
    "    def get_lightening(self, light_mapper):\n",
    "        self.lightmap = light_mapper.lighten(self.map)"
   ]
  },
  {
   "cell_type": "markdown",
   "metadata": {},
   "source": [
    "Класс `Light` создает в методе `__init__()` поле заданного размера. За размер поля отвечает параметр, представляющий из себя кортеж из 2 чисел. Элемент `dim[1]` отвечает за высоту карты, `dim[0]` за ее ширину. Метод `set_lights()` устанавливает массив источников света с заданными координатами и просчитывает освещение. Метод `set_obstacles()` устанавливает препятствия аналогичным образом. Положение элементов задается списком кортежей. В каждом элементе кортежа хранятся 2 значения: `elem[0]` -- координата по ширине карты и `elem[1]` — координата по высоте соответственно. Метод `generate_lights()` рассчитывает освещенность с учетом источников и препятствий.\n",
    "\n",
    "Вам необходимо написать адаптер `MappingAdapter`. Прототип класса вам дан в качестве исходного кода."
   ]
  },
  {
   "cell_type": "code",
   "execution_count": null,
   "metadata": {
    "collapsed": true
   },
   "outputs": [],
   "source": [
    "class MappingAdapter:\n",
    "    def __init__(self, adaptee):\n",
    "        pass\n",
    "\n",
    "    def lighten(self, grid):\n",
    "        pass"
   ]
  }
 ],
 "metadata": {
  "kernelspec": {
   "display_name": "Python 3",
   "language": "python",
   "name": "python3"
  },
  "language_info": {
   "codemirror_mode": {
    "name": "ipython",
    "version": 3
   },
   "file_extension": ".py",
   "mimetype": "text/x-python",
   "name": "python",
   "nbconvert_exporter": "python",
   "pygments_lexer": "ipython3",
   "version": "3.5.2"
  }
 },
 "nbformat": 4,
 "nbformat_minor": 2
}
