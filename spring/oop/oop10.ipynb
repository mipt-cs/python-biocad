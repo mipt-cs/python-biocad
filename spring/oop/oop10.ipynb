{
 "cells": [
  {
   "cell_type": "markdown",
   "metadata": {},
   "source": [
    "# <font color=blue>Структурное программирование</font>\n",
    "\n",
    "Структурное программирование - это методология, облечающая создание больших программ. Она была создана в конце 60-х годов Эдсгером Дейкстрой, Тони Хоаром и Никлаусом Виртом.\n",
    "\n",
    "Программирование можно сравнить с вождением автомобиля. Начинающий водитель будет концентрироваться на технических деталях, таких как\n",
    "\n",
    "- включил ли я фары?\n",
    "\n",
    "- где педаль сцепления?\n",
    "\n",
    "- как сейчас не врезаться?\n",
    "\n",
    "- разрешен ли тут обгон?\n",
    "\n",
    "- не превышаю ли я скорость?\n",
    "\n",
    "- можно ли тут останавливаться?\n",
    "\n",
    "У начинающих программистов те же сложности - они фокусируются на синтаксисе языка. Опытного водителя будут волновать другие вопросы, например\n",
    "\n",
    "- какая цель у поездки?\n",
    "\n",
    "- как оптимально спланировать маршрут?\n",
    "\n",
    "- безопасность и комфорт движения, надежность достижения цели.\n",
    "\n",
    "Структурное программирование направляет внимание разработчика на архитектуру системы и предлагает общий подход к ее проектированию.\n",
    "\n",
    "Принципы структурного программирования.\n",
    "\n",
    "1. Отказаться от использования инструкция `goto`.\n",
    "\n",
    "- Строить программу из вложенных конструкций: последовательность, ветвление, цикл.\n",
    "\n",
    "- Оформлять повторящиеся участки кода в виде функций.\n",
    "\n",
    "- Стараться, чтобы у функций была одна точка выхода. Под точкой выхода понимается возвращение значения из функции с помощью ключевого слова `return`, а так же выбрасывание исключений. *Этот пункт носит рекомендательный характер: многие специалисты не согласны, что педантичное следование данному принципу облегчает написание кода и упрощает его структуру. Просто старайтесь не злоупотреблять исключениями и `return`.* Пример функции с 3-мя точками выхода.\n",
    "  ```python\n",
    "  def fib(n):\n",
    "      if n <= 0:\n",
    "          # exit 1\n",
    "          raise ValueError(\n",
    "              \"Index of a Fibonacci number can not be less than 1\\nn={}\".format(n))\n",
    "      if n < 3:\n",
    "          # exit 2\n",
    "          return 1\n",
    "      # exit 3\n",
    "      return fib(n-1) + fib(n-2)\n",
    "  ```\n",
    "\n",
    "- **Проектировать приложение сверху вниз**.\n",
    "\n",
    "## <font color=green>Проектирование приложения \"сверху вниз\"</font>\n",
    "\n",
    "Подход к проектированию \"сверху вниз\" управляет вниманием программиста, позволяет не заблудиться в большом количестве кода и разбить код на функции.\n",
    "\n",
    "Метод проектирования состоит из этапов:\n",
    "\n",
    "1. Написать вызов функции высокого уровня\n",
    "\n",
    "- Добавить определение функции (ключевое слово `def`). Не пишите код, который будет внутри, только перечислите  переданные на вход параметры.\n",
    "\n",
    "- Определите, как функция будет работать, и разбейте ее на несколько частей, которые можно представить в виде функций. Добавьте вызовы новых функций и возвращаемое значение.\n",
    "\n",
    "- Повторить пункты 2 и 3 для добавленных функций.\n",
    "\n",
    "### Пример 1. Удаление комментариев из кода\n",
    "\n",
    "Напишем функцию `remove_commentaries()`, удаляющую комментарии из кода на Python. Функция принимает на вход строку с комментариями и возвращает строку без комментраиев. **Расматриваем только комментарии, начинающиеся с решетки**"
   ]
  },
  {
   "cell_type": "code",
   "execution_count": 2,
   "metadata": {},
   "outputs": [
    {
     "data": {
      "text/plain": [
       "''"
      ]
     },
     "execution_count": 2,
     "metadata": {},
     "output_type": "execute_result"
    }
   ],
   "source": [
    "def remove_commentaries(text):\n",
    "    idx = 0\n",
    "    result = ''\n",
    "    while idx < len(text):\n",
    "        begin, end = find_commentary(text, idx)\n",
    "        result += text[idx:begin]\n",
    "        idx = end + 1\n",
    "    return result\n"
   ]
  },
  {
   "cell_type": "markdown",
   "metadata": {},
   "source": [
    "Функция `find_commentary()` ищет границы первого комментария, который есть в участке текста, начиная с `idx` символа."
   ]
  },
  {
   "cell_type": "code",
   "execution_count": null,
   "metadata": {
    "collapsed": true
   },
   "outputs": [],
   "source": [
    "def find_commentary(text, idx):\n",
    "    begin = find_begin(text, idx)\n",
    "    end = find_end(text, begin)\n",
    "    return begin, end"
   ]
  },
  {
   "cell_type": "markdown",
   "metadata": {},
   "source": [
    "Функция `find_begin()` ищет индекс с которого начинается комментарий, а функция `find_end()` ищет символ, которым комментарий заканчивается."
   ]
  },
  {
   "cell_type": "code",
   "execution_count": null,
   "metadata": {
    "collapsed": true
   },
   "outputs": [],
   "source": [
    "def find_begin(text, idx):\n",
    "    if idx >= len(text):\n",
    "        return idx\n",
    "    i = idx\n",
    "    while i < len(text):\n",
    "        char = text[i]\n",
    "        if char == '#':\n",
    "            return i\n",
    "        if char in '\\'\"':\n",
    "            str_literal_end = find_end_of_str_literal(text, i)\n",
    "            i = str_literal_end + 1\n",
    "        i += 1\n",
    "    return i"
   ]
  },
  {
   "cell_type": "markdown",
   "metadata": {},
   "source": [
    "Если символ `'#'` находится внутри строкового литереала, то с него комментарий не начинается, поэтому ищем, где заканчивается строковый литерал. Литералы могут быть 3-х типов:\n",
    "```python\n",
    "a = 'abc'\n",
    "b = \"def\"\n",
    "c = \"\"\"ghi\n",
    "jkl\"\"\"\n",
    "d = '''mno\n",
    "pqr'''\n",
    "```"
   ]
  },
  {
   "cell_type": "code",
   "execution_count": null,
   "metadata": {
    "collapsed": true
   },
   "outputs": [],
   "source": [
    "def find_end_of_str_literal(text, idx):\n",
    "    if idx >= len(text):\n",
    "        return idx\n",
    "    char = text[idx]\n",
    "    if text[idx:idx+3] == char*3:\n",
    "        end = find_end_of_type_2_literal(text, idx)\n",
    "    else:\n",
    "        end = find_end_of_type_1_literal(text, idx)\n",
    "    return end\n",
    "\n",
    "\n",
    "def find_end_of_type_1_literal(text, idx):\n",
    "    if idx >= len(text):\n",
    "        return idx\n",
    "    i = idx + 1\n",
    "    char = text[idx]\n",
    "    while i < len(text) and text[i] != char:\n",
    "        i += 1\n",
    "    return i\n",
    "\n",
    "\n",
    "def find_end_of_type_2_literal(text, idx):\n",
    "    if idx >= len(text):\n",
    "        return idx\n",
    "    i = idx + 3\n",
    "    char = text[idx]\n",
    "    cnt = 0\n",
    "    while i < len(text) and cnt < 3:\n",
    "        if text[i] == char:\n",
    "            cnt += 1\n",
    "        else:\n",
    "            cnt = 0\n",
    "        i += 1\n",
    "    return i - 1"
   ]
  },
  {
   "cell_type": "markdown",
   "metadata": {},
   "source": [
    "Осталось написать функцию для поиска конца комментария. Комментарий заканчивается символом \"новая строка\" `'\\n'`."
   ]
  },
  {
   "cell_type": "code",
   "execution_count": null,
   "metadata": {
    "collapsed": true
   },
   "outputs": [],
   "source": [
    "def find_end(text, idx):\n",
    "    i = idx\n",
    "    while i < len(text) and text[i] != '\\n':\n",
    "        i += 1\n",
    "    return i"
   ]
  },
  {
   "cell_type": "code",
   "execution_count": null,
   "metadata": {
    "collapsed": true
   },
   "outputs": [],
   "source": [
    "text = \"\"\"\n",
    "# func 1\n",
    "def find_end_of_str_literal(text, idx):\n",
    "    char = text[idx]\n",
    "    if text[idx:idx+3] = char*3:\n",
    "        end = find_end_of_type_2_literal(text, idx)\n",
    "    else:\n",
    "        end = find_end_of_type_1_literal(text, idx)\n",
    "    return end\n",
    "\n",
    "# func 2\n",
    "def find_end_of_type_1_literal(text, idx):\n",
    "    i = idx + 1\n",
    "    char = text[idx]\n",
    "    while i < len(text) and text[i] != char:\n",
    "        i += 1 # increment\n",
    "    return i\n",
    "\n",
    "s = \"string with # sign\"\n",
    "\n",
    "s1 = \\\"\\\"\\\"string with # sign\\\"\\\"\\\"\n",
    "\n",
    "def find_end_of_type_2_literal(text, idx):\n",
    "    i = idx + 3\n",
    "    char = text[idx]\n",
    "    cnt = 0\n",
    "    while i < len(text) and cnt < 3:\n",
    "        if text[i] == char:\n",
    "            cnt += 1\n",
    "        else:\n",
    "            cnt = 0\n",
    "        i += 1\n",
    "    return i - 1\n",
    "trailing_string = \"fff\n",
    "\"\"\""
   ]
  },
  {
   "cell_type": "code",
   "execution_count": null,
   "metadata": {
    "collapsed": true
   },
   "outputs": [],
   "source": [
    "t = remove_commentaries(text)\n",
    "print(t)"
   ]
  },
  {
   "cell_type": "markdown",
   "metadata": {},
   "source": [
    "Необходимо стремится к тому, чтобы Ваши функции выполняли понятные операции и были небольшими. Чем меньше функция, тем меньше в ней локальных переменных и тем легче ее отлаживать."
   ]
  },
  {
   "cell_type": "markdown",
   "metadata": {},
   "source": [
    "## <font color=green>Крестики-нолики с помощью библиотеки Tkinter</font>\n",
    "\n",
    "Проверить, установлена ли у вас библиотека `Tkinter`, можно выполнив следующий код."
   ]
  },
  {
   "cell_type": "code",
   "execution_count": 25,
   "metadata": {
    "collapsed": true
   },
   "outputs": [],
   "source": [
    "import tkinter as tk\n",
    "\n",
    "tk._test()"
   ]
  },
  {
   "cell_type": "markdown",
   "metadata": {},
   "source": [
    "### Установка `Tkinter`:\n",
    "\n",
    "Подробно [здесь](https://tkdocs.com/tutorial/install.html).\n",
    "\n",
    "####  Ubuntu\n",
    "```bash\n",
    "sudo apt-get update\n",
    "sudo apt-get install python3-tk\n",
    "```\n",
    "\n",
    "#### Mac и Windows\n",
    "Проследуйте по [ccылке](https://www.activestate.com/products/activetcl/tcl-tk-modules/), скачайте и установите Community Edition.\n",
    "\n",
    "Клонировать проект можно командой\n",
    "```bash\n",
    "git clone https://github.com/PeganovAnton/tic-tac-toe.git\n",
    "```\n",
    "\n",
    "Запускается командой \n",
    "```bash\n",
    "python3 tic_tac_toe.py\n",
    "```"
   ]
  },
  {
   "cell_type": "code",
   "execution_count": 3,
   "metadata": {},
   "outputs": [
    {
     "data": {
      "text/plain": [
       "'/home/nast/anaconda3/bin/python'"
      ]
     },
     "execution_count": 3,
     "metadata": {},
     "output_type": "execute_result"
    }
   ],
   "source": [
    "import sys\n",
    "sys.executable"
   ]
  },
  {
   "cell_type": "code",
   "execution_count": 1,
   "metadata": {
    "collapsed": true
   },
   "outputs": [],
   "source": [
    "import tkinter as tk\n",
    "\n",
    "\n",
    "class MainFrame(tk.Frame):\n",
    "    def __init__(self, root, game):\n",
    "        super().__init__()\n",
    "        self._root = root\n",
    "        self._game = game\n",
    "        self.grid(row=0, column=0, sticky=(tk.S, tk.E, tk.N, tk.W))\n",
    "        self._add_menu()\n",
    "\n",
    "    def _add_menu(self):\n",
    "        menu_bar = tk.Menu(self.master)\n",
    "        self.master.config(menu=menu_bar)\n",
    "        file_menu = tk.Menu(menu_bar)\n",
    "        game_menu = tk.Menu(menu_bar)\n",
    "\n",
    "        file_menu.add_command(label=\"save\", command=self._game.save)\n",
    "        file_menu.add_command(label=\"load\", command=self._game.load)\n",
    "\n",
    "        game_menu.add_command(label='new', command=self._game.start_new_game)\n",
    "        \n",
    "        menu_bar.add_cascade(label=\"file\", menu=file_menu)\n",
    "        menu_bar.add_cascade(label='game', menu=game_menu)\n",
    "        \n",
    "\n",
    "class Game:\n",
    "    def save(self):\n",
    "        pass  # TODO\n",
    "    \n",
    "    def load(self):\n",
    "        pass  # TODO\n",
    "    \n",
    "    def start_new_game(self):\n",
    "        pass  # TODO\n",
    "\n",
    "\n",
    "def setup_window(root):\n",
    "    root.geometry(\"310x310+200+200\")\n",
    "    root.title('tic tac toe')\n",
    "    root.resizable(False, False)\n",
    "\n",
    "game = Game()\n",
    "root = tk.Tk()\n",
    "frame = MainFrame(root, game)\n",
    "setup_window(root)\n",
    "root.mainloop()"
   ]
  },
  {
   "cell_type": "code",
   "execution_count": 7,
   "metadata": {},
   "outputs": [
    {
     "name": "stdout",
     "output_type": "stream",
     "text": [
      "1200\n"
     ]
    },
    {
     "ename": "TypeError",
     "evalue": "'>' not supported between instances of 'str' and 'int'",
     "output_type": "error",
     "traceback": [
      "\u001b[0;31m---------------------------------------------------------------------------\u001b[0m",
      "\u001b[0;31mTypeError\u001b[0m                                 Traceback (most recent call last)",
      "\u001b[0;32m<ipython-input-7-b23030182e10>\u001b[0m in \u001b[0;36m<module>\u001b[0;34m()\u001b[0m\n\u001b[1;32m     33\u001b[0m \u001b[0;34m\u001b[0m\u001b[0m\n\u001b[1;32m     34\u001b[0m \u001b[0mword\u001b[0m \u001b[0;34m=\u001b[0m \u001b[0minput\u001b[0m\u001b[0;34m(\u001b[0m\u001b[0;34m)\u001b[0m\u001b[0;34m\u001b[0m\u001b[0m\n\u001b[0;32m---> 35\u001b[0;31m \u001b[0mprint\u001b[0m\u001b[0;34m(\u001b[0m\u001b[0mword_is_good\u001b[0m\u001b[0;34m(\u001b[0m\u001b[0mword\u001b[0m\u001b[0;34m)\u001b[0m\u001b[0;34m)\u001b[0m\u001b[0;34m\u001b[0m\u001b[0m\n\u001b[0m",
      "\u001b[0;32m<ipython-input-7-b23030182e10>\u001b[0m in \u001b[0;36mword_is_good\u001b[0;34m(word)\u001b[0m\n\u001b[1;32m     11\u001b[0m \u001b[0;34m\u001b[0m\u001b[0m\n\u001b[1;32m     12\u001b[0m         \u001b[0;32mif\u001b[0m \u001b[0mint\u001b[0m\u001b[0;34m(\u001b[0m\u001b[0mi\u001b[0m\u001b[0;34m)\u001b[0m \u001b[0;34m==\u001b[0m \u001b[0;36m0\u001b[0m\u001b[0;34m:\u001b[0m\u001b[0;34m\u001b[0m\u001b[0m\n\u001b[0;32m---> 13\u001b[0;31m             \u001b[0;32mif\u001b[0m \u001b[0mj\u001b[0m \u001b[0;34m>\u001b[0m \u001b[0;36m1\u001b[0m\u001b[0;34m:\u001b[0m\u001b[0;34m\u001b[0m\u001b[0m\n\u001b[0m\u001b[1;32m     14\u001b[0m                 \u001b[0md\u001b[0m\u001b[0;34m.\u001b[0m\u001b[0mappend\u001b[0m\u001b[0;34m(\u001b[0m\u001b[0mj\u001b[0m \u001b[0;34m-\u001b[0m \u001b[0;36m1\u001b[0m\u001b[0;34m)\u001b[0m\u001b[0;34m\u001b[0m\u001b[0m\n\u001b[1;32m     15\u001b[0m \u001b[0;34m\u001b[0m\u001b[0m\n",
      "\u001b[0;31mTypeError\u001b[0m: '>' not supported between instances of 'str' and 'int'"
     ]
    }
   ],
   "source": [
    "def word_is_good(word):\n",
    "    \n",
    "    d = []\n",
    "    d.append(int(word[0]))\n",
    "    \n",
    "    for i in word[1:]:\n",
    "        \n",
    "        if len(d) == 0:\n",
    "            return False\n",
    "        j = d.pop()\n",
    "        \n",
    "        if int(i) == 0:\n",
    "            if j > 1:\n",
    "                d.append(j - 1)\n",
    "            \n",
    "        elif int(i) == 1:\n",
    "            d.append(j)\n",
    "        \n",
    "        elif int(i) == 2:\n",
    "            if j > 1:\n",
    "                d.append(j - 1)\n",
    "            d.append(i)\n",
    "            \n",
    "        elif int(i) == 3:\n",
    "            if j > 1:\n",
    "                d.append(j - 1)\n",
    "            d.append(i)\n",
    "    \n",
    "    if len(d) == 0:\n",
    "        return True\n",
    "    else:\n",
    "        return False\n",
    "    \n",
    "word = input()\n",
    "print(word_is_good(word))"
   ]
  },
  {
   "cell_type": "code",
   "execution_count": 15,
   "metadata": {},
   "outputs": [
    {
     "data": {
      "text/plain": [
       "[2, 2.5, 3, 3.5, 4]"
      ]
     },
     "execution_count": 15,
     "metadata": {},
     "output_type": "execute_result"
    }
   ],
   "source": [
    "def k_pairs(a, b, k):\n",
    "    n1 = len(a)\n",
    "    n2 = len(b)\n",
    "    sum_list = []\n",
    "    index2 = [0 for i in range(n1)] \n",
    "    while (k > 0): \n",
    "        min_sum = 10**(1000)\n",
    "        min_index = 0\n",
    "        for i1 in range(0, n1, 1): \n",
    "            if (index2[i1] < n2 and a[i1] + b[index2[i1]] < min_sum): \n",
    "                min_index = i1\n",
    "                min_sum = a[i1] + b[index2[i1]] \n",
    "        sum_list.append(a[min_index] + b[index2[min_index]]) \n",
    "        index2[min_index] += 1\n",
    "        k -= 1\n",
    "    return sum_list\n",
    "\n",
    "a= [1,2, 3]\n",
    "b= [1,1.5,4,4,5]\n",
    "k=5\n",
    "k_pairs(a, b, k)"
   ]
  },
  {
   "cell_type": "code",
   "execution_count": 16,
   "metadata": {
    "collapsed": true
   },
   "outputs": [],
   "source": [
    "def add_sequences_all(a, b):\n",
    "    s = []\n",
    "    for aa in a:\n",
    "        for bb in b:\n",
    "            s.append(aa + bb)\n",
    "    return sorted(s)"
   ]
  },
  {
   "cell_type": "code",
   "execution_count": 17,
   "metadata": {
    "collapsed": true
   },
   "outputs": [],
   "source": [
    "import random\n",
    "\n",
    "k_max = 30\n",
    "\n",
    "for _ in range(10000):\n",
    "    k = random.randint(1, k_max)\n",
    "    an = random.randint(1, k)\n",
    "    bn = random.randint(k // an + 1, max(k, k // an + 1))\n",
    "    a = sorted([random.randint(0, 100) for _ in range(an)])\n",
    "    b = sorted([random.randint(0, 100) for _ in range(bn)])\n",
    "    correct = add_sequences_all(a, b)[:k]\n",
    "    tested = k_pairs(a, b, k)\n",
    "    if correct != tested:\n",
    "        print('correct:', correct)\n",
    "        print('tested:', tested)\n",
    "        break"
   ]
  },
  {
   "cell_type": "code",
   "execution_count": null,
   "metadata": {
    "collapsed": true
   },
   "outputs": [],
   "source": []
  }
 ],
 "metadata": {
  "kernelspec": {
   "display_name": "Python 3",
   "language": "python",
   "name": "python3"
  },
  "language_info": {
   "codemirror_mode": {
    "name": "ipython",
    "version": 3
   },
   "file_extension": ".py",
   "mimetype": "text/x-python",
   "name": "python",
   "nbconvert_exporter": "python",
   "pygments_lexer": "ipython3",
   "version": "3.6.3"
  }
 },
 "nbformat": 4,
 "nbformat_minor": 2
}
