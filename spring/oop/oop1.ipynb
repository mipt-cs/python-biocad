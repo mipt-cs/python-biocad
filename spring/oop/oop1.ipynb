{
 "cells": [
  {
   "cell_type": "markdown",
   "metadata": {},
   "source": [
    "# <font color=blue>Модуль `sys`</font>\n",
    "\n",
    "Модуль [`sys`](https://docs.python.org/3/library/sys.html) используется для взаимодействия с интерпретатором (Интерпретатор - программа, выполняющая исходный код).\n",
    "\n",
    "Модуль `sys` может быть использован для \n",
    "\n",
    "1) получения доступа к аргументам и флагам командной строки, \n",
    "\n",
    "2) получения информации о версии интерпретатора и операционной системе, \n",
    "\n",
    "3) управления путями. по которым производится поиск подключаемых модулей,\n",
    "\n",
    "4) выхода из программы.\n",
    "\n",
    "## <font color=green>Аргументы командной строки с помощью модуля `sys`</font>\n",
    "\n",
    "Модуль `sys` не является предпочтительным, если требуется обработать аргументы командной строки. Рекомендуется применять модуль [`argparse`](https://docs.python.org/3/library/argparse.html), особенно в случаях, когда аргументов командной строки много. Однако возмножность применения `sys` мы рассмотрим.\n",
    "\n",
    "Аргументы командной строки доступны в переменной `sys.argv`. `sys.argv` -  список, в котором первым элементом является имя скрипта, который был запущен с помощью интерпретатора, а остальные аргументы - строки, которые получились бы, если бы команду выполнения скрипта разбили по пробелам.\n",
    "\n",
    "### Пример 1. `sys.argv` \n",
    "Создайте текстовый файл `sysargv.py` и запишите туда код \n",
    "```python\n",
    "import sys\n",
    "print(sys.argv)\n",
    "```\n",
    "\n",
    "Затем откройте терминал и выполните команду\n",
    "\n",
    "```bash\n",
    "python3 sysargv.py 1 2 3 a b -l --verbose\n",
    "```\n",
    "\n",
    "или \n",
    "\n",
    "```bash\n",
    "python sysargv.py 1 2 3 a b -l --verbose\n",
    "```\n",
    "\n",
    "в зависимости от того, как у Вас запускается интерпретатор.\n",
    "\n",
    "### Упражнение 1. Скрипт для сложения чисел\n",
    "\n",
    "Напишите скрипт `add.py` для сложения двух чисел."
   ]
  },
  {
   "cell_type": "code",
   "execution_count": null,
   "metadata": {
    "collapsed": true
   },
   "outputs": [],
   "source": [
    "import sys\n",
    "print(sys.version)\n",
    "print(sys.version_info)"
   ]
  },
  {
   "cell_type": "markdown",
   "metadata": {},
   "source": [
    "## <font color=green>Версия интерпретатора и операционной системы</font>\n",
    "\n",
    "### Пример 2. Версия интерпретатора\n",
    "\n",
    "Строка `sys.version` содержит информацию о версии интерпретатора, о том, когда он  был собран и какой комплилятор был использован для этой цели. Кортеж `sys.version_info` содержит информацию о версии интерпретатора в более удобном для работы с ней формате."
   ]
  },
  {
   "cell_type": "code",
   "execution_count": null,
   "metadata": {
    "collapsed": true
   },
   "outputs": [],
   "source": [
    "import sys\n",
    "print(sys.version)\n",
    "print(sys.version_info)\n",
    "print(sys.version_info[0])\n",
    "print(sys.version_info[1])"
   ]
  },
  {
   "cell_type": "markdown",
   "metadata": {},
   "source": [
    "### Пример 3. Версия системы\n",
    "\n",
    "Строка [`sys.platform`](https://docs.python.org/3/library/sys.html#sys.platform) содержит название ОС. \n",
    "\n",
    "|<font size=3>System</font>|<font size=3>platform value</font>|\n",
    "| :---: | :---: |\n",
    "|<font size=3>Linux</font>|<font size=3>'linux'</font>|\n",
    "|<font size=3>Windows</font>|<font size=3>'win32'</font>|\n",
    "|<font size=3>Windows/Cygwin</font>|<font size=3>'cygwin'</font>|\n",
    "|<font size=3>Mac OS X</font>|<font size=3>'darwin'</font>|\n",
    "\n",
    "Более подробную информацию об операционной системе можно получить с помощью модуля [`platform`](https://docs.python.org/3/library/platform.html)."
   ]
  },
  {
   "cell_type": "code",
   "execution_count": null,
   "metadata": {
    "collapsed": true
   },
   "outputs": [],
   "source": [
    "import sys\n",
    "print(sys.platform)"
   ]
  },
  {
   "cell_type": "markdown",
   "metadata": {},
   "source": [
    "## <font color=green>Завершение программы с помощью `sys.exit()`</font>\n",
    "\n",
    "Функция `sys.exit()` завершает выполнение программы. Функция доступна без импортирования `sys` по имени `exit()`.\n",
    "\n",
    "### Пример 4. Функция `exit()`  в интерактивном режиме\n",
    "\n",
    "1. Откройте терминал и выполните команду.\n",
    "```bash\n",
    "python3\n",
    "```\n",
    "\n",
    "2. Напишите какие-нибудь команды на Python.\n",
    "\n",
    "3. Выполните команду `exit()`.\n",
    "\n",
    "# <font color=blue>Модули и пакеты</font>\n",
    "\n",
    "## <font color=green>Модули</font>\n",
    "\n",
    "[Модуль](https://docs.python.org/3/tutorial/modules.html) в Python - файл с определениями функций, классов, констант. По сути, модуль содержит код на Python, должен иметь расширение `.py` и любой скрипт на Python можно использовать, как модуль. \n",
    "\n",
    "### Пример 5. Создание модуля\n",
    "\n",
    "Создайте файл `lists.py` в одной директории с данным ноутбуком и поместите в него код из клетки снизу."
   ]
  },
  {
   "cell_type": "code",
   "execution_count": null,
   "metadata": {
    "collapsed": true
   },
   "outputs": [],
   "source": [
    "print(\"I am module lists.py\")\n",
    "\n",
    "def add(l1, l2):\n",
    "    return [a + b for a, b in zip(l1, l2)]\n",
    "\n",
    "def sub(l1, l2):\n",
    "    return [a - b for a, b in zip(l1, l2)]\n",
    "\n",
    "def _reflect(num):\n",
    "    return int(str(num)[::-1])\n",
    "\n",
    "def reflect(l):\n",
    "    return [_reflect(a) for a in l]"
   ]
  },
  {
   "cell_type": "markdown",
   "metadata": {},
   "source": [
    "#### Зачем нужны модули.\n",
    "\n",
    "1. В случаях, когда проект достаточно большой (~1000 строк), модули позволяют структурировать код и облегчить процесс работы над ним.\n",
    "\n",
    "2. Модуль можно применять в нескольких проектах, что позволяет легко повторно использовать код.\n",
    "\n",
    "## <font color=green>Подключение модуля</font>\n",
    "\n",
    "Модуль подключается с помощью инструкций \n",
    "```python\n",
    "import module_name\n",
    "from module_name import object_name\n",
    "```\n",
    "Есть возможность сразу опредилить новое имя для подключаемого модуля или загружаемого объекта с помощью инструкции `as`: \n",
    "```python\n",
    "import module_name as some_name\n",
    "from module_name import object_name as some_name\n",
    "```\n",
    "\n",
    "Вы можете импортировать все имена, не начинающиеся с нижнего подчеркивания `_`. **Это не рекомендуется делать, так как в программе оказывается много новых идентификаторов, что осложняет отладку программы.**\n",
    "\n",
    "```python\n",
    "from module_name import *\n",
    "```\n",
    "\n",
    "Имена после ключевого слова `import` можно перечислять через запятую, в том числе, когда используется `as`\n",
    "\n",
    "```python\n",
    "import os, sys, collections as cl, platform\n",
    "from collections import OrderedDict as OD, namedtuple\n",
    "```\n",
    "\n",
    ">При выполнении инструкции `import` код в модуле будет выполнен, поэтому чаще всего не желательно присутствие в модуле чего-то не связанного с определением новых объектов.\n",
    "\n",
    "Доступ к объектам, импортированным без использования ключевого слова `from`, применяется **оператор ссылки на атрибут `.` (точка)**.\n",
    "\n",
    "### Пример 6. Подкючение модуля\n",
    "\n",
    "В следующих клетках приведены различные варианты подключения модуля `lists.py`. После выполнения каждой из клеток перезапускайте ноутбук, так как **при повторном импортировании в модуль не исполняется**."
   ]
  },
  {
   "cell_type": "code",
   "execution_count": null,
   "metadata": {
    "collapsed": true
   },
   "outputs": [],
   "source": [
    "import lists\n",
    "\n",
    "print(lists.add([1, 2, 3], [5, 6, 7]))\n",
    "print(lists._reflect(23))"
   ]
  },
  {
   "cell_type": "code",
   "execution_count": null,
   "metadata": {
    "collapsed": true
   },
   "outputs": [],
   "source": [
    "import lists as ls\n",
    "\n",
    "print(ls.add([1, 2, 3], [5, 6, 7]))"
   ]
  },
  {
   "cell_type": "code",
   "execution_count": null,
   "metadata": {
    "collapsed": true
   },
   "outputs": [],
   "source": [
    "from lists import _reflect, sub\n",
    "\n",
    "print(_reflect(23))"
   ]
  },
  {
   "cell_type": "code",
   "execution_count": null,
   "metadata": {
    "collapsed": true
   },
   "outputs": [],
   "source": [
    "from lists import _reflect as reverse, sub as subtract, add\n",
    "\n",
    "print(reverse(23))"
   ]
  },
  {
   "cell_type": "code",
   "execution_count": null,
   "metadata": {
    "collapsed": true
   },
   "outputs": [],
   "source": [
    "from lists import *\n",
    "\n",
    "print(add)\n",
    "print(sub)\n",
    "print(reflect)\n",
    "print(_reflect)  # _reflect не был импортирован, так как имя начинается с нижнего подчеркивания _"
   ]
  },
  {
   "cell_type": "markdown",
   "metadata": {},
   "source": [
    "### Упражнение 2. Создание и импортирование модуля\n",
    "\n",
    "Создайте модуль `fibo.py` для вычисления чисел Фибоначчи, в котором будут 2 функции:\n",
    "\n",
    "1) `fib()` будет возвращать N-e число Фибоначчи,\n",
    "\n",
    "2) `fiblist()` будет возвращать первые N чисел Фибоначчи.\n",
    "\n",
    "Подключите модуль `fibo` следующими способами:\n",
    "\n",
    "1) только с помощью `import`,\n",
    "\n",
    "2) под именем `FIB`,\n",
    "\n",
    "3) импортируя только функцию `fiblist` под именем `fl`."
   ]
  },
  {
   "cell_type": "code",
   "execution_count": null,
   "metadata": {
    "collapsed": true
   },
   "outputs": [],
   "source": []
  },
  {
   "cell_type": "markdown",
   "metadata": {},
   "source": [
    "### Упражнение 3. Повторное импортирование модуля\n",
    "\n",
    "Создайте модули <font color=green face=\"monospace\">a.py</font> и <font color=green face=\"monospace\">b.py</font>, которые импортируют модуль <font color=green face=\"monospace\">lists.py</font>. Перезапустите ноутбук и импортируйте в программу сразу <font color=green face=\"monospace\">a.py</font>, <font color=green face=\"monospace\">b.py</font> и <font color=green face=\"monospace\">lists.py</font>."
   ]
  },
  {
   "cell_type": "code",
   "execution_count": null,
   "metadata": {},
   "outputs": [],
   "source": []
  },
  {
   "cell_type": "markdown",
   "metadata": {},
   "source": [
    "## <font color=green>Где должен находится модуль</font>\n",
    "\n",
    "Модуль будет успешно импортирован, если он находится в одной директории с запущенным скриптом или в одной из других директорий, перечисленных в списке `sys.path`."
   ]
  },
  {
   "cell_type": "code",
   "execution_count": null,
   "metadata": {
    "collapsed": true
   },
   "outputs": [],
   "source": [
    "import sys\n",
    "print(sys.path)"
   ]
  },
  {
   "cell_type": "markdown",
   "metadata": {},
   "source": [
    "### Пример 7. Содержимое `sys.path`\n",
    "\n",
    "Запустите Python в интерактивном режиме и распечатайте `sys.path`.\n",
    "\n",
    "***\n",
    "\n",
    "Поиск модуля по директориям производится в том порядке, в котором они присутствуют в списке `sys.path`. \n",
    "\n",
    "Это не является общепринятой практикой, но возможно добавление путей в `sys.path` для получения доступа к неудобно расположенным модулям. Однако лучше это делать с помощью переменной окружения PYTHONPATH.\n",
    "\n",
    "Переменная `sys.path` состоит из:\n",
    "\n",
    "1) директории, в которой находится запущенный скрипт (или текущей, если используется интерактивный режим);\n",
    "\n",
    "2) переменной окружения PYTHONPATH (в ней пути разделяются двоеточиями);\n",
    "\n",
    "3) путей, которые добавляются по умолчанию и связаны с установкой интерпретатора.\n",
    "\n",
    "### Пример 8. Посмотреть переменную окружения\n",
    "\n",
    "Откройте терминал и выполните команды:<br>\n",
    "UNIX\n",
    "```bash\n",
    "echo $PYTHONPATH\n",
    "```\n",
    "Windows cmd.exe\n",
    "```\n",
    "echo %PYTHONPATH%\n",
    "```\n",
    "***\n",
    "\n",
    "### Пример 26. Модификация переменной окружения\n",
    "UNIX\n",
    "```bash\n",
    "export PYTHONPATH=/home/user/my_modules_are_here  # задать новое значение\n",
    "export PYTHONPATH=\"/home/user/my_modules_are_here:$PYTHONPATH\"  # дописать путь в начало переменной\n",
    "```\n",
    "Windows cmd.exe\n",
    "```\n",
    "set PYTHONPATH=\"C:\\Users\\%USERPROFILE%\\my_modules_are_here\"\n",
    "set PYTHONPATH=\"C:\\Users\\%USERPROFILE%\\my_modules_are_here:%PYTHONPATH%\"\n",
    "```\n",
    "***\n",
    "\n",
    "Можно задать значение переменной \"навсегда\", то избавиться от необходимости модифицировать ее при каждом запуске терминала. \n",
    "\n",
    "В UNIX команду модификации переменной окружения дописать в файл, который выполняется при запуске терминала (`~/.bashrc`, `~/.bash_profile`). \n",
    "\n",
    "В Windows нужно открыть \"Мой компьютер\", кликнуть правой кнопкой мыши, выбрать Свойства, затем Расширенные и Переменные окружения. Это также можно сделать через реестр, но этот способ здесь не приводится.\n",
    "\n",
    "#### Внимание!\n",
    "\n",
    "Относительные пути в `sys.path` рассматриваются относительно каталога, в котором лежит запущенный скрипт. Изменение текущей директории с помощью `os.chdir()` процесса не позволит изменить набор мест, в котором осуществляется поиск модуля.\n",
    "\n",
    "### Упражнение 4. Работа с PYTHONPATH\n",
    "\n",
    "Создайте скрипт <font color=green face=\"monospace\">script.py</font> и в той же папке создайте каталог <font color=green face=\"monospace\">test_dir_for_modules</font>, в котором будет модуль <font color=green face=\"monospace\">my_module.py</font>. Скрипт <font color=green face=\"monospace\">script.py</font> должен импортировать <font color=green face=\"monospace\">my_module.py</font> и печатать строку <font color=blue face=\"monospace\">\"I am script.py!\"</font> и список <font color=red face=\"monospace\">sys.path</font>, а модуль <font color=green face=\"monospace\">my_module.py</font> должен печатать строку <font color=blue face=\"monospace\">\"I am my_module.py\"</font>. Добавьте в PYTHONPATH \"навсегда\" путь <font color=blue face=\"monospace\">\"test_dir_for_modules\"</font>, и выполните <font color=green face=\"monospace\">script.py</font>.\n",
    "\n",
    "Верните значение PYTHONPATH по умолчанию в исходное состояние.\n",
    "\n",
    "***\n",
    "\n",
    "## <font color=green>Содержимое модуля</font>\n",
    "\n",
    "Получить содержимое модуля можно с помощью встроенной функции [`dir()`](https://docs.python.org/3/library/functions.html#dir).\n",
    "\n",
    "### Пример 9. Содержимое модуля"
   ]
  },
  {
   "cell_type": "code",
   "execution_count": null,
   "metadata": {
    "collapsed": true
   },
   "outputs": [],
   "source": [
    "import lists\n",
    "print(dir(lists))"
   ]
  },
  {
   "cell_type": "markdown",
   "metadata": {},
   "source": [
    "Функция `dir()` также применяется для получения списка полей и методов любого объекта.\n",
    "\n",
    "### Пример 10. Список полей и методов типа `list`"
   ]
  },
  {
   "cell_type": "code",
   "execution_count": null,
   "metadata": {},
   "outputs": [],
   "source": [
    "dir(list)"
   ]
  },
  {
   "cell_type": "markdown",
   "metadata": {},
   "source": [
    "## <font color=green>Используем модуль, как скрипт</font>\n",
    "\n",
    "Как Вы заметили в примере 27, модуль содержит глобальную переменную <font color=red face=\"monospace\">\\_\\_name\\_\\_</font>. Файл с расширением `.py`, как скрипт, то <font color=red face=\"monospace\">\\_\\_name\\_\\_</font> принимает значение <font color=blue face=\"monospace\">\"\\_\\_main\\_\\_\"</font>. Сравнивая <font color=red face=\"monospace\">\\_\\_name\\_\\_</font> с <font color=blue face=\"monospace\">\"\\_\\_main\\_\\_\"</font> можно понять, как используется файл и, таким образом, изменить его поведение.\n",
    "\n",
    "### Пример 11. Использование `__name__`\n",
    "\n",
    "Создайте файл <font color=green face=\"monospace\">launchable_module.py</font> и поместите туда код\n",
    "```python\n",
    "def func():\n",
    "    print(\"func\")\n",
    "    \n",
    "if __name__ == \"__main__\":\n",
    "    print(\"I am main script\")\n",
    "    func()\n",
    "```\n",
    "Затем выполните скрипт <font color=green face=\"monospace\">launchable_module.py</font> и код в следующей клетке."
   ]
  },
  {
   "cell_type": "code",
   "execution_count": null,
   "metadata": {
    "collapsed": true
   },
   "outputs": [],
   "source": [
    "import launchable_module\n",
    "launchable_module.func()"
   ]
  },
  {
   "cell_type": "markdown",
   "metadata": {},
   "source": [
    "### Упражнение 5. Запускаемый модуль\n",
    "\n",
    "Добавьте модулю <font color=green face=\"monospace\">fibo.py</font> из упражнения 9 возможность вычисления N-го Фибоначчи при его вызове из командной строки. Число <font color=red face=\"monospace\">N</font> должно передаваться, как аргумент командной строки. Воспользуйтесь модулем <font color=green face=\"monospace\">fibo.py</font> также, как упражнении 9."
   ]
  },
  {
   "cell_type": "code",
   "execution_count": null,
   "metadata": {},
   "outputs": [],
   "source": []
  },
  {
   "cell_type": "markdown",
   "metadata": {},
   "source": [
    "## <font color=green>Пакеты</font>\n",
    "\n",
    "Пакеты в Python позволяют объединять и структурировать модули. Пакет - это каталог, который содержит файл <font color=green>\\_\\_init\\_\\_.py</font> и другие пакеты и модули. \n",
    "\n",
    "### Пример 12. Пакет (из книги \"Программирование на Python 3\" Саммерфильд М.)\n",
    "\n",
    "Например, допустим, что у нас имеется некоторое множество файлов модулей, предназначенных для чтения и записи графических файлов различных форматов с именами <font color=green>Bmp.py</font>, <font color=green>Jpeg.py</font>, <font color=green>Png.py</font>, <font color=green>Tiff.py</font> и <font color=green>Xpm.py</font>, в каждом из которых имеются функции `load()`, `save()` и т. д. Мы могли бы сохранить все эти модули в одном каталоге с программой, но в крупных программных продуктах, использующих массу собственных модулей, модули для работы с графикой, скорее всего, лучше хранить отдельно. Поместив их в свой собственный подкаталог, например Graphics, их можно хранить все вместе. А если поместить в каталог <font color=green>Graphics</font> пустой файл <font color=green>\\_\\_init\\_\\_.py</font>, этот каталог превратится в пакет:\n",
    "\n",
    "```\n",
    "Graphics/\n",
    "├── __init__.py\n",
    "├── Bmp.py\n",
    "├── Jpeg.py\n",
    "├── Png.py\n",
    "├── Tiff.py\n",
    "└── Xpm.py\n",
    "```\n",
    "\n",
    "Пока каталог <font color=green>Graphics</font> является подкаталогом каталога с программой или находится в пути поиска Python, мы будем иметь возможность импортировать любой из этих модулей и использовать их. Мы должны сделать все возможное, чтобы гарантировать несовпадение имени нашего модуля верхнего уровня (<font color=green>Graphics</font>) с каким-то из имен верхнего уровня в стандартной библиотеке – с целью избежать конфликтов имен. (В системе UNIX это легко обеспечить, достаточно лишь использовать в качестве первого символа имени символ верхнего регистра, так как в именах модулей стандартной библиотеки используются только символы нижнего регистра.) Ниже показано, как импортировать и использовать наши модули:\n",
    "\n",
    "```python\n",
    "import Graphics.Bmp\n",
    "image = Graphics.Bmp.load(\"bashful.bmp\")\n",
    "```\n",
    "В небольших программах некоторые программисты предпочитают использовать более короткие имена, и язык Python позволяет делать это двумя, немного отличающимися способами.\n",
    "\n",
    "```python\n",
    "import Graphics.Jpeg as Jpeg\n",
    "image = Jpeg.load(\"doc.jpeg\")\n",
    "```\n",
    "\n",
    "Здесь мы импортировали модуль `Jpeg` из пакета `Graphics` и сообщили интерпретатору, что вместо полного квалифицированного имени `Graphics.Jpeg` хотим использовать более короткое имя `Jpeg`.\n",
    "\n",
    "```python\n",
    "from Graphics import Png\n",
    "image = Png.load(\"dopey.png\")\n",
    "```\n",
    "\n",
    "Этот фрагмент программного кода напрямую импортирует модуль `Png` из пакета `Graphics`. Данная синтаксическая конструкция (`import ... from`) обеспечивает непосредственный доступ к модулю `Png`. Мы не обязаны использовать в нашем программном коде оригинальные имена модулей. Например:\n",
    "\n",
    "```python\n",
    "from Graphics import Tiff as picture\n",
    "image = picture.load(\"grumpy.tiff\")\n",
    "```\n",
    "\n",
    "Возможно импортирование отдельных объектов из модулей, содержащихся в пакетах.\n",
    "\n",
    "```python\n",
    "from Graphics.Jpeg import load as load_jpeg\n",
    "```\n",
    "***\n",
    "\n",
    "### Упражнение 6. Создание пакета\n",
    "\n",
    "Создайте пакет, описанный в примере 12. Добавьте в <font color=green>Graphics</font> пакет <font color=green>Convert</font>, который будет содержать модули <font color=green>jpeg2png.py</font> и <font color=green>png2jpeg.py</font>. Добавьте в модули <font color=green>Bmp.py</font>, <font color=green>Jpeg.py</font>, <font color=green>Png.py</font>, <font color=green>Tiff.py</font>, <font color=green>Xpm.py</font> код\n",
    "```python\n",
    "def load(file_name):\n",
    "    pass\n",
    "```\n",
    "а в модули <font color=green>jpeg2png.py</font> и <font color=green>png2jpeg.py</font> - код\n",
    "```python\n",
    "def convert(file_name):\n",
    "    pass\n",
    "```\n",
    "\n",
    "Далее выполните код из примера 12, а также код\n",
    "```python\n",
    "from Graphics.Convert.jpeg2png import convert as jpeg2png\n",
    "jpeg2png('my_image.jpeg')\n",
    "```"
   ]
  },
  {
   "cell_type": "code",
   "execution_count": 1,
   "metadata": {
    "collapsed": true
   },
   "outputs": [],
   "source": [
    "from Graphics import *"
   ]
  },
  {
   "cell_type": "code",
   "execution_count": null,
   "metadata": {},
   "outputs": [],
   "source": []
  },
  {
   "cell_type": "markdown",
   "metadata": {},
   "source": [
    "## <font color=green>Импортирование * из пакета</font>\n",
    "\n",
    " Из пакета можно импортировать сразу несколько модулей, если в файле <font color=green>\\_\\_init\\_\\_.py</font> определить список <font color=green>\\_\\_all\\_\\_</font>. В списке <font color=green>\\_\\_all\\_\\_</font> должны перечисляться имена модулей и пакетов которые будут импортированы при использовании инструкции\n",
    "```python\n",
    "from package import *\n",
    "```\n",
    "\n",
    "### Упражнение 7. `from package import *`\n",
    "\n",
    "Модифицируйте пакет `Graphics` так, чтобы при использовании инструкции `from package import *` импортировались модули <font color=green>Jpeg.py</font>, <font color=green>Png.py</font>  и пакет <font color=green>Convert</font>."
   ]
  },
  {
   "cell_type": "code",
   "execution_count": null,
   "metadata": {
    "collapsed": true
   },
   "outputs": [],
   "source": []
  },
  {
   "cell_type": "markdown",
   "metadata": {},
   "source": [
    "### <font color=red>Замечание</font>\n",
    "\n",
    "**Использование инструкций вида `from module_or_package import *` не рекомендуется, так как в программе появляется несколько новых имен, которые определены в другом файле. Это повышает риск возникновения ошибок и осложняет отладку.**\n",
    "\n",
    "***"
   ]
  },
  {
   "cell_type": "markdown",
   "metadata": {},
   "source": [
    "## <font color=green>Импортирование модулей внутри пакета</font>\n",
    "\n",
    "**Если модуль $M$ импортируется вместе с пакетом** то появляются 2 новых способа импортировать модули внутри $M$. В модуле $M$ можно импортировать модули, находящиеся в одном с ним каталоге. Это делается с помощью инструкции\n",
    "```\n",
    "package/\n",
    "├── __init__.py\n",
    "├── uncle_module.py\n",
    "└── father\n",
    "    ├── M.py\n",
    "    └── brother_module\n",
    "```\n",
    "```python\n",
    "from . import brother_module\n",
    "```\n",
    "Также можно импортировать модули, которые находятся на один уровень выше $M$ в дереве каталогов.\n",
    "```python\n",
    "from .. import uncle_module\n",
    "```\n",
    "### <font color=red>Замечание</font>\n",
    "\n",
    "**Относительное импртирование не работает, если не загружен пакет.**\n",
    "\n",
    "***"
   ]
  }
 ],
 "metadata": {
  "kernelspec": {
   "display_name": "Python 3",
   "language": "python",
   "name": "python3"
  },
  "language_info": {
   "codemirror_mode": {
    "name": "ipython",
    "version": 3
   },
   "file_extension": ".py",
   "mimetype": "text/x-python",
   "name": "python",
   "nbconvert_exporter": "python",
   "pygments_lexer": "ipython3",
   "version": "3.5.2"
  }
 },
 "nbformat": 4,
 "nbformat_minor": 2
}
