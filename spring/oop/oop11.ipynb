{
 "cells": [
  {
   "cell_type": "markdown",
   "metadata": {},
   "source": [
    "# <font color=blue>Контрактное програмирование</font>\n",
    "\n",
    "Поиск ошибок в программе трудное и дорогостоящее занятие, поэтому есть методики, позволяющие снизить количество и облегчить написание программы. Одна из них это **контрактное программирование**.\n",
    "\n",
    "Этот метод основан на четком определении взаимных обязательств элементов программы.\n",
    "\n",
    "**Взаимодействующие элементы программы:**\n",
    "\n",
    "- \"клиент\" - вызывающая функция, объект или модуль;\n",
    "\n",
    "- \"поставщик\" - вызываемая функция, объект или модуль.\n",
    "\n",
    "**\"Контракт\"** между ними - это взаимные обязательства и преимущества:\n",
    "\n",
    "- обязательства - то, что каждой стороне требуется соблюсти при взаимодействии;\n",
    "\n",
    "- преимущества - та выгода, которая приобретается при соблюдении обязательств другой стороной.\n",
    "\n",
    "Архитектор программы определяет **формальные** **точные** и **верифицируемые** спецификации интерфейсов.\n",
    "\n",
    "**Содержание контракта**\n",
    "\n",
    "- предусловия - обязательства клиента перед вызовом функции,\n",
    "\n",
    "- постусловия - обязательства функции-поставщика, которые должны быть выполнены при окончании ее работы.\n",
    "\n",
    "- инварианты - условия, которые должны выполняться, как при вызове функции поставщика, так и при окончании его работы.\n",
    "\n",
    "## <font color=green>Утверждения (Assertions)</font>\n",
    "\n",
    "Синтаксис\n",
    "\n",
    "```python\n",
    "assert conditions, error_message\n",
    "```\n",
    "\n",
    "Условия `assert` проверяются если `__debug__ == True`.  Переменная `__debug__` выставляется при запуске интерпретатора и по умолчанию равна `True`. Её нельзя изменить в процессе выполнения программы. Чтобы отключить assertions используется опция `-O`. Сравните\n",
    "```bash\n",
    "python -O -c \"print(__debug__); assert False\"\n",
    "python -c \"print(__debug__); assert False\"\n",
    "```\n",
    "\n",
    "Если утверждение не выполняется, то выбрасывается исключение `AssertionError`. **Никогда не перехватывайте эти исключения. Они указывают на ошибки в программе и не применяются для других целей.**\n",
    "\n",
    "### Пример:"
   ]
  },
  {
   "cell_type": "code",
   "execution_count": null,
   "metadata": {
    "collapsed": true
   },
   "outputs": [],
   "source": [
    "def f(hour):\n",
    "    assert 0 <= hour <= 23, \"Hours should be in range 1..23\""
   ]
  },
  {
   "cell_type": "code",
   "execution_count": null,
   "metadata": {
    "collapsed": true
   },
   "outputs": [],
   "source": [
    "def f(hour):\n",
    "    assert 0 <= hour <= 23, \"Hours should be in range 1..23\""
   ]
  },
  {
   "cell_type": "code",
   "execution_count": null,
   "metadata": {
    "collapsed": true
   },
   "outputs": [],
   "source": [
    "print(__debug__)\n",
    "f(-1)"
   ]
  },
  {
   "cell_type": "code",
   "execution_count": null,
   "metadata": {
    "collapsed": true
   },
   "outputs": [],
   "source": [
    "import sys\n",
    "sys.modules[__name__].__debug__ = False\n",
    "print(__debug__)\n",
    "f(25)"
   ]
  },
  {
   "cell_type": "markdown",
   "metadata": {},
   "source": [
    "Утверждения используются для проверки значений параметров функции и проверки возвращаемого значения."
   ]
  },
  {
   "cell_type": "code",
   "execution_count": null,
   "metadata": {
    "collapsed": true
   },
   "outputs": [],
   "source": [
    "def fibo(n):\n",
    "    assert n > 0, \"index of Fibonacci number can not be less than 1\"\n",
    "    assert isinstance(n, int), \"index of Fibonacci number has to be integer\"\n",
    "    a, b = 1, 1\n",
    "    for _ in range(n-2):\n",
    "        a, b = b, a + b\n",
    "    return b"
   ]
  },
  {
   "cell_type": "markdown",
   "metadata": {},
   "source": [
    "Для исключения разных невероятных ситуаций."
   ]
  },
  {
   "cell_type": "code",
   "execution_count": null,
   "metadata": {
    "collapsed": true
   },
   "outputs": [],
   "source": [
    "def count_sort(L, rad):\n",
    "    n = len(L)\n",
    "    buf = [0]*n\n",
    "    num_buskets = 11\n",
    "    count = [0]*num_buskets\n",
    "    exp = 10**rad\n",
    "    for e in L:\n",
    "        q = e // exp\n",
    "        rem = q % 10\n",
    "        if q == 0:\n",
    "            count[0] += 1\n",
    "        else:\n",
    "            count[rem + 1] += 1\n",
    "    for i in range(1, num_buskets):\n",
    "        count[i] += count[i-1]\n",
    "    # assertion\n",
    "    assert count[-1] == len(L), \\\n",
    "        \"sum of counts for all digits has to be equal\" \\\n",
    "        \" to length of the list being sorted\"\n",
    "    for i in range(n-1, -1, -1):\n",
    "        e = L[i]\n",
    "        q = e // exp\n",
    "        rem = q % 10\n",
    "        if q == 0:\n",
    "            count[0] -= 1\n",
    "            buf[count[0]] = e\n",
    "        else:\n",
    "            count[rem+1] -= 1\n",
    "            buf[count[rem+1]] = e\n",
    "    L[:] = buf"
   ]
  },
  {
   "cell_type": "markdown",
   "metadata": {},
   "source": [
    "Для проверки пред- и постусловий лучше подходит библиотека `PyContracts`, поэтому `assert` используют для проверки инвариантов.\n",
    "\n",
    "**Внутренний инвариант** (internal invariant) — это логическое выражение, выражающее уверенность программиста в значении некоторых переменных в некоторый момент выполнения программы."
   ]
  },
  {
   "cell_type": "code",
   "execution_count": null,
   "metadata": {
    "collapsed": true
   },
   "outputs": [],
   "source": [
    "# пусть есть две возможности: остаток от деления `x` на 3 равен 0\n",
    "# и остато от деления `x` на 3 равен 2. Чтобы убедиться в этом \n",
    "# удобно использовать `assert`\n",
    "\n",
    "if x%3 == 0:\n",
    "    print(\"Число делится на три.\")\n",
    "else:\n",
    "    assert x%3 == 2  # assert здесь является комментарием, гарантирующим истинность утверждения\n",
    "    print(\"Остаток при делении на три - два.\")"
   ]
  },
  {
   "cell_type": "markdown",
   "metadata": {},
   "source": [
    "**Инвариант потока выполнения** (control-flow invariants) — выражает уверенность программиста в том как идёт поток выполнения. В том числе, что какой-то участок кода никогда не должен быть достигнут."
   ]
  },
  {
   "cell_type": "code",
   "execution_count": null,
   "metadata": {
    "collapsed": true
   },
   "outputs": [],
   "source": [
    "def get_fisrt_negative_in_list(L):\n",
    "    for a in L:\n",
    "        if a < 0:\n",
    "            return a\n",
    "    assert False"
   ]
  },
  {
   "cell_type": "markdown",
   "metadata": {},
   "source": [
    "**Инвариант класса** (class invariant) — это семантические свойства и ограничения целостности экземпляра класса. Например, объект календарной даты никогда не может находиться в состоянии 31 апреля или 30 февраля. Объект класса красно-чёрного дерева поиска в момент вызова любого его метода, как и по окончании, должен быть сбалансирован.\n",
    "\n",
    "##  <font color=green>Аннотация типов</font>\n",
    "\n",
    "Начиная с Python 3.6 в язык была добавлена возможность указания типов параметров функции и типа ее возвращаемого значения."
   ]
  },
  {
   "cell_type": "code",
   "execution_count": null,
   "metadata": {
    "collapsed": true
   },
   "outputs": [],
   "source": [
    "def fibo(n: int) -> int:\n",
    "    a: int = 1\n",
    "    b: int = 1\n",
    "    if n < 3:\n",
    "        return 1\n",
    "    for _ in range(n-2):\n",
    "        a, b = b, a+b\n",
    "    return b"
   ]
  },
  {
   "cell_type": "markdown",
   "metadata": {},
   "source": [
    "Аннотации типов ни к чему не обязывают. Если не будут выполнены специальные настройки, интерпретатор не выдаст ошибок или предупреждений. Тем не менее, аннотации полезны: они улучшают читаемость кода, а в некоторых IDE, например PyCharm, выдают предупреждения, если тип переменной не совпадает с аннотацией.\n",
    "\n",
    "Для аннотации сложных объектов используется модуль `typing`. В `typing` есть объекты `List`, `Tuple`, `Dict`, `Str`, применяемые для аннотации соответствующих встроенных типов."
   ]
  },
  {
   "cell_type": "code",
   "execution_count": null,
   "metadata": {
    "collapsed": true
   },
   "outputs": [],
   "source": [
    "from typing import List, Tuple, Dict\n",
    "\n",
    "names: List[str] = [\"Guido\", \"Jukka\", \"Ivan\"]\n",
    "version: Tuple[int, int, int] = (3, 7, 1)\n",
    "options: Dict[str, bool] = {\"centered\": False, \"capitalize\": True}"
   ]
  },
  {
   "cell_type": "markdown",
   "metadata": {},
   "source": [
    "## <font color=green>Библиотека `PyContracts`</font>\n",
    "\n",
    "Библиотека устанавливается одной из команд\n",
    "```bash\n",
    "pip install pycontracts\n",
    "pip3 install pycontracts\n",
    "conda insttall pycontracts\n",
    "```\n",
    "[Ссылка](http://andreacensi.github.io/contracts/index.html#introduction) на домашнюю страницу библиотеки.\n",
    "\n",
    "Предусловия и постусловия удобно оформлять не через утверждения, а как контракт функции. Нам поможет декоратор `contract` из библиотеки `PyContracts`:\n",
    "\n",
    "### Проверка предусловий\n",
    "Пример контракта с проверкой предусловий:"
   ]
  },
  {
   "cell_type": "code",
   "execution_count": null,
   "metadata": {
    "collapsed": true
   },
   "outputs": [],
   "source": [
    "from contracts import contract\n",
    "\n",
    "@contract(x='int,>=0')\n",
    "def f(x):\n",
    "    pass"
   ]
  },
  {
   "cell_type": "markdown",
   "metadata": {},
   "source": [
    "В этом случае вызов функции с недопустимым значением аргумента приведёт к исключению ContractNotRespected, а трассировка стека будет сопровождена следующей полезной информацией:"
   ]
  },
  {
   "cell_type": "code",
   "execution_count": null,
   "metadata": {
    "collapsed": true
   },
   "outputs": [],
   "source": [
    "f(-2)"
   ]
  },
  {
   "cell_type": "code",
   "execution_count": null,
   "metadata": {
    "collapsed": true,
    "scrolled": false
   },
   "outputs": [],
   "source": [
    "f(0.5)"
   ]
  },
  {
   "cell_type": "markdown",
   "metadata": {},
   "source": [
    "### Проверка постусловий\n",
    "\n",
    "Пример контракта с проверкой результата работы функции:"
   ]
  },
  {
   "cell_type": "code",
   "execution_count": null,
   "metadata": {
    "collapsed": true
   },
   "outputs": [],
   "source": [
    "@contract(returns='int,>=0')\n",
    "def f(x):\n",
    "    return x"
   ]
  },
  {
   "cell_type": "code",
   "execution_count": null,
   "metadata": {
    "collapsed": true
   },
   "outputs": [],
   "source": [
    "f(-1)"
   ]
  },
  {
   "cell_type": "markdown",
   "metadata": {},
   "source": [
    "### Три варианта описания контракта функции\n",
    "\n",
    "1. Через декоратор `contract`, как показано выше.\n",
    "\n",
    "2. Через описание в документ строке. Можно перечислить условия в документ-строке, записанной в RST-style. Про стили документ-строки можно почитать [здесь](https://realpython.com/documenting-python-code/)."
   ]
  },
  {
   "cell_type": "code",
   "execution_count": null,
   "metadata": {
    "collapsed": true
   },
   "outputs": [],
   "source": [
    "import numpy\n",
    "from contracts import contract\n",
    "\n",
    "@contract\n",
    "def matrix_multiply(a,  b):\n",
    "    ''' Multiplies two matrices together.\n",
    "\n",
    "        :param a: The first matrix. Must be a 2D array.\n",
    "         :type a: array[MxN],M>0,N>0\n",
    "\n",
    "        :param b: The second matrix. Must be of compatible dimensions.\n",
    "         :type b: array[NxP],P>0\n",
    "\n",
    "          :rtype: array[MxP]\n",
    "    '''\n",
    "    return numpy.dot(a, b)"
   ]
  },
  {
   "cell_type": "markdown",
   "metadata": {},
   "source": [
    "3. Через аннотацию типов.<br>"
   ]
  },
  {
   "cell_type": "code",
   "execution_count": null,
   "metadata": {
    "collapsed": true
   },
   "outputs": [],
   "source": [
    "@contract\n",
    "def f3(n: 'int,>=0') -> 'int,>=0':\n",
    "    pass"
   ]
  },
  {
   "cell_type": "markdown",
   "metadata": {},
   "source": [
    "### Язык описания контрактов PyContracts\n",
    "\n",
    "**Логическое И**: если нужно проверить несколько условий, их можно просто записать через запятую:"
   ]
  },
  {
   "cell_type": "code",
   "execution_count": null,
   "metadata": {
    "collapsed": true
   },
   "outputs": [],
   "source": [
    "@contract(x='>=0,<=1')\n",
    "def f(x):\n",
    "    pass"
   ]
  },
  {
   "cell_type": "markdown",
   "metadata": {},
   "source": [
    "**Логическое ИЛИ**: вертикальная черта:"
   ]
  },
  {
   "cell_type": "code",
   "execution_count": null,
   "metadata": {
    "collapsed": true
   },
   "outputs": [],
   "source": [
    "@contract(x='<0|>1')\n",
    "def f(x):\n",
    "    pass\n",
    "\n",
    "@contract(x='(int|float),>=0')\n",
    "def f(x):\n",
    "    pass"
   ]
  },
  {
   "cell_type": "markdown",
   "metadata": {},
   "source": [
    "Для **списков** возможны требования как к длине, так и к типу элементов и их значениям:\n",
    "\n",
    "`list[length contract](elements contract)`\n",
    "\n",
    "**Примеры:**\n",
    "\n",
    "`list[>0]` — непустой список.\n",
    "\n",
    "`list(int)` — список целых чисел, возможно пустой.\n",
    "\n",
    "`list(int,>0)` — список положительных целых, возможно пустой.\n",
    "\n",
    "`list[>0,<=100](int,>0,<=1000)` — непустой список из не более ста положительных целых чисел, не превышающих по значению тысячу.\n",
    "\n",
    "Для **словарей** также можно ввести требования к их размеру, а также к типу ключа и/или типу значения:\n",
    "\n",
    "`dict[length contract](key contract: value contract)`\n",
    "\n",
    "**Примеры:**\n",
    "\n",
    "`dict[>0]` — непустой словарь.\n",
    "\n",
    "`dict(str:*)` — словарь со строками в качестве ключей и любыми типами значений.\n",
    "\n",
    "`dict[>0](str:(int,>0))` — непустой словарь с ключами-строками и положительными целочисленными значениями.\n",
    "\n",
    "### Описание нового контракта\n",
    "\n",
    "При помощи декоратора можно создать новый вид контракта:"
   ]
  },
  {
   "cell_type": "code",
   "execution_count": null,
   "metadata": {
    "collapsed": true
   },
   "outputs": [],
   "source": [
    "@new_contract\n",
    "def even(x):\n",
    "    if x % 2 != 0:\n",
    "        msg = 'The number %d is not even.' % x\n",
    "        raise ValueError(msg)"
   ]
  },
  {
   "cell_type": "markdown",
   "metadata": {},
   "source": [
    "После этого его можно использовать как и обычный:"
   ]
  },
  {
   "cell_type": "code",
   "execution_count": null,
   "metadata": {
    "collapsed": true
   },
   "outputs": [],
   "source": [
    "@contract(x='int,even')\n",
    "def foo(x):\n",
    "    pass"
   ]
  },
  {
   "cell_type": "markdown",
   "metadata": {},
   "source": [
    "После этого его можно использовать как и обычный:"
   ]
  },
  {
   "cell_type": "code",
   "execution_count": null,
   "metadata": {
    "collapsed": true
   },
   "outputs": [],
   "source": [
    "@contract(x='int,even')\n",
    "def foo(x):\n",
    "    pass"
   ]
  },
  {
   "cell_type": "markdown",
   "metadata": {},
   "source": [
    "Можно создать новый вид контракта и так:"
   ]
  },
  {
   "cell_type": "code",
   "execution_count": null,
   "metadata": {
    "collapsed": true
   },
   "outputs": [],
   "source": [
    "new_contract('short_list', 'list[N],N>0,N<=10')\n",
    "\n",
    "@contract(a='short_list')\n",
    "def bubble_sort(a):\n",
    "    for bypass in range(len(a)-1):\n",
    "        for i in range(len(a)-1-bypass):\n",
    "            if a[i] > a[i+1]:\n",
    "                a[i], a[i+1] = a[i+1], a[i]"
   ]
  },
  {
   "cell_type": "markdown",
   "metadata": {},
   "source": [
    "### Связывание значений различных параметров\n",
    "В языке описания контрактов PyContracts используются переменные:\n",
    "\n",
    "- строчные латинские буквы — для любых объектов\n",
    "\n",
    "- заглавные латинские буквы — для целых чисел\n",
    "\n",
    "Пример такой связки:"
   ]
  },
  {
   "cell_type": "code",
   "execution_count": null,
   "metadata": {
    "collapsed": true
   },
   "outputs": [],
   "source": [
    "@contract(words='list[N](str),N>0',\n",
    "          returns='list[N](>=0)')\n",
    "def get_words_lengths(words):\n",
    "    return [len(word) for word in words]"
   ]
  },
  {
   "cell_type": "markdown",
   "metadata": {},
   "source": [
    "В этом примере контракт проверит не только то, что возвращается тип list, но и то, что этот список имеет ту же длину, что и переданный ей список words.\n",
    "\n",
    "### Упражнение 1. Векторное произведение\n",
    "\n",
    "Допишите контракт к функции `cross_product()`. Добавьте в функцию внутренние инварианты."
   ]
  },
  {
   "cell_type": "code",
   "execution_count": null,
   "metadata": {
    "collapsed": true
   },
   "outputs": [],
   "source": [
    "from contracts import contract\n",
    "\n",
    "\n",
    "def cross_product(a, b):\n",
    "    cx = a[1]*b[2] - a[2]*b[1]\n",
    "    cy = a[2]*b[0] - a[0]*b[2]\n",
    "    cz = a[0]*b[1] - a[1]*b[0]\n",
    "    return [cx, cy, cz]"
   ]
  },
  {
   "cell_type": "code",
   "execution_count": null,
   "metadata": {
    "collapsed": true
   },
   "outputs": [],
   "source": [
    "import numpy as np\n",
    "\n",
    "a = np.array([1, 0, 0])\n",
    "b = [0, 1]\n",
    "cross_product(a, b)"
   ]
  },
  {
   "cell_type": "markdown",
   "metadata": {},
   "source": [
    "### Упражнение 2. Алгоритм Евклида\n",
    "\n",
    "Напишите функцию для поиска наибольшего общего делителя согласно алгоритму Евклида. Используйте библиотеку `PyContracts` для проверки параметров функции и возвращаемого значения."
   ]
  },
  {
   "cell_type": "code",
   "execution_count": null,
   "metadata": {
    "collapsed": true
   },
   "outputs": [],
   "source": []
  },
  {
   "cell_type": "markdown",
   "metadata": {},
   "source": [
    "# <font color=blue>Исключения</font>\n",
    "\n",
    "В своей основе исключения предназначены для аварийного завершения программы, но гибкая система работы с ними предоставляет много незаменимых приемов, которые будут рассмотрены в этом разделе.\n",
    "\n",
    "Исключения - это специальные объекты, которые можно \"возбудить\" с помощью ключевого слова `raise`. Процедура возбуждение включает:\n",
    "\n",
    "- сохранение информации об исключении;\n",
    "\n",
    "- последовательный выход из всех блоков кода путем прерывания их выполнения.\n",
    "\n",
    "**Информация об исключении** включает.\n",
    "\n",
    "- traceback - последовательность функций, выполнение которых прерывается исключением. Для каждой функции указывается, на какой строчке кода она остановилась.\n",
    "\n",
    "- Состояние стека вызовов.\n",
    "\n",
    "- Тип исключения.\n",
    "\n",
    "- Само исключение.\n",
    "\n",
    "Эту информацию можно получить с помощью функции [`sys.exc_info()`](https://docs.python.org/3/library/sys.html#sys.exc_info), но на практике это практически никогда не нужно.\n",
    "\n",
    "Пример **выхода из программы** при возбуждении исключения.\n",
    "\n",
    "Рассмотрим  код\n",
    "```python\n",
    "def g():\n",
    "    for _ in S:\n",
    "        stmt3\n",
    "        stmt4\n",
    "        raise exc\n",
    "        stmt5\n",
    "\n",
    "def f():\n",
    "    if cond:\n",
    "        stmt1\n",
    "        stmt2\n",
    "        g()\n",
    "\n",
    "f()\n",
    "```\n",
    "Исключение произошло в цикле `for` функции `g()`, поэтому сначала будет произведен выход из блока `for`, затем из функции `g()`. Вызов функции `g()` произошел внутри блока `if`, поэтому производится выход из блока `if` и далее из функции `f()`. Завершение программы осуществляется после выхода из блока самого высокого уровня в месте вызова `f()`. \n",
    "\n",
    "**Исключение может быть возбуждено в следующих случаях**\n",
    "\n",
    "1. Интерпретатор не может выполнить какую-либо инструкцию. В таких случаях исключение возбуждается интерпретатором.\n",
    "\n",
    "- Преждевременная остановка программы пользователем с помощью клавиатуры или мышки (исключение `KeyboardInterrupt`).\n",
    "\n",
    "- Для реализации некоторых функций языка неявно используются специальные исключения, например: `StopIteration` для реализации итераторов, `GeneratorExit` для выхода из генератора и некоторые другие.\n",
    "\n",
    "- Программист может прописать возбуждение исключения для случаев, когда входные данные не соответствуют требованиям или вычислительных ресурсов не хватает. Также возможно использование служебных исключений, например для реализации итераторов (`StopIteration`)\n",
    "\n",
    "##  <font color=green>Перехватывание исключений</font>\n",
    "\n",
    "С помощью специальной синтаксической конструкции\n",
    "```python\n",
    "try:\n",
    "    statements1\n",
    "except ErrorType1 as e:\n",
    "    statements2\n",
    "except ErrorType2 as e:\n",
    "    statements3\n",
    "else:\n",
    "    statements4\n",
    "finally:\n",
    "    statements5\n",
    "```\n",
    "\n",
    "Если исключение произошло внутри блока `try`, то перед выходом из блока проверяется тип исключения. Если тип возбужденного исключения \n",
    "\n",
    "- совпадет с типом, указанным после одного из ключевых слов `except`\n",
    "\n",
    "- или окажется подклассом указанного в `except` типа, \n",
    "\n",
    "то выход из программы отменяется. Вместо этого выполняется код в соответствующем блоке `except`.\n",
    "\n",
    "1. Типы исключений проверяются в том порядке, в котором указаны, и выполняется только первый из `except` блоков с подходящим типом исключения.\n",
    "\n",
    "2. Блок `else` выполняется только, если исключение не было возбуждено в блоке `try`.\n",
    "\n",
    "3. Блок `finally` будет выполнен в любом случае, независимо от того, было исключение во от типа возбужденного исключения"
   ]
  },
  {
   "cell_type": "code",
   "execution_count": 40,
   "metadata": {},
   "outputs": [
    {
     "name": "stdout",
     "output_type": "stream",
     "text": [
      "finally\n"
     ]
    },
    {
     "ename": "ValueError",
     "evalue": "",
     "output_type": "error",
     "traceback": [
      "\u001b[0;31m---------------------------------------------------------------------------\u001b[0m",
      "\u001b[0;31mValueError\u001b[0m                                Traceback (most recent call last)",
      "\u001b[0;32m<ipython-input-40-41ff7d623839>\u001b[0m in \u001b[0;36m<module>\u001b[0;34m\u001b[0m\n\u001b[1;32m      4\u001b[0m \u001b[0ml\u001b[0m \u001b[0;34m=\u001b[0m \u001b[0;34m[\u001b[0m\u001b[0;34m]\u001b[0m\u001b[0;34m\u001b[0m\u001b[0m\n\u001b[1;32m      5\u001b[0m \u001b[0;32mtry\u001b[0m\u001b[0;34m:\u001b[0m\u001b[0;34m\u001b[0m\u001b[0m\n\u001b[0;32m----> 6\u001b[0;31m     \u001b[0;32mraise\u001b[0m \u001b[0mValueError\u001b[0m\u001b[0;34m\u001b[0m\u001b[0m\n\u001b[0m\u001b[1;32m      7\u001b[0m \u001b[0;32mexcept\u001b[0m \u001b[0mMy\u001b[0m\u001b[0;34m:\u001b[0m\u001b[0;34m\u001b[0m\u001b[0m\n\u001b[1;32m      8\u001b[0m     \u001b[0mprint\u001b[0m\u001b[0;34m(\u001b[0m\u001b[0;34m'my'\u001b[0m\u001b[0;34m)\u001b[0m\u001b[0;34m\u001b[0m\u001b[0m\n",
      "\u001b[0;31mValueError\u001b[0m: "
     ]
    }
   ],
   "source": [
    "class My(TypeError):\n",
    "    pass\n",
    "\n",
    "l = []\n",
    "try:\n",
    "    raise ValueError\n",
    "except My:\n",
    "    print('my')\n",
    "except TypeError:\n",
    "    print('except')\n",
    "else:\n",
    "    print('else')\n",
    "finally:\n",
    "    print('finally')"
   ]
  },
  {
   "cell_type": "code",
   "execution_count": null,
   "metadata": {
    "collapsed": true
   },
   "outputs": [],
   "source": []
  }
 ],
 "metadata": {
  "kernelspec": {
   "display_name": "Python 3",
   "language": "python",
   "name": "python3"
  },
  "language_info": {
   "codemirror_mode": {
    "name": "ipython",
    "version": 3
   },
   "file_extension": ".py",
   "mimetype": "text/x-python",
   "name": "python",
   "nbconvert_exporter": "python",
   "pygments_lexer": "ipython3",
   "version": "3.6.3"
  }
 },
 "nbformat": 4,
 "nbformat_minor": 2
}
