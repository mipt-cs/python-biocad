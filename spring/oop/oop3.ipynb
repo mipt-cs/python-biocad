{
 "cells": [
  {
   "cell_type": "markdown",
   "metadata": {},
   "source": [
    "# Упражнение 1. Перегрузка операторов\n",
    "\n",
    "Реализуйте класс вектор `Vector` для векторов в трехмерном пространстве. Переопределите для векторов операторы \n",
    "\n",
    "1) сложения `+`,\n",
    "\n",
    "2) вычитания `-`,\n",
    "\n",
    "3) умножения `*`,  взависимости от вида операндов должно вычисляться или умножение на скаляр (слева или справа), или скалярное произведение\n",
    "\n",
    "4) матричного умножения `@`, должно выполняться векторное произведение.\n",
    "\n",
    "Добавьте метод  `__str__()`: вектор $\\vec{a}$ должен печататься в виде $[a_x, a_y, a_z]$\n",
    "\n",
    "Объекты класса должны успешно создаваться, как при передаче конструктору трех вещественных чисел, так и при передаче ему итерируемого объекта из трех элементов. "
   ]
  },
  {
   "cell_type": "code",
   "execution_count": 1,
   "metadata": {},
   "outputs": [
    {
     "ename": "TypeError",
     "evalue": "unsupported operand type(s) for *: 'int' and 'V'",
     "output_type": "error",
     "traceback": [
      "\u001b[0;31m---------------------------------------------------------------------------\u001b[0m",
      "\u001b[0;31mTypeError\u001b[0m                                 Traceback (most recent call last)",
      "\u001b[0;32m<ipython-input-1-dcf35d846851>\u001b[0m in \u001b[0;36m<module>\u001b[0;34m()\u001b[0m\n\u001b[1;32m      7\u001b[0m \u001b[0;34m\u001b[0m\u001b[0m\n\u001b[1;32m      8\u001b[0m \u001b[0mx\u001b[0m \u001b[0;34m=\u001b[0m \u001b[0mV\u001b[0m\u001b[0;34m(\u001b[0m\u001b[0;36m1\u001b[0m\u001b[0;34m)\u001b[0m\u001b[0;34m\u001b[0m\u001b[0m\n\u001b[0;32m----> 9\u001b[0;31m \u001b[0my\u001b[0m \u001b[0;34m=\u001b[0m  \u001b[0;36m3\u001b[0m \u001b[0;34m*\u001b[0m \u001b[0mx\u001b[0m\u001b[0;34m\u001b[0m\u001b[0m\n\u001b[0m\u001b[1;32m     10\u001b[0m \u001b[0mprint\u001b[0m\u001b[0;34m(\u001b[0m\u001b[0my\u001b[0m\u001b[0;34m.\u001b[0m\u001b[0ma\u001b[0m\u001b[0;34m)\u001b[0m\u001b[0;34m\u001b[0m\u001b[0m\n",
      "\u001b[0;31mTypeError\u001b[0m: unsupported operand type(s) for *: 'int' and 'V'"
     ]
    }
   ],
   "source": [
    "class V:\n",
    "    def __init__(self, x):\n",
    "        self.a = x\n",
    "        \n",
    "    def __mul__(self, other):\n",
    "        return V(other * self.a)\n",
    "    \n",
    "x = V(1)\n",
    "y =  3 * x\n",
    "print(y.a)"
   ]
  },
  {
   "cell_type": "code",
   "execution_count": null,
   "metadata": {
    "collapsed": true
   },
   "outputs": [],
   "source": []
  }
 ],
 "metadata": {
  "kernelspec": {
   "display_name": "Python 3",
   "language": "python",
   "name": "python3"
  },
  "language_info": {
   "codemirror_mode": {
    "name": "ipython",
    "version": 3
   },
   "file_extension": ".py",
   "mimetype": "text/x-python",
   "name": "python",
   "nbconvert_exporter": "python",
   "pygments_lexer": "ipython3",
   "version": "3.6.3"
  }
 },
 "nbformat": 4,
 "nbformat_minor": 2
}
