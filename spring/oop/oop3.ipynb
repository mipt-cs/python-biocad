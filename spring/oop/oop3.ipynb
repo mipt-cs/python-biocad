{
 "cells": [
  {
   "cell_type": "markdown",
   "metadata": {},
   "source": [
    "# Упражнение 1. Перегрузка операторов\n",
    "\n",
    "Реализуйте класс вектор `Vector` для векторов в трехмерном пространстве. Переопределите для векторов операторы \n",
    "\n",
    "1) сложения `+`,\n",
    "\n",
    "2) вычитания `-`,\n",
    "\n",
    "3) умножения `*`,  взависимости от вида операндов должно вычисляться или умножение на скаляр (слева или справа), или скалярное произведение\n",
    "\n",
    "4) матричного умножения `@`, должно выполняться векторное произведение.\n",
    "\n",
    "Добавьте метод  `__str__()`: вектор $\\vec{a}$ должен печататься в виде $[a_x, a_y, a_z]$\n",
    "\n",
    "Объекты класса должны успешно создаваться, как при передаче конструктору трех вещественных чисел, так и при передаче ему итерируемого объекта из трех элементов. "
   ]
  },
  {
   "cell_type": "code",
   "execution_count": 2,
   "metadata": {},
   "outputs": [
    {
     "name": "stdout",
     "output_type": "stream",
     "text": [
      "5\n",
      "4\n"
     ]
    }
   ],
   "source": [
    "class Vector:\n",
    "    def __init__(self, x, y, z,):\n",
    "        self.x = x\n",
    "        self.y = y\n",
    "        self.z = z\n",
    "        \n",
    "    def __add__(self, other):\n",
    "        return Vector(self.x + other.x, self.y + other.y, self.z + other.z)\n",
    "    \n",
    "a = Vector(1, 2, 3)\n",
    "b = Vector(4, 5, 6)\n",
    "a += b\n",
    "print(a.x)\n",
    "print(b.x)"
   ]
  }
 ],
 "metadata": {
  "kernelspec": {
   "display_name": "Python 3",
   "language": "python",
   "name": "python3"
  },
  "language_info": {
   "codemirror_mode": {
    "name": "ipython",
    "version": 3
   },
   "file_extension": ".py",
   "mimetype": "text/x-python",
   "name": "python",
   "nbconvert_exporter": "python",
   "pygments_lexer": "ipython3",
   "version": "3.5.2"
  }
 },
 "nbformat": 4,
 "nbformat_minor": 2
}
