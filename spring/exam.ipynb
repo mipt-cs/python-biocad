{
 "cells": [
  {
   "cell_type": "markdown",
   "metadata": {},
   "source": [
    "# Алгоритмы\n",
    "\n",
    "1. Проверка числа на простоту. Решето Эратосфена и его эффективная реализация.\n",
    "\n",
    "- Рекурсия. Реализация функций для вычисления чисел Фибоначчи с помощью рекурсии и циклом снизу вверх. \n",
    "\n",
    "- Алгоритм Евклида. Реализация через цикл и через рекурсию.\n",
    "\n",
    "- Перевод из одной позиционной системы счисления в другую. Быстрое возведение в степень.\n",
    "\n",
    "- Ханойская башни.\n",
    "\n",
    "- Двоичный поиск в рекурсивном и нерекурсивном вариантах. Вывод формулы для асимптотики.\n",
    "\n",
    "- Устойчивость сортировки. Естественность поведения алгоритмов сортировки. Устойчивость сортировок выбором, пузырьком и вставками. Уметь доказывать устойчивость/неустойчивость.\n",
    "\n",
    "- Сортировки выбором, пузырьком, вставками. Реализация. В чем отличие между сортировками Шелла и расческой? почему у сортировки Шелла лучшая асимптотика?\n",
    "\n",
    "- Сортировка слиянием и быстрая сортировка, их сравнение. Реализация алгоритмов.\n",
    "\n",
    "- Алгоритмы сортировки, не использующие сравнение элементов друг с другом. Почему их асимптотика лучше? Сортировка подсчетом и  блочная сортировка. Реализация.\n",
    "\n",
    "- Поразрядная сортировка. Чем отличаются LSD и MSD сортировки? Когда имеет смысл их использовать?\n",
    "\n",
    "- Структуры данных список и очередь. Реализация методов для структуры данных список.\n",
    "\n",
    "- Стек. Проверка правильности скобочной последовательности. Обратная польская нотация.\n",
    "\n",
    "- Деревья в математике и информатике, основная терминология. Двоичное дерево поиска. Итеративный и рекурсивный алгоритмы поиска элемента в дереве. Обход дерева.\n",
    "\n",
    "- Вставка узла в двоичное дерево поиска и удаление узла из дерева.\n",
    "\n",
    "- Сбалансированность двоичного дерева поиска. Вращения (с реализацией).\n",
    "\n",
    "- АВЛ-дерево. Вставка и удаление узла. Преимущества и недостатки красно-черного и АВЛ-деревьев.\n",
    "\n",
    "- Красно-черное дерево. Вставка и удаление узла. Преимущества и недостатки красно-черного и АВЛ-деревьев.\n",
    "\n",
    "- Двоичная куча. Когда применяется двоичная куча? Построение кучи методами снизу вверх и свеху вниз.\n",
    "\n",
    "- Пирамидальная сортировка\n",
    "\n",
    "\n",
    "# ООП\n",
    "\n",
    "1. Зачем нужен модуль `sys`? Управление потоками ввода вывода (oophw1).\n",
    "\n",
    "- Модули и пакеты. Импортирование модулей и пакетов. Как происходит поиск импортируемого модуля или пакета? Настройка переменной окружения `PYTHONPATH`.\n",
    "\n",
    "- Классы. Что такое `self`? Атрибуты объекта. Перегрузка операторов.\n",
    "\n",
    "- Наследование. Доступ к методам родительских классов с помощью функции `super()`. Ромб смерти.\n",
    "\n",
    "- Что такое PEP 8? Инкапсуляция. Разница между protected и private? Как сделать атрибут приватным и как работает искажение имен? Что такое интерфейс и реализация?\n",
    "\n",
    "- Методы и поля класса. Метод `__new__()`. Статические методы.\n",
    "\n",
    "- Парадигмы и принципы ООП. Паттерны проектирования.\n",
    "\n",
    "- Паттерн проектирования декоратор (с реализацией).\n",
    "\n",
    "- Декораторы (синтаксис). Уметь реализовывать. Декораторы, принимающие на вход аргументы.\n",
    "\n",
    "- Паттерн проектирования адаптер.\n",
    "\n",
    "- Итераторы и генераторы.\n",
    "\n",
    "- Структурное программирование.\n",
    "\n",
    "- Контрактное программирование.\n",
    "\n",
    "- Разработка через тестирование.\n",
    "\n",
    "- Применение `git`. Как создавать и объединять ветки. Как правильно делать коммиты.\n",
    "\n",
    "- Исключения. Возбуждение и перехватывание исключений.\n",
    "\n",
    "По перечисленным вопросам могут быть маленькие задачки, в том числе из дз."
   ]
  },
  {
   "cell_type": "code",
   "execution_count": 2,
   "metadata": {},
   "outputs": [],
   "source": [
    "import random\n",
    "\n",
    "def generate_ticket(n, excluded):\n",
    "    questions = set(range(1, n+1)) - set(excluded)\n",
    "    return random.sample(questions, 2)"
   ]
  },
  {
   "cell_type": "code",
   "execution_count": 4,
   "metadata": {},
   "outputs": [
    {
     "data": {
      "text/plain": [
       "[11, 17]"
      ]
     },
     "execution_count": 4,
     "metadata": {},
     "output_type": "execute_result"
    }
   ],
   "source": [
    "excluded_alg = []\n",
    "\n",
    "generate_ticket(20, excluded_alg)"
   ]
  },
  {
   "cell_type": "code",
   "execution_count": 64,
   "metadata": {},
   "outputs": [
    {
     "data": {
      "text/plain": [
       "['_A__m2',\n",
       " '__class__',\n",
       " '__delattr__',\n",
       " '__dict__',\n",
       " '__dir__',\n",
       " '__doc__',\n",
       " '__eq__',\n",
       " '__format__',\n",
       " '__ge__',\n",
       " '__getattribute__',\n",
       " '__gt__',\n",
       " '__hash__',\n",
       " '__init__',\n",
       " '__init_subclass__',\n",
       " '__le__',\n",
       " '__lt__',\n",
       " '__module__',\n",
       " '__ne__',\n",
       " '__new__',\n",
       " '__reduce__',\n",
       " '__reduce_ex__',\n",
       " '__repr__',\n",
       " '__setattr__',\n",
       " '__sizeof__',\n",
       " '__str__',\n",
       " '__subclasshook__',\n",
       " '__weakref__',\n",
       " 'm1',\n",
       " 'm2']"
      ]
     },
     "execution_count": 64,
     "metadata": {},
     "output_type": "execute_result"
    }
   ],
   "source": [
    "class X:\n",
    "    def m2(self):\n",
    "        pass\n",
    "\n",
    "\n",
    "class A(X):\n",
    "    def m1(self):\n",
    "        return 1\n",
    "    \n",
    "    def __m2(self):\n",
    "        return 2\n",
    "    \n",
    "    \n",
    "class B(X):\n",
    "    def m2(self):\n",
    "        return -2\n",
    "    \n",
    "    \n",
    "class C(A, B):\n",
    "    pass\n",
    "\n",
    "c = C()\n",
    "dir(c)"
   ]
  },
  {
   "cell_type": "code",
   "execution_count": 20,
   "metadata": {},
   "outputs": [],
   "source": [
    "class C:\n",
    "    def __a(self):\n",
    "        pass\n",
    "    \n",
    "    \n",
    "c = C()\n",
    "C._C__a(c)"
   ]
  },
  {
   "cell_type": "code",
   "execution_count": 10,
   "metadata": {},
   "outputs": [
    {
     "data": {
      "text/plain": [
       "43690"
      ]
     },
     "execution_count": 10,
     "metadata": {},
     "output_type": "execute_result"
    }
   ],
   "source": [
    "int('AAAA', 16)"
   ]
  },
  {
   "cell_type": "code",
   "execution_count": 12,
   "metadata": {},
   "outputs": [
    {
     "data": {
      "text/plain": [
       "'0x32'"
      ]
     },
     "execution_count": 12,
     "metadata": {},
     "output_type": "execute_result"
    }
   ],
   "source": [
    "hex(50)"
   ]
  },
  {
   "cell_type": "code",
   "execution_count": 7,
   "metadata": {},
   "outputs": [],
   "source": [
    "def splitall(path):\n",
    "    allparts = []\n",
    "    while 1:\n",
    "        parts = os.path.split(path)\n",
    "        if parts[0] == path:  # sentinel for absolute paths\n",
    "            allparts.insert(0, parts[0])\n",
    "            break\n",
    "        elif parts[1] == path: # sentinel for relative paths\n",
    "            allparts.insert(0, parts[1])\n",
    "            break\n",
    "        else:\n",
    "            path = parts[0]\n",
    "            allparts.insert(0, parts[1])\n",
    "    return allparts\n",
    "\n",
    "\n",
    "def pad_lists(lists, value):\n",
    "    n = max([len(ls) for ls in lists])\n",
    "    padded = []\n",
    "    for ls in lists:\n",
    "        ls = ls.copy()\n",
    "        ls += [value] * (n - len(ls))\n",
    "        padded.append(ls)\n",
    "    return padded\n",
    "\n",
    "\n",
    "def _get_index_of_first_non_matching(lists):\n",
    "    num_lists = len(lists)\n",
    "    i = 0\n",
    "    while True:\n",
    "        non_matching_elements_found = False\n",
    "        for j in range(num_lists - 1):\n",
    "            list_1 = lists[j]\n",
    "            list_2 = lists[j + 1]\n",
    "            if len(list_1) <= i or len(list_2) <= i:\n",
    "                return None\n",
    "            if list_1[i] != list_2[i]:\n",
    "                non_matching_elements_found = True\n",
    "        if non_matching_elements_found:\n",
    "            return i\n",
    "        i += 1\n",
    "\n",
    "\n",
    "def _get_index_of_last_non_matching(lists):\n",
    "    padded_lists = pad_lists(lists, None)\n",
    "    n = len(padded_lists[0])\n",
    "    for ls in padded_lists:\n",
    "        ls.reverse()\n",
    "    i = _get_index_of_first_non_matching(padded_lists)\n",
    "    if i is None:\n",
    "        return None\n",
    "    return n - i - 1\n",
    "\n",
    "\n",
    "def labels_from_paths(paths):\n",
    "    splitted_paths = [splitall(p) for p in paths]\n",
    "    i = _get_index_of_first_non_matching(splitted_paths)\n",
    "    j = _get_index_of_last_non_matching(splitted_paths)\n",
    "    labels = [os.path.join(*p[i:j+1]) for p in splitted_paths]\n",
    "    return labels"
   ]
  },
  {
   "cell_type": "code",
   "execution_count": 10,
   "metadata": {},
   "outputs": [
    {
     "data": {
      "text/plain": [
       "['0/3/4', '1/1', '2/1']"
      ]
     },
     "execution_count": 10,
     "metadata": {},
     "output_type": "execute_result"
    }
   ],
   "source": [
    "import os\n",
    "\n",
    "paths = [\n",
    "    'expres/0/3/4',\n",
    "    'expres/1/1',\n",
    "    'expres/2/1',\n",
    "]\n",
    "\n",
    "labels_from_paths(paths)"
   ]
  },
  {
   "cell_type": "code",
   "execution_count": null,
   "metadata": {
    "collapsed": true
   },
   "outputs": [],
   "source": [
    "class X:\n",
    "    def m(self):\n",
    "        pass\n",
    "\n",
    "    \n",
    "class A(X):\n",
    "    def m(self):\n",
    "        pass\n",
    "    \n",
    "    \n",
    "class B(X):\n",
    "    def m(self):\n",
    "        pass\n",
    "    \n",
    "    \n",
    "class C(A, B):\n",
    "    pass\n",
    "\n"
   ]
  },
  {
   "cell_type": "code",
   "execution_count": null,
   "metadata": {
    "collapsed": true
   },
   "outputs": [],
   "source": [
    "import a\n",
    "import b"
   ]
  },
  {
   "cell_type": "code",
   "execution_count": null,
   "metadata": {
    "collapsed": true
   },
   "outputs": [],
   "source": [
    "# module a\n",
    "import c"
   ]
  },
  {
   "cell_type": "code",
   "execution_count": null,
   "metadata": {
    "collapsed": true
   },
   "outputs": [],
   "source": [
    "# module b\n",
    "import c"
   ]
  },
  {
   "cell_type": "code",
   "execution_count": 83,
   "metadata": {},
   "outputs": [
    {
     "data": {
      "text/plain": [
       "['',\n",
       " '/home/anton/h-elmo',\n",
       " '/home/anton/learning-to-learn',\n",
       " '/home/anton/repos/learning-to-learn',\n",
       " '/home/anton/repos/h-elmo',\n",
       " '/home/anton/anaconda3/lib/python36.zip',\n",
       " '/home/anton/anaconda3/lib/python3.6',\n",
       " '/home/anton/anaconda3/lib/python3.6/lib-dynload',\n",
       " '/home/anton/.local/lib/python3.6/site-packages',\n",
       " '/home/anton/anaconda3/lib/python3.6/site-packages',\n",
       " '/home/anton/anaconda3/lib/python3.6/site-packages/IPython/extensions',\n",
       " '/home/anton/.ipython']"
      ]
     },
     "execution_count": 83,
     "metadata": {},
     "output_type": "execute_result"
    }
   ],
   "source": [
    "import sys\n",
    "sys.path"
   ]
  },
  {
   "cell_type": "code",
   "execution_count": null,
   "metadata": {
    "collapsed": true
   },
   "outputs": [],
   "source": [
    "! export PYTHONPATH=blahblah"
   ]
  },
  {
   "cell_type": "code",
   "execution_count": 85,
   "metadata": {},
   "outputs": [
    {
     "data": {
      "text/plain": [
       "['',\n",
       " '/home/anton/h-elmo',\n",
       " '/home/anton/learning-to-learn',\n",
       " '/home/anton/repos/learning-to-learn',\n",
       " '/home/anton/repos/h-elmo',\n",
       " '/home/anton/anaconda3/lib/python36.zip',\n",
       " '/home/anton/anaconda3/lib/python3.6',\n",
       " '/home/anton/anaconda3/lib/python3.6/lib-dynload',\n",
       " '/home/anton/.local/lib/python3.6/site-packages',\n",
       " '/home/anton/anaconda3/lib/python3.6/site-packages',\n",
       " '/home/anton/anaconda3/lib/python3.6/site-packages/IPython/extensions',\n",
       " '/home/anton/.ipython']"
      ]
     },
     "execution_count": 85,
     "metadata": {},
     "output_type": "execute_result"
    }
   ],
   "source": [
    "import sys\n",
    "sys.path"
   ]
  },
  {
   "cell_type": "code",
   "execution_count": 2,
   "metadata": {},
   "outputs": [
    {
     "name": "stderr",
     "output_type": "stream",
     "text": [
      "/home/anton/anaconda3/lib/python3.6/site-packages/h5py/__init__.py:34: FutureWarning: Conversion of the second argument of issubdtype from `float` to `np.floating` is deprecated. In future, it will be treated as `np.float64 == np.dtype(float).type`.\n",
      "  from ._conv import register_converters as _register_converters\n"
     ]
    },
    {
     "data": {
      "text/plain": [
       "tensorflow.python.ops.variables.VariableV1"
      ]
     },
     "execution_count": 2,
     "metadata": {},
     "output_type": "execute_result"
    }
   ],
   "source": [
    "import tensorflow as tf\n",
    "\n",
    "tf.Variable"
   ]
  },
  {
   "cell_type": "code",
   "execution_count": null,
   "metadata": {},
   "outputs": [],
   "source": [
    "class A:\n",
    "    def m(self):\n",
    "        pass\n",
    "\n",
    "a = A()\n",
    "a.m()"
   ]
  }
 ],
 "metadata": {
  "kernelspec": {
   "display_name": "Python 3",
   "language": "python",
   "name": "python3"
  },
  "language_info": {
   "codemirror_mode": {
    "name": "ipython",
    "version": 3
   },
   "file_extension": ".py",
   "mimetype": "text/x-python",
   "name": "python",
   "nbconvert_exporter": "python",
   "pygments_lexer": "ipython3",
   "version": "3.6.9"
  }
 },
 "nbformat": 4,
 "nbformat_minor": 2
}
