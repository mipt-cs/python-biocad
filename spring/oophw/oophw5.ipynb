{
 "cells": [
  {
   "cell_type": "markdown",
   "metadata": {},
   "source": [
    "# Упражнение 1. Ромб смерти\n",
    "\n",
    "Из классов `A`, `B`, `C`, `D`, `E`, `F` составлен ромб сметри. Во всех классах есть метод `f()` (нестатический и неклассовый). \n",
    "\n",
    "1. Вызовете в методе `F.method()` методы из всех шести классов. \n",
    "\n",
    "2. До каких методов можно в данной ситуации \"дотянуться\" с помощью встроенной функции `super()`"
   ]
  },
  {
   "cell_type": "code",
   "execution_count": null,
   "metadata": {},
   "outputs": [],
   "source": [
    "class A:\n",
    "    def f(self):\n",
    "        print(\"Method `f()` in class `A`\")\n",
    "\n",
    "\n",
    "class B(A):\n",
    "    def f(self):\n",
    "        print(\"Method `f()` in class `B`\")\n",
    "        \n",
    "\n",
    "class C(B):\n",
    "    def f(self):\n",
    "        print(\"Method `f()` in class `C`\")\n",
    "        \n",
    "        \n",
    "class D(A):\n",
    "    def f(self):\n",
    "        print(\"Method `f()` in class `D`\")\n",
    "        \n",
    "        \n",
    "class E(D):\n",
    "    def f(self):\n",
    "        print(\"Method `f()` in class `E`\")\n",
    "\n",
    "\n",
    "class F(C, E):\n",
    "    def f(self):\n",
    "        print(\"Method `f()` in class `F`\")\n",
    "        \n",
    "    def method(self):\n",
    "        pass"
   ]
  },
  {
   "cell_type": "markdown",
   "metadata": {},
   "source": [
    "# Упражнение 2. Четырехугольники\n",
    "\n",
    "Напишите классы для геометрических фигур на плоскости: класс `Tetragon` (четырехугольник) и наследующие ему классы `Rectangle` (прямоугольник) и `Diamond` (ромб). У классов должны быть 2 публичных метода: `square()` - для вычисления площади и `get_vertices()` - возвращающий координаты вершин четырехугольника в виде списка кортежей.\n",
    "\n",
    "Четырехугольник `Tetragon` инициализируется координатами своих вершин. Рассматривайте только выпуклые четырехугольники.\n",
    "\n",
    "Предлагаю инициализировать прямоугольник `Rectangle` координатами концов диагонали и углом поворота второй диагонали относительно первой.\n",
    "\n",
    "Ромб `Diamond` можно инициализировать координатами концов одной из диагоналей + длиной второй диагонали.\n",
    "\n",
    "Сделайте защищенными (protected) непубличные методы, которые используются классом родителем и хотя бы одним из потомков. Например, метод для вычисления расстояния между двумя точками.\n",
    "\n",
    "Сделайте приватными методы родительского класса, которые не нужны потомкам. Сюда может подойти вычисление площади треугольника (если оно используется для расчета площади всего четырехугольника `Tetragon`)."
   ]
  },
  {
   "cell_type": "code",
   "execution_count": null,
   "metadata": {},
   "outputs": [],
   "source": []
  },
  {
   "cell_type": "markdown",
   "metadata": {},
   "source": [
    "# Упражнение 3. "
   ]
  },
  {
   "cell_type": "markdown",
   "metadata": {},
   "source": []
  }
 ],
 "metadata": {
  "kernelspec": {
   "display_name": "Python 3",
   "language": "python",
   "name": "python3"
  },
  "language_info": {
   "codemirror_mode": {
    "name": "ipython",
    "version": 3
   },
   "file_extension": ".py",
   "mimetype": "text/x-python",
   "name": "python",
   "nbconvert_exporter": "python",
   "pygments_lexer": "ipython3",
   "version": "3.5.2"
  }
 },
 "nbformat": 4,
 "nbformat_minor": 2
}
