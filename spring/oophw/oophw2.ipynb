{
 "cells": [
  {
   "cell_type": "markdown",
   "metadata": {},
   "source": [
    "# Упражнение 1. Пакет `sort`\n",
    "\n",
    "Создайте пакет `sort`, в котором будут модуль `noncomp.py` (от non-comparison sorts - сортировки не основанные на сравнениях) и пакет `comp` (comparison sorts - сортировки, основанные на сравнениях). Пакет `comp` должен содержать два модуля: `stable.py` и `unstable.py`. Распределите реализованные Вами функции сортировки по 3-м модулям `sort/noncomp.py`, `sort/comp/stable.py`, `sort/comp/unstable.py`. Дайте функциям общепринятые названия: `quick_sort()`, `merge_sort()`, `LSD_radix_sort()` и т.д..\n",
    "\n",
    "Добавьте в файл `sort/__init__.py` код при импортировании пакета `sort` будет загружать все содержимое модуля `sort/comp/stable.py`. В результате пользователи после выполнения инструкции\n",
    "```python\n",
    "import sort\n",
    "```\n",
    "должны получить возможность использовать, например, `merge_sort()`:\n",
    "```python\n",
    "import sort\n",
    "sort.merge_sort([3, 4, 1, 6, 7])\n",
    "```"
   ]
  },
  {
   "cell_type": "code",
   "execution_count": null,
   "metadata": {
    "collapsed": true
   },
   "outputs": [],
   "source": []
  },
  {
   "cell_type": "markdown",
   "metadata": {},
   "source": [
    "# Упражнение 2. Импортирование с помощью `from package import *`\n",
    "\n",
    "Добавьте в `sort/__init__.py` код, которая позволит командой импортировать модуль `noncomp.py`.\n",
    "```python\n",
    "from sort import *\n",
    "```"
   ]
  },
  {
   "cell_type": "code",
   "execution_count": null,
   "metadata": {
    "collapsed": true
   },
   "outputs": [],
   "source": []
  },
  {
   "cell_type": "markdown",
   "metadata": {},
   "source": [
    "# Упражнение 3. Относительное импортирование модулей\n",
    "\n",
    "Добавьте в пакет `sort` модуль `custom.py`, который будет содержать разные нестандартные сортировки. В модуле `custom.py` импортируйте модули `noncomp.py`, `comp/stable.py`, `comp/unstable.py`. Примените импортирование соседнего модуля `from . import module`."
   ]
  },
  {
   "cell_type": "code",
   "execution_count": null,
   "metadata": {
    "collapsed": true
   },
   "outputs": [],
   "source": []
  }
 ],
 "metadata": {
  "kernelspec": {
   "display_name": "Python 3",
   "language": "python",
   "name": "python3"
  },
  "language_info": {
   "codemirror_mode": {
    "name": "ipython",
    "version": 3
   },
   "file_extension": ".py",
   "mimetype": "text/x-python",
   "name": "python",
   "nbconvert_exporter": "python",
   "pygments_lexer": "ipython3",
   "version": "3.5.2"
  }
 },
 "nbformat": 4,
 "nbformat_minor": 2
}
