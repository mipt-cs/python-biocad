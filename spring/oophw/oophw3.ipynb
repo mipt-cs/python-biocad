{
 "cells": [
  {
   "cell_type": "markdown",
   "metadata": {},
   "source": [
    "# Упражнение 1. К какому типу относится объект?\n",
    "\n",
    "1. Напишите функцию `negate()`, которая принимает на вход объекты целого, вещественного, комплексного (`complex`) и булевого типов и возвращает их отрицания. Если число вещественное, комплексное или целое, то возвращается это число с противоположным знаком, а если объект принадлежит булевому типу, то `True` заменяется на `False`, а `False` на `True`.\n",
    ">Это упражнение на различия между `isinstance(obj, some_type)` и `type(obj) == some_type`.\n",
    "\n",
    "2. Определите, к какому из классов принадлежит объект. Внизу приведен код, в котором случайным образом создаются объекты, относящиеся к одному из дву классов. Через пробел напечатайте, какому из классов принадлежат объекты из списка `L`."
   ]
  },
  {
   "cell_type": "code",
   "execution_count": null,
   "metadata": {
    "collapsed": true
   },
   "outputs": [],
   "source": [
    "import random\n",
    "\n",
    "class A:\n",
    "    pass\n",
    "\n",
    "class B:\n",
    "    pass\n",
    "\n",
    "\n",
    "L = [A() if random.randint(0, 1) == 0 else B() for _ in range(10)]\n",
    "print(L)"
   ]
  },
  {
   "cell_type": "markdown",
   "metadata": {},
   "source": [
    "# Упражнение 2. Черепашка\n",
    "\n",
    "Напишите класс `Turtle`, который будет имитировать черепашку, способную передвигаться по горизонтали. \n",
    "\n",
    "1. С помощью операторов `<`, `>`, черепашка переползает на некоторое расстояние, но не более, чем на 1. Операторы `<<`, `>>` позволяют черепашке переползти на расстояние не превышающее 2. При этом у черепашки есть запас энергии, который расходуется при перемещениях. \n",
    "\n",
    "2. При использовании операторов `<`, `>` черепашкатратит одну единицу энергии на одну единицу расстояния, а `<<`, `>>` увеличивают расход в 2 раза. \n",
    "\n",
    "3. В конце движения черепашка должна печатать свою текущую координату. \n",
    "\n",
    "4. Если черепашка не смогла проползти требуемое расссотяние из-за недостатка энергии, должно печататься предупреждение `'out of energy'`, если преодолеть требуемое расстояние не удалось из-за ограничения на перемещение, должно печататься предупреждение `'too far'`. Для печати предупреждений используйте пакет [`warnings`](https://docs.python.org/3/library/warnings.html).\n",
    "\n",
    "5. Можно выполнять зарядку черепашки с помощью конструкции\n",
    "```python\n",
    "turtle + 3\n",
    "```\n",
    "\n",
    "### Пример использования\n",
    "```python\n",
    ">>> from test1 import Turtle\n",
    ">>> turtle = Turtle(energy=10, position=0)\n",
    ">>> turtle < 1\n",
    "position=-1.0 energy=9.0\n",
    ">>> turtle >> 3\n",
    "/home/anton/test/test1.py:17: UserWarning: too far\n",
    "  warnings.warn('too far')\n",
    "position=1.0 energy=5.0\n",
    ">>> turtle >> 2\n",
    "position=3.0 energy=1.0\n",
    ">>> turtle >> 2\n",
    "position=5.0 energy=0.0\n",
    ">>> turtle >> 2\n",
    "/home/anton/test/test1.py:21: UserWarning: out of energy. energy=0.0\n",
    "  warnings.warn('out of energy. energy={}'.format(self._energy))\n",
    "position=5.0 energy=0.0\n",
    ">>> turtle + 12\n",
    "position=5.0 energy=12.0\n",
    ">>> turtle << 1\n",
    "position=4.0 energy=10.0\n",
    ">>> turtle < 3\n",
    "position=3.0 energy=9.0\n",
    ">>> turtle >> 40\n",
    "position=5.0 energy=5.0\n",
    ">>> turtle >> 40\n",
    "position=7.0 energy=1.0\n",
    ">>> turtle >> 40\n",
    "position=9.0 energy=0.0\n",
    ">>> turtle >> 40\n",
    "/home/anton/test/test1.py:15: UserWarning: out of energy. energy=0.0\n",
    "  warnings.warn('out of energy. energy={}'.format(self._energy))\n",
    "position=9.0 energy=0.0\n",
    ">>> turtle >> 40\n",
    "position=9.0 energy=0.0\n",
    ">>> turtle >> 40\n",
    "position=9.0 energy=0.0\n",
    ">>> turtle >> 40\n",
    "position=9.0 energy=0.0\n",
    ">>> turtle >> 40\n",
    "position=9.0 energy=0.0\n",
    ">>> turtle >> 40\n",
    "position=9.0 energy=0.0\n",
    ">>> \n",
    " \n",
    "```"
   ]
  },
  {
   "cell_type": "code",
   "execution_count": 49,
   "metadata": {
    "collapsed": true
   },
   "outputs": [],
   "source": [
    "import warnings\n",
    "import sys\n",
    "\n",
    "class Turtle:\n",
    "    def __init__(self, energy, position):\n",
    "        self._energy = float(energy)\n",
    "        self._position = float(position)\n",
    "        \n",
    "    def _move(self, d, distance_limit, energy_factor):\n",
    "        energy_limit = energy_factor * self._energy\n",
    "        if abs(d) > distance_limit:\n",
    "            d = distance_limit * d / abs(d)\n",
    "            if abs(d) > energy_limit:\n",
    "                d = max(energy_limit, 0) * d / abs(d)\n",
    "                warnings.warn('out of energy. energy={}'.format(self._energy))\n",
    "            else:\n",
    "                warnings.warn('too far')\n",
    "        else:\n",
    "            if abs(d) > energy_limit:\n",
    "                d = max(energy_limit, 0) * d / abs(d)\n",
    "                warnings.warn('out of energy. energy={}'.format(self._energy))\n",
    "        self._position += d\n",
    "        self._energy = float(max(self._energy - abs(d) * energy_factor, 0))\n",
    "        print('position=%s energy=%s'% (self._position, self._energy))\n",
    "        \n",
    "    def __lt__(self, number):\n",
    "        self._move(-number, 1, 1)\n",
    "        \n",
    "    def __gt__(self, number):\n",
    "        self._move(number, 1, 1)\n",
    "        \n",
    "    def __lshift__(self, number):\n",
    "        self._move(-number, 2, 2)\n",
    "        \n",
    "    def __rshift__(self, number):\n",
    "        self._move(number, 2, 2)\n",
    "        \n",
    "    def __add__(self, number):\n",
    "        self._energy += number\n",
    "        print('position=%s energy=%s'% (self._position, self._energy))"
   ]
  },
  {
   "cell_type": "code",
   "execution_count": 50,
   "metadata": {},
   "outputs": [
    {
     "name": "stdout",
     "output_type": "stream",
     "text": [
      "position=-1.0 energy=9.0\n",
      "position=1.0 energy=5.0\n",
      "position=3.0 energy=1.0\n",
      "position=5.0 energy=0.0\n",
      "position=5.0 energy=0.0\n",
      "position=5.0 energy=12.0\n",
      "position=4.0 energy=10.0\n",
      "position=3.0 energy=9.0\n",
      "position=5.0 energy=5.0\n",
      "position=7.0 energy=1.0\n",
      "position=9.0 energy=0.0\n",
      "position=9.0 energy=0.0\n",
      "position=9.0 energy=0.0\n",
      "position=9.0 energy=0.0\n",
      "position=9.0 energy=0.0\n",
      "position=9.0 energy=0.0\n",
      "position=9.0 energy=0.0\n"
     ]
    },
    {
     "name": "stderr",
     "output_type": "stream",
     "text": [
      "/usr/local/lib/python3.5/dist-packages/ipykernel_launcher.py:17: UserWarning: too far\n",
      "/usr/local/lib/python3.5/dist-packages/ipykernel_launcher.py:21: UserWarning: out of energy. energy=0.0\n",
      "/usr/local/lib/python3.5/dist-packages/ipykernel_launcher.py:15: UserWarning: out of energy. energy=0.0\n",
      "  from ipykernel import kernelapp as app\n"
     ]
    }
   ],
   "source": [
    "turtle = Turtle(energy=10, position=0)\n",
    "turtle < 1\n",
    "turtle >> 3\n",
    "turtle >> 2\n",
    "turtle >> 2\n",
    "turtle >> 2\n",
    "turtle + 12\n",
    "turtle << 1\n",
    "turtle < 3\n",
    "turtle >> 40\n",
    "turtle >> 40\n",
    "turtle >> 40\n",
    "turtle >> 40\n",
    "turtle >> 40\n",
    "turtle >> 40\n",
    "turtle >> 40\n",
    "turtle >> 40\n",
    "turtle >> 40"
   ]
  },
  {
   "cell_type": "code",
   "execution_count": 34,
   "metadata": {},
   "outputs": [
    {
     "name": "stderr",
     "output_type": "stream",
     "text": [
      "/usr/local/lib/python3.5/dist-packages/ipykernel_launcher.py:3: UserWarning: !\n",
      "  This is separate from the ipykernel package so we can avoid doing imports until\n",
      "/usr/local/lib/python3.5/dist-packages/ipykernel_launcher.py:4: UserWarning: !\n",
      "  after removing the cwd from sys.path.\n",
      "/usr/local/lib/python3.5/dist-packages/ipykernel_launcher.py:5: UserWarning: !\n",
      "  \"\"\"\n",
      "/usr/local/lib/python3.5/dist-packages/ipykernel_launcher.py:6: UserWarning: !\n",
      "  \n",
      "/usr/local/lib/python3.5/dist-packages/ipykernel_launcher.py:7: UserWarning: !\n",
      "  import sys\n",
      "/usr/local/lib/python3.5/dist-packages/ipykernel_launcher.py:8: UserWarning: !\n",
      "  \n",
      "/usr/local/lib/python3.5/dist-packages/ipykernel_launcher.py:9: UserWarning: !\n",
      "  if __name__ == '__main__':\n"
     ]
    }
   ],
   "source": [
    "import warnings\n",
    "\n",
    "warnings.warn('!')\n",
    "warnings.warn('!')\n",
    "warnings.warn('!')\n",
    "warnings.warn('!')\n",
    "warnings.warn('!')\n",
    "warnings.warn('!')\n",
    "warnings.warn('!')"
   ]
  }
 ],
 "metadata": {
  "kernelspec": {
   "display_name": "Python 3",
   "language": "python",
   "name": "python3"
  },
  "language_info": {
   "codemirror_mode": {
    "name": "ipython",
    "version": 3
   },
   "file_extension": ".py",
   "mimetype": "text/x-python",
   "name": "python",
   "nbconvert_exporter": "python",
   "pygments_lexer": "ipython3",
   "version": "3.6.3"
  }
 },
 "nbformat": 4,
 "nbformat_minor": 2
}
