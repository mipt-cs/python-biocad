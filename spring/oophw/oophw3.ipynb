{
 "cells": [
  {
   "cell_type": "markdown",
   "metadata": {},
   "source": [
    "# Упражнение 1. К какому типу относится объект?\n",
    "\n",
    "1. Напишите функцию `negate()`, которая принимает на вход объекты целого, вещественного, комплексного (`complex`) и булевого типов и возвращает их отрицания. Если число вещественное, комплексное или целое, то возвращается это число с противоположным знаком, а если объект принадлежит булевому типу, то `True` заменяется на `False`, а `False` на `True`.\n",
    ">Это упражнение на различия между `isinstance(obj, some_type)` и `type(obj) == some_type`.\n",
    "\n",
    "2. Какому из классов принадлежит объект. Внизу приведен код в котором случайным образом создаются объекты, относящиеся к одному из дву классов. Через пробел напечатайте, какому из классов принадлежат объекты из списка `L`."
   ]
  },
  {
   "cell_type": "code",
   "execution_count": 4,
   "metadata": {},
   "outputs": [
    {
     "name": "stdout",
     "output_type": "stream",
     "text": [
      "[<__main__.A object at 0x7f5e6406c240>, <__main__.A object at 0x7f5e6406c358>, <__main__.A object at 0x7f5e6406c2b0>, <__main__.B object at 0x7f5e6406c320>, <__main__.B object at 0x7f5e6406c278>, <__main__.B object at 0x7f5e6406c390>, <__main__.B object at 0x7f5e6406c3c8>, <__main__.B object at 0x7f5e6406c400>, <__main__.B object at 0x7f5e6406c438>, <__main__.B object at 0x7f5e6406c470>]\n"
     ]
    }
   ],
   "source": [
    "import random\n",
    "\n",
    "class A:\n",
    "    pass\n",
    "\n",
    "class B:\n",
    "    pass\n",
    "\n",
    "\n",
    "L = [A() if random.randint(0, 1) == 0 else B() for _ in range(10)]\n",
    "print(L)"
   ]
  }
 ],
 "metadata": {
  "kernelspec": {
   "display_name": "Python 3",
   "language": "python",
   "name": "python3"
  },
  "language_info": {
   "codemirror_mode": {
    "name": "ipython",
    "version": 3
   },
   "file_extension": ".py",
   "mimetype": "text/x-python",
   "name": "python",
   "nbconvert_exporter": "python",
   "pygments_lexer": "ipython3",
   "version": "3.5.2"
  }
 },
 "nbformat": 4,
 "nbformat_minor": 2
}
