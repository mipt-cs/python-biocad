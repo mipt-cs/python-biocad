{
 "cells": [
  {
   "cell_type": "markdown",
   "metadata": {},
   "source": [
    "# Упражнение 1. Удаление узла из красно-черного дерева\n",
    "\n",
    "Допишите код из примера 2 в alg11.ipynb, чтобы корректно работало удаление узла из дерева. Вам осталось реализовать методы\n",
    "\n",
    "- `_4th_cond_rem()`\n",
    "    \n",
    "- `_5th_cond_rem()`\n",
    "        \n",
    "- `_6th_cond_rem()`\n",
    "        \n",
    "- `_case_4_rem()`\n",
    "        \n",
    "- `_case_5_rem()`\n",
    "        \n",
    "- `_case_6_rem()`\n",
    "\n",
    "- `_cases_4_5_6_rem()`"
   ]
  },
  {
   "cell_type": "code",
   "execution_count": null,
   "metadata": {},
   "outputs": [],
   "source": []
  }
 ],
 "metadata": {
  "kernelspec": {
   "display_name": "Python 3",
   "language": "python",
   "name": "python3"
  },
  "language_info": {
   "codemirror_mode": {
    "name": "ipython",
    "version": 3
   },
   "file_extension": ".py",
   "mimetype": "text/x-python",
   "name": "python",
   "nbconvert_exporter": "python",
   "pygments_lexer": "ipython3",
   "version": "3.5.2"
  }
 },
 "nbformat": 4,
 "nbformat_minor": 2
}
