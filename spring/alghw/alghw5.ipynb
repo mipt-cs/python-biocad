{
 "cells": [
  {
   "cell_type": "markdown",
   "metadata": {},
   "source": [
    "# Упражнение 1. Удаление элемента из односвязного списка\n",
    "\n",
    "Реализуйте метод [`__delitem__()`](https://docs.python.org/3/reference/datamodel.html#object.__delitem__) для класса `SinglyLinkedList` из примера 1 лабораторной работы alg5.ipynb. Метод должен удалять элементы списка по индексу.\n",
    "```python\n",
    "del my_list[idx]\n",
    "```\n",
    "Должна быть возможность работы с отрицательными индексами, и встроена проверка значения индекса. Если индекс выходит за границы списка, кидайте исключение `IndexError`."
   ]
  },
  {
   "cell_type": "code",
   "execution_count": null,
   "metadata": {
    "collapsed": true
   },
   "outputs": [],
   "source": []
  },
  {
   "cell_type": "markdown",
   "metadata": {},
   "source": [
    "# Упражнение 2. Двусвязный список\n",
    "\n",
    "Реализуйте двусвязный список в виде класса `DoublyLinkedList`. У двусвязного списка, кроме поля `head`, должно быть еще поле `tail`, указывающее на последний элемент списка. "
   ]
  },
  {
   "cell_type": "code",
   "execution_count": null,
   "metadata": {},
   "outputs": [],
   "source": []
  },
  {
   "cell_type": "markdown",
   "metadata": {},
   "source": [
    "# Упражнение 3. Элемент списка, срез списка\n",
    "\n",
    "Реализуйте получение значения узла по его индексу и срез списка. Срез списка должен создавать новый список, состоящий из копий соответствующих узлов. Ограничьтесь срезами с шагом 1, сохраняющими порядок элементов. Создавать из объекта класса `DoublyLinkedList` объект встроенного типа Python **запрещается**.<br>  \n",
    "Для получения элемента по индексу и срезов используется метод [`__getitem__()`](https://docs.python.org/3/reference/datamodel.html#object.__getitem__), позволяющий передать аргумент в квадратных скобках.\n",
    "### Пример\n",
    "\n",
    "```python\n",
    "class Sequence:\n",
    "    \"\"\"\n",
    "    Класс, реализующий числовые последовательности. \n",
    "    Доступ к элементу последовательности осуществляется\n",
    "    по его индексу с помощью квадратных скобок.\n",
    "    \"\"\"\n",
    "    def __init__(self, func):\n",
    "        \"\"\"func - функция, принимающая на вход одно число и возвращающая число\"\"\"\n",
    "        self.func = func\n",
    "        \n",
    "    def __getitem__(self, index):\n",
    "        return self.func(index)\n",
    "        \n",
    "        \n",
    "squares = Sequence(lambda x: x**2)\n",
    "print(squares[3])\n",
    "print(squares[5])\n",
    "```\n",
    "В квадратные скобки можно передавать специальные объекты, называемы срезами [`slice`](https://docs.python.org/3/library/functions.html#slice).\n",
    "```python\n",
    "l = [1, 2, 3, 4, 5, 6, 7, 8]\n",
    "sl1 = slice(0, 5)\n",
    "sl2 = slice(10, 0, -2)\n",
    "print(l[sl1])\n",
    "print(l[sl2])\n",
    "```\n",
    "Срез можно создать встроенной функцией `slice()` или привычным способом: с помощью двоеточий в квадратных скобках.\n",
    "```python\n",
    "l = [1, 2, 3, 4, 5, 6, 7, 8]\n",
    "print(l[:5])\n",
    "```\n",
    "У срезов есть три поля `start`, `stop`, `step` и один метод `indices()`.\n",
    "```python\n",
    "sl = slice(-1, 3, 2)\n",
    "print(sl.start)\n",
    "print(sl.stop)\n",
    "print(sl.step)\n",
    "# Метод slice.indices() приимает на вход длину последовательности и\n",
    "# возвращает кортеж из трех элементов (start, stop, step). В отличие\n",
    "# от полей slice.start и slice.stop элементы кортежа всегда положительные.\n",
    "print(sl.indices(20))\n",
    "```\n",
    "Проверку, является ли аргумент `__getitem__()` срезом, можно выполнить с помощью \n",
    "```python\n",
    "isinstance(index, slice)\n",
    "```\n",
    ">Если в квадратные скобки подано число, убедитесь, что оно целое и принадлежит правильному диапазону. В противном случае бросьте исключение `IndexError`."
   ]
  },
  {
   "cell_type": "code",
   "execution_count": null,
   "metadata": {
    "collapsed": true
   },
   "outputs": [],
   "source": []
  },
  {
   "cell_type": "markdown",
   "metadata": {},
   "source": [
    "# Упражнение 4. Очередь на основе списка\n",
    "\n",
    "Реализуйте очередь на основе односвязного списка в виде класса `ListBasedQueue`.\n",
    "\n",
    ">Подсказка: заведите поле `tail` для хранения указателя на конец очереди."
   ]
  },
  {
   "cell_type": "code",
   "execution_count": null,
   "metadata": {
    "collapsed": true
   },
   "outputs": [],
   "source": []
  }
 ],
 "metadata": {
  "kernelspec": {
   "display_name": "Python 3",
   "language": "python",
   "name": "python3"
  },
  "language_info": {
   "codemirror_mode": {
    "name": "ipython",
    "version": 3
   },
   "file_extension": ".py",
   "mimetype": "text/x-python",
   "name": "python",
   "nbconvert_exporter": "python",
   "pygments_lexer": "ipython3",
   "version": "3.5.2"
  }
 },
 "nbformat": 4,
 "nbformat_minor": 2
}
