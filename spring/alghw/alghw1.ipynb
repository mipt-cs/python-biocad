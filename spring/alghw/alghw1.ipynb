{
 "cells": [
  {
   "cell_type": "markdown",
   "metadata": {},
   "source": [
    "### Упражнение 1. Списки с одинаковым содержимым\n",
    "\n",
    "Определите, содержат ли списки $A$ и $B$ из одинаковые наборы элементов.\n",
    "\n",
    "\n",
    "#### Пример\n",
    "\n",
    "| <font size=3>Входные последовательности</font> | <font size=3>Выходная последовательность</font> |\n",
    "| :---: | :---: |\n",
    "| <font size=3>1 3 1<br>1 1 3</font> | <font size=3>True</font> |\n",
    "| <font size=3>1 3 1<br>1 3 3</font> | <font size=3>False</font> |"
   ]
  },
  {
   "cell_type": "code",
   "execution_count": null,
   "metadata": {
    "collapsed": true
   },
   "outputs": [],
   "source": [
    "import random\n",
    "alphabet = list(range(5))\n",
    "N = 20\n",
    "A = [random.choice(alphabet) for _ in range(N)]\n",
    "if random.randint(0, 2):\n",
    "    B = [random.choice(alphabet) for _ in range(N)]\n",
    "else:\n",
    "    B = random.shuffle(A)"
   ]
  },
  {
   "cell_type": "markdown",
   "metadata": {},
   "source": [
    "### Упражнение 2. Наиболее близкие точки\n",
    "\n",
    "Дан список $A$ различных точек на коорднатной прямой. Распечатайте все пары точек, расстояние между которыми минимально."
   ]
  },
  {
   "cell_type": "code",
   "execution_count": null,
   "metadata": {
    "collapsed": true
   },
   "outputs": [],
   "source": [
    "import random\n",
    "N = random.randint(10, 20)\n",
    "A = random.sample(range(100), N)"
   ]
  },
  {
   "cell_type": "markdown",
   "metadata": {},
   "source": [
    "### Упражнение 3. Треугольники\n",
    "\n",
    "Заданы $N$ попарно разлиных длин отрезков. Вычислить количество способов, которыми из этих отрезков можно сложить треугольник. Возможно ли, чтобы алгоритм работал с эффективностью $O(N^2)$?"
   ]
  },
  {
   "cell_type": "code",
   "execution_count": null,
   "metadata": {
    "collapsed": true
   },
   "outputs": [],
   "source": [
    "import random\n",
    "N = random.randint(10, 20)\n",
    "A = random.sample(range(100), N)"
   ]
  },
  {
   "cell_type": "markdown",
   "metadata": {},
   "source": [
    "### Упражнение 4. Сортировка расческой\n",
    "\n",
    "Напишите функцию, сортирующую функцию с помощью алгоритма сортировки [расческой](https://ru.wikipedia.org/wiki/%D0%A1%D0%BE%D1%80%D1%82%D0%B8%D1%80%D0%BE%D0%B2%D0%BA%D0%B0_%D1%80%D0%B0%D1%81%D1%87%D1%91%D1%81%D0%BA%D0%BE%D0%B9)"
   ]
  },
  {
   "cell_type": "code",
   "execution_count": null,
   "metadata": {
    "collapsed": true
   },
   "outputs": [],
   "source": []
  },
  {
   "cell_type": "markdown",
   "metadata": {},
   "source": [
    "### Упражнение 5. Сортировка Шелла\n",
    "\n",
    "Напишите функцию, сортирующую список с помощью алгоритма сортировки [Шелла](https://ru.wikipedia.org/wiki/%D0%A1%D0%BE%D1%80%D1%82%D0%B8%D1%80%D0%BE%D0%B2%D0%BA%D0%B0_%D0%A8%D0%B5%D0%BB%D0%BB%D0%B0). Добавьте возможность изменения длины промежутка согласно последовательностям Седжвика и Пратта."
   ]
  },
  {
   "cell_type": "code",
   "execution_count": null,
   "metadata": {
    "collapsed": true
   },
   "outputs": [],
   "source": []
  },
  {
   "cell_type": "markdown",
   "metadata": {},
   "source": [
    "### Упражнение 6. Экспериментальая оценка временной сложности алгоритма\n",
    "\n",
    "Проверьте, верны ли для реализованных Вами алгоритмов их теоретические временные сложности. Исследуйте сортировки выбором, пузырьком, вставками, расческой. Исследуйте сортировку Шелла в вариантах с последовательностями Седжвика, Пратта и в оригинальном варианте с делением длины промежутка пополам.\n",
    "\n",
    "Для того чтобы убедиться в том, что тестируемая сложность $O(f(N))$ подходит, надо изучить зависимость отношения $\\frac{T(N)}{f(N)}$ от $N$. Если $\\displaystyle\\lim_{N\\to \\infty}\\frac{T(N)}{f(N)} = С$, где $C > 0$, то сложность алгоритма не превосходит $O(f(N))$. Если $C > 0$, то сложность алгоритма - $O(f(N))$.\n",
    "\n",
    "Для квадратичных сортировок брать значения $N$, превышающие $10^5$ не следует, так как сортировка будет занимать слишком много времени. У меня сортировка пузырьком списка, состоящего из $10^5$ целых чисел заняла почти 15 мин.\n",
    "\n",
    "Для измерения времени сортировки используйте модуль [`timeit`](https://docs.python.org/3/library/timeit.html). Аргумент `stmt` функции `timeit.timeit()` содержит код, выполняемый `number` раз, после чего вычисляется среднее время его выполнения. Аргумент `setup` содержит код, который выполняется **1** раз до повторных запусков `stmt`. С помощью аргумента `globals` в `timeit.timeit()` передаются имена, необходимые для успешного выполнения `stmt` и `setup`. \n",
    "\n",
    "Обратите внимание, что в `stmt` инициализируется список `a`. Если этого не делать, то начиная со второго повторения `a` будет упорядочен до сортировки.\n",
    "\n",
    "Ниже приведен пример измерения времени сортировки с помощью метода `list.sort()`. Встроенная сортировка Python использует алгоритм [timsort](https://ru.wikipedia.org/wiki/Timsort), который сочетает в себе сортировки вставками и слиянием. Теоретическая сложность алгоритма $O(N \\cdot \\log N)$, однако у меня получилось, что сложность алгоритма ближе к $O(N \\cdot \\log ^2 N)$"
   ]
  },
  {
   "cell_type": "code",
   "execution_count": 2,
   "metadata": {},
   "outputs": [
    {
     "name": "stdout",
     "output_type": "stream",
     "text": [
      "8 length done\n",
      "16 length done\n",
      "32 length done\n",
      "64 length done\n",
      "128 length done\n",
      "256 length done\n",
      "512 length done\n",
      "1024 length done\n",
      "2048 length done\n",
      "4096 length done\n",
      "8192 length done\n",
      "16384 length done\n",
      "32768 length done\n",
      "65536 length done\n",
      "131072 length done\n",
      "262144 length done\n",
      "524288 length done\n",
      "1048576 length done\n",
      "2097152 length done\n",
      "4194304 length done\n",
      "8388608 length done\n",
      "16777216 length done\n",
      "33554432 length done\n"
     ]
    },
    {
     "data": {
      "image/png": "[encoded data removed]",
      "text/plain": [
       "<matplotlib.figure.Figure at 0x7f86239ac550>"
      ]
     },
     "metadata": {},
     "output_type": "display_data"
    },
    {
     "data": {
      "image/png": "[encoded data removed]",
      "text/plain": [
       "<matplotlib.figure.Figure at 0x7f86237f7860>"
      ]
     },
     "metadata": {},
     "output_type": "display_data"
    }
   ],
   "source": [
    "import timeit\n",
    "import math\n",
    "import matplotlib.pyplot as plt\n",
    "start = 8\n",
    "factor = 2\n",
    "num_points = 23\n",
    "num_repeats = 10\n",
    "N_min = start\n",
    "N_max = start * factor**(num_points - 1)\n",
    "N_list = []\n",
    "T_list = []\n",
    "nlogn_list = []\n",
    "nlogn2_list = []\n",
    "N = N_min\n",
    "setup = \"\"\"\n",
    "import random\n",
    "L=list(range(N))\n",
    "random.shuffle(L)\n",
    "def timsort(l):\n",
    "    l.sort()\n",
    "\"\"\"\n",
    "while N <= N_max:\n",
    "    T = timeit.timeit(\n",
    "        stmt=\"a = L[:];timsort(a)\",\n",
    "        setup=setup,\n",
    "        number=num_repeats,\n",
    "        globals=dict(N=N)\n",
    "    )\n",
    "    T_copy = timeit.timeit(\n",
    "        stmt=\"a = L[:]\",\n",
    "        setup=setup,\n",
    "        number=num_repeats,\n",
    "        globals=dict(N=N)\n",
    "    )\n",
    "    T -= T_copy\n",
    "    T /= num_repeats\n",
    "    N_list.append(N)\n",
    "    T_list.append(T)\n",
    "    nlogn_list.append(T / (N * math.log(N)))\n",
    "    nlogn2_list.append(T / (N * math.log(N) ** 2))\n",
    "    print(\"{} length done\".format(N))\n",
    "    N *= factor\n",
    "    \n",
    "plt.plot(N_list, nlogn_list)\n",
    "plt.xlabel(r\"${N}$\", fontsize=18)\n",
    "plt.ylabel(r\"$\\frac{T(N)}{N \\cdot \\log N}$\", fontsize=18)\n",
    "plt.xscale('log')\n",
    "plt.yscale('log')\n",
    "plt.title('timsort: test time estimate $O(N \\cdot log N)$', fontsize=16)\n",
    "plt.show()\n",
    "\n",
    "plt.plot(N_list, nlogn2_list)\n",
    "plt.xlabel(r\"${N}$\", fontsize=18)\n",
    "plt.ylabel(r\"$\\frac{T(N)}{N \\cdot \\log^2 N}$\", fontsize=18)\n",
    "plt.xscale('log')\n",
    "plt.yscale('log')\n",
    "plt.title('timsort: test time estimate $O(N \\cdot log ^2 N)$', fontsize=16)\n",
    "plt.show()"
   ]
  },
  {
   "cell_type": "code",
   "execution_count": null,
   "metadata": {
    "collapsed": true
   },
   "outputs": [],
   "source": []
  },
  {
   "cell_type": "markdown",
   "metadata": {},
   "source": [
    "### Упражнение 7. Слияние\n",
    "\n",
    "В двух файлах <font color=green>seq1.txt</font>, <font color=green>seq2.txt</font> записаны возрастающие последовательности целых чисел. Объедините эти последовательности в одну возрастающую последовательность и запишите ее в третий файл. Постарайтесь сделать алгоритм однопроходным.\n",
    "\n",
    "#### Пример\n",
    "\n",
    "| <font size=3>Входные последовательности</font> | <font size=3>Выходная последовательность</font> |\n",
    "| :---: | :---: |\n",
    "| <font size=3>1 3 5 7<br>2 3 4 5 6</font> | <font size=3>1 2 3 3 4 5 5 6 7</font> |"
   ]
  },
  {
   "cell_type": "code",
   "execution_count": null,
   "metadata": {
    "collapsed": true
   },
   "outputs": [],
   "source": []
  }
 ],
 "metadata": {
  "kernelspec": {
   "display_name": "Python 3",
   "language": "python",
   "name": "python3"
  },
  "language_info": {
   "codemirror_mode": {
    "name": "ipython",
    "version": 3
   },
   "file_extension": ".py",
   "mimetype": "text/x-python",
   "name": "python",
   "nbconvert_exporter": "python",
   "pygments_lexer": "ipython3",
   "version": "3.5.2"
  }
 },
 "nbformat": 4,
 "nbformat_minor": 2
}
