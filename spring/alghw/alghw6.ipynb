{
 "cells": [
  {
   "cell_type": "markdown",
   "metadata": {},
   "source": [
    "# Упражнение 1. Хорошие слова\n",
    "\n",
    "Назовём слово хорошим, если выполнено одно из условий.\n",
    "\n",
    "- Оно равно слову «0».\n",
    "\n",
    "- Оно начинается на символ «1», а затем следует хорошее слово.\n",
    "\n",
    "- Оно начинается на символ «2», а затем следует два записанных друг за другом хороших слова.\n",
    "\n",
    "- Оно начинается на символ «3», а затем следует три записанных друг за другом хороших слова.\n",
    "\n",
    "Примеры хороших слов: `10`, `200`, `3000`, `21010`, `2010`, `3020010`, `11111110`, `30011111110`.\n",
    "\n",
    "Напишите функцию, возвращающую `True`, если слово хорошее, и `False`, если не хорошее.\n",
    "\n",
    "Решите задачу двумя способами: с помощью рекурсии и с помощью стека."
   ]
  },
  {
   "cell_type": "code",
   "execution_count": null,
   "metadata": {},
   "outputs": [],
   "source": []
  },
  {
   "cell_type": "markdown",
   "metadata": {},
   "source": [
    "# Упражнение 2. Сортировочная станция\n",
    "\n",
    "Реализуйте [алгоритм сортировочной станции](https://ru.wikipedia.org/wiki/%D0%90%D0%BB%D0%B3%D0%BE%D1%80%D0%B8%D1%82%D0%BC_%D1%81%D0%BE%D1%80%D1%82%D0%B8%D1%80%D0%BE%D0%B2%D0%BE%D1%87%D0%BD%D0%BE%D0%B9_%D1%81%D1%82%D0%B0%D0%BD%D1%86%D0%B8%D0%B8)."
   ]
  },
  {
   "cell_type": "code",
   "execution_count": null,
   "metadata": {},
   "outputs": [],
   "source": []
  },
  {
   "cell_type": "markdown",
   "metadata": {},
   "source": [
    "# Упражнение 3. Очередь на основе стека\n",
    "\n",
    "Реализуйте очередь, которая использует 2 стека для своего функционирования: в первый стек элементы помещаются, а из второго извлекаются."
   ]
  },
  {
   "cell_type": "code",
   "execution_count": null,
   "metadata": {},
   "outputs": [],
   "source": []
  }
 ],
 "metadata": {
  "kernelspec": {
   "display_name": "Python 3",
   "language": "python",
   "name": "python3"
  },
  "language_info": {
   "codemirror_mode": {
    "name": "ipython",
    "version": 3
   },
   "file_extension": ".py",
   "mimetype": "text/x-python",
   "name": "python",
   "nbconvert_exporter": "python",
   "pygments_lexer": "ipython3",
   "version": "3.5.2"
  }
 },
 "nbformat": 4,
 "nbformat_minor": 2
}
