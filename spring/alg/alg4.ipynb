{
 "cells": [
  {
   "cell_type": "markdown",
   "metadata": {},
   "source": [
    "## <font color=red>Литература</font>\n",
    "\n",
    "1. Лекции «Алгоритмы: построение, анализ и реализация на языке программирования Си» - Ворожцов А.В., Винокуров Н.А.. Выложена в канале **#edu_materials**\n",
    "\n",
    "\n",
    " # <font color=blue>Алгоритмы сортировки, не использующие сравнение 2</font>\n",
    "\n",
    "\n",
    "## <font color=green>Поразрядная сортировка (radix sort)</font>\n",
    "\n",
    "Поразрядная сортировка - это развитие идей сортировки подсчетом и быстрой сортировки. Пусть ключи, по которым осуществляется сортировка - целые числа. Тогда можно разделить массив на корзины по значениям старших разрядов ключей. Затем каждую из получившихся корзин разделить уже по значениям второго по старшинству разряда и так далее. Подход очень похож на быструю сортировку, однако на практике почти всегда под корзины выделяется дополнительная память, что обеспечивает сортировке стабильность.\n",
    "\n",
    "Поразрядная сортировка есть в двух вариантах: по более значимым цифрам (most significant digit или MSD) и по менее значимым цифрам (least significant digit или LSD). Сверху описан алгоритм MSD.\n",
    "\n",
    "Алгоритм LSD устроен следующим образом.\n",
    "\n",
    "1. Выполняется **устойчивая** (т.е. равные элементы не переставляются) сортировка подсчетом по младшему разряду.\n",
    "\n",
    "2. Корзины соединяются (конкатенируются) в один список.\n",
    "\n",
    "3. Повторяется пункт 1, но сортировка выполняется по следующему по старшинству разряду.\n",
    "\n",
    "### Пример 1. LSD сортировка 20-ти трехзначных чисел\n",
    "\n",
    "```\n",
    "117 821 112 951 340 832 417 392 210 252 939 962 937 715 481 132 192 641 791 988  # исходный массив\n",
    "340 210 821 951 481 641 791 112 832 392 252 962 132 192 715 117 417 937 988 939  # упорядочен младший разряд\n",
    "210 112 715 117 417 821 832 132 937 939 340 641 951 252 962 481 988 791 392 192  # упорядочены 0-й и 1-й разряды\n",
    "112 117 132 192 210 252 340 392 417 481 641 715 791 821 832 937 939 951 962 988\n",
    "```\n",
    "\n",
    "***\n",
    "Время поразрядной сортировки оценивается в $O\\left(w \\cdot (n + d)\\right)$, где $w$ - максимальная длина ключа.\n",
    "\n",
    "| <font size=3>Сложность</font> | <font size=3>Лучший случай</font> |<font size=3>Средняя эффективность</font>|<font size=3>Худший случай</font>|  \n",
    "| :---: | :---: | :---: | :---: |\n",
    "| <font size=3>Время</font> | <font size=3> $O\\left(w \\cdot (n + d)\\right)$ </font> | <font size=3> $O\\left(w \\cdot (n + d)\\right)$ </font> | <font size=3> $O\\left(w \\cdot (n + d)\\right)$ </font> |\n",
    "| <font size=3>Память MSD</font> | <font size=3>$O(n + d \\cdot w)$</font> | <font size=3>$O(n + d \\cdot w)$</font> | <font size=3>$O(n + d \\cdot w)$</font> |\n",
    "| <font size=3>Память LSD</font> | <font size=3>$O(n + d)$</font> | <font size=3>$O(n + d)$</font> | <font size=3>$O(n + d)$</font> |\n",
    "\n",
    "### Упражнение 4. LSD sorting\n",
    "\n",
    "Реализуйте функцию `lsd_sort()` для поразрядной сортировки."
   ]
  },
  {
   "cell_type": "code",
   "execution_count": null,
   "metadata": {
    "collapsed": true
   },
   "outputs": [],
   "source": [
    "import random\n",
    "L = list(range(150)) + list(range(100, 250))\n",
    "random.shuffle(L)"
   ]
  },
  {
   "cell_type": "markdown",
   "metadata": {},
   "source": [
    "### <font color=red>Замечание</font>\n",
    "\n",
    "Этот способ теоретически может оказаться быстрее алгоритма быстрой сортировки, однако в практике такие случаи встречаются нечасто. Чтобы поразрядная сортировка была эффективной требуется, чтобы ключи были равномерно распределены по цифрам в каждом из своих разрядов. Например, требуется отсортировать массив целых чисел 110, 110, 111, 112, 115, 111, 119, 118, 119, 117, 120, 116, 116, 112, 113, 114, 113, 117. В данном случае ключи распределены по цифрам в нулевом разряде следующим образом:\n",
    "```\n",
    "'0': 3\n",
    "'1': 2\n",
    "'2': 2\n",
    "'3': 2\n",
    "'4': 1\n",
    "'5': 1\n",
    "'6': 2\n",
    "'7': 2\n",
    "'8': 1\n",
    "'9': 2\n",
    "```\n",
    "В первом разряде используются только два значения из 10-ти возможных: `'1'` и `'2'`, причем последнее встречается лишь один раз, а во втором разряде используется только значение `'1'`. Получается, что при использовании поразрядной сортировки на двух разрядах алгоритм будет \"простаивать\"."
   ]
  },
  {
   "cell_type": "markdown",
   "metadata": {},
   "source": [
    "# <font color=blue>Свойства и классификация алгоритмов сортировки</font>\n",
    "\n",
    "## <font color=green>Устойчивость</font>\n",
    "\n",
    "Алгоритмы сортировки дялятся на устойчивые и неустойчивые. Устойчивые алгоритмы сохраняют порядок элементов с одинаковыми ключами.\n",
    "\n",
    "### Пример 2. Устойчивость\n",
    "\n",
    "Пусть требуется упорядочить слова в списке `[\"Bob\", \"Ann\", \"Angie\"]` по первой букве. Ключи слов `\"Ann\"` и `\"Angie\"` совпадают и равны `\"A\"`. Если сортировка устойчива, то гарантируется, что в упорядоченном списке `\"Ann\"` будет стоять перед `\"Angie\"`.\n",
    "\n",
    "### Упражнение 5. Устойчивость сортировки выбором\n",
    "\n",
    "Почему сортировка выбором в варианте, когда выполняется перестановка элементов, не является устойчивой? Приведите пример. Реализуйте устойчивый вариант сортировки выбором. Для этого нужно вставлять минимальный элемент перед неупорядоченной частью массива."
   ]
  },
  {
   "cell_type": "code",
   "execution_count": null,
   "metadata": {
    "collapsed": true
   },
   "outputs": [],
   "source": []
  },
  {
   "cell_type": "markdown",
   "metadata": {},
   "source": [
    "### Упражнение 6. Устойчивость сортировки слиянием\n",
    "\n",
    "Какая неточность в реализации сортировки слиянием приведет к тому, что она станет неустойчивой?"
   ]
  },
  {
   "cell_type": "code",
   "execution_count": null,
   "metadata": {
    "collapsed": true
   },
   "outputs": [],
   "source": []
  },
  {
   "cell_type": "markdown",
   "metadata": {},
   "source": [
    "### Упражнение 7. Устойчивость быстрой сортировки\n",
    "\n",
    "Почему быстрая сортировка неустойчива? Приведите пример. Реализуйте устойчивый вариант быстрой сортировки. Для этого нужно закрепить за каждым элементом массива его индекс в исходном массиве и в случае, когда ключи равны, большим будет считаться элемент с большим индексом."
   ]
  },
  {
   "cell_type": "code",
   "execution_count": null,
   "metadata": {
    "collapsed": true
   },
   "outputs": [],
   "source": []
  },
  {
   "cell_type": "markdown",
   "metadata": {},
   "source": [
    "**Вариант быстрой сортировки, в котором ключ расширяется засчет индекса элемента в исходном массиве требует дополнительно $O(n)$ памяти.**\n",
    "\n",
    "## <font color=green>Естественность поведения</font>\n",
    "\n",
    "Алгоритм принято называть естественным, если он эффективно работает на упорядоченных и частично упорядоченных массивах. Алгоритмы сортировки пузырьком и вставками эффективны на частично упорядоченных массивах, в то время как поведение быстрой сортировки и сортировки слиянием не естественно.\n",
    "\n",
    "## <font color=green>Внутренняя и внешняя сортировка</font>\n",
    "\n",
    "Сортировка называется **внутренней**, если массив целиком помещается в оперативной памяти и возможен доступ к произвольному элементу массива. Сортировка называется **внешней**, если данные находятся на носителе большого объема с последовательным доступом к памяти. На этом занятии рассматриваются только алгоритмы внутренней сортировки."
   ]
  },
  {
   "cell_type": "code",
   "execution_count": null,
   "metadata": {
    "collapsed": true
   },
   "outputs": [],
   "source": []
  },
  {
   "cell_type": "markdown",
   "metadata": {},
   "source": [
    "### Упражнение 8. Рекламная акция\n",
    "\n",
    "В сети магазинов \"Н-Аудио\" проводится рекламная акция. Каждый второй товар – бесплатно. Естественно, кассирам дано указание пробивать товары в таком порядке, чтобы магазин потерял как можно меньше денег.\n",
    "\n",
    "По списку товаров определите максимальную сумму в чеке.\n",
    "\n",
    "**Вход**: натуральное число товаров (N < 1000) и далее N натуральных чисел – цены товаров.\n",
    "\n",
    "**Выход**: одно число – максимальная сумма чека.\n",
    "\n",
    "<table class=MsoTableGrid border=1 cellspacing=0 cellpadding=0\n",
    " style='border-collapse:collapse;border:none;mso-border-alt:solid windowtext .5pt;\n",
    " mso-yfti-tbllook:480;mso-padding-alt:0cm 5.4pt 0cm 5.4pt'>\n",
    " <tr style='mso-yfti-irow:0;mso-yfti-firstrow:yes'>\n",
    "  <td width=121 valign=top style='width:90.45pt;border:solid windowtext 1.0pt;\n",
    "  mso-border-alt:solid windowtext .5pt;padding:0cm 5.4pt 0cm 5.4pt'>\n",
    "  <p class=MsoNormal>Вход</p>\n",
    "  </td>\n",
    "  <td width=132 valign=top style='width:99.25pt;border:solid windowtext 1.0pt;\n",
    "  border-left:none;mso-border-left-alt:solid windowtext .5pt;mso-border-alt:\n",
    "  solid windowtext .5pt;padding:0cm 5.4pt 0cm 5.4pt'>\n",
    "  <p class=MsoNormal>Выход</p>\n",
    "  </td>\n",
    "  <td width=385 valign=top style='width:288.85pt;border:solid windowtext 1.0pt;\n",
    "  border-left:none;mso-border-left-alt:solid windowtext .5pt;mso-border-alt:\n",
    "  solid windowtext .5pt;padding:0cm 5.4pt 0cm 5.4pt'>\n",
    "  <p class=MsoNormal>Комментарий</p>\n",
    "  </td>\n",
    " </tr>\n",
    " <tr style='mso-yfti-irow:1;mso-yfti-lastrow:yes'>\n",
    "  <td width=121 valign=top style='width:90.45pt;border:solid windowtext 1.0pt;\n",
    "  border-top:none;mso-border-top-alt:solid windowtext .5pt;mso-border-alt:solid windowtext .5pt;\n",
    "  padding:0cm 5.4pt 0cm 5.4pt'>\n",
    "  <p class=MsoNormal>5 2 1 10 50 10</p>\n",
    "  </td>\n",
    "  <td width=132 valign=top style='width:99.25pt;border-top:none;border-left:\n",
    "  none;border-bottom:solid windowtext 1.0pt;border-right:solid windowtext 1.0pt;\n",
    "  mso-border-top-alt:solid windowtext .5pt;mso-border-left-alt:solid windowtext .5pt;\n",
    "  mso-border-alt:solid windowtext .5pt;padding:0cm 5.4pt 0cm 5.4pt'>\n",
    "  <p class=MsoNormal>70</p>\n",
    "  </td>\n",
    "  <td width=385 valign=top style='width:288.85pt;border-top:none;border-left:\n",
    "  none;border-bottom:solid windowtext 1.0pt;border-right:solid windowtext 1.0pt;\n",
    "  mso-border-top-alt:solid windowtext .5pt;mso-border-left-alt:solid windowtext .5pt;\n",
    "  mso-border-alt:solid windowtext .5pt;padding:0cm 5.4pt 0cm 5.4pt'>\n",
    "  <p class=MsoNormal>Возможен такой порядок: 10 2 50 1 10</p>\n",
    "  </td>\n",
    " </tr>\n",
    "</table>\n"
   ]
  },
  {
   "cell_type": "code",
   "execution_count": null,
   "metadata": {
    "collapsed": true
   },
   "outputs": [],
   "source": []
  },
  {
   "cell_type": "markdown",
   "metadata": {},
   "source": [
    "### Упражнение 9. Ровно K обменов\n",
    "\n",
    "Даны два числа N и К. Вывести перестановку из N чисел (N чисел от 1 до N без повторений) такую чтобы сортировка пузырьком по возрастанию на соответствующем массиве сделала ровно K обменов. Если возможных ответов несколько – выведите любой.\n",
    "\n",
    "**Вход**: натуральное число N (N < 100) и целое  неотрицательное К. Гарантируется, что для всех наборов тестовых данных решение существует.\n",
    "\n",
    "**Выход**: ответ на задачу.\n",
    "\n",
    "<table class=MsoTableGrid border=1 cellspacing=0 cellpadding=0\n",
    " style='border-collapse:collapse;border:none;mso-border-alt:solid windowtext .5pt;\n",
    " mso-yfti-tbllook:480;mso-padding-alt:0cm 5.4pt 0cm 5.4pt'>\n",
    " <tr style='mso-yfti-irow:0;mso-yfti-firstrow:yes'>\n",
    "  <td width=177 valign=top style='width:133.0pt;border:solid windowtext 1.0pt;\n",
    "  mso-border-alt:solid windowtext .5pt;padding:0cm 5.4pt 0cm 5.4pt'>\n",
    "  <p class=MsoNormal>Вход</p>\n",
    "  </td>\n",
    "  <td width=118 valign=top style='width:88.4pt;border:solid windowtext 1.0pt;\n",
    "  border-left:none;mso-border-left-alt:solid windowtext .5pt;mso-border-alt:\n",
    "  solid windowtext .5pt;padding:0cm 5.4pt 0cm 5.4pt'>\n",
    "  <p class=MsoNormal>Выход</p>\n",
    "  </td>\n",
    "  <td width=343 valign=top style='width:257.15pt;border:solid windowtext 1.0pt;\n",
    "  border-left:none;mso-border-left-alt:solid windowtext .5pt;mso-border-alt:\n",
    "  solid windowtext .5pt;padding:0cm 5.4pt 0cm 5.4pt'>\n",
    "  <p class=MsoNormal>Комментарий</p>\n",
    "  </td>\n",
    " </tr>\n",
    " <tr style='mso-yfti-irow:1;mso-yfti-lastrow:yes'>\n",
    "  <td width=177 valign=top style='width:133.0pt;border:solid windowtext 1.0pt;\n",
    "  border-top:none;mso-border-top-alt:solid windowtext .5pt;mso-border-alt:solid windowtext .5pt;\n",
    "  padding:0cm 5.4pt 0cm 5.4pt'>\n",
    "  <p class=MsoNormal>5 3</p>\n",
    "  </td>\n",
    "  <td width=118 valign=top style='width:88.4pt;border-top:none;border-left:\n",
    "  none;border-bottom:solid windowtext 1.0pt;border-right:solid windowtext 1.0pt;\n",
    "  mso-border-top-alt:solid windowtext .5pt;mso-border-left-alt:solid windowtext .5pt;\n",
    "  mso-border-alt:solid windowtext .5pt;padding:0cm 5.4pt 0cm 5.4pt'>\n",
    "  <p class=MsoNormal>3 1 2 5 4</p>\n",
    "  </td>\n",
    "  <td width=343 valign=top style='width:257.15pt;border-top:none;border-left:\n",
    "  none;border-bottom:solid windowtext 1.0pt;border-right:solid windowtext 1.0pt;\n",
    "  mso-border-top-alt:solid windowtext .5pt;mso-border-left-alt:solid windowtext .5pt;\n",
    "  mso-border-alt:solid windowtext .5pt;padding:0cm 5.4pt 0cm 5.4pt'>\n",
    "  <p class=MsoNormal>В процессе сортировки массива 3 1 2 5 4 будут совершены\n",
    "  обмены: 1<span style='font-family:Symbol;mso-ascii-font-family:\"Times New Roman\";\n",
    "  mso-hansi-font-family:\"Times New Roman\";mso-char-type:symbol;mso-symbol-font-family:\n",
    "  Symbol'><span style='mso-char-type:symbol;mso-symbol-font-family:Symbol'>«</span></span>3\n",
    "  3<span style='font-family:Symbol;mso-ascii-font-family:\"Times New Roman\";\n",
    "  mso-hansi-font-family:\"Times New Roman\";mso-char-type:symbol;mso-symbol-font-family:\n",
    "  Symbol'><span style='mso-char-type:symbol;mso-symbol-font-family:Symbol'>«</span></span>2\n",
    "  и 5<span style='font-family:Symbol;mso-ascii-font-family:\"Times New Roman\";\n",
    "  mso-hansi-font-family:\"Times New Roman\";mso-char-type:symbol;mso-symbol-font-family:\n",
    "  Symbol'><span style='mso-char-type:symbol;mso-symbol-font-family:Symbol'>«</span></span>4.\n",
    "  Возможны и другие варианты ответа.</p>\n",
    "  </td>\n",
    " </tr>\n",
    "</table>\n"
   ]
  },
  {
   "cell_type": "code",
   "execution_count": null,
   "metadata": {
    "collapsed": true
   },
   "outputs": [],
   "source": []
  },
  {
   "cell_type": "markdown",
   "metadata": {},
   "source": [
    "### Упражнение 10. Лента Мебиуса\n",
    "\n",
    "Предположим, что имеется некоторый кусок ленты, разделенный на кадры. Кадры занумерованы с двух сторон. Полоска ленты склеена в лист Мебиуса. Необходимо составить алгоритм упорядочения этой последовательности, предположив, что соседние кадры можно переставлять, (естественно, в упорядоченной последовательности будет один \"скачок\" от минимального элемента к максимальному). Следует учесть, что при перестановке кадров переставляются числа с обеих сторон кадров. \n",
    "\n",
    "Числа на противоположных сторонах кадра могут не совпадать. Всегда ли возможно такое упорядочение?"
   ]
  },
  {
   "cell_type": "code",
   "execution_count": null,
   "metadata": {
    "collapsed": true
   },
   "outputs": [],
   "source": []
  }
 ],
 "metadata": {
  "kernelspec": {
   "display_name": "Python 3",
   "language": "python",
   "name": "python3"
  },
  "language_info": {
   "codemirror_mode": {
    "name": "ipython",
    "version": 3
   },
   "file_extension": ".py",
   "mimetype": "text/x-python",
   "name": "python",
   "nbconvert_exporter": "python",
   "pygments_lexer": "ipython3",
   "version": "3.5.2"
  }
 },
 "nbformat": 4,
 "nbformat_minor": 2
}
