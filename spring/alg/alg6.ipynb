{
 "cells": [
  {
   "cell_type": "markdown",
   "metadata": {},
   "source": [
    "# <font color=blue>Линейные структуры данных (продолжение)</font>\n",
    "\n",
    "## <font color=green>Стек</font>\n",
    "\n",
    "**Стек** - структура данных с порядком доступа \"последний вошел - первый вышел\" (LIFO - last in, first out). Стек можно представить, как колоду карт, лежащую на столе. С колоды можно снимать карты, а также можно класть их на нее.\n",
    "Со стеком можно выполнять операции `push` и `pop`. Первая кладет значение в стек, вторая - вынимает его из стека.\n",
    "\n",
    "### Пример 3. Реализация стека на основе односвязного списка"
   ]
  },
  {
   "cell_type": "code",
   "execution_count": null,
   "metadata": {
    "collapsed": true
   },
   "outputs": [],
   "source": [
    "class Empty(Exception):\n",
    "    def __init__(self, message):\n",
    "        super().__init__(message)\n",
    "\n",
    "\n",
    "class StackNode:\n",
    "    def __init__(self, data, next_node=None):\n",
    "        self.data = data\n",
    "        self.next_node = next_node\n",
    "\n",
    "    def get_data(self):\n",
    "        return self.data\n",
    "\n",
    "    def get_next_node(self):\n",
    "        return self.next_node\n",
    "\n",
    "\n",
    "class ListBasedStack:\n",
    "    def __init__(self):\n",
    "        self.head = None\n",
    "        self.size = 0\n",
    "\n",
    "    def get_size(self):\n",
    "        return self.size\n",
    "\n",
    "    def push(self, data):\n",
    "        new_node = StackNode(data, self.head)\n",
    "        self.head = new_node\n",
    "        self.size += 1\n",
    "       \n",
    "    def pop(self):\n",
    "        if self.head is None:\n",
    "            raise Empty(\"stack is empty\")\n",
    "        v = self.head.get_data()\n",
    "        self.head = self.head.get_next_node()\n",
    "        self.size -= 1\n",
    "        return v\n",
    "\n",
    "\n",
    "s = ListBasedStack()\n",
    "s.push(0)\n",
    "s.push(1)\n",
    "s.push(2)\n",
    "while True:\n",
    "    print(s.pop())"
   ]
  },
  {
   "cell_type": "markdown",
   "metadata": {},
   "source": [
    "### Упражнение 3. Стек на основе массива\n",
    "\n",
    "Реализуйте класс `ArrayStack` на основе массива"
   ]
  },
  {
   "cell_type": "code",
   "execution_count": null,
   "metadata": {
    "collapsed": true
   },
   "outputs": [],
   "source": []
  },
  {
   "cell_type": "markdown",
   "metadata": {},
   "source": [
    "### Упражнение 4. Распознавание правильных скобочных выражений\n",
    "\n",
    "На вход подаются скобочные выражения, содержащие символы `'('`, `')'`, `'['`, `']'`, `'{'`, `'}'`. Используя стек, определите  является ли скобочное выражение правильным. \n",
    "\n",
    "#### Пример\n",
    "\n",
    "| <font size=3>Выражение</font> | <font size=3>Правильность</font> |\n",
    "| :---: | :---: |\n",
    "| <font size=3></font> | <font size=3>True</font> |\n",
    "| <font size=3>`([]){}`</font> | <font size=3>True</font> |\n",
    "| <font size=3>`([]{}([]))`</font> | <font size=3>True</font> |\n",
    "| <font size=3>`(()`</font> | <font size=3>False</font> |\n",
    "| <font size=3>`())`</font> | <font size=3>False</font> |\n",
    "| <font size=3>`(]`</font> | <font size=3>False</font> |\n",
    "| <font size=3>`[(])`</font> | <font size=3>False</font> |\n",
    "| <font size=3>`}{[])(`</font> | <font size=3>False</font> |"
   ]
  },
  {
   "cell_type": "code",
   "execution_count": null,
   "metadata": {
    "collapsed": true
   },
   "outputs": [],
   "source": []
  },
  {
   "cell_type": "markdown",
   "metadata": {},
   "source": [
    "### Пример 4. Вычисления в обратной польской нотации\n",
    "\n",
    "При записи арифметических выражений в обратной польской (или постфиксной) нотации сначала указываются операнды, а затем оператор. Например,\n",
    "\n",
    "$$\n",
    "\\begin{array}{ccc}\n",
    "    1 + 1   & \\iff & 1\\; 1\\; +\\\\\n",
    "    2 \\times 3 - 5  & \\iff & 2 \\; 3\\; \\times \\; 5 \\; -\\\\\n",
    "    2 \\;/\\; (3 - (5 \\times 8) ) & \\iff & 2 \\; 3\\; 5 \\; 8 \\; \\times \\; - \\; /\n",
    "\\end{array}\n",
    "$$\n",
    "\n",
    "Для реализации калькулятора, работающего с выражениями в постфиксной нотации очень удобно использовать стек.\n",
    "\n",
    "1. Числа помещаются в стек.\n",
    "\n",
    "2. Как только встречается бинарный оператор, из стека извлекаются два верхних элемента и к ним применяется операция.\n",
    "\n",
    "3. Результат вычислений помещается в стек.\n",
    "\n",
    "Есть иллюстрация в [википедии](https://en.wikipedia.org/wiki/Reverse_Polish_notation)."
   ]
  },
  {
   "cell_type": "code",
   "execution_count": null,
   "metadata": {
    "collapsed": true
   },
   "outputs": [],
   "source": []
  },
  {
   "cell_type": "markdown",
   "metadata": {},
   "source": [
    "### Упражнение 5. Перевод из постфиксной нотации в инфиксную\n",
    "\n",
    "Под инфиксной нотацией понимается привычная запись арифметических выражений, в которой бинарный оператор располагается между операндами и используются скобки.\n",
    "\n",
    ">  Перевод между нотациями реализуется также, как и калькулятор для постфиксной нотации, но вместо результатов выччислений в стек помещается строка в инфиксной нотации.\n",
    "\n",
    "> Реализуйте перевод так, чтобы скобки стояли только, где они необходимы. У всех операторов одинаковый приоритет."
   ]
  },
  {
   "cell_type": "code",
   "execution_count": null,
   "metadata": {
    "collapsed": true
   },
   "outputs": [],
   "source": []
  },
  {
   "cell_type": "markdown",
   "metadata": {},
   "source": [
    "## <font color=green>Стек вызовов</font>\n",
    "Во время работы программы для более удобного контроля за вызовами функций используется стек вызовов. Всякий раз при вызове функции для нее в стеке вызовов выделяется  память, в которую помещаются аргументы функции. Кроме того, в стеке оказываются локальные переменные функций.\n",
    "\n",
    "#### Пример\n",
    "\n",
    "Заполнение стека вызовов во время работы программы.\n",
    "```python\n",
    "def A():\n",
    "    B()\n",
    "    C()\n",
    "    \n",
    "def B():\n",
    "    C():\n",
    "    \n",
    "def C():\n",
    "    pass\n",
    "    \n",
    "A()\n",
    "B()\n",
    "C()\n",
    "```\n",
    "Приблизительная иллюстрация того, как меняется содержимое стека в процессе выполнения программы:\n",
    "```\n",
    "-    # в начале стек вызовов пуст\n",
    "A    # вызывается функция А и ее параметры помещаются в стек\n",
    "AB   # функция А вызывает функцию В и теперь в стеке также лежат параметры функции B\n",
    "ABC  # функция В вызвала функцию С\n",
    "AB   # функция С завершилась и ее параметры  удаляются из стека\n",
    "A\n",
    "AC   # вызов функции С из функции А\n",
    "A\n",
    "-    # функция А завершилась и стек вызовов пустой\n",
    "B\n",
    "BC\n",
    "B\n",
    "-\n",
    "C\n",
    "-\n",
    "```\n",
    "***\n",
    "\n",
    "Видно, что если запустить бесконечную рекурсию вида, то произойдет переполнения стека. \n",
    "\n",
    "```python\n",
    "def infinite_recursion(x):\n",
    "    infinite_recursion(x)\n",
    "```\n",
    "В Python такого эффекта нельзя по-настоящему добиться, так как в интерпретаторе стоит ограничение на максимальную глубину рекурсии.\n",
    "\n",
    "Понимая, как устроена рекурсия, можно реализовать некоторые алгоритмы без рекурсии, используя стек.\n",
    "\n",
    "### Пример 5. Быстрая сортировка без явной рекурсии\n",
    "\n",
    "Вместо того, чтобы использовать стек вызовов для того, чтобы запоминать границы второй половины массива, эти границы явно кладутся в стек `stack`."
   ]
  },
  {
   "cell_type": "code",
   "execution_count": null,
   "metadata": {
    "collapsed": true
   },
   "outputs": [],
   "source": [
    "def qsort_stack(A, lo, hi):\n",
    "    stack = ListStack()\n",
    "    while hi - lo >= 1:\n",
    "        p = partition(A, lo, hi)\n",
    "        if p - lo >= 1:\n",
    "            # запоминаем только границы участков, содержащих более 1 элемента\n",
    "            if hi - (p + 1) >= 1:  \n",
    "                stack.push(p+1)\n",
    "                stack.push(hi)\n",
    "            # теперь рассматривается левая часть разбииения\n",
    "            hi = p\n",
    "            \n",
    "        # Если оказалось, что левая часть состоит из одного элемента, \n",
    "        # а правая содержит больше одного элемента, работаем с правой частью и\n",
    "        # ничего не запоминаем в стеке\n",
    "        elif hi - (p + 1)>= 1:\n",
    "            lo = p + 1\n",
    "        # И левая и правая части состоят из одного элемента, поэтому пора\n",
    "        # извлечь один из сохраненных участков.\n",
    "        elif stack.get_size() > 0:\n",
    "            hi = stack.pop()\n",
    "            lo = stack.pop()\n",
    "        else:\n",
    "            break\n",
    "            \n",
    "            \n",
    "def qsort(A, lo, hi):         \n",
    "    if hi - lo >= 1:\n",
    "        p = partition(A, lo, hi)\n",
    "        qsort(A, lo, p)\n",
    "        qsort(A, p+1, hi)\n",
    "    \n",
    "    \n",
    "def partition(A, lo, hi):\n",
    "    pivot = A[lo]\n",
    "    i = lo - 1\n",
    "    j = hi + 1\n",
    "    while True:\n",
    "        i += 1\n",
    "        while A[i] < pivot:\n",
    "            i += 1\n",
    "        j -= 1\n",
    "        while A[j] > pivot:\n",
    "            j -= 1\n",
    "        if j <= i:\n",
    "            return j\n",
    "        A[i], A[j] = A[j], A[i]\n",
    "        \n",
    "A = [3, 2, 3, 7, 1, 8, 6, 6, 6, 6, -1, 5]\n",
    "qsort_stack(A, 0, 11)\n",
    "print(A)"
   ]
  },
  {
   "cell_type": "markdown",
   "metadata": {},
   "source": [
    "### Упражнение 6. Фибоначчи через стек\n",
    "\n",
    "Напишите функцию для вычисления $n$-го числа Фибоначчи с помощью рекурсивного алгоритма, но заменив рекурсивные вызовы работой со стеком."
   ]
  },
  {
   "cell_type": "code",
   "execution_count": null,
   "metadata": {
    "collapsed": true
   },
   "outputs": [],
   "source": []
  },
  {
   "cell_type": "markdown",
   "metadata": {},
   "source": [
    "# <font color=blue>Модули [`collections`](https://docs.python.org/3/library/collections.html) и [`queue`](https://docs.python.org/3/library/queue.html)</font>\n",
    "\n",
    "`collections` предоставляет специализированные контейнеры, дополняющие возможности стандартных `list`, `tuple`, `set`, `dict`.\n",
    "\n",
    " Они включают в себя [`ChainMap`](https://docs.python.org/3/library/collections.html#collections.ChainMap), [`Counter`](https://docs.python.org/3/library/collections.html#collections.Counter), [`deque`](https://docs.python.org/3/library/collections.html#collections.deque), [`defaultdict`](https://docs.python.org/3/library/collections.html#collections.defaultdict), [`namedtuple`](https://docs.python.org/3/library/collections.html#collections.namedtuple), [`OrderedDict`](https://docs.python.org/3/library/collections.html#collections.OrderedDict), [`UserDict`](https://docs.python.org/3/library/collections.html#collections.UserDict), [`UserList`](https://docs.python.org/3/library/collections.html#collections.UserList), [`UserString`](https://docs.python.org/3/library/collections.html#collections.UserString). Перечисленные контейнеры могут быть полезны при работе с данными.\n",
    " \n",
    " Модуль `queue` включает в себя контейнеры [`Queue`](https://docs.python.org/3/library/queue.html#queue.Queue) и [`LifoQueue`](https://docs.python.org/3/library/queue.html#queue.LifoQueue), реализующие соответственно очередь и стэк. Они интересны в первую очередь для реализации обмена данными между нитями и процессами в многопоточном программировании.\n",
    " \n",
    "## <font color=green>[`ChainMap`](https://docs.python.org/3/library/collections.html#collections.ChainMap)</font>\n",
    "\n",
    "Объединяет несколько словарей в один. Создание `ChainMap` похоже на создание нового словаря, а затем последовательное применение метода [`dict.update()`](https://docs.python.org/3/library/stdtypes.html#dict.update), причем аргументы конструктора `ChainMap` перебираются справа на налево."
   ]
  },
  {
   "cell_type": "code",
   "execution_count": null,
   "metadata": {
    "collapsed": true
   },
   "outputs": [],
   "source": [
    "from collections import *\n",
    "\n",
    "d1 = dict(\n",
    "    a=1,\n",
    "    b=2,\n",
    "    c=3,\n",
    ")\n",
    "\n",
    "d2 = dict(\n",
    "    c=4,\n",
    "    d=5,\n",
    "    e=6,\n",
    ")\n",
    "\n",
    "cm = ChainMap(d1, d2)\n",
    "print(cm)"
   ]
  },
  {
   "cell_type": "code",
   "execution_count": null,
   "metadata": {
    "collapsed": true
   },
   "outputs": [],
   "source": [
    "d1 = dict(\n",
    "    a=1,\n",
    "    b=2,\n",
    "    c=3,\n",
    ")\n",
    "\n",
    "d2 = dict(\n",
    "    c=4,\n",
    "    d=5,\n",
    "    e=6,\n",
    ")\n",
    "\n",
    "d = d2.copy()\n",
    "d.update(d1)\n",
    "print(d)"
   ]
  },
  {
   "cell_type": "markdown",
   "metadata": {},
   "source": [
    "## <font color=green>[`Counter`](https://docs.python.org/3/library/collections.html#collections.Counter)</font>\n",
    "\n",
    "Подсчитывает, сколько раз встречается каждый элемент в последовательности. Для \"счетчиков\" определены определены операции сложения и вычитания, а также операции над множествами перечение и объединение. "
   ]
  },
  {
   "cell_type": "code",
   "execution_count": null,
   "metadata": {
    "collapsed": true
   },
   "outputs": [],
   "source": [
    "from collections import *\n",
    "s1 = 'mama'\n",
    "s2 = 'papa'\n",
    "c1 = Counter(s1)\n",
    "c2 = Counter(s2)\n",
    "print(c1 + c2)\n",
    "print(c1 - c2)\n",
    "print(c1 | c2)"
   ]
  },
  {
   "cell_type": "markdown",
   "metadata": {},
   "source": [
    "## <font color=green>[`deque`](https://docs.python.org/3/library/collections.html#collections.deque)</font>\n",
    "\n",
    "deque (\"double ended queue\", читается 'дэк') - двусторонняя очередь. Этот тип данных является своего рода гибридом стека и очереди, так добавлять элементы можно с обоих и вынимать их тоже можно с обоих концов."
   ]
  },
  {
   "cell_type": "code",
   "execution_count": null,
   "metadata": {
    "collapsed": true
   },
   "outputs": [],
   "source": [
    "from collections import *\n",
    "dq = deque()\n",
    "dq.append(1)\n",
    "dq.append(2)\n",
    "dq.append(3)\n",
    "print(dq.popleft())\n",
    "print(dq.popleft())\n",
    "dq.appendleft(4)\n",
    "dq.appendleft(5)\n",
    "dq.appendleft(6)\n",
    "for _ in range(5):\n",
    "    print(dq.pop())"
   ]
  },
  {
   "cell_type": "markdown",
   "metadata": {},
   "source": [
    "## <font color=green>[`namedtuple`](https://docs.python.org/3/library/collections.html#collections.namedtuple)</font>\n",
    "\n",
    "`namedtuple` - конструктор типов, который создавать пользовательские виды кортежей. В экземпляре пользовательского кортежа, созданного с помощью `namedtuple`, у элементов есть имена, по которым их можно получить. У именованных кортежей фиксированное число элементов, которые необходимо передать при инициализации кортежа."
   ]
  },
  {
   "cell_type": "code",
   "execution_count": null,
   "metadata": {
    "collapsed": true
   },
   "outputs": [],
   "source": [
    "from collections import *\n",
    "\n",
    "Point = namedtuple(\"Point\", ['x', 'y', 'z'])\n",
    "p = Point(1, 2, z=3)\n",
    "print(p.x)\n",
    "print(p.z)\n",
    "print(p[1])\n",
    "p2 = Point(1, 2)"
   ]
  },
  {
   "cell_type": "markdown",
   "metadata": {},
   "source": [
    "## <font color=green>[`OrderedDict`](https://docs.python.org/3/library/collections.html#collections.OrderedDict)\n",
    "\n",
    "Упорядоченный словарь помнит в каком порядке в него были записаны элементы. При использование этого типа нужно помнить, какая у Вас версия Python. В версиях 3.5 и более старых словари не сохраняют порядок элементов, в то время как начиная с Python 3.6 порядок элементов в словаре сохраняется. В связи с этим в Python 3.5 аргументы из именованных аргументов конструктора попадают в `OrderedDict` в случайном порядке, в то время как, начиная с 3.6, порядок именованных аргументов конструктора определяет порядок элементов в `OrderedDict`."
   ]
  },
  {
   "cell_type": "code",
   "execution_count": null,
   "metadata": {
    "collapsed": true
   },
   "outputs": [],
   "source": [
    "from collections import *\n",
    "\n",
    "# В версиях до 3.5 включительно элементы будут расположены в OrderedDict в случайном порядке.\n",
    "d = OrderedDict(z=1, y=2, x=3, w=4, e=5, f=6, g=7, h=8)\n",
    "for k, v in d.items():\n",
    "    print(k, v)\n",
    "print()\n",
    "    \n",
    "# Во всех версиях порядок элементов сохраняется\n",
    "d = OrderedDict([['z', 1], ['y', 2], ['x', 3], ['w', 4], ['e', 5], ['f', 6], ['g', 7], ['h', 8]])\n",
    "for k, v in d.items():\n",
    "    print(k, v)\n",
    "print()\n",
    "    \n",
    "d['i'] = 9\n",
    "d['j'] = 10\n",
    "d['k'] = 11\n",
    "d['l'] = 12\n",
    "\n",
    "for k, v in reversed(d.items()):\n",
    "    print(k, v)"
   ]
  },
  {
   "cell_type": "markdown",
   "metadata": {},
   "source": [
    "# <font color=blue>Деревья</font>\n",
    "\n",
    "Деревья - широко применяемая структура данных, которая используется в том числе для:\n",
    "\n",
    "- управления иерархией данных,\n",
    "- ускорения поиска информации,\n",
    "- управления сортированными данными,\n",
    "- сортировки.\n",
    "\n",
    "## <font color=green>Теория</font>\n",
    "\n",
    "### Математика\n",
    "\n",
    "<a href=\"https://ru.wikipedia.org/wiki/%D0%93%D1%80%D0%B0%D1%84_(%D0%BC%D0%B0%D1%82%D0%B5%D0%BC%D0%B0%D1%82%D0%B8%D0%BA%D0%B0)\">**Граф**</a> — абстрактный математический объект, представляющий собой множество вершин графа и набор рёбер, то есть соединений между парами вершин. Например, за множество вершин можно взять множество аэропортов, обслуживаемых некоторой авиакомпанией, а за множество рёбер взять регулярные рейсы этой авиакомпании между городами.\n",
    "\n",
    "<img src=\"images/graph_gen.png\" alt=\"Drawing\" style=\"width: 400px\">\n",
    "\n",
    "<a href=\"https://ru.wikipedia.org/wiki/%D0%9E%D1%80%D0%B8%D0%B5%D0%BD%D1%82%D0%B8%D1%80%D0%BE%D0%B2%D0%B0%D0%BD%D0%BD%D1%8B%D0%B9_%D0%B3%D1%80%D0%B0%D1%84\">**Ориентированный граф**</a> или **орграф** - граф, ребрам которого присвоены направления.\n",
    "\n",
    "<img src=\"images/orgraph.jpg\" alt=\"Drawing\" style=\"width: 400px\">\n",
    "\n",
    "**Связный** граф - граф, любые две вершины которого соединены ребром.\n",
    "\n",
    "<a href=\"https://ru.wikipedia.org/wiki/%D0%94%D0%B5%D1%80%D0%B5%D0%B2%D0%BE_(%D1%82%D0%B5%D0%BE%D1%80%D0%B8%D1%8F_%D0%B3%D1%80%D0%B0%D1%84%D0%BE%D0%B2)\">**Дерево**</a> в математике (теория графов) - неориентированный связный граф, не содержащий циклов.\n",
    "\n",
    "<img src=\"images/tree_math.png\" alt=\"Drawing\" style=\"width: 200px\">\n",
    "\n",
    "<a href=\"https://ru.wikipedia.org/wiki/%D0%94%D0%B5%D1%80%D0%B5%D0%B2%D0%BE_(%D1%82%D0%B5%D0%BE%D1%80%D0%B8%D1%8F_%D0%B3%D1%80%D0%B0%D1%84%D0%BE%D0%B2)#%D0%A1%D0%B2%D1%8F%D0%B7%D0%B0%D0%BD%D0%BD%D1%8B%D0%B5_%D0%BE%D0%BF%D1%80%D0%B5%D0%B4%D0%B5%D0%BB%D0%B5%D0%BD%D0%B8%D1%8F\">**Ориентированное (корневое) дерево**</a> (теория графов) - дерево, у которого выбран корень. Корневое дерево можно считать ориентированным, так в нем определен очевидный порядок: ребра направлены от корня.\n",
    "\n",
    "<img src=\"images/ortree.png\" alt=\"Drawing\" style=\"width: 200px\">\n",
    "\n",
    "<a href=\"https://en.wikipedia.org/wiki/Tree_(graph_theory)#Ordered_tree\">**Упрядоченное дерево**</a> (теория графов) - корневое дерево, у которого дети каждого узла упорядочены между собой.\n",
    "\n",
    "\n",
    "### Информатика\n",
    "\n",
    "<a href=\"https://en.wikipedia.org/wiki/Tree_(data_structure)\">**Дерево**</a> (структура данных) - имитирующая **корневое дерево**. Узлы в информатике не только являются частями корневого дерева, но и содержат некоторые данные `data`. В `data` может входить ключ `key`, который будет использоваться для сравнения данных из разных узлов.\n",
    "\n",
    "Для реализации ребер в каждом узле должны быть указатели на его детей, кроме того в некоторых случаях в узлах присутствуют указатели на родителей.\n",
    "\n",
    "В дальнейшим термином **дерево** будет обозначаться структура данных дерево.\n",
    "\n",
    "Для частей дерева можно ввести несколько определений\n",
    "\n",
    "- **Концевой узел** или **лист** - узел, соединенный только с одной вершиной, а в случае ориентированного дерева, - узел, в который ведет только одна дуга.\n",
    "\n",
    "- **Узел ветвления** или **внутренний узел** - неконцевой узел.\n",
    "\n",
    "- **Уровень узла** - длина пути от корня до узла.\n",
    "\n",
    "- **Родитель** узла $N$ - это соединенный с $N$ узел, уровень которого на 1 меньше уровня $N$.\n",
    "\n",
    "- **Ребенок** узла $N$ - это соединенный с $N$ узел, уровень которого на 1 больше уровня $N$.\n",
    "\n",
    "- **Предок** узла $N$ - это любой узел, в который можно попасть из $N$, двигаясь от ребенка к его родителю.\n",
    "\n",
    "- **Потомок** узла $N$ - это любой узел, в который можно попасть из $N$, двигаясь от родителя к его ребенку.\n",
    "\n",
    "- **Поддерево** - часть дерева, включающая некоторый узел $N$ и **всех** его потомков. Узел $N$ является корнем поддерева. *Это определение отличается от даваемого в теории графов!*\n",
    "\n",
    "- **Высота узла** - число ребер, соединяющих узел с его самым удаленным потомком.\n",
    "\n",
    "- **Высота дерева** - высота корня дерева.\n",
    "\n",
    "**Двоичное дерево** - дерево, в котором каждый узел имеет не более 2-х детей.\n",
    "\n",
    "## <font color=green>Двоичное дерево поиска</font>\n",
    "\n",
    "**Двоичное дерево поиска** - это упорядоченное двоичное дерево, обладающее следующими свойствами:\n",
    "\n",
    "- левое и правое поддеревья - двоичные деревья поиска,\n",
    "\n",
    "- у всех узлов **левого** поддерева значения ключей меньше ($<$) значения **ключа корня** дерева, \n",
    "\n",
    "-  у всех узлов **правого** поддерева значения ключей больше либо равны ($\\ge$) значения **ключа корня**.\n",
    "\n",
    "<img src=\"images/bstree.png\" alt=\"Drawing\" style=\"width: 200px\">\n",
    "\n",
    "<img src=\"images/bsnode.png\" alt=\"Drawing\" style=\"width: 200px\">\n",
    "\n",
    "### Пример 6.  Двоичное дерево поиска "
   ]
  },
  {
   "cell_type": "code",
   "execution_count": null,
   "metadata": {
    "collapsed": true
   },
   "outputs": [],
   "source": [
    "class BSTNode:\n",
    "    def __init__(self, key, value, left=None, right=None):\n",
    "        self.value = value\n",
    "        self.key = key\n",
    "        self.left = left\n",
    "        self.right = right\n",
    "        \n",
    "        \n",
    "class BST:\n",
    "    def __init__(self):\n",
    "        self.root = None\n",
    "        \n",
    "    def _insert(self, key, value, root):\n",
    "        if key == root.key:\n",
    "            root.value = value\n",
    "        elif key < root.key:\n",
    "            if root.left is None:\n",
    "                root.left = BSTNode(key, value)\n",
    "            else:\n",
    "                self._insert(key, value, root.left)\n",
    "        else:\n",
    "            if root.right is None:\n",
    "                root.right = BSTNode(key, value)\n",
    "            else:\n",
    "                self._insert(key, value, root.right)\n",
    "        \n",
    "    def insert(self, key, value):\n",
    "        if self.root is None:\n",
    "            self.root = BSTNode(key, value)\n",
    "        else:\n",
    "            self._insert(key, value, self.root)\n",
    "            \n",
    "    def _find(self, key, root):\n",
    "        if root is None:\n",
    "            return None\n",
    "        if key == root.key:\n",
    "            return root.value\n",
    "        elif key < root.key:\n",
    "            return self._find(key, root.left)\n",
    "        else:\n",
    "            return self._find(key, root.right)\n",
    "            \n",
    "    def find(self, key):\n",
    "        return self._find(key, self.root)"
   ]
  },
  {
   "cell_type": "code",
   "execution_count": null,
   "metadata": {
    "collapsed": true
   },
   "outputs": [],
   "source": [
    "bst = BST()\n",
    "bst.insert(5, 'Vasya')\n",
    "print(bst.find(5))\n",
    "bst.insert(5, 'Petya')\n",
    "bst.insert(7, 'Dmitriy')\n",
    "bst.insert(4, 'Egor')\n",
    "bst.insert(8, 'Veronica')\n",
    "print()\n",
    "for i in range(10):\n",
    "    print(i, bst.find(i))"
   ]
  },
  {
   "cell_type": "markdown",
   "metadata": {},
   "source": [
    "### Упражнение 7. Обход дерева\n",
    "\n",
    "Допишите в класс `BST` метод `traverse()`, который будет печатать значения всех элементов дерева. Распечатайте элементы дерева так, чтобы сначала были выведены значения из левого поддерева, затем из корня и из правого поддерева."
   ]
  },
  {
   "cell_type": "code",
   "execution_count": null,
   "metadata": {
    "collapsed": true
   },
   "outputs": [],
   "source": []
  },
  {
   "cell_type": "markdown",
   "metadata": {},
   "source": [
    "### Упражнение 8. Нерекурсивный поиск\n",
    "\n",
    "Допишите в класс `BST` метод `find_iteratively()`, который будет искать элемент по ключу без использования рекурсии."
   ]
  },
  {
   "cell_type": "code",
   "execution_count": null,
   "metadata": {
    "collapsed": true
   },
   "outputs": [],
   "source": []
  },
  {
   "cell_type": "markdown",
   "metadata": {},
   "source": [
    "### Упражнение 9. Удаление узла из двоичного дерева поиска\n",
    "\n",
    "Допишите в класс `BST` метод `delete()`, удаляющий элемент по ключу, если такой есть в дереве. Для визуализации добавьте метод `traverse_preorder()`, который печатает сначала корень, а затем правое и левое поддеревья с отступом в 2 пробела."
   ]
  },
  {
   "cell_type": "code",
   "execution_count": null,
   "metadata": {
    "collapsed": true
   },
   "outputs": [],
   "source": []
  },
  {
   "cell_type": "code",
   "execution_count": null,
   "metadata": {},
   "outputs": [],
   "source": [
    "import random\n",
    "L = random.sample(list(range(25)), 25)\n",
    "print(L)"
   ]
  },
  {
   "cell_type": "code",
   "execution_count": null,
   "metadata": {},
   "outputs": [],
   "source": [
    "import random\n",
    "bst = BST()\n",
    "for v in L:\n",
    "    bst.insert(v, v)"
   ]
  }
 ],
 "metadata": {
  "kernelspec": {
   "display_name": "Python 3",
   "language": "python",
   "name": "python3"
  },
  "language_info": {
   "codemirror_mode": {
    "name": "ipython",
    "version": 3
   },
   "file_extension": ".py",
   "mimetype": "text/x-python",
   "name": "python",
   "nbconvert_exporter": "python",
   "pygments_lexer": "ipython3",
   "version": "3.5.2"
  }
 },
 "nbformat": 4,
 "nbformat_minor": 2
}
