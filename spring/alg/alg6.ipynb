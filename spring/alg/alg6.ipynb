{
 "cells": [
  {
   "cell_type": "markdown",
   "metadata": {},
   "source": [
    "# <font color=blue>Линейные структуры данных (продолжение)</font>\n",
    "\n",
    "## <font color=green>Стек</font>\n",
    "\n",
    "**Стек** - структура данных с порядком доступа \"последний вошел - первый вышел\" (LIFO - last in, first out). Стек можно представить, как колоду карт, лежащую на столе. С колоды можно снимать карты, а также можно класть их на нее.\n",
    "Со стеком можно выполнять операции `push` и `pop`. Первая кладет значение в стек, вторая - вынимает его из стека.\n",
    "\n",
    "### Пример 1. Реализация стека на основе односвязного списка"
   ]
  },
  {
   "cell_type": "code",
   "execution_count": null,
   "metadata": {
    "collapsed": true
   },
   "outputs": [],
   "source": [
    "class Empty(Exception):\n",
    "    def __init__(self, message):\n",
    "        super().__init__(message)\n",
    "\n",
    "\n",
    "class StackNode:\n",
    "    def __init__(self, data, next_node=None):\n",
    "        self.data = data\n",
    "        self.next_node = next_node\n",
    "\n",
    "    def get_data(self):\n",
    "        return self.data\n",
    "\n",
    "    def get_next_node(self):\n",
    "        return self.next_node\n",
    "\n",
    "\n",
    "class ListBasedStack:\n",
    "    def __init__(self):\n",
    "        self.head = None\n",
    "        self.size = 0\n",
    "\n",
    "    def get_size(self):\n",
    "        return self.size\n",
    "\n",
    "    def push(self, data):\n",
    "        new_node = StackNode(data, self.head)\n",
    "        self.head = new_node\n",
    "        self.size += 1\n",
    "       \n",
    "    def pop(self):\n",
    "        if self.head is None:\n",
    "            raise Empty(\"stack is empty\")\n",
    "        v = self.head.get_data()\n",
    "        self.head = self.head.get_next_node()\n",
    "        self.size -= 1\n",
    "        return v\n",
    "\n",
    "\n",
    "s = ListBasedStack()\n",
    "s.push(0)\n",
    "s.push(1)\n",
    "s.push(2)\n",
    "while True:\n",
    "    print(s.pop())"
   ]
  },
  {
   "cell_type": "markdown",
   "metadata": {},
   "source": [
    "### Упражнение 1. Стек на основе массива\n",
    "\n",
    "Реализуйте класс `ArrayStack` на основе массива"
   ]
  },
  {
   "cell_type": "code",
   "execution_count": 26,
   "metadata": {
    "collapsed": true
   },
   "outputs": [],
   "source": [
    "class ArrayBasedStack:\n",
    "    def __init__(self):\n",
    "        self.values = []\n",
    "        \n",
    "    def push(self, v):\n",
    "        self.values.append(v)\n",
    "        \n",
    "    def pop(self):\n",
    "        return self.values.pop()"
   ]
  },
  {
   "cell_type": "markdown",
   "metadata": {},
   "source": [
    "### Упражнение 2. Распознавание правильных скобочных выражений\n",
    "\n",
    "На вход подаются скобочные выражения, содержащие символы `'('`, `')'`, `'['`, `']'`, `'{'`, `'}'`. Используя стек, определите  является ли скобочное выражение правильным. \n",
    "\n",
    "#### Пример\n",
    "\n",
    "| <font size=3>Выражение</font> | <font size=3>Правильность</font> |\n",
    "| :---: | :---: |\n",
    "| <font size=3></font> | <font size=3>True</font> |\n",
    "| <font size=3>`([]){}`</font> | <font size=3>True</font> |\n",
    "| <font size=3>`([]{}([]))`</font> | <font size=3>True</font> |\n",
    "| <font size=3>`(()`</font> | <font size=3>False</font> |\n",
    "| <font size=3>`())`</font> | <font size=3>False</font> |\n",
    "| <font size=3>`(]`</font> | <font size=3>False</font> |\n",
    "| <font size=3>`[(])`</font> | <font size=3>False</font> |\n",
    "| <font size=3>`}{[])(`</font> | <font size=3>False</font> |"
   ]
  },
  {
   "cell_type": "code",
   "execution_count": null,
   "metadata": {
    "collapsed": true
   },
   "outputs": [],
   "source": []
  },
  {
   "cell_type": "markdown",
   "metadata": {},
   "source": [
    "### Пример 1. Вычисления в обратной польской нотации\n",
    "\n",
    "При записи арифметических выражений в обратной польской (или постфиксной) нотации сначала указываются операнды, а затем оператор. Например,\n",
    "\n",
    "$$\n",
    "\\begin{array}{ccc}\n",
    "    1 + 1   & \\iff & 1\\; 1\\; +\\\\\n",
    "    2 \\times 3 - 5  & \\iff & 2 \\; 3\\; \\times \\; 5 \\; -\\\\\n",
    "    2 \\;/\\; (3 - (5 \\times 8) ) & \\iff & 2 \\; 3\\; 5 \\; 8 \\; \\times \\; - \\; /\n",
    "\\end{array}\n",
    "$$\n",
    "\n",
    "Для реализации калькулятора, работающего с выражениями в постфиксной нотации очень удобно использовать стек.\n",
    "\n",
    "1. Числа помещаются в стек.\n",
    "\n",
    "2. Как только встречается бинарный оператор, из стека извлекаются два верхних элемента и к ним применяется операция.\n",
    "\n",
    "3. Результат вычислений помещается в стек.\n",
    "\n",
    "Есть иллюстрация в [википедии](https://en.wikipedia.org/wiki/Reverse_Polish_notation)."
   ]
  },
  {
   "cell_type": "code",
   "execution_count": null,
   "metadata": {
    "collapsed": true
   },
   "outputs": [],
   "source": []
  },
  {
   "cell_type": "markdown",
   "metadata": {},
   "source": [
    "### Упражнение 3. Перевод из постфиксной нотации в инфиксную\n",
    "\n",
    "Под инфиксной нотацией понимается привычная запись арифметических выражений, в которой бинарный оператор располагается между операндами и используются скобки.\n",
    "\n",
    ">  Перевод между нотациями реализуется также, как и калькулятор для постфиксной нотации, но вместо результатов вычислений в стек помещается строка в инфиксной нотации.\n",
    "\n",
    "> Реализуйте перевод так, чтобы скобки стояли только, где они необходимы. У всех операторов одинаковый приоритет."
   ]
  },
  {
   "cell_type": "code",
   "execution_count": null,
   "metadata": {
    "collapsed": true
   },
   "outputs": [],
   "source": []
  }
 ],
 "metadata": {
  "kernelspec": {
   "display_name": "Python 3",
   "language": "python",
   "name": "python3"
  },
  "language_info": {
   "codemirror_mode": {
    "name": "ipython",
    "version": 3
   },
   "file_extension": ".py",
   "mimetype": "text/x-python",
   "name": "python",
   "nbconvert_exporter": "python",
   "pygments_lexer": "ipython3",
   "version": "3.5.2"
  }
 },
 "nbformat": 4,
 "nbformat_minor": 2
}
