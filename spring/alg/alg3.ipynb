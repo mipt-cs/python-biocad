{
 "cells": [
  {
   "cell_type": "markdown",
   "metadata": {},
   "source": [
    "## <font color=red>Литература</font>\n",
    "\n",
    "1. Лекции «Алгоритмы: построение, анализ и реализация на языке программирования Си» - Ворожцов А.В., Винокуров Н.А.. Выложена в канале **#edu_materials**\n",
    "\n",
    "\n",
    " # <font color=blue>Алгоритмы сортировки, не использующие сравнение</font>\n",
    " \n",
    " До сих пор мы рассматривали алгоритмы сортировки, основанные на операции сравнения элементов массива друг с другом. Лучшая возможная эффективность таких алгоритмов - $O(n \\cdot \\log n)$. Этот результат можно получить следующим образом.\n",
    " \n",
    "1. Если длина массива $A$ равна $n$, то всего существует $n!$ перестановок элементов $A$.\n",
    "\n",
    "- В процессе сортировки мы определяем, в каком из $n!$ возможных состояний был массив $A$ до сортировки.\n",
    "\n",
    "- Если выполнить $k$ сравнений элементов массива, то можно получить $2^k$ различных результатов.\n",
    "\n",
    "- Чтобы с помощью последовательности сравнений элементов $A$ понять, в каком массив находился состоянии, количество возможных результатов должно быть не меньше числа состояний.\n",
    "\n",
    "- Получаем $2^k \\ge n!$. Если применить формулу Стирлинга $n! \\ge \\sqrt{2 \\pi n} \\left(\\frac{n}{e}\\right)^n e^{\\frac{1}{12 n + 1}}$ (с [уточнением Робинса](https://www.jstor.org/stable/2308012?origin=crossref&seq=1#page_scan_tab_contents)), получаем $k \\ge \\log_2 \\sqrt{2 \\pi} + \\frac{1}{2} \\log_2 n + n \\cdot \\left( \\log_2 n - \\frac{1}{\\ln 2} \\right) + \\frac{1}{(12 n + 1) \\ln 2} \\ge n \\cdot \\left( \\log_2 n - \\frac{1}{\\ln 2} \\right)$ \n",
    "\n",
    "\n",
    "**Однако, если есть дополнительная информация о ключах элементов сортируемого массива $A$, эффективность алгоритма сортировки можно улучшить.**\n",
    "\n",
    "## <font color=green>Сортировка подсчетом (counting sort)</font>\n",
    "\n",
    "Если известно, что число различных элементов в массиве мало, то лучшим решением становится сортировка подсчетом. \n",
    "\n",
    "1. Определить число элементов каждого вида в сортируемом массиве.\n",
    "\n",
    "- Определить порядок видов элементов.\n",
    "\n",
    "- Записать элементы массива в правильном порядке.\n",
    "\n",
    "Если $n$ - размер массива, а $k$ - число видов элементов, то сортировка может быть выполнена в $(k+1)$ проходов по массиву. 1 проход требуется для подсчета и еще по одному на запись в правильном порядке элементов каждого вида. Если ключ сортировки совпадает со значением элемента, то сортировка выполняется в 1 проход.\n",
    "\n",
    "### Упражнение 1. Сортировка подсчетом списка целых чисел\n",
    "\n",
    "Отсортируйте по возрастанию список целых чисел."
   ]
  },
  {
   "cell_type": "code",
   "execution_count": null,
   "metadata": {
    "collapsed": true
   },
   "outputs": [],
   "source": [
    "import random\n",
    "L = [random.randint(1, 5) for _ in range(100)]"
   ]
  },
  {
   "cell_type": "markdown",
   "metadata": {
    "collapsed": true
   },
   "source": [
    "###  Упражнение 2. Сортировка подсчетом списка слов\n",
    "\n",
    "Список `L` содежит строки, состоящие из строчных букв. Отсортируйте строки по их первой букве. Равные элементы не должны переставляться между собой. Объем используемой памяти не должно зависеть от размера списка."
   ]
  },
  {
   "cell_type": "code",
   "execution_count": null,
   "metadata": {},
   "outputs": [],
   "source": [
    "import random\n",
    "import string\n",
    "L = [''.join(random.sample(string.ascii_lowercase, random.randint(4, 10))) for _ in range(1000)]"
   ]
  },
  {
   "cell_type": "markdown",
   "metadata": {},
   "source": [
    "## <font color=green>Блочная соритровка (bucket sort)</font>\n",
    "\n",
    "Блочная сортировка может быть успешно применена, если известно, как распределены ключи. Если ключи равномерно распределены на интервале $\\left[0, 1\\right)$, то интервал можно разбить на $k$ равных промежутков (блоков или корзин), чтобы распределить по ним элементы сортируемого массива. Далее элементы в каждой из корзин сортируются с помощью другого алгоритма, чаще всего с помощью сортировки вставками. В конце корзины объединяются.\n",
    "\n",
    "Блочную сортировку можно рассматривать, как обобщение сортировки подсчетом.\n",
    "\n",
    "### Упражнение 3. Блочная сортировка\n",
    "\n",
    "Отсортируйте с помощью блочной сортировки список `L`. Определите оптимальное значение числа блоков для сортировки списка из $10^4$ элементов."
   ]
  },
  {
   "cell_type": "code",
   "execution_count": null,
   "metadata": {},
   "outputs": [],
   "source": [
    "import timeit\n",
    "import random\n",
    "L = [random.uniform(0, 1) for _ in range(10**4)]"
   ]
  },
  {
   "cell_type": "markdown",
   "metadata": {},
   "source": [
    "## <font color=green>Поразрядная сортировка (radix sort)</font>\n",
    "\n",
    "Поразрядная сортировка - это развитие идей сортировки подсчетом и быстрой сортировки. Пусть ключи, по которым осуществляется сортировка - целые числа. Тогда можно разделить массив на корзины по значениям старших разрядов ключей. Затем каждую из получившихся корзин разделить уже по значениям второго по старшинству разряда и так далее. Подход очень похож на быструю сортировку, однако на практике почти всегда под корзины выделяется дополнительная память, что обеспечивает сортировке стабильность.\n",
    "\n",
    "Поразрядная сортировка есть в двух вариантах: по более значимым цифрам (most significant digit или MSD) и по менее значимым цифрам (least significant digit или LSD)\n",
    "\n",
    "Этот способ теоретически может оказаться быстрее алгоритма быстрой сортировки, однако в практике такие случаи встречаются нечасто. Чтобы поразрядная сортировка была эффективной требуется, чтобы ключи были равномерно распределены по цифрам в каждом из своих разрядов. Например, требуется отсортировать массив целых чисел 110, 110, 111, 112, 115, 111, 119, 118, 119, 117, 120, 116, 116, 112, 113, 114, 113, 117. В данном случае ключи распределены по цифрам в нулевом разряде следующим образом:\n",
    "```\n",
    "'0': 3\n",
    "'1': 2\n",
    "'2': 2\n",
    "'3': 2\n",
    "'4': 1\n",
    "'5': 1\n",
    "'6': 2\n",
    "'7': 2\n",
    "'8': 1\n",
    "'9': 2\n",
    "```\n",
    "Во первом разряде используются только два значения: `'1'` и `'2'`, причем последнее встречается лишь один раз, а во втором разряде только значение `'1'`. Получается, что при использовании поразрядной сортировки на двух операциях алгоритм будет \"простаивать\"."
   ]
  },
  {
   "cell_type": "markdown",
   "metadata": {},
   "source": [
    "# <font color=blue>Свойства и классификация алгоритмов сортировки</font>\n",
    "\n",
    "## <font color=green>Устойчивость</font>\n",
    "\n",
    "Алгоритмы сортировки дялятся на устойчивые и неустойчивые. Устойчивые алгоритмы сохраняют порядок элементов с одинаковыми ключами.\n",
    "\n",
    "### Пример 2. Устойчивость\n",
    "\n",
    "Пусть требуется упорядочить слова в списке `[\"Bob\", \"Ann\", \"Angie\"]` по первой букве. Ключи слов `\"Ann\"` и `\"Angie\"` совпадают и равны `\"A\"`. Если сортировка устойчива, то гарантируется, что в упорядоченном списке `\"Ann\"` будет стоять перед `\"Angie\"`.\n",
    "\n",
    "### Упражнение 3. Устойчивость сортировки выбором\n",
    "\n",
    "Почему сортировка выбором в варианте, когда выполняется перестановка элементов, не является устойчивой? Приведите пример. Реализуйте устойчивый вариант сортировки выбором. Для этого нужно вставлять минимальный элемент перед неупорядоченной частью массива."
   ]
  },
  {
   "cell_type": "code",
   "execution_count": 24,
   "metadata": {},
   "outputs": [
    {
     "name": "stdout",
     "output_type": "stream",
     "text": [
      "63\n",
      "58\n",
      "41\n",
      "52\n",
      "43\n",
      "50\n",
      "50\n",
      "45\n",
      "58\n",
      "48\n",
      "56\n",
      "53\n",
      "57\n",
      "45\n",
      "53\n",
      "49\n",
      "45\n",
      "41\n",
      "43\n",
      "50\n"
     ]
    }
   ],
   "source": [
    "k = 20\n",
    "\n",
    "L = [random.uniform(0, 1) for _ in range(10**3)]\n",
    "buckets = [[] for _ in range(k)]\n",
    "step = 1 / k\n",
    "for e in L:\n",
    "    i = 0\n",
    "    while e >= i * step:\n",
    "        i += 1\n",
    "    buckets[i-1].append(e)\n",
    "for b in buckets:\n",
    "    print(len(b))"
   ]
  },
  {
   "cell_type": "markdown",
   "metadata": {},
   "source": [
    "### Упражнение 4. Устойчивость сортировки слиянием\n",
    "\n",
    "Какая неточность в реализации сортировки слиянием приведет к тому, что она станет неустойчивой?"
   ]
  },
  {
   "cell_type": "code",
   "execution_count": null,
   "metadata": {},
   "outputs": [],
   "source": []
  },
  {
   "cell_type": "markdown",
   "metadata": {},
   "source": [
    "### Упражнение 5. Устойчивость быстрой сортировки\n",
    "\n",
    "Почему быстрая сортировка неустойчива? Приведите пример. Реализуйте устойчивый вариант быстрой сортировки. Для этого нужно закрепить за каждым элементом массива его индекс в исходном массиве и в случае, когда ключи равны, большим будет считаться элемент с большим индексом."
   ]
  },
  {
   "cell_type": "code",
   "execution_count": null,
   "metadata": {
    "collapsed": true
   },
   "outputs": [],
   "source": []
  },
  {
   "cell_type": "markdown",
   "metadata": {},
   "source": [
    "**Вариант быстрой сортировки, в котором ключ расширяется засчет индекса элемента в исходном массиве требует дополнительно $O(n)$ памяти.**\n",
    "\n",
    "## <font color=green>Естественность поведения</font>\n",
    "\n",
    "Алгоритм принято называть естественным, если он эффективно работает на упорядоченных и частично упорядоченных массивах. Алгоритмы сортировки пузырьком и вставками эффективны на частично упорядоченных массивах, в то время как поведение быстрой сортировки и сортировки слиянием не естественно.\n",
    "\n",
    "## <font color=green>Внутренняя и внешняя сортировка</font>\n",
    "\n",
    "Сортировка называется **внутренней**, если массив целиком помещается в оперативной памяти и возможен доступ к произвольному элементу массива. Сортировка называется **внешней**, если данные находятся на носителе большого объема с последовательным доступом к памяти. На этом занятии рассматриваются только алгоритмы внутренней сортировки."
   ]
  },
  {
   "cell_type": "code",
   "execution_count": null,
   "metadata": {
    "collapsed": true
   },
   "outputs": [],
   "source": []
  },
  {
   "cell_type": "markdown",
   "metadata": {},
   "source": [
    "### Упражнение 6. Рекламная акция\n",
    "\n",
    "В сети магазинов \"Н-Аудио\" проводится рекламная акция. Каждый второй товар – бесплатно. Естественно, кассирам дано указание пробивать товары в таком порядке, чтобы магазин потерял как можно меньше денег.\n",
    "\n",
    "По списку товаров определите максимальную сумму в чеке.\n",
    "\n",
    "**Вход**: натуральное число товаров (N < 1000) и далее N натуральных чисел – цены товаров.\n",
    "\n",
    "**Выход**: одно число – максимальная сумма чека.\n",
    "\n",
    "<table class=MsoTableGrid border=1 cellspacing=0 cellpadding=0\n",
    " style='border-collapse:collapse;border:none;mso-border-alt:solid windowtext .5pt;\n",
    " mso-yfti-tbllook:480;mso-padding-alt:0cm 5.4pt 0cm 5.4pt'>\n",
    " <tr style='mso-yfti-irow:0;mso-yfti-firstrow:yes'>\n",
    "  <td width=121 valign=top style='width:90.45pt;border:solid windowtext 1.0pt;\n",
    "  mso-border-alt:solid windowtext .5pt;padding:0cm 5.4pt 0cm 5.4pt'>\n",
    "  <p class=MsoNormal>Вход</p>\n",
    "  </td>\n",
    "  <td width=132 valign=top style='width:99.25pt;border:solid windowtext 1.0pt;\n",
    "  border-left:none;mso-border-left-alt:solid windowtext .5pt;mso-border-alt:\n",
    "  solid windowtext .5pt;padding:0cm 5.4pt 0cm 5.4pt'>\n",
    "  <p class=MsoNormal>Выход</p>\n",
    "  </td>\n",
    "  <td width=385 valign=top style='width:288.85pt;border:solid windowtext 1.0pt;\n",
    "  border-left:none;mso-border-left-alt:solid windowtext .5pt;mso-border-alt:\n",
    "  solid windowtext .5pt;padding:0cm 5.4pt 0cm 5.4pt'>\n",
    "  <p class=MsoNormal>Комментарий</p>\n",
    "  </td>\n",
    " </tr>\n",
    " <tr style='mso-yfti-irow:1;mso-yfti-lastrow:yes'>\n",
    "  <td width=121 valign=top style='width:90.45pt;border:solid windowtext 1.0pt;\n",
    "  border-top:none;mso-border-top-alt:solid windowtext .5pt;mso-border-alt:solid windowtext .5pt;\n",
    "  padding:0cm 5.4pt 0cm 5.4pt'>\n",
    "  <p class=MsoNormal>5 2 1 10 50 10</p>\n",
    "  </td>\n",
    "  <td width=132 valign=top style='width:99.25pt;border-top:none;border-left:\n",
    "  none;border-bottom:solid windowtext 1.0pt;border-right:solid windowtext 1.0pt;\n",
    "  mso-border-top-alt:solid windowtext .5pt;mso-border-left-alt:solid windowtext .5pt;\n",
    "  mso-border-alt:solid windowtext .5pt;padding:0cm 5.4pt 0cm 5.4pt'>\n",
    "  <p class=MsoNormal>70</p>\n",
    "  </td>\n",
    "  <td width=385 valign=top style='width:288.85pt;border-top:none;border-left:\n",
    "  none;border-bottom:solid windowtext 1.0pt;border-right:solid windowtext 1.0pt;\n",
    "  mso-border-top-alt:solid windowtext .5pt;mso-border-left-alt:solid windowtext .5pt;\n",
    "  mso-border-alt:solid windowtext .5pt;padding:0cm 5.4pt 0cm 5.4pt'>\n",
    "  <p class=MsoNormal>Возможен такой порядок: 10 2 50 1 10</p>\n",
    "  </td>\n",
    " </tr>\n",
    "</table>\n"
   ]
  },
  {
   "cell_type": "code",
   "execution_count": null,
   "metadata": {
    "collapsed": true
   },
   "outputs": [],
   "source": []
  },
  {
   "cell_type": "markdown",
   "metadata": {},
   "source": [
    "### Упражнение 7. Ровно K обменов\n",
    "\n",
    "Даны два числа N и К. Вывести перестановку из N чисел (N чисел от 1 до N без повторений) такую чтобы сортировка пузырьком по возрастанию на соответствующем массиве сделала ровно K обменов. Если возможных ответов несколько – выведите любой.\n",
    "\n",
    "**Вход**: натуральное число N (N < 100) и целое  неотрицательное К. Гарантируется, что для всех наборов тестовых данных решение существует.\n",
    "\n",
    "**Выход**: ответ на задачу.\n",
    "\n",
    "<table class=MsoTableGrid border=1 cellspacing=0 cellpadding=0\n",
    " style='border-collapse:collapse;border:none;mso-border-alt:solid windowtext .5pt;\n",
    " mso-yfti-tbllook:480;mso-padding-alt:0cm 5.4pt 0cm 5.4pt'>\n",
    " <tr style='mso-yfti-irow:0;mso-yfti-firstrow:yes'>\n",
    "  <td width=177 valign=top style='width:133.0pt;border:solid windowtext 1.0pt;\n",
    "  mso-border-alt:solid windowtext .5pt;padding:0cm 5.4pt 0cm 5.4pt'>\n",
    "  <p class=MsoNormal>Вход</p>\n",
    "  </td>\n",
    "  <td width=118 valign=top style='width:88.4pt;border:solid windowtext 1.0pt;\n",
    "  border-left:none;mso-border-left-alt:solid windowtext .5pt;mso-border-alt:\n",
    "  solid windowtext .5pt;padding:0cm 5.4pt 0cm 5.4pt'>\n",
    "  <p class=MsoNormal>Выход</p>\n",
    "  </td>\n",
    "  <td width=343 valign=top style='width:257.15pt;border:solid windowtext 1.0pt;\n",
    "  border-left:none;mso-border-left-alt:solid windowtext .5pt;mso-border-alt:\n",
    "  solid windowtext .5pt;padding:0cm 5.4pt 0cm 5.4pt'>\n",
    "  <p class=MsoNormal>Комментарий</p>\n",
    "  </td>\n",
    " </tr>\n",
    " <tr style='mso-yfti-irow:1;mso-yfti-lastrow:yes'>\n",
    "  <td width=177 valign=top style='width:133.0pt;border:solid windowtext 1.0pt;\n",
    "  border-top:none;mso-border-top-alt:solid windowtext .5pt;mso-border-alt:solid windowtext .5pt;\n",
    "  padding:0cm 5.4pt 0cm 5.4pt'>\n",
    "  <p class=MsoNormal>5 3</p>\n",
    "  </td>\n",
    "  <td width=118 valign=top style='width:88.4pt;border-top:none;border-left:\n",
    "  none;border-bottom:solid windowtext 1.0pt;border-right:solid windowtext 1.0pt;\n",
    "  mso-border-top-alt:solid windowtext .5pt;mso-border-left-alt:solid windowtext .5pt;\n",
    "  mso-border-alt:solid windowtext .5pt;padding:0cm 5.4pt 0cm 5.4pt'>\n",
    "  <p class=MsoNormal>3 1 2 5 4</p>\n",
    "  </td>\n",
    "  <td width=343 valign=top style='width:257.15pt;border-top:none;border-left:\n",
    "  none;border-bottom:solid windowtext 1.0pt;border-right:solid windowtext 1.0pt;\n",
    "  mso-border-top-alt:solid windowtext .5pt;mso-border-left-alt:solid windowtext .5pt;\n",
    "  mso-border-alt:solid windowtext .5pt;padding:0cm 5.4pt 0cm 5.4pt'>\n",
    "  <p class=MsoNormal>В процессе сортировки массива 3 1 2 5 4 будут совершены\n",
    "  обмены: 1<span style='font-family:Symbol;mso-ascii-font-family:\"Times New Roman\";\n",
    "  mso-hansi-font-family:\"Times New Roman\";mso-char-type:symbol;mso-symbol-font-family:\n",
    "  Symbol'><span style='mso-char-type:symbol;mso-symbol-font-family:Symbol'>«</span></span>3\n",
    "  3<span style='font-family:Symbol;mso-ascii-font-family:\"Times New Roman\";\n",
    "  mso-hansi-font-family:\"Times New Roman\";mso-char-type:symbol;mso-symbol-font-family:\n",
    "  Symbol'><span style='mso-char-type:symbol;mso-symbol-font-family:Symbol'>«</span></span>2\n",
    "  и 5<span style='font-family:Symbol;mso-ascii-font-family:\"Times New Roman\";\n",
    "  mso-hansi-font-family:\"Times New Roman\";mso-char-type:symbol;mso-symbol-font-family:\n",
    "  Symbol'><span style='mso-char-type:symbol;mso-symbol-font-family:Symbol'>«</span></span>4.\n",
    "  Возможны и другие варианты ответа.</p>\n",
    "  </td>\n",
    " </tr>\n",
    "</table>\n"
   ]
  },
  {
   "cell_type": "code",
   "execution_count": null,
   "metadata": {
    "collapsed": true
   },
   "outputs": [],
   "source": []
  },
  {
   "cell_type": "markdown",
   "metadata": {},
   "source": [
    "### Упражнение 8. Лента Мебиуса\n",
    "\n",
    "Предположим, что имеется некоторый кусок ленты, разделенный на кадры. Кадры занумерованы с двух сторон. Полоска ленты склеена в лист Мебиуса. Необходимо составить алгоритм упорядочения этой последовательности, предположив, что соседние кадры можно переставлять, (естественно, в упорядоченной последовательности будет один \"скачок\" от минимального элемента к максимальному). Следует учесть, что при перестановке кадров переставляются числа с обеих сторон кадров. \n",
    "\n",
    "Числа на противоположных сторонах кадра могут не совпадать. Всегда ли возможно такое упорядочение?"
   ]
  },
  {
   "cell_type": "code",
   "execution_count": null,
   "metadata": {
    "collapsed": true
   },
   "outputs": [],
   "source": []
  }
 ],
 "metadata": {
  "kernelspec": {
   "display_name": "Python 3",
   "language": "python",
   "name": "python3"
  },
  "language_info": {
   "codemirror_mode": {
    "name": "ipython",
    "version": 3
   },
   "file_extension": ".py",
   "mimetype": "text/x-python",
   "name": "python",
   "nbconvert_exporter": "python",
   "pygments_lexer": "ipython3",
   "version": "3.6.0"
  }
 },
 "nbformat": 4,
 "nbformat_minor": 2
}
