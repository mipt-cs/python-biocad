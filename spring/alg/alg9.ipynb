{
 "cells": [
  {
   "cell_type": "markdown",
   "metadata": {},
   "source": [
    "## <font color=red>Литература</font>\n",
    "\n",
    "1. Лекции «Алгоритмы: построение, анализ и реализация на языке программирования Си» - Ворожцов А.В., Винокуров Н.А.. Выложена в канале **#edu_materials**\n",
    "\n",
    "# <font color=blue>Деревья. Продолжение 2</font>\n",
    "\n",
    "# <font color=blue>Балансировка двоичного дерева</font>\n",
    "\n",
    "Количество операций, необходимое для того, чтобы найти элемент в дереве, связано с высотой дерева $H$. Поиск элемента требует $O(H)$ операций. Если дерево случайное, то его высота может быть равна количеству узлов дерева $N$, а в лучшем случае высота двоичного дерева - $\\left\\lceil\\log N\\right\\rceil$. Чтобы высота дерева в худшем случае была логарифмической, применяют **балансировку**.\n",
    "\n",
    "**Методы балансировки деревьев поиска**  — это алгоритмы выполнения операций добавления и удаления записей (insert и del), которые гарантируют, что при любой последовательности выполнения запросов высота $H$ дерева поиска будет ограничена сверху линейной функцией от логарифма числа N хранимых записей:\n",
    "\n",
    "$$H < A \\cdot log_2 N + B$$\n",
    "\n",
    "где $A$ и $B$ - фиксированные константы.\n",
    "\n",
    "**Теорема**\n",
    "\n",
    "Если в двоичном дереве c $N$ узлами выполнено хотя бы одно из следующих условий:\n",
    "\n",
    "а) для любого узла число узлов в правом и левом поддереве $N_r$ , $N_l$ отличаются не более чем на $1$:\n",
    "  $$N_r \\le N_l + 1,\\quad\\quad N_l \\le N_r +1$$\n",
    "  \n",
    "б) для любого узла число узлов в правом и левом поддереве $N_r$ , $N_l$ удовлетворяют условиям\n",
    "  $$N_r \\le 2 N_l + 1,\\quad\\quad N_l \\le 2 N_r +1$$\n",
    "  \n",
    "а) для любого узла высота правого и левого поддеревьев $H_r$ , $H_l$ отличаются не более чем на $1$:\n",
    "  $$H_r \\le H_l + 1,\\quad\\quad H_l \\le H_r +1$$\n",
    "  \n",
    "то высота дерева не превосходит $A \\cdot log_2 N + B$, где $A$ и $B$ – некоторые положительные\n",
    "константы, не зависящие от $N$.\n",
    "\n",
    "**Доказательства** приведены в [1]\n",
    "\n",
    "**Идально сбалансированное дерево** — это двоичное дерево поиска, для которого с помощью специальных алгоритмов поддерживается свойство (а).\n",
    "\n",
    "**АВЛ-дерево** — это двоичное дерево поиска, для которого с помощью специальных алгоритмов поддерживается свойство (в).\n",
    "\n",
    "Высота деревьев поиска, удовлетворяющих условиям (а), (б), (в) ограничена сверху логарифмической функцией от числа узлов дерева, а именно:\n",
    "\n",
    "а) $H \\le \\log_2 N$\n",
    "\n",
    "б) $H \\le 1.70951 \\log_2 N + 1$\n",
    "\n",
    "в) $H \\le 1.4404 \\log_2 N + 1$\n",
    "\n",
    "## <font color=green>АВЛ-дерево</font>\n",
    "\n",
    "Названо так в честь математиков Адельского-Вельского и Ландиса.\n",
    "\n",
    "Пусть высота правого поддерева равна $(k+2)$, а высота левого поддерева - $k$.\n",
    "\n",
    "<img src=\"images/tree_rotations.png\" alt=\"Drawing\" style=\"width: 800px\">\n",
    "\n",
    "### Упражнение 1. Правое вращение\n",
    "\n",
    "Добавьте в узлы ссылки на родителей. Реализуйте правое вращение."
   ]
  },
  {
   "cell_type": "code",
   "execution_count": null,
   "metadata": {
    "collapsed": true
   },
   "outputs": [],
   "source": [
    "class BSTNode:\n",
    "    def __init__(self, key, value, left=None, right=None, parrent=None):\n",
    "        self.value = value\n",
    "        self.key = key\n",
    "        self.left = left\n",
    "        self.right = right\n",
    "        self.parent = parent\n",
    "        \n",
    "        \n",
    "class BST:\n",
    "    def __init__(self):\n",
    "        self.root = None\n",
    "        \n",
    "    def _insert(self, key, value, root):\n",
    "        if key == root.key:\n",
    "            root.value = value\n",
    "        elif key < root.key:\n",
    "            if root.left is None:\n",
    "                root.left = BSTNode(key, value, parent=root)\n",
    "            else:\n",
    "                self._insert(key, value, root.left)\n",
    "        else:\n",
    "            if root.right is None:\n",
    "                root.right = BSTNode(key, value, parent=root)\n",
    "            else:\n",
    "                self._insert(key, value, root.right)\n",
    "        \n",
    "    def insert(self, key, value):\n",
    "        if self.root is None:\n",
    "            self.root = BSTNode(key, value)\n",
    "        else:\n",
    "            self._insert(key, value, self.root)\n",
    "            \n",
    "    def _find(self, key, root):\n",
    "        if root is None:\n",
    "            return None\n",
    "        if key == root.key:\n",
    "            return root.value\n",
    "        elif key < root.key:\n",
    "            return self._find(key, root.left)\n",
    "        else:\n",
    "            return self._find(key, root.right)\n",
    "            \n",
    "    def find(self, key):\n",
    "        return self._find(key, self.root)"
   ]
  },
  {
   "cell_type": "markdown",
   "metadata": {},
   "source": [
    "### Упражнение 2. Печать  дерева\n",
    "\n",
    "Добавьте в класс `BST` метод, печатающий дерево согласно алгоритму in-order traverse. Узел с уровнем `n` должен печататься с отступом в 4 пробела. Сначала печатается корень поддерева, затем правое поддерево."
   ]
  },
  {
   "cell_type": "code",
   "execution_count": null,
   "metadata": {
    "collapsed": true
   },
   "outputs": [],
   "source": []
  },
  {
   "cell_type": "markdown",
   "metadata": {},
   "source": [
    "## <font color=green>Вставка узла в АВЛ-дерево. Удаление узла из АВЛ-дерева</font>\n",
    "\n",
    "Алгоритмы состоят из двух этапов.\n",
    "\n",
    "1. Обычные вставка и удаление, используемые в двоичных деревьях поиска\n",
    "\n",
    "2. Ретрейсинг. Проходим по дерево снизу вверх, балансируя дерево.\n",
    "  \n",
    "  - Для выполнения этой операции в каждый узел добавляется дополнительный параметр - баланс, который равен разности высот правого и левого дерева.\n",
    "  \n",
    "  - В процессе движения вверх исправляется баланс и дерево балансируется. Для балансировки достаточно выполнить одну операцию малого поворота (Rotate-Left, Rotate-Right) или одну операцию большого поворота (Rotate-Left, Rotate-Right)\n",
    "\n",
    "### Пример 3. Вставка в АВЛ-дерево"
   ]
  },
  {
   "cell_type": "code",
   "execution_count": null,
   "metadata": {
    "collapsed": true
   },
   "outputs": [],
   "source": []
  }
 ],
 "metadata": {
  "kernelspec": {
   "display_name": "Python 3",
   "language": "python",
   "name": "python3"
  },
  "language_info": {
   "codemirror_mode": {
    "name": "ipython",
    "version": 3
   },
   "file_extension": ".py",
   "mimetype": "text/x-python",
   "name": "python",
   "nbconvert_exporter": "python",
   "pygments_lexer": "ipython3",
   "version": "3.5.2"
  }
 },
 "nbformat": 4,
 "nbformat_minor": 2
}
