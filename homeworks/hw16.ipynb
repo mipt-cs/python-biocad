{
 "cells": [
  {
   "cell_type": "markdown",
   "metadata": {},
   "source": [
    "# <font color=blue>Упражнение 1. Количество папок. `os.walk()`</font>\n",
    "\n",
    "Получите с помощью `os.walk()` общее число папок в директории <font color=green face=\"monospace\">newdir</font> (директория <font color=green face=\"monospace\">newdir</font> создается в примере 8 lab16). Учитывать также папки, находящиеся внутри всех вложенных каталогов."
   ]
  },
  {
   "cell_type": "code",
   "execution_count": null,
   "metadata": {
    "collapsed": true
   },
   "outputs": [],
   "source": []
  },
  {
   "cell_type": "markdown",
   "metadata": {},
   "source": [
    "# <font color=blue>Упражнение 2. Папка с максимальным количеством содержимого. `os.walk()`</font>\n",
    "\n",
    "На вход подается путь <font color=red face=\"monospace\">path</font>. Определите директорию <font color=red face=\"monospace\">max</font>, находящуюся в каталоге по пути <font color=red face=\"monospace\">path</font> и содержащую наибольшее число файлов и папок. Рассмотрите директории, вложенные в каталоги, находящиеся по пути <font color=red face=\"monospace\">path</font>. При подсчете содержимого директории <font color=red face=\"monospace\">max</font> учитывайте только те файлы и папки, которые находятся в ней непосредственно. Распечатайте путь к директории <font color=red face=\"monospace\">max</font>.\n",
    "\n",
    ">Если у 2-х или более директорий одинаковое количество содержимого, то распетайте тот путь, который меньше при сравнении строк в Python.\n",
    "\n",
    "### UNIX\n",
    "\n",
    "| <font size=3>Входные данные</font> | <font size=3>Выходные данные</font> | <font size=3>Комментарий</font> |\n",
    "| :--- | :--- | :--- |\n",
    "| <font size=3>dir</font> | <font size=3>dir/dir1</font> | <font size=3>Папка <font color=green face=\"monospace\">dir</font> из задачи 1 test14 при условии, что она находится в одном каталоге программой</font> |\n",
    "| <font size=3>newdir</font> | <font size=3>newdir/dir1</font> | <font size=3>Папка <font color=green face=\"monospace\">newdir</font> из примера 8 lab16 при условии, что она находится в одном каталоге программой</font> |\n",
    "\n",
    "### Windows\n",
    "\n",
    "| <font size=3>Входные данные</font> | <font size=3>Выходные данные</font> | <font size=3>Комментарий</font> |\n",
    "| :--- | :--- | :--- |\n",
    "| <font size=3>dir</font> | <font size=3>dir\\dir1</font> | <font size=3>Папка <font color=green face=\"monospace\">dir</font> из задачи 1 test14 при условии, что она находится в одном каталоге программой</font> |\n",
    "| <font size=3>newdir</font> | <font size=3>newdir\\dir1</font> | <font size=3>Папка <font color=green face=\"monospace\">newdir</font> из примера 8 lab16 при условии, что она находится в одном каталоге программой</font> |\n",
    "\n"
   ]
  },
  {
   "cell_type": "code",
   "execution_count": null,
   "metadata": {
    "collapsed": true
   },
   "outputs": [],
   "source": []
  },
  {
   "cell_type": "markdown",
   "metadata": {},
   "source": [
    "# <font color=blue>Упражнение 3. Создание папок. `os.makedirs()`, `os.mkdir()`</font>\n",
    "\n",
    "Создайте папку <font color=green>dir</font> со следующей структурой.\n",
    "```bash\n",
    "dir\n",
    "├── dir1\n",
    "│   ├── dir2\n",
    "│   └── dir3\n",
    "└── dir4\n",
    "    ├── dir5\n",
    "    └── dir6\n",
    "```\n",
    "Если папка из схемы уже существует, с ней ничего не надо делать. Если место папки из схемы занимает файл, то его следует заменить папкой.\n",
    "\n",
    "### Команды для создания директорий и файлов, позлезных при отладке программы\n",
    "\n",
    "1. Файл <font color=green>dir</font><br>\n",
    "**Windows cmd.exe**\n",
    "```\n",
    "type NUL > dir\n",
    "```\n",
    "**UNIX**\n",
    "```bash\n",
    "touch dir\n",
    "```\n",
    "\n",
    "2. Все папки на уже созданы<br>\n",
    "**Windows cmd.exe**\n",
    "```\n",
    "md dir\\dir1\\dir2 dir\\dir1\\dir3 dir\\dir4\\dir5 dir\\dir4\\dir6\n",
    "```\n",
    "**UNIX**\n",
    "```bash\n",
    "mkdir -p dir/dir1/dir2 dir/dir1/dir3 dir/dir4/dir5 dir/dir4/dir6\n",
    "```\n",
    "\n",
    "3. Файл вместо папки на первом уровне<br>\n",
    "**Windows cmd.exe**\n",
    "```\n",
    "md dir\\dir1\\dir2 & type NUL > dir\\dir4\n",
    "```\n",
    "**UNIX**\n",
    "```bash\n",
    "mkdir -p dir/dir1/dir2 ; touch dir/dir4\n",
    "```\n",
    "\n",
    "4. Файл вместо папки на втором уровне<br>\n",
    "**Windows cmd.exe**\n",
    "```\n",
    "md dir\\dir1\\dir2 & type NUL > dir\\dir1\\dir3\n",
    "```\n",
    "**UNIX**\n",
    "```bash\n",
    "mkdir -p dir/dir1/dir2 ; touch dir/dir1/dir3\n",
    "```\n",
    "\n",
    "Удаление директории вместе со всем ее содержимым с помощью комендной строки.<br>\n",
    "**Windows cmd.exe**\n",
    "```\n",
    "rd /s /q dir\n",
    "```\n",
    "**UNIX**\n",
    "```bash\n",
    "rm -r dir\n",
    "```\n",
    "\n",
    "Удаление файла\n",
    "<br>\n",
    "**Windows cmd.exe**\n",
    "```\n",
    "del dir\n",
    "```\n",
    "**UNIX**\n",
    "```bash\n",
    "rm dir\n",
    "```"
   ]
  },
  {
   "cell_type": "code",
   "execution_count": null,
   "metadata": {
    "collapsed": true
   },
   "outputs": [],
   "source": []
  },
  {
   "cell_type": "markdown",
   "metadata": {},
   "source": [
    "# <font color=blue>Упражнение 4. Перименование, копирование и перемещение</font>\n",
    "\n",
    "1. Переименуйте директорию <font color=green>dir</font> в <font color=green>DIR</font>.\n",
    "\n",
    "2. Создайте новую папку  <font color=green>dir</font>.\n",
    "\n",
    "3. Переместите туда <font color=green>dir</font>.\n",
    "\n",
    "4. Скопируйте <font color=green>DIR/dir</font> в <font color=green>dir2</font> (<font color=green>dir2</font> находится в одной папке с программой)."
   ]
  },
  {
   "cell_type": "code",
   "execution_count": null,
   "metadata": {
    "collapsed": true
   },
   "outputs": [],
   "source": []
  }
 ],
 "metadata": {
  "kernelspec": {
   "display_name": "Python 3",
   "language": "python",
   "name": "python3"
  },
  "language_info": {
   "codemirror_mode": {
    "name": "ipython",
    "version": 3
   },
   "file_extension": ".py",
   "mimetype": "text/x-python",
   "name": "python",
   "nbconvert_exporter": "python",
   "pygments_lexer": "ipython3",
   "version": "3.5.2"
  }
 },
 "nbformat": 4,
 "nbformat_minor": 2
}
