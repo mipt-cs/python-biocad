{
 "cells": [
  {
   "cell_type": "markdown",
   "metadata": {},
   "source": [
    "## <font color=blue>Литература</font>\n",
    "\n",
    "1. Алгоритмы и программы. Решение олимпиадных задач. - И.Н. Порублев, А.Б. Ставровский. Выложена в канале **#edu_materials**\n",
    "\n",
    "# Упражнение 1. Максимальное произведение\n",
    "\n",
    "На вход подается число $N > 1$, а затем $N$ вещественных чисел: каждое в отдельной строке. Найдите среди введенных чисел два числа, дающие максимальное произведение. Решите задачу в 1 проход, не сохраняя все введенные числа."
   ]
  },
  {
   "cell_type": "code",
   "execution_count": 7,
   "metadata": {},
   "outputs": [
    {
     "name": "stdout",
     "output_type": "stream",
     "text": [
      "2\n",
      "0\n",
      "1\n",
      "0 1\n"
     ]
    }
   ],
   "source": [
    "\n",
    "N = int(input())\n",
    "a = 0\n",
    "max1 = 0\n",
    "max2 = 0\n",
    "min1 = 0\n",
    "min2 = 0\n",
    "for _ in range(N):\n",
    "    z = int(input())\n",
    "\n",
    "    if z > max1:\n",
    "        max1 = z\n",
    "        if max1 > max2:\n",
    "            max2,max1 = max1,max2\n",
    "    if z < min1:\n",
    "        min1 = z\n",
    "        if min1 < min2:\n",
    "            min2,min1 = min1,min2\n",
    "            \n",
    "if N == 2:\n",
    "    if abs(max2*min2) > abs(min1*min2) and abs(max2*min2) > abs(max1*max2):\n",
    "        print(max2, min2)\n",
    "    elif abs(min1*min2) > abs(max1*max2) and abs(min1*min2) > abs(min1*max2):\n",
    "        print(min1, min2)\n",
    "    else:\n",
    "        print(max1, max2)\n",
    "    \n",
    "elif min1*min2 > max1*max2:\n",
    "    print(min1,min2)\n",
    "else:   \n",
    "    print(max1,max2)"
   ]
  },
  {
   "cell_type": "markdown",
   "metadata": {},
   "source": [
    "# Упражнение 2. Максимальное произведение 3-х чисел\n",
    "\n",
    "Из последовательности целых чисел выбрать 3 числа, произведение которых максимально\n",
    "\n",
    "*Вход.* В первой строке текста - количество чисел $N$, $3 \\leq N \\leq 10^8$, в следующих $N$ строках - целые числа.\n",
    "\n",
    "*Выход.* Три числа в произвольном порядке.\n",
    "\n",
    "Есть указания к решению в <font color=blue>[1]</font>."
   ]
  },
  {
   "cell_type": "code",
   "execution_count": null,
   "metadata": {
    "collapsed": true
   },
   "outputs": [],
   "source": []
  }
 ],
 "metadata": {
  "kernelspec": {
   "display_name": "Python 3",
   "language": "python",
   "name": "python3"
  },
  "language_info": {
   "codemirror_mode": {
    "name": "ipython",
    "version": 3
   },
   "file_extension": ".py",
   "mimetype": "text/x-python",
   "name": "python",
   "nbconvert_exporter": "python",
   "pygments_lexer": "ipython3",
   "version": "3.5.2"
  }
 },
 "nbformat": 4,
 "nbformat_minor": 2
}
