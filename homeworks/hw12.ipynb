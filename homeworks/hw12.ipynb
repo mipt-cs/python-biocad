{
 "cells": [
  {
   "cell_type": "markdown",
   "metadata": {},
   "source": [
    "# Упражнение 1. Счетчик\n",
    "\n",
    "Напишите функцию `counter()`, складывающую значения двух словарей. \n",
    "\n",
    "1. Функция `counter()` принимает на вход аргумент `D` без значения по умолчанию и произвольное число именованных аргументов. \n",
    "\n",
    "2. Если среди именованных аргментов есть ключ `'k'` словаря `D`, то к соответствующему значению `D` прибавляется значение аргумента `k`. \n",
    "\n",
    "3. Пусть на вход функции поступил именованный аргумент `k1` и в словаре `D` нет ключа `'k1'`. В таком случае в словарь `D` должен добавляться элемент с ключом `'k1'` и значением, равным значению именованного аргумента.\n",
    "\n",
    "4. Функция `counter()` ничего не возвращает.\n",
    "\n",
    "| <font size=3>Словарь `D` до вызова `counter()`</font> | <font size=3>Именованные аргументы</font> | <font size=3>Вызов функции</font> | <font size=3>Словарь `D` после вызова `counter()`</font> |\n",
    "| :---: | :---: | :---: | :---: |\n",
    "| <font size=3>{'a': 1, 'b': 2}</font> | <font size=3>b = 1<br>c = 4</font> | <font size=3>f(D, b=b, c=c)</font> | <font size=3>{'a': 1, 'b': 3, 'c': 4}</font> |\n",
    "| <font size=3>{'a': 1, 'b': 2}</font> | <font size=3>D1 = {'b': 5, 'c':3}</font> | <font size=3>f(D, **D1)</font> | <font size=3>{'a': 1, 'b': 7, 'c': 3}</font> |\n",
    "\n",
    "Передайте именованные аргументы в функцию с помощью распаковки словаря `D2`."
   ]
  },
  {
   "cell_type": "code",
   "execution_count": null,
   "metadata": {
    "collapsed": true
   },
   "outputs": [],
   "source": [
    "D = {'a': 1, 'b': 2}\n",
    "D2 = {'a': 1, 'b': 2}"
   ]
  },
  {
   "cell_type": "markdown",
   "metadata": {},
   "source": [
    "# Упражнение 2. Дата и время\n",
    "\n",
    "Получите словарь `D`, содержащий текущие дату и время, и запишите их в файл <font color=green>hw12_ex2.txt</font>, используя строку форматирования. В словаре `D` должны быть год, месяц, день, час, минута и секунда.\n",
    "\n",
    "1. Строка форматирования должна распределять именованные аргументы метода `str.format()`, как в упражнении 1 lab12. \n",
    "\n",
    "2. Строка форматирования должна позволять задавать 2 разделителя `sep1` и `sep2`: в дате и во времени (в строках форматирования один именованный аргумент можно использовать несколько раз - пример внизу). \n",
    "\n",
    "3. При вызове метода `str.format()` должна производиться распаковка словаря `D`.\n",
    "\n",
    "Чтобы получить дату и время, используйте модуль `datetime`.\n",
    "\n",
    "| <font size=3>Вызов метода `str.format()`</font> | <font size=3>Полученная строка</font> |\n",
    "| :---: | :---: |\n",
    "| <font size=3>`fs.format(**D, sep1='.', sep2=':')`</font> | <font size=3>19.11.2018 13:32:47</font> |"
   ]
  },
  {
   "cell_type": "code",
   "execution_count": null,
   "metadata": {
    "collapsed": true
   },
   "outputs": [],
   "source": [
    "import datetime\n",
    "now = datetime.datetime.now()\n",
    "print(now.year)\n",
    "print(now.month)\n",
    "print(now.day)\n",
    "print(now.hour)\n",
    "print(now.minute)\n",
    "print(now.second)\n",
    "print(now.microsecond)"
   ]
  },
  {
   "cell_type": "code",
   "execution_count": null,
   "metadata": {
    "collapsed": true
   },
   "outputs": [],
   "source": [
    "fs = '{repeated_argument}{repeated_argument}{repeated_argument}{repeated_argument}'\n",
    "print(fs.format(repeated_argument='ab'))\n",
    "print(fs.format(repeated_argument='-'))"
   ]
  },
  {
   "cell_type": "markdown",
   "metadata": {},
   "source": [
    "# Упражнение 3. Загрузка и создание JSON\n",
    "\n",
    "Загрузите словарь `D` из <font color=green>python-biocad/files/hw12/ex3_in.json</font> и сформируйте из него словарь `D1`, в котором значения `D` являются ключами, а соответствующие ключи `D` - значениями. Сохраните словарь `D1` в файл <font color=green>python-biocad/files/hw12/ex3_out.json</font>.\n",
    "\n",
    "Ключи и значения словаря `D` являются строками. Если в `D` имеются элементы с одинаковыми значениями `v` и ключами `k1`, `k2`, ..., то в словаре `D1` у элемента с ключом `v` значением должна быть наименьшая из строк `k1`, `k2`, ... (подразумевается сравнение с помощью встроенных операторов сравнения Python).\n",
    "\n",
    "| <font size=3>Пример исходного JSON-файла</font> | <font size=3>Пример выходного JSON-файла</font> |\n",
    "| :---: | :---: |\n",
    "| <font size=3 color=green>python-biocad/files/hw12/ex3_in.json</font> | <font size=3 color=green>python-biocad/files/hw12/ex3_out.json</font> |"
   ]
  },
  {
   "cell_type": "code",
   "execution_count": null,
   "metadata": {
    "collapsed": true
   },
   "outputs": [],
   "source": []
  },
  {
   "cell_type": "markdown",
   "metadata": {},
   "source": [
    "# Упражнение 4. Анимация\n",
    "\n",
    "В следующей клетке демонстрируется построение объемной проекции [ленты Мебиуса](https://ru.wikipedia.org/wiki/%D0%9B%D0%B5%D0%BD%D1%82%D0%B0_%D0%9C%D1%91%D0%B1%D0%B8%D1%83%D1%81%D0%B0) с использованием библиотек [matplotlib](https://matplotlib.org/2.0.2/examples/index.html) и [numpy](http://www.numpy.org/). \n",
    "\n",
    "1. Перепишите код так, чтобы параметры для демонстрации (кроме координат точек поверхности) загружались из файла <font color=green>python-biocad/files/hw12/ex4_conf.json</font>.\n",
    "\n",
    "2. Используйте распаковку словаря `config[\"surface\"]` для рисования поверхности, словаря `config[\"colorbar\"]` для рисования сталбика с цветом, `config[\"animation\"]` для запуска анимации. **<font color=red>Внимание! Не забудьте предварительно получить цветовую карту из `config[\"surface\"][\"cmap\"]` с помощью встроенной функции [`getattr()`](https://docs.python.org/3/library/functions.html#getattr), как в примере.</font>**\n",
    "\n",
    "3. Создайте вращающуюся объемную проекцию [омбилического тора](https://en.wikipedia.org/wiki/Umbilic_torus). Чтобы фигуру было удобней рассматривать, можно увеличить диапазон значений по оси Z до [-6.01, 6.01].\n",
    "\n",
    "### Справка\n",
    "\n",
    "1. Рисование поверхности осуществляется с помощью метода [`mpl_toolkits.mplot3d.Axes3D.plot_surface()`](https://matplotlib.org/mpl_toolkits/mplot3d/tutorial.html#mpl_toolkits.mplot3d.Axes3D.plot_surface).\n",
    "\n",
    "2. Анимация осуществляется с помощью метода [`matplotlib.animation.FuncAnimation()`](https://matplotlib.org/api/_as_gen/matplotlib.animation.FuncAnimation.html)."
   ]
  },
  {
   "cell_type": "code",
   "execution_count": null,
   "metadata": {
    "collapsed": true
   },
   "outputs": [],
   "source": [
    "from mpl_toolkits.mplot3d import axes3d\n",
    "import matplotlib.pyplot as plt\n",
    "import matplotlib.animation\n",
    "from matplotlib import cm\n",
    "import numpy as np\n",
    "import json\n",
    "# Включение интерактивного режима matplotlib\n",
    "%matplotlib notebook  \n",
    "\n",
    "fig = plt.figure()\n",
    "ax = fig.add_subplot(111, projection='3d')\n",
    "\n",
    "# задаются вектора из 50 точек в указанном диапазоне с границами включительно\n",
    "u, v = np.linspace(0, 2 * np.pi, num=50), np.linspace(-1, 1, num=50)  \n",
    "# Создается сетка значений параметров, на которой будет производиться вычисление\n",
    "# X, Y и Z. Полученные двумерные массивы U и V содержат значения параметров на сетке.\n",
    "U, V = np.meshgrid(u, v)\n",
    "X = (1 + V / 2 * np.cos(U/ 2))*np.cos(U)\n",
    "Y = (1 + V / 2 * np.cos(U/ 2))*np.sin(U)\n",
    "Z = V / 2 * np.sin(U / 2)\n",
    "surf = ax.plot_surface(\n",
    "    X, Y, Z,\n",
    "    rstride=1,  # Шаг с которым берутся точки из входных данных вдоль строк.\n",
    "                # Например, если rstride=2, лишь каждая вторая строка из входных данных будет исользована.\n",
    "    cstride=1,  # Шаг с которым берутся столбцы из входных данных.\n",
    "    cmap=getattr(cm, 'coolwarm'),  # Определяет, как будет зависеть цвет поверхности от значения Z\n",
    "    linewidth=0,  # Толщина линий сетки на поверхности.\n",
    "    antialiased=True  # Сглаживание\n",
    ")\n",
    "zlow, zhigh = -1.01, 1.01\n",
    "ax.set_zlim(zlow, zhigh)  # Устанавлиевается диапазон значений по оси Z\n",
    "ax.set_xlabel('X')\n",
    "ax.set_ylabel('Y')\n",
    "ax.set_zlabel('Z')\n",
    "fig.colorbar(surf, shrink=0.5, aspect=10)  # Рисуется цветовая колонка\n",
    "\n",
    "plt.savefig('hw12_ex4.png', dpi=900)  # Сохраняем картинку\n",
    "\n",
    "theta = 30\n",
    "phi_step = 2\n",
    "def update(i):\n",
    "    # Задается точка, из которой производится осмотр фигуры.\n",
    "    # Первый аргумент - долгота точки, второй - угол поворота системы координат.\n",
    "    ax.view_init(theta, phi_step*i)\n",
    "\n",
    "ani= matplotlib.animation.FuncAnimation(\n",
    "    fig,  # Картинка с лентой Мебиуса\n",
    "    update,  # Функция, которая будет вызываться многократно вызываться для изменения картинки\n",
    "    frames=180,  # Число кадров в видео. Номер кадра подается на вход функции update()\n",
    "    interval=100,  # Интервал в миллисекундах между кадрами\n",
    "    repeat=True   # Поворять ли видео\n",
    ")"
   ]
  },
  {
   "cell_type": "markdown",
   "metadata": {},
   "source": [
    "# Упражнение 5. Смена директории\n",
    "\n",
    "1. Переместитесь, используя обозначение <font color=green>\"..\"</font> для родительского каталога, в корневой каталог, поднимаясь на одну директорию за один шаг. \n",
    "\n",
    "2. Посчитайте сколько шагов Вам потребовалось.\n",
    "\n",
    "3. Вернитесь назад, спускаясь на одну директорию за шаг. Используййте при этом относительные пути.\n",
    "\n",
    "4. Перейдите в корневой каталог одним шагом, указав относительный путь (применяется <font color=green>\"..\"</font>)."
   ]
  },
  {
   "cell_type": "code",
   "execution_count": null,
   "metadata": {
    "collapsed": true
   },
   "outputs": [],
   "source": []
  },
  {
   "cell_type": "markdown",
   "metadata": {},
   "source": [
    "# Упражнение 6. Физкультура\n",
    "\n",
    "В начале пары физкультуры студенты выстроились по росту. Однако не все пошло гладко и тренер как раз пытается подсчитать число пар соседних студентов стоящих \"не по росту\". Помогите ему в этом нелегком деле.\n",
    "\n",
    "### Формат входных данных\n",
    "В каждой строке по одному числу. В первой - рост первого студента, во второй - второго и так далее. В последней строке - число 0, означающее конец ввода. Предполагалось, что первый студент должен быть самым высоким, последний - самым низким. Все роста студентов - натуральные числа. Студентов не более чем 2000000.\n",
    "\n",
    "### Формат выходных данных\n",
    "Выведите число пар соседних студентов, в которых первый ниже второго.\n",
    "\n",
    "| <font size=3>Входные данные</font> | <font size=3>Выходные данные</font> |\n",
    "| :---: | :---: |\n",
    "| <font size=3>1<br>2<br>3<br>0</font> | <font size=3>2</font> |\n",
    "| <font size=3>3<br>2<br>1<br>0</font> | <font size=3>0</font> |"
   ]
  },
  {
   "cell_type": "code",
   "execution_count": null,
   "metadata": {
    "collapsed": true
   },
   "outputs": [],
   "source": []
  },
  {
   "cell_type": "markdown",
   "metadata": {},
   "source": [
    "# Упражнение 7. Обмен денег\n",
    "\n",
    "Написать функцию `make_exchange(money, coins)`, которая принимает сумму денег (целое число) и массив номиналов разменных монет (целых чисел) (возможно пустой) и возвращает количество способов произвести размен. Считаем, что разменных монет бесконечное множество. Способы, отличающиеся друг от друга только порядком монет считать различными.\n",
    "\n",
    "| <font size=3>Вызов функции `make_exchange()`</font> | <font size=3>Возвращаемое значение</font> |\n",
    "| :---: | :---: |\n",
    "| <font size=3>`make_exchange(4, [1, 2])`</font> | <font size=3>5</font> |\n",
    "\n",
    "### Подсказка\n",
    "\n",
    " Решите задачу с помощью рекурсии."
   ]
  },
  {
   "cell_type": "code",
   "execution_count": null,
   "metadata": {
    "collapsed": true
   },
   "outputs": [],
   "source": []
  },
  {
   "cell_type": "markdown",
   "metadata": {},
   "source": [
    "# Упражнение 8. Максимальное произведение\n",
    "\n",
    "На вход подается число $N > 1$, а затем $N$ чисел: каждое в отдельной строке. Найдите среди введенных чисел два числа, дающих максимальное произведение. Решите задачу в 1 проход, не сохраняя все введенные числа."
   ]
  },
  {
   "cell_type": "code",
   "execution_count": null,
   "metadata": {
    "collapsed": true
   },
   "outputs": [],
   "source": [
    " "
   ]
  },
  {
   "cell_type": "markdown",
   "metadata": {},
   "source": [
    "# Упражнение 9. Количество четных цифр\n",
    "\n",
    "Посчитать количество вхождений четных чисел в строку.\n",
    "\n",
    "### Формат входных данных\n",
    "На вход подается не пустая строка `S` длины < 256 символов. Строка состоит и цифр, букв английского алфавита и пробелов.\n",
    "\n",
    "### Формат выходных данных\n",
    "Неотрицательное целое число C - количество подстрок в строке, являющихся четными числами. **Числами не являются подстроки с ведущими нулями, число символов в которых превышает 1. Подстрока `\"0\"` является четным числом.**\n",
    "\n",
    "| <font size=3>Входные данные</font> | <font size=3>Выходные данные</font> | <font size=3>Четные числа</font> |\n",
    "| :---: | :---: | :---: |\n",
    "| <font size=3>asdcsa2331 00</font> | <font size=3>3</font> | <font size=3>2 0 0</font> |\n",
    "| <font size=3>2436</font> | <font size=3>7</font> | <font size=3>2 4 6 24 36 436 2436</font> |\n",
    "\n",
    "### Подсказка\n",
    "\n",
    "Задача решается в 1 проход."
   ]
  },
  {
   "cell_type": "code",
   "execution_count": null,
   "metadata": {
    "collapsed": true
   },
   "outputs": [],
   "source": []
  },
  {
   "cell_type": "markdown",
   "metadata": {},
   "source": [
    "# Упражнение 10.  Шоколад\n",
    "\n",
    "Саша, не сделал домашнюю работу, зато купил шоколадку. И, по глупости, начал распечатывать ее прямо на уроке... Шелест золотинки услышала учительница. Она хотела вызвать в школу родителей, но Саша уговорил ее не вызывать их, а дать дополнительное задание.\n",
    "\n",
    "Учительница внимательно посмотрела на шоколадку (она была размером 3х4 плиток), разделила на кусочки по две плитки и угостила всех, кто сделал домашнюю работу. А Сашу попросила написать программу, которая определяет, сколько существует способов деления шоколадки размером 3×N плиток на кусочки по две плитки.\n",
    "\n",
    "Для выполнения задания Саше нужна помощь.\n",
    "\n",
    "Примечание: все плитки в шоколадке пронумерованы, поэтому способы деления, симметричные относительно точки или оси могут будут разными.\n",
    "\n",
    "### Формат входных данных\n",
    "На входе одно число $N \\leq 10000$\n",
    "\n",
    "### Формат выходных данных\n",
    "Вывести одно число, количество способов разделить шоколадку.\n",
    "\n",
    "| <font size=3>Входные данные</font> | <font size=3>Выходные данные</font> |\n",
    "| :---: | :---: |\n",
    "| <font size=3>2</font> | <font size=3>3</font> |\n",
    "| <font size=3>4</font> | <font size=3>11</font> |"
   ]
  },
  {
   "cell_type": "code",
   "execution_count": null,
   "metadata": {
    "collapsed": true
   },
   "outputs": [],
   "source": []
  }
 ],
 "metadata": {
  "kernelspec": {
   "display_name": "Python 3",
   "language": "python",
   "name": "python3"
  },
  "language_info": {
   "codemirror_mode": {
    "name": "ipython",
    "version": 3
   },
   "file_extension": ".py",
   "mimetype": "text/x-python",
   "name": "python",
   "nbconvert_exporter": "python",
   "pygments_lexer": "ipython3",
   "version": "3.5.2"
  }
 },
 "nbformat": 4,
 "nbformat_minor": 2
}
