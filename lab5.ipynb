{
 "cells": [
  {
   "cell_type": "markdown",
   "metadata": {},
   "source": [
    "# <font color='blue'>Некоторые полезные приемы</font>\n"
   ]
  },
  {
   "cell_type": "markdown",
   "metadata": {},
   "source": [
    "## <font color='green'> `zip`</font>\n",
    "\n",
    "При работе с научными данными возникают ситуации, в которых необходимо в цикле пройти одновременно по двум и более спискам. Ими могут быть, например, значения аргумента, значения функции и погрешность измерения.\n",
    "\n",
    "Для решения этой задачи подходит функция `zip()`. `zip()` объединяет несколько последовательностей в один объект, состоящий из кортежей. Каждый кортеж содержит элементы исходных последовательностей, находящиеся на одинаковых позициях. zip-объект позволяет **один** раз перебрать содержащиеся в нем кортежи.\n",
    "\n",
    "### Пример 1. Взаимодействие с zip-объектами"
   ]
  },
  {
   "cell_type": "code",
   "execution_count": null,
   "metadata": {},
   "outputs": [],
   "source": [
    "names = ['John', 'Bob', 'Alice']\n",
    "surnames = ['Smith', 'Lane', 'Cooper']\n",
    "\n",
    "full_names_zip = zip(names, surnames)\n",
    "print(\"Если распечатать zip-объект, то легко увидеть, что это не список и не кортеж:\\n\", full_names_zip)\n",
    "\n",
    "full_names = list(full_names_zip)\n",
    "print(\"\\nСписок, полученный из zip-объекта full_names_zip:\\n\", full_names)\n",
    "\n",
    "full_names_2 = list(full_names_zip)   # получится пустой список, так как, объект zip можно использовать только 1 раз\n",
    "print(\"\\nСписок, полученный из zip-объекта full_names_zip. Он пустой, так как по zip-объект уже был пройден 1 раз:\\n\", full_names_2)\n",
    "\n",
    "print(\"\\nСоздаем новый zip-объект и один раз пробегаем по его элементам в цикле:\")\n",
    "for name, surname in zip(names, surnames):\n",
    "    print(' '.join([name, surname]))\n",
    "    \n",
    "a, b, c = zip(names, surnames)  # Распаковываем zip-объект с помощью множественного присваивания\n",
    "print(\"\\nРаспаковываем zip-объект с помощью множественного присваивания:\")\n",
    "print(\"a:\", a)\n",
    "print(\"b:\", b)\n",
    "print(\"c:\", c)"
   ]
  },
  {
   "cell_type": "markdown",
   "metadata": {},
   "source": [
    "### Упражнение 1. Сложение 2 - х списков.\n",
    "В следующих двух клетках приведен код для сложения списков `A`, `B` и `C`. В первой клетке сложение осуществляется с помощью цикла, во-второй - с помощью генератора списков. Измените представленные фрагменты так, чтобы в них использовался `zip`."
   ]
  },
  {
   "cell_type": "code",
   "execution_count": null,
   "metadata": {
    "collapsed": true
   },
   "outputs": [],
   "source": [
    "from random import randint as rnt\n",
    "A = [rnt(-10, 10) for _ in range(10)]\n",
    "B = [rnt(-10, 10) for _ in range(10)]\n",
    "C = [rnt(-10, 10) for _ in range(10)]\n",
    "D = []\n",
    "for i in range(len(A)):\n",
    "    D.append(A[i] + B[i] + C[i])\n",
    "print(\"A:\", A)\n",
    "print(\"B:\", B)\n",
    "print(\"C:\", C)\n",
    "print(\"D:\", D)"
   ]
  },
  {
   "cell_type": "code",
   "execution_count": null,
   "metadata": {
    "collapsed": true
   },
   "outputs": [],
   "source": [
    "F = [A[i] + B[i] + C[i] for i in range(len(A))]\n",
    "print(\"F:\", F)"
   ]
  },
  {
   "cell_type": "markdown",
   "metadata": {},
   "source": [
    "# <font color='blue'>Множества (`set`)</font>\n",
    "Множество в python - \"контейнер\", содержащий не повторяющиеся элементы в случайном порядке. Множества используются для удаления повторяющихся элементов из последовательности, математических операций над множествами, таких как объединение, пересение, симметричная разность и проч.. \n",
    "\n",
    "## <font color='green'>Создание множества</font>\n",
    "Создать множество можно с помощью конструктора из любой последовательности или другого множества, или задать явно с помощью фигурных скобок.\n",
    "\n",
    "Если в последовательности, из которой создается множество, есть несколько одинаковых элементов в сформированное множество попадет только один из них.\n",
    "\n",
    "### Пример 2. Создание множества"
   ]
  },
  {
   "cell_type": "code",
   "execution_count": null,
   "metadata": {
    "collapsed": true
   },
   "outputs": [],
   "source": [
    "string = \"banana\"\n",
    "list_ = ['a', 1, 2, 1]\n",
    "tuple_ = (1, 2, 3, 3, 1)\n",
    "set_ = {'q', 'b', 'abc', 1}\n",
    "set1 = set(string)\n",
    "set2 = set(list_)\n",
    "set3 = set(tuple_)\n",
    "set4 = set(set_)\n",
    "print(\"set('banana'):\", set1)\n",
    "print(\"set(['a', 1, 2, 1]):\", set2)\n",
    "print(\"set((1, 2, 3, 3, 1)):\", set3)\n",
    "print(\"set({'q', 'b', 'abc', 1}):\", set4)"
   ]
  },
  {
   "cell_type": "markdown",
   "metadata": {},
   "source": [
    "### Упражнение 2. Удаление повторяющихся элементов\n",
    "\n",
    "На вход программе подается строка. Требуется составить словарь, в котором ключами будут все имеющиеся в строке символы, а значениями - номера этих символов в списке, который получится, если символы расположить в порядке возрастания их номера в unicode. Используйте встроенные функции [`sorted()`](https://docs.python.org/3/library/functions.html#sorted) и [`enumerate()`](https://docs.python.org/3/library/functions.html#enumerate)."
   ]
  },
  {
   "cell_type": "code",
   "execution_count": null,
   "metadata": {
    "collapsed": true
   },
   "outputs": [],
   "source": []
  },
  {
   "cell_type": "markdown",
   "metadata": {},
   "source": [
    "## <font color='green'>Перечень операций над множествами</font>\n",
    "\n",
    "Над множествами можно выполнять ряд операций. Пусть `s` и `other` - некоторые множества.\n",
    "- [`len(s)`](https://docs.python.org/3/library/stdtypes.html#set) - размер множества\n",
    "\n",
    "- [`x in s`](https://docs.python.org/3/library/stdtypes.html#set) - проверка наличия элемента `x` в множестве `s`.\n",
    "\n",
    "- [`x not in s`](https://docs.python.org/3/library/stdtypes.html#set) возвращает `True`, если `x` не в множестве `s`.\n",
    "\n",
    "- [`s.isdisjoint(other)`](https://docs.python.org/3/library/stdtypes.html#frozenset.disjoint) возвращает `True`, если `other` и `s` не имеют общих элементов.\n",
    "\n",
    "- [`s.issubset(other)`](https://docs.python.org/3/library/stdtypes.html#frozenset.issubset) или [`s <= other`](https://docs.python.org/3/library/stdtypes.html#frozenset.issubset) возвращает `True`, если `s` является подмножеством `other`.\n",
    "\n",
    "- [`s < other`](https://docs.python.org/3/library/stdtypes.html#frozenset.issubset) возвращает `True`, если `s` является подмножеством `other` и `s != other`.\n",
    "\n",
    "- [`s.issuperset(other)`](https://docs.python.org/3/library/stdtypes.html#frozenset.issuperset) или [`s >= other`](https://docs.python.org/3/library/stdtypes.html#frozenset.issuperset) возвращает `True`, если `other` является подмножеством `s`.\n",
    "\n",
    "- [`s > other`](https://docs.python.org/3/library/stdtypes.html#frozenset.issuperset) возвращает `True`, если `other` является подмножеством `s` и `s != other`.\n",
    "\n",
    "- [`s | other | ...`](https://docs.python.org/3/library/stdtypes.html#frozenset.union) или [`s.union(*other)`](https://docs.python.org/3/library/stdtypes.html#frozenset.union) - объединение множеств. \n",
    "\n",
    "> При объвлении функции `*` перед аргументом  в списке параметров значит, что ей можно передавать любое количество аргументов, которые будут доступны в теле функции, как кортеж. Пример:\n",
    "```python\n",
    "def f(*args):\n",
    "    return args\n",
    "a = f(1, 2, 'a')\n",
    "assert a == (1, 2, 'a')\n",
    "```\n",
    "\n",
    "- [`s & other & ...`](https://docs.python.org/3/library/stdtypes.html#frozenset.intersection) или [`s.intersection(*others)`](https://docs.python.org/3/library/stdtypes.html#frozenset.intersection) - пересечение множеств\n",
    "\n",
    "- [`s.difference(other)`](https://docs.python.org/3/library/stdtypes.html#frozenset.difference) или [`s - other`](https://docs.python.org/3/library/stdtypes.html#frozenset.difference) - разность множеств (получатся все элементы `s`, не входящие в `other`)\n",
    "\n",
    "- [`s.symmetric_difference(other)`](https://docs.python.org/3/library/stdtypes.html#frozenset.symmetric_difference) или [`s ^ other`](https://docs.python.org/3/library/stdtypes.html#frozenset.symmetric_difference) - симметричная разность (получасется множество, которое содержит элементы, принадлежащие `s` и `other`, но не входящие в перечение `s` и `other`)\n",
    "\n",
    "Не операторные варианты `issubset`, `issuperset`, `union`, `intersection`, `diffrence`, `symmetric_diffrence` - принимают в качестве аргументов любые поледовательности, в то время как операторные (с применением `<=`, `>=`, `|`, `&`, `-`, `^`) - только множества.\n",
    "\n",
    "### Пример 3. Операции над множествами"
   ]
  },
  {
   "cell_type": "code",
   "execution_count": null,
   "metadata": {
    "collapsed": true
   },
   "outputs": [],
   "source": [
    "set_ = set('banana')\n",
    "print(\"set_:\", set_)\n",
    "s = 'mama'\n",
    "print(\"s:\", s)\n",
    "intersection = set(set_).intersection(s)\n",
    "print(\"\\nintersection of set_ and s:\\n\", intersection)\n",
    "union = set(set_).union(s)\n",
    "print(\"\\nunion of set_ and s2:\\n\", union)\n",
    "diff = set(set_).difference(s)\n",
    "print(\"\\ndifference between set_ and s:\\n\", diff)\n",
    "\n",
    "set2 = set((1, 2, 3))\n",
    "l = [0, 1]\n",
    "print(\"\\nset2:\", set2)\n",
    "print(\"l:\", l)\n",
    "sym_diff = set2.symmetric_difference(l)\n",
    "print(\"symmetric difference between set2 and l:\\n\", sym_diff)"
   ]
  },
  {
   "cell_type": "markdown",
   "metadata": {},
   "source": [
    "## <font color='green'>Приоритет операций над множествами</font>\n",
    "\n",
    "При использовании операторной формы действий со множествами приоритет операторов такой же, как у операторов python, и не совпадает с общепринятым порядком выполнения математических операций над множествами. В таблице в порядке убывания приоритета представлены операции над множествами в python.\n",
    "\n",
    "| <font size=3>Оператор</font> | <font size=3>Название операции</font> |\n",
    "| :---: | :---: |\n",
    "| <font size=3>$-$</font> | <font size=3>Разность множеств.</font> |\n",
    "| <font size=3>$&$</font> | <font size=3>Пересечение</font> |\n",
    "| <font size=3>$|$, $^$</font> | <font size=3>Объединение, симметричная разность</font> |"
   ]
  },
  {
   "cell_type": "markdown",
   "metadata": {},
   "source": [
    "### Пример 4. Операторные варианты операций над множествами"
   ]
  },
  {
   "cell_type": "code",
   "execution_count": null,
   "metadata": {
    "collapsed": true
   },
   "outputs": [],
   "source": [
    "s1 = {1, 2, 3, 5}\n",
    "s2 = {2, 3, 4, 6}\n",
    "s3 = {3, 4, 1, 7}\n",
    "intersection = s1 & s2 & s3\n",
    "union = s1 | s2 | s3\n",
    "symdiff = s1 ^ s2 ^ s3\n",
    "print(\"s1:\", s1)\n",
    "print(\"s2:\", s2)\n",
    "print(\"s3:\", s3)\n",
    "print(\"\\nintersection of s1, s2, s3:\\n\", intersection)\n",
    "print(\"\\nunion of s1, s2, s3:\\n\", union)\n",
    "print(\"\\nsymmetric difference of s1, s2, s3:\\n\", symdiff)\n",
    "print()\n",
    "print([1, 2, 3] | [3, 4, 5])  # not OK"
   ]
  },
  {
   "cell_type": "markdown",
   "metadata": {},
   "source": [
    "### Упражнение 3. Операции над множествами\n",
    "На вход программе подаются 3 строки. Распечатайте все символы, которые принадлежат только одной из строк. На выходе должна быть строка.\n",
    "\n",
    "| <font size=3>Входные данные</font> | <font size=3>Выходные данные</font> |\n",
    "| :--- | :--- |\n",
    "| <font size=3>abc<br>bcd<br>cde</font> | <font size=3>ae</font> |\n",
    "| <font size=3>abc<br>def<br>ghi</font> | <font size=3>abcdefghi</font> |\n",
    "| <font size=3>abc<br>bcd<br>bce</font> | <font size=3>ade</font> |"
   ]
  },
  {
   "cell_type": "code",
   "execution_count": null,
   "metadata": {
    "collapsed": true
   },
   "outputs": [],
   "source": []
  },
  {
   "cell_type": "markdown",
   "metadata": {},
   "source": [
    "# <font color='blue'>Файлы</font>\n",
    "\n",
    "В python для взаимодействия с файлами используются **файловые объекты**. Для того, чтобы открыть файл используется встроенная функция [`open()`](https://docs.python.org/3/library/functions.html#open). \n",
    "\n",
    "1. Первый аргумент функции - имя файла. Имя - это путь к файлу, который может быть, как относительным (относительно текущей рабочей директории), так и абсолютным (относительно корня).\n",
    "\n",
    "2. Второй аргумент - режим, в котором будет открыт файл. Ниже приведена таблица с режимами, которые мы будем использовать. Полный перечень есть [тут](https://docs.python.org/3/library/functions.html#open) и [здесь](https://pythonworld.ru/tipy-dannyx-v-python/fajly-rabota-s-fajlami.html) (на русском).\n",
    "\n",
    "| <font size=3>Режим</font> | <font size=3>Назначение</font> |\n",
    "| :--- | :--- |\n",
    "| <font size=3>`'r'` (read)</font> | <font size=3>Открытие файла на чтение. Если режим не указан, то `'r'` используется по умолчанию. Для открытия файла в этом режиме он должен существовать.</font> |\n",
    "| <font size=3>`'w'` (write)</font> | <font size=3>Открыие файла на запись. Если файл не существует, то он будет создан. Если файл уже существует, то он будет создан заново, а старое содержимое будет удалено (поэтому надо быть внимательней).</font> |\n",
    "| <font size=3>`'a'` (append)</font> | <font size=3>Открытие файла для записи в конец. Если файл не существует, то будет создан.</font> |\n",
    "\n",
    ">По умолчанию файл открывается, как текстовый. Если нужно открыть файл в бинарном режиме, к режиму следует дописать `b`. Например `f = open(\"file.bin\", 'rb')`.\n",
    "\n",
    "### Пример 5. Открытие файла на запись."
   ]
  },
  {
   "cell_type": "code",
   "execution_count": 64,
   "metadata": {
    "collapsed": true
   },
   "outputs": [],
   "source": [
    "f = open('file.txt', 'w')  # Создать файл file.txt"
   ]
  },
  {
   "cell_type": "markdown",
   "metadata": {},
   "source": [
    "Для записи в файл используется метод `write()`.\n",
    "\n",
    ">Обратите внимание, что при вызове `write()` **заполнение файла не всегда происходит мгновенно** "
   ]
  },
  {
   "cell_type": "code",
   "execution_count": 65,
   "metadata": {},
   "outputs": [
    {
     "data": {
      "text/plain": [
       "31"
      ]
     },
     "execution_count": 65,
     "metadata": {},
     "output_type": "execute_result"
    }
   ],
   "source": [
    "f.write(\"My first file created in python\")"
   ]
  },
  {
   "cell_type": "markdown",
   "metadata": {},
   "source": [
    "Теперь файл надо закрыть."
   ]
  },
  {
   "cell_type": "code",
   "execution_count": 66,
   "metadata": {
    "collapsed": true
   },
   "outputs": [],
   "source": [
    "f.close()"
   ]
  },
  {
   "cell_type": "markdown",
   "metadata": {},
   "source": [
    "### Пример 6. Открытие файла на чтение\n",
    "Для считывания данных из файла используется метод `read()`."
   ]
  },
  {
   "cell_type": "code",
   "execution_count": null,
   "metadata": {
    "collapsed": true
   },
   "outputs": [],
   "source": [
    "f = open('file.txt', 'r')  # Создать файл file.txt\n",
    "four_chars = f.read(4)  # считать 4 символа\n",
    "text = f.read()  # cчитать весь оставшийся текст\n",
    "f.seek(0)  # переместить указатель в начало файла\n",
    "line = f.readline()  # Считать строку из файла\n",
    "f.seek(0)\n",
    "lines = f.readlines()  # Считать все, что после курсора построчно\n",
    "try_read_if_file_is_ended = f.read()  # Если файл закончится, read() вернет пустую строку\n",
    "print(\"four charactres:\", four_chars)\n",
    "print(\"text:\", text)\n",
    "print(\"line:\", line)\n",
    "print(\"lines:\", lines)\n",
    "print(\"try_read_if_file_is_ended:\", try_read_if_file_is_ended)\n",
    "f.close()"
   ]
  },
  {
   "cell_type": "markdown",
   "metadata": {},
   "source": [
    "### Пример 7. Открытие файла для записи в конец"
   ]
  },
  {
   "cell_type": "code",
   "execution_count": null,
   "metadata": {
    "collapsed": true
   },
   "outputs": [],
   "source": [
    "f = open('file.txt', 'a')\n",
    "f.write(\"\\nappending to existing file\")\n",
    "f.close()"
   ]
  },
  {
   "cell_type": "markdown",
   "metadata": {},
   "source": [
    "**Контекстный менеджер** - это объект, позволяющий автоматизировать включение и отключение чего-либо. В частности, файловый объект является контекстным менеджером. Для использования контекстного менеджера используется инструкция `with`.\n",
    "\n",
    "### Пример 8. Открытие и закрытие файла с помощью контекстного менеджера."
   ]
  },
  {
   "cell_type": "code",
   "execution_count": null,
   "metadata": {
    "collapsed": true
   },
   "outputs": [],
   "source": [
    "with open('file2.txt', 'w') as f:\n",
    "    f.write(\"opened using context manager\")"
   ]
  },
  {
   "cell_type": "markdown",
   "metadata": {},
   "source": [
    "Код в клетке сверху значит, что файловый объект `f` открыт в блоке `with` и автоматически закрывается при выходе из блока. \n",
    "\n",
    "**При работе с файлами рекомендуется использовать `with`.**"
   ]
  },
  {
   "cell_type": "markdown",
   "metadata": {},
   "source": [
    "### Упражнение 4. Перенос текста между файлами.\n",
    "Напишите программу, дописывающую в конец второго файла текст из первого файла."
   ]
  },
  {
   "cell_type": "code",
   "execution_count": null,
   "metadata": {
    "collapsed": true
   },
   "outputs": [],
   "source": []
  }
 ],
 "metadata": {
  "kernelspec": {
   "display_name": "Python 3",
   "language": "python",
   "name": "python3"
  },
  "language_info": {
   "codemirror_mode": {
    "name": "ipython",
    "version": 3
   },
   "file_extension": ".py",
   "mimetype": "text/x-python",
   "name": "python",
   "nbconvert_exporter": "python",
   "pygments_lexer": "ipython3",
   "version": "3.5.2"
  }
 },
 "nbformat": 4,
 "nbformat_minor": 2
}
